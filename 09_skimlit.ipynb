{
  "nbformat": 4,
  "nbformat_minor": 0,
  "metadata": {
    "colab": {
      "name": "09_skimlit.ipynb",
      "provenance": [],
      "collapsed_sections": [],
      "authorship_tag": "ABX9TyM0y/xjT0yFToCxuthZBmVf",
      "include_colab_link": true
    },
    "kernelspec": {
      "name": "python3",
      "display_name": "Python 3"
    },
    "language_info": {
      "name": "python"
    },
    "accelerator": "GPU",
    "gpuClass": "standard"
  },
  "cells": [
    {
      "cell_type": "markdown",
      "metadata": {
        "id": "view-in-github",
        "colab_type": "text"
      },
      "source": [
        "<a href=\"https://colab.research.google.com/github/JacksonLeb/SkimLit/blob/main/09_skimlit.ipynb\" target=\"_parent\"><img src=\"https://colab.research.google.com/assets/colab-badge.svg\" alt=\"Open In Colab\"/></a>"
      ]
    },
    {
      "cell_type": "code",
      "execution_count": 1,
      "metadata": {
        "colab": {
          "base_uri": "https://localhost:8080/"
        },
        "id": "CjJsWKQGmcNV",
        "outputId": "08ddfea0-475a-4f19-80ba-fa36d44ad5b6"
      },
      "outputs": [
        {
          "output_type": "stream",
          "name": "stdout",
          "text": [
            "GPU 0: Tesla T4 (UUID: GPU-1e048680-b9bd-a17c-c7db-427a245ad9a4)\n"
          ]
        }
      ],
      "source": [
        "!nvidia-smi -L"
      ]
    },
    {
      "cell_type": "markdown",
      "source": [
        "#Building NLP Model to make Reading Medical Abstracts Easier"
      ],
      "metadata": {
        "id": "1nAVeDLDnZlj"
      }
    },
    {
      "cell_type": "code",
      "source": [
        "!git clone https://github.com/Franck-Dernoncourt/pubmed-rct.git\n",
        "!ls pubmed-rct"
      ],
      "metadata": {
        "colab": {
          "base_uri": "https://localhost:8080/"
        },
        "id": "KkkpF0bkn3jn",
        "outputId": "d85e24d0-cceb-47f7-9121-61866aab49aa"
      },
      "execution_count": 2,
      "outputs": [
        {
          "output_type": "stream",
          "name": "stdout",
          "text": [
            "Cloning into 'pubmed-rct'...\n",
            "remote: Enumerating objects: 33, done.\u001b[K\n",
            "remote: Counting objects: 100% (8/8), done.\u001b[K\n",
            "remote: Compressing objects: 100% (3/3), done.\u001b[K\n",
            "remote: Total 33 (delta 5), reused 5 (delta 5), pack-reused 25\u001b[K\n",
            "Unpacking objects: 100% (33/33), done.\n",
            "PubMed_200k_RCT\n",
            "PubMed_200k_RCT_numbers_replaced_with_at_sign\n",
            "PubMed_20k_RCT\n",
            "PubMed_20k_RCT_numbers_replaced_with_at_sign\n",
            "README.md\n"
          ]
        }
      ]
    },
    {
      "cell_type": "code",
      "source": [
        "#Checking files in Pubmed_20k\n",
        "!ls pubmed-rct/PubMed_20k_RCT_numbers_replaced_with_at_sign/"
      ],
      "metadata": {
        "colab": {
          "base_uri": "https://localhost:8080/"
        },
        "id": "bu9vdFMWopxB",
        "outputId": "91bd0518-faa3-41eb-bcc6-d91bc48c8ad8"
      },
      "execution_count": 3,
      "outputs": [
        {
          "output_type": "stream",
          "name": "stdout",
          "text": [
            "dev.txt  test.txt  train.txt\n"
          ]
        }
      ]
    },
    {
      "cell_type": "code",
      "source": [
        "#Getting filenames and 20k  dataset with numbers replaced with @\n",
        "data_dir = \"/content/pubmed-rct/PubMed_20k_RCT_numbers_replaced_with_at_sign\"\n"
      ],
      "metadata": {
        "id": "dCCS9n9uo8rZ"
      },
      "execution_count": 4,
      "outputs": []
    },
    {
      "cell_type": "code",
      "source": [
        "#checking file names in target directory\n",
        "import os\n",
        "filenames = [data_dir + filename for filename in os.listdir(data_dir)]\n",
        "filenames"
      ],
      "metadata": {
        "colab": {
          "base_uri": "https://localhost:8080/"
        },
        "id": "1IsMzFsjps0E",
        "outputId": "d47ee839-af6f-447f-fda1-ed75be0d046f"
      },
      "execution_count": 5,
      "outputs": [
        {
          "output_type": "execute_result",
          "data": {
            "text/plain": [
              "['/content/pubmed-rct/PubMed_20k_RCT_numbers_replaced_with_at_signtest.txt',\n",
              " '/content/pubmed-rct/PubMed_20k_RCT_numbers_replaced_with_at_signdev.txt',\n",
              " '/content/pubmed-rct/PubMed_20k_RCT_numbers_replaced_with_at_signtrain.txt']"
            ]
          },
          "metadata": {},
          "execution_count": 5
        }
      ]
    },
    {
      "cell_type": "markdown",
      "source": [
        "###preproess data"
      ],
      "metadata": {
        "id": "usRVNSsbpzbz"
      }
    },
    {
      "cell_type": "code",
      "source": [
        "#Function to read in lines of target text file\n",
        "def get_lines(filename):\n",
        "  \"\"\"\n",
        "  Reads in a filename and returns the lines of text as a list\n",
        "\n",
        "  Args:\n",
        "    filename: a string ocintains the target filepath\n",
        "\n",
        "  Returns:\n",
        "    a list containing each line in the file\n",
        "  \"\"\"\n",
        "  with open(filename, \"r\") as f:\n",
        "    return f.readlines()\n",
        "    "
      ],
      "metadata": {
        "id": "f2xwpTzUqISd"
      },
      "execution_count": 6,
      "outputs": []
    },
    {
      "cell_type": "code",
      "source": [
        "#reading in training liines\n",
        "train_lines = get_lines(data_dir+\"/train.txt\")"
      ],
      "metadata": {
        "id": "M26EjlVIqrHm"
      },
      "execution_count": 7,
      "outputs": []
    },
    {
      "cell_type": "code",
      "source": [
        "train_lines[:20]"
      ],
      "metadata": {
        "colab": {
          "base_uri": "https://localhost:8080/"
        },
        "id": "9Foacc5_qt5d",
        "outputId": "4fe29f53-3fb3-42ae-ae14-f9994d93aeba"
      },
      "execution_count": 8,
      "outputs": [
        {
          "output_type": "execute_result",
          "data": {
            "text/plain": [
              "['###24293578\\n',\n",
              " 'OBJECTIVE\\tTo investigate the efficacy of @ weeks of daily low-dose oral prednisolone in improving pain , mobility , and systemic low-grade inflammation in the short term and whether the effect would be sustained at @ weeks in older adults with moderate to severe knee osteoarthritis ( OA ) .\\n',\n",
              " 'METHODS\\tA total of @ patients with primary knee OA were randomized @:@ ; @ received @ mg/day of prednisolone and @ received placebo for @ weeks .\\n',\n",
              " 'METHODS\\tOutcome measures included pain reduction and improvement in function scores and systemic inflammation markers .\\n',\n",
              " 'METHODS\\tPain was assessed using the visual analog pain scale ( @-@ mm ) .\\n',\n",
              " 'METHODS\\tSecondary outcome measures included the Western Ontario and McMaster Universities Osteoarthritis Index scores , patient global assessment ( PGA ) of the severity of knee OA , and @-min walk distance ( @MWD ) .\\n',\n",
              " 'METHODS\\tSerum levels of interleukin @ ( IL-@ ) , IL-@ , tumor necrosis factor ( TNF ) - , and high-sensitivity C-reactive protein ( hsCRP ) were measured .\\n',\n",
              " 'RESULTS\\tThere was a clinically relevant reduction in the intervention group compared to the placebo group for knee pain , physical function , PGA , and @MWD at @ weeks .\\n',\n",
              " 'RESULTS\\tThe mean difference between treatment arms ( @ % CI ) was @ ( @-@ @ ) , p < @ ; @ ( @-@ @ ) , p < @ ; @ ( @-@ @ ) , p < @ ; and @ ( @-@ @ ) , p < @ , respectively .\\n',\n",
              " 'RESULTS\\tFurther , there was a clinically relevant reduction in the serum levels of IL-@ , IL-@ , TNF - , and hsCRP at @ weeks in the intervention group when compared to the placebo group .\\n',\n",
              " 'RESULTS\\tThese differences remained significant at @ weeks .\\n',\n",
              " 'RESULTS\\tThe Outcome Measures in Rheumatology Clinical Trials-Osteoarthritis Research Society International responder rate was @ % in the intervention group and @ % in the placebo group ( p < @ ) .\\n',\n",
              " 'CONCLUSIONS\\tLow-dose oral prednisolone had both a short-term and a longer sustained effect resulting in less knee pain , better physical function , and attenuation of systemic inflammation in older patients with knee OA ( ClinicalTrials.gov identifier NCT@ ) .\\n',\n",
              " '\\n',\n",
              " '###24854809\\n',\n",
              " 'BACKGROUND\\tEmotional eating is associated with overeating and the development of obesity .\\n',\n",
              " 'BACKGROUND\\tYet , empirical evidence for individual ( trait ) differences in emotional eating and cognitive mechanisms that contribute to eating during sad mood remain equivocal .\\n',\n",
              " 'OBJECTIVE\\tThe aim of this study was to test if attention bias for food moderates the effect of self-reported emotional eating during sad mood ( vs neutral mood ) on actual food intake .\\n',\n",
              " 'OBJECTIVE\\tIt was expected that emotional eating is predictive of elevated attention for food and higher food intake after an experimentally induced sad mood and that attentional maintenance on food predicts food intake during a sad versus a neutral mood .\\n',\n",
              " 'METHODS\\tParticipants ( N = @ ) were randomly assigned to one of the two experimental mood induction conditions ( sad/neutral ) .\\n']"
            ]
          },
          "metadata": {},
          "execution_count": 8
        }
      ]
    },
    {
      "cell_type": "code",
      "source": [
        "len(train_lines)"
      ],
      "metadata": {
        "colab": {
          "base_uri": "https://localhost:8080/"
        },
        "id": "YOPqc2Dbq4e4",
        "outputId": "e62a796a-3f45-485e-fbe4-5025717409d5"
      },
      "execution_count": 9,
      "outputs": [
        {
          "output_type": "execute_result",
          "data": {
            "text/plain": [
              "210040"
            ]
          },
          "metadata": {},
          "execution_count": 9
        }
      ]
    },
    {
      "cell_type": "markdown",
      "source": [
        "#How the data will be formatted\n",
        "[\n",
        "    {'linenumber': 0,\n",
        "     'target': 'BACKGROUND',\n",
        "     'text': 'Emotional eating is associated with overeating and the development of obesity ',\n",
        "     'total_lines': 11},\n",
        " \n",
        "]"
      ],
      "metadata": {
        "id": "1Ql6trCnrJGv"
      }
    },
    {
      "cell_type": "code",
      "source": [
        "def preprocess_text_with_line_numbers(filename):\n",
        "  \"\"\"\n",
        "  Returns a list of dictionaries of abstract line data\n",
        "\n",
        "  takes in filename, reads it contents and sort through each line, extracting htisngs like the target label,\n",
        "  the text of the sentence, how many sentences are in the current asbtract, etc\n",
        "  \"\"\"\n",
        "\n",
        "  input_lines = get_lines(filename)\n",
        "  abstract_lines = \"\"\n",
        "  abstract_samples = []\n",
        "\n",
        "  for line in input_lines:\n",
        "    if(line.startswith(\"###\")):\n",
        "      #new id line\n",
        "       abstract_id = line\n",
        "       abstract_lines = \"\"\n",
        "    elif(line.isspace()):\n",
        "      #new line\n",
        "       abstract_line_split = abstract_lines.splitlines()\n",
        "\n",
        "       #Iterate through each line in a single abstract and count them at the same time\n",
        "       for abstract_line_number, abstract_line in enumerate(abstract_line_split):\n",
        "         line_data = {}\n",
        "         target_text_split = abstract_line.split('\\t')\n",
        "         line_data[\"target\"] = target_text_split[0]\n",
        "         line_data[\"text\"] = target_text_split[1].lower()\n",
        "         line_data[\"line_number\"] = abstract_line_number\n",
        "         line_data[\"total_lines\"] = len(abstract_line_split) - 1\n",
        "         abstract_samples.append(line_data)\n",
        "    else:\n",
        "      abstract_lines += line\n",
        "  \n",
        "  return abstract_samples\n"
      ],
      "metadata": {
        "id": "rs7c786pr670"
      },
      "execution_count": 12,
      "outputs": []
    },
    {
      "cell_type": "code",
      "source": [
        "%%time\n",
        "train_samples = preprocess_text_with_line_numbers(data_dir + \"/train.txt\")\n",
        "val_samples = preprocess_text_with_line_numbers(data_dir + \"/dev.txt\")\n",
        "test_samples = preprocess_text_with_line_numbers(data_dir + \"/test.txt\")"
      ],
      "metadata": {
        "colab": {
          "base_uri": "https://localhost:8080/"
        },
        "id": "vZ-ugUyuXxeg",
        "outputId": "492e802b-fbec-4202-8311-ffbea3890151"
      },
      "execution_count": 13,
      "outputs": [
        {
          "output_type": "stream",
          "name": "stdout",
          "text": [
            "CPU times: user 373 ms, sys: 79 ms, total: 452 ms\n",
            "Wall time: 451 ms\n"
          ]
        }
      ]
    },
    {
      "cell_type": "code",
      "source": [
        "len(train_samples), len(val_samples), len(test_samples)"
      ],
      "metadata": {
        "colab": {
          "base_uri": "https://localhost:8080/"
        },
        "id": "CAf7kpLhX9by",
        "outputId": "fca10912-2f51-4c6c-a372-d64244167c8b"
      },
      "execution_count": 14,
      "outputs": [
        {
          "output_type": "execute_result",
          "data": {
            "text/plain": [
              "(180040, 30212, 30135)"
            ]
          },
          "metadata": {},
          "execution_count": 14
        }
      ]
    },
    {
      "cell_type": "code",
      "source": [
        "train_samples[:20]"
      ],
      "metadata": {
        "colab": {
          "base_uri": "https://localhost:8080/"
        },
        "id": "dYJ93F2BYF58",
        "outputId": "e5235991-5e97-4585-ce0b-47d543d0f0fe"
      },
      "execution_count": 16,
      "outputs": [
        {
          "output_type": "execute_result",
          "data": {
            "text/plain": [
              "[{'line_number': 0,\n",
              "  'target': 'OBJECTIVE',\n",
              "  'text': 'to investigate the efficacy of @ weeks of daily low-dose oral prednisolone in improving pain , mobility , and systemic low-grade inflammation in the short term and whether the effect would be sustained at @ weeks in older adults with moderate to severe knee osteoarthritis ( oa ) .',\n",
              "  'total_lines': 11},\n",
              " {'line_number': 1,\n",
              "  'target': 'METHODS',\n",
              "  'text': 'a total of @ patients with primary knee oa were randomized @:@ ; @ received @ mg/day of prednisolone and @ received placebo for @ weeks .',\n",
              "  'total_lines': 11},\n",
              " {'line_number': 2,\n",
              "  'target': 'METHODS',\n",
              "  'text': 'outcome measures included pain reduction and improvement in function scores and systemic inflammation markers .',\n",
              "  'total_lines': 11},\n",
              " {'line_number': 3,\n",
              "  'target': 'METHODS',\n",
              "  'text': 'pain was assessed using the visual analog pain scale ( @-@ mm ) .',\n",
              "  'total_lines': 11},\n",
              " {'line_number': 4,\n",
              "  'target': 'METHODS',\n",
              "  'text': 'secondary outcome measures included the western ontario and mcmaster universities osteoarthritis index scores , patient global assessment ( pga ) of the severity of knee oa , and @-min walk distance ( @mwd ) .',\n",
              "  'total_lines': 11},\n",
              " {'line_number': 5,\n",
              "  'target': 'METHODS',\n",
              "  'text': 'serum levels of interleukin @ ( il-@ ) , il-@ , tumor necrosis factor ( tnf ) - , and high-sensitivity c-reactive protein ( hscrp ) were measured .',\n",
              "  'total_lines': 11},\n",
              " {'line_number': 6,\n",
              "  'target': 'RESULTS',\n",
              "  'text': 'there was a clinically relevant reduction in the intervention group compared to the placebo group for knee pain , physical function , pga , and @mwd at @ weeks .',\n",
              "  'total_lines': 11},\n",
              " {'line_number': 7,\n",
              "  'target': 'RESULTS',\n",
              "  'text': 'the mean difference between treatment arms ( @ % ci ) was @ ( @-@ @ ) , p < @ ; @ ( @-@ @ ) , p < @ ; @ ( @-@ @ ) , p < @ ; and @ ( @-@ @ ) , p < @ , respectively .',\n",
              "  'total_lines': 11},\n",
              " {'line_number': 8,\n",
              "  'target': 'RESULTS',\n",
              "  'text': 'further , there was a clinically relevant reduction in the serum levels of il-@ , il-@ , tnf - , and hscrp at @ weeks in the intervention group when compared to the placebo group .',\n",
              "  'total_lines': 11},\n",
              " {'line_number': 9,\n",
              "  'target': 'RESULTS',\n",
              "  'text': 'these differences remained significant at @ weeks .',\n",
              "  'total_lines': 11},\n",
              " {'line_number': 10,\n",
              "  'target': 'RESULTS',\n",
              "  'text': 'the outcome measures in rheumatology clinical trials-osteoarthritis research society international responder rate was @ % in the intervention group and @ % in the placebo group ( p < @ ) .',\n",
              "  'total_lines': 11},\n",
              " {'line_number': 11,\n",
              "  'target': 'CONCLUSIONS',\n",
              "  'text': 'low-dose oral prednisolone had both a short-term and a longer sustained effect resulting in less knee pain , better physical function , and attenuation of systemic inflammation in older patients with knee oa ( clinicaltrials.gov identifier nct@ ) .',\n",
              "  'total_lines': 11},\n",
              " {'line_number': 0,\n",
              "  'target': 'BACKGROUND',\n",
              "  'text': 'emotional eating is associated with overeating and the development of obesity .',\n",
              "  'total_lines': 10},\n",
              " {'line_number': 1,\n",
              "  'target': 'BACKGROUND',\n",
              "  'text': 'yet , empirical evidence for individual ( trait ) differences in emotional eating and cognitive mechanisms that contribute to eating during sad mood remain equivocal .',\n",
              "  'total_lines': 10},\n",
              " {'line_number': 2,\n",
              "  'target': 'OBJECTIVE',\n",
              "  'text': 'the aim of this study was to test if attention bias for food moderates the effect of self-reported emotional eating during sad mood ( vs neutral mood ) on actual food intake .',\n",
              "  'total_lines': 10},\n",
              " {'line_number': 3,\n",
              "  'target': 'OBJECTIVE',\n",
              "  'text': 'it was expected that emotional eating is predictive of elevated attention for food and higher food intake after an experimentally induced sad mood and that attentional maintenance on food predicts food intake during a sad versus a neutral mood .',\n",
              "  'total_lines': 10},\n",
              " {'line_number': 4,\n",
              "  'target': 'METHODS',\n",
              "  'text': 'participants ( n = @ ) were randomly assigned to one of the two experimental mood induction conditions ( sad/neutral ) .',\n",
              "  'total_lines': 10},\n",
              " {'line_number': 5,\n",
              "  'target': 'METHODS',\n",
              "  'text': 'attentional biases for high caloric foods were measured by eye tracking during a visual probe task with pictorial food and neutral stimuli .',\n",
              "  'total_lines': 10},\n",
              " {'line_number': 6,\n",
              "  'target': 'METHODS',\n",
              "  'text': 'self-reported emotional eating was assessed with the dutch eating behavior questionnaire ( debq ) and ad libitum food intake was tested by a disguised food offer .',\n",
              "  'total_lines': 10},\n",
              " {'line_number': 7,\n",
              "  'target': 'RESULTS',\n",
              "  'text': 'hierarchical multivariate regression modeling showed that self-reported emotional eating did not account for changes in attention allocation for food or food intake in either condition .',\n",
              "  'total_lines': 10}]"
            ]
          },
          "metadata": {},
          "execution_count": 16
        }
      ]
    },
    {
      "cell_type": "code",
      "source": [
        "import pandas as pd\n",
        "train_df = pd.DataFrame(train_samples)\n",
        "val_df = pd.DataFrame(val_samples)\n",
        "test_df = pd.DataFrame(test_samples)"
      ],
      "metadata": {
        "id": "n2aNCMm3YUqS"
      },
      "execution_count": 17,
      "outputs": []
    },
    {
      "cell_type": "code",
      "source": [
        "train_df"
      ],
      "metadata": {
        "colab": {
          "base_uri": "https://localhost:8080/",
          "height": 424
        },
        "id": "HoukqNsTY4PG",
        "outputId": "159f5dc0-2ed3-4003-b710-0ae4004cfa14"
      },
      "execution_count": 18,
      "outputs": [
        {
          "output_type": "execute_result",
          "data": {
            "text/plain": [
              "             target                                               text  \\\n",
              "0         OBJECTIVE  to investigate the efficacy of @ weeks of dail...   \n",
              "1           METHODS  a total of @ patients with primary knee oa wer...   \n",
              "2           METHODS  outcome measures included pain reduction and i...   \n",
              "3           METHODS  pain was assessed using the visual analog pain...   \n",
              "4           METHODS  secondary outcome measures included the wester...   \n",
              "...             ...                                                ...   \n",
              "180035      RESULTS  for the absolute change in percent atheroma vo...   \n",
              "180036      RESULTS  for pav , a significantly greater percentage o...   \n",
              "180037      RESULTS  both strategies had acceptable side effect pro...   \n",
              "180038  CONCLUSIONS  compared with standard statin monotherapy , th...   \n",
              "180039  CONCLUSIONS  ( plaque regression with cholesterol absorptio...   \n",
              "\n",
              "        line_number  total_lines  \n",
              "0                 0           11  \n",
              "1                 1           11  \n",
              "2                 2           11  \n",
              "3                 3           11  \n",
              "4                 4           11  \n",
              "...             ...          ...  \n",
              "180035            7           11  \n",
              "180036            8           11  \n",
              "180037            9           11  \n",
              "180038           10           11  \n",
              "180039           11           11  \n",
              "\n",
              "[180040 rows x 4 columns]"
            ],
            "text/html": [
              "\n",
              "  <div id=\"df-db8fb1d3-2de6-442c-b740-b5ed8a725298\">\n",
              "    <div class=\"colab-df-container\">\n",
              "      <div>\n",
              "<style scoped>\n",
              "    .dataframe tbody tr th:only-of-type {\n",
              "        vertical-align: middle;\n",
              "    }\n",
              "\n",
              "    .dataframe tbody tr th {\n",
              "        vertical-align: top;\n",
              "    }\n",
              "\n",
              "    .dataframe thead th {\n",
              "        text-align: right;\n",
              "    }\n",
              "</style>\n",
              "<table border=\"1\" class=\"dataframe\">\n",
              "  <thead>\n",
              "    <tr style=\"text-align: right;\">\n",
              "      <th></th>\n",
              "      <th>target</th>\n",
              "      <th>text</th>\n",
              "      <th>line_number</th>\n",
              "      <th>total_lines</th>\n",
              "    </tr>\n",
              "  </thead>\n",
              "  <tbody>\n",
              "    <tr>\n",
              "      <th>0</th>\n",
              "      <td>OBJECTIVE</td>\n",
              "      <td>to investigate the efficacy of @ weeks of dail...</td>\n",
              "      <td>0</td>\n",
              "      <td>11</td>\n",
              "    </tr>\n",
              "    <tr>\n",
              "      <th>1</th>\n",
              "      <td>METHODS</td>\n",
              "      <td>a total of @ patients with primary knee oa wer...</td>\n",
              "      <td>1</td>\n",
              "      <td>11</td>\n",
              "    </tr>\n",
              "    <tr>\n",
              "      <th>2</th>\n",
              "      <td>METHODS</td>\n",
              "      <td>outcome measures included pain reduction and i...</td>\n",
              "      <td>2</td>\n",
              "      <td>11</td>\n",
              "    </tr>\n",
              "    <tr>\n",
              "      <th>3</th>\n",
              "      <td>METHODS</td>\n",
              "      <td>pain was assessed using the visual analog pain...</td>\n",
              "      <td>3</td>\n",
              "      <td>11</td>\n",
              "    </tr>\n",
              "    <tr>\n",
              "      <th>4</th>\n",
              "      <td>METHODS</td>\n",
              "      <td>secondary outcome measures included the wester...</td>\n",
              "      <td>4</td>\n",
              "      <td>11</td>\n",
              "    </tr>\n",
              "    <tr>\n",
              "      <th>...</th>\n",
              "      <td>...</td>\n",
              "      <td>...</td>\n",
              "      <td>...</td>\n",
              "      <td>...</td>\n",
              "    </tr>\n",
              "    <tr>\n",
              "      <th>180035</th>\n",
              "      <td>RESULTS</td>\n",
              "      <td>for the absolute change in percent atheroma vo...</td>\n",
              "      <td>7</td>\n",
              "      <td>11</td>\n",
              "    </tr>\n",
              "    <tr>\n",
              "      <th>180036</th>\n",
              "      <td>RESULTS</td>\n",
              "      <td>for pav , a significantly greater percentage o...</td>\n",
              "      <td>8</td>\n",
              "      <td>11</td>\n",
              "    </tr>\n",
              "    <tr>\n",
              "      <th>180037</th>\n",
              "      <td>RESULTS</td>\n",
              "      <td>both strategies had acceptable side effect pro...</td>\n",
              "      <td>9</td>\n",
              "      <td>11</td>\n",
              "    </tr>\n",
              "    <tr>\n",
              "      <th>180038</th>\n",
              "      <td>CONCLUSIONS</td>\n",
              "      <td>compared with standard statin monotherapy , th...</td>\n",
              "      <td>10</td>\n",
              "      <td>11</td>\n",
              "    </tr>\n",
              "    <tr>\n",
              "      <th>180039</th>\n",
              "      <td>CONCLUSIONS</td>\n",
              "      <td>( plaque regression with cholesterol absorptio...</td>\n",
              "      <td>11</td>\n",
              "      <td>11</td>\n",
              "    </tr>\n",
              "  </tbody>\n",
              "</table>\n",
              "<p>180040 rows × 4 columns</p>\n",
              "</div>\n",
              "      <button class=\"colab-df-convert\" onclick=\"convertToInteractive('df-db8fb1d3-2de6-442c-b740-b5ed8a725298')\"\n",
              "              title=\"Convert this dataframe to an interactive table.\"\n",
              "              style=\"display:none;\">\n",
              "        \n",
              "  <svg xmlns=\"http://www.w3.org/2000/svg\" height=\"24px\"viewBox=\"0 0 24 24\"\n",
              "       width=\"24px\">\n",
              "    <path d=\"M0 0h24v24H0V0z\" fill=\"none\"/>\n",
              "    <path d=\"M18.56 5.44l.94 2.06.94-2.06 2.06-.94-2.06-.94-.94-2.06-.94 2.06-2.06.94zm-11 1L8.5 8.5l.94-2.06 2.06-.94-2.06-.94L8.5 2.5l-.94 2.06-2.06.94zm10 10l.94 2.06.94-2.06 2.06-.94-2.06-.94-.94-2.06-.94 2.06-2.06.94z\"/><path d=\"M17.41 7.96l-1.37-1.37c-.4-.4-.92-.59-1.43-.59-.52 0-1.04.2-1.43.59L10.3 9.45l-7.72 7.72c-.78.78-.78 2.05 0 2.83L4 21.41c.39.39.9.59 1.41.59.51 0 1.02-.2 1.41-.59l7.78-7.78 2.81-2.81c.8-.78.8-2.07 0-2.86zM5.41 20L4 18.59l7.72-7.72 1.47 1.35L5.41 20z\"/>\n",
              "  </svg>\n",
              "      </button>\n",
              "      \n",
              "  <style>\n",
              "    .colab-df-container {\n",
              "      display:flex;\n",
              "      flex-wrap:wrap;\n",
              "      gap: 12px;\n",
              "    }\n",
              "\n",
              "    .colab-df-convert {\n",
              "      background-color: #E8F0FE;\n",
              "      border: none;\n",
              "      border-radius: 50%;\n",
              "      cursor: pointer;\n",
              "      display: none;\n",
              "      fill: #1967D2;\n",
              "      height: 32px;\n",
              "      padding: 0 0 0 0;\n",
              "      width: 32px;\n",
              "    }\n",
              "\n",
              "    .colab-df-convert:hover {\n",
              "      background-color: #E2EBFA;\n",
              "      box-shadow: 0px 1px 2px rgba(60, 64, 67, 0.3), 0px 1px 3px 1px rgba(60, 64, 67, 0.15);\n",
              "      fill: #174EA6;\n",
              "    }\n",
              "\n",
              "    [theme=dark] .colab-df-convert {\n",
              "      background-color: #3B4455;\n",
              "      fill: #D2E3FC;\n",
              "    }\n",
              "\n",
              "    [theme=dark] .colab-df-convert:hover {\n",
              "      background-color: #434B5C;\n",
              "      box-shadow: 0px 1px 3px 1px rgba(0, 0, 0, 0.15);\n",
              "      filter: drop-shadow(0px 1px 2px rgba(0, 0, 0, 0.3));\n",
              "      fill: #FFFFFF;\n",
              "    }\n",
              "  </style>\n",
              "\n",
              "      <script>\n",
              "        const buttonEl =\n",
              "          document.querySelector('#df-db8fb1d3-2de6-442c-b740-b5ed8a725298 button.colab-df-convert');\n",
              "        buttonEl.style.display =\n",
              "          google.colab.kernel.accessAllowed ? 'block' : 'none';\n",
              "\n",
              "        async function convertToInteractive(key) {\n",
              "          const element = document.querySelector('#df-db8fb1d3-2de6-442c-b740-b5ed8a725298');\n",
              "          const dataTable =\n",
              "            await google.colab.kernel.invokeFunction('convertToInteractive',\n",
              "                                                     [key], {});\n",
              "          if (!dataTable) return;\n",
              "\n",
              "          const docLinkHtml = 'Like what you see? Visit the ' +\n",
              "            '<a target=\"_blank\" href=https://colab.research.google.com/notebooks/data_table.ipynb>data table notebook</a>'\n",
              "            + ' to learn more about interactive tables.';\n",
              "          element.innerHTML = '';\n",
              "          dataTable['output_type'] = 'display_data';\n",
              "          await google.colab.output.renderOutput(dataTable, element);\n",
              "          const docLink = document.createElement('div');\n",
              "          docLink.innerHTML = docLinkHtml;\n",
              "          element.appendChild(docLink);\n",
              "        }\n",
              "      </script>\n",
              "    </div>\n",
              "  </div>\n",
              "  "
            ]
          },
          "metadata": {},
          "execution_count": 18
        }
      ]
    },
    {
      "cell_type": "code",
      "source": [
        "val_df"
      ],
      "metadata": {
        "colab": {
          "base_uri": "https://localhost:8080/",
          "height": 424
        },
        "id": "Rk-TtsMhY5Em",
        "outputId": "7855131b-69a1-44ff-d492-fae4e61b76d0"
      },
      "execution_count": 19,
      "outputs": [
        {
          "output_type": "execute_result",
          "data": {
            "text/plain": [
              "            target                                               text  \\\n",
              "0       BACKGROUND  ige sensitization to aspergillus fumigatus and...   \n",
              "1       BACKGROUND  it is not clear whether these patients would b...   \n",
              "2        OBJECTIVE  we sought to determine whether a @-month cours...   \n",
              "3          METHODS  asthmatic patients who were ige sensitized to ...   \n",
              "4          METHODS  primary outcomes were improvement in quality o...   \n",
              "...            ...                                                ...   \n",
              "30207      RESULTS  pruritus occurred more frequently with the act...   \n",
              "30208      RESULTS  three patients in the active-regimen group ( @...   \n",
              "30209      RESULTS  hemoglobin values of grade @ ( @ to < @ g per ...   \n",
              "30210  CONCLUSIONS  rates of response to a @-week interferon-free ...   \n",
              "30211  CONCLUSIONS  ( funded by abbvie ; sapphire-ii clinicaltrial...   \n",
              "\n",
              "       line_number  total_lines  \n",
              "0                0            9  \n",
              "1                1            9  \n",
              "2                2            9  \n",
              "3                3            9  \n",
              "4                4            9  \n",
              "...            ...          ...  \n",
              "30207            9           13  \n",
              "30208           10           13  \n",
              "30209           11           13  \n",
              "30210           12           13  \n",
              "30211           13           13  \n",
              "\n",
              "[30212 rows x 4 columns]"
            ],
            "text/html": [
              "\n",
              "  <div id=\"df-a14524a8-549a-407d-9bab-55da0314f4ea\">\n",
              "    <div class=\"colab-df-container\">\n",
              "      <div>\n",
              "<style scoped>\n",
              "    .dataframe tbody tr th:only-of-type {\n",
              "        vertical-align: middle;\n",
              "    }\n",
              "\n",
              "    .dataframe tbody tr th {\n",
              "        vertical-align: top;\n",
              "    }\n",
              "\n",
              "    .dataframe thead th {\n",
              "        text-align: right;\n",
              "    }\n",
              "</style>\n",
              "<table border=\"1\" class=\"dataframe\">\n",
              "  <thead>\n",
              "    <tr style=\"text-align: right;\">\n",
              "      <th></th>\n",
              "      <th>target</th>\n",
              "      <th>text</th>\n",
              "      <th>line_number</th>\n",
              "      <th>total_lines</th>\n",
              "    </tr>\n",
              "  </thead>\n",
              "  <tbody>\n",
              "    <tr>\n",
              "      <th>0</th>\n",
              "      <td>BACKGROUND</td>\n",
              "      <td>ige sensitization to aspergillus fumigatus and...</td>\n",
              "      <td>0</td>\n",
              "      <td>9</td>\n",
              "    </tr>\n",
              "    <tr>\n",
              "      <th>1</th>\n",
              "      <td>BACKGROUND</td>\n",
              "      <td>it is not clear whether these patients would b...</td>\n",
              "      <td>1</td>\n",
              "      <td>9</td>\n",
              "    </tr>\n",
              "    <tr>\n",
              "      <th>2</th>\n",
              "      <td>OBJECTIVE</td>\n",
              "      <td>we sought to determine whether a @-month cours...</td>\n",
              "      <td>2</td>\n",
              "      <td>9</td>\n",
              "    </tr>\n",
              "    <tr>\n",
              "      <th>3</th>\n",
              "      <td>METHODS</td>\n",
              "      <td>asthmatic patients who were ige sensitized to ...</td>\n",
              "      <td>3</td>\n",
              "      <td>9</td>\n",
              "    </tr>\n",
              "    <tr>\n",
              "      <th>4</th>\n",
              "      <td>METHODS</td>\n",
              "      <td>primary outcomes were improvement in quality o...</td>\n",
              "      <td>4</td>\n",
              "      <td>9</td>\n",
              "    </tr>\n",
              "    <tr>\n",
              "      <th>...</th>\n",
              "      <td>...</td>\n",
              "      <td>...</td>\n",
              "      <td>...</td>\n",
              "      <td>...</td>\n",
              "    </tr>\n",
              "    <tr>\n",
              "      <th>30207</th>\n",
              "      <td>RESULTS</td>\n",
              "      <td>pruritus occurred more frequently with the act...</td>\n",
              "      <td>9</td>\n",
              "      <td>13</td>\n",
              "    </tr>\n",
              "    <tr>\n",
              "      <th>30208</th>\n",
              "      <td>RESULTS</td>\n",
              "      <td>three patients in the active-regimen group ( @...</td>\n",
              "      <td>10</td>\n",
              "      <td>13</td>\n",
              "    </tr>\n",
              "    <tr>\n",
              "      <th>30209</th>\n",
              "      <td>RESULTS</td>\n",
              "      <td>hemoglobin values of grade @ ( @ to &lt; @ g per ...</td>\n",
              "      <td>11</td>\n",
              "      <td>13</td>\n",
              "    </tr>\n",
              "    <tr>\n",
              "      <th>30210</th>\n",
              "      <td>CONCLUSIONS</td>\n",
              "      <td>rates of response to a @-week interferon-free ...</td>\n",
              "      <td>12</td>\n",
              "      <td>13</td>\n",
              "    </tr>\n",
              "    <tr>\n",
              "      <th>30211</th>\n",
              "      <td>CONCLUSIONS</td>\n",
              "      <td>( funded by abbvie ; sapphire-ii clinicaltrial...</td>\n",
              "      <td>13</td>\n",
              "      <td>13</td>\n",
              "    </tr>\n",
              "  </tbody>\n",
              "</table>\n",
              "<p>30212 rows × 4 columns</p>\n",
              "</div>\n",
              "      <button class=\"colab-df-convert\" onclick=\"convertToInteractive('df-a14524a8-549a-407d-9bab-55da0314f4ea')\"\n",
              "              title=\"Convert this dataframe to an interactive table.\"\n",
              "              style=\"display:none;\">\n",
              "        \n",
              "  <svg xmlns=\"http://www.w3.org/2000/svg\" height=\"24px\"viewBox=\"0 0 24 24\"\n",
              "       width=\"24px\">\n",
              "    <path d=\"M0 0h24v24H0V0z\" fill=\"none\"/>\n",
              "    <path d=\"M18.56 5.44l.94 2.06.94-2.06 2.06-.94-2.06-.94-.94-2.06-.94 2.06-2.06.94zm-11 1L8.5 8.5l.94-2.06 2.06-.94-2.06-.94L8.5 2.5l-.94 2.06-2.06.94zm10 10l.94 2.06.94-2.06 2.06-.94-2.06-.94-.94-2.06-.94 2.06-2.06.94z\"/><path d=\"M17.41 7.96l-1.37-1.37c-.4-.4-.92-.59-1.43-.59-.52 0-1.04.2-1.43.59L10.3 9.45l-7.72 7.72c-.78.78-.78 2.05 0 2.83L4 21.41c.39.39.9.59 1.41.59.51 0 1.02-.2 1.41-.59l7.78-7.78 2.81-2.81c.8-.78.8-2.07 0-2.86zM5.41 20L4 18.59l7.72-7.72 1.47 1.35L5.41 20z\"/>\n",
              "  </svg>\n",
              "      </button>\n",
              "      \n",
              "  <style>\n",
              "    .colab-df-container {\n",
              "      display:flex;\n",
              "      flex-wrap:wrap;\n",
              "      gap: 12px;\n",
              "    }\n",
              "\n",
              "    .colab-df-convert {\n",
              "      background-color: #E8F0FE;\n",
              "      border: none;\n",
              "      border-radius: 50%;\n",
              "      cursor: pointer;\n",
              "      display: none;\n",
              "      fill: #1967D2;\n",
              "      height: 32px;\n",
              "      padding: 0 0 0 0;\n",
              "      width: 32px;\n",
              "    }\n",
              "\n",
              "    .colab-df-convert:hover {\n",
              "      background-color: #E2EBFA;\n",
              "      box-shadow: 0px 1px 2px rgba(60, 64, 67, 0.3), 0px 1px 3px 1px rgba(60, 64, 67, 0.15);\n",
              "      fill: #174EA6;\n",
              "    }\n",
              "\n",
              "    [theme=dark] .colab-df-convert {\n",
              "      background-color: #3B4455;\n",
              "      fill: #D2E3FC;\n",
              "    }\n",
              "\n",
              "    [theme=dark] .colab-df-convert:hover {\n",
              "      background-color: #434B5C;\n",
              "      box-shadow: 0px 1px 3px 1px rgba(0, 0, 0, 0.15);\n",
              "      filter: drop-shadow(0px 1px 2px rgba(0, 0, 0, 0.3));\n",
              "      fill: #FFFFFF;\n",
              "    }\n",
              "  </style>\n",
              "\n",
              "      <script>\n",
              "        const buttonEl =\n",
              "          document.querySelector('#df-a14524a8-549a-407d-9bab-55da0314f4ea button.colab-df-convert');\n",
              "        buttonEl.style.display =\n",
              "          google.colab.kernel.accessAllowed ? 'block' : 'none';\n",
              "\n",
              "        async function convertToInteractive(key) {\n",
              "          const element = document.querySelector('#df-a14524a8-549a-407d-9bab-55da0314f4ea');\n",
              "          const dataTable =\n",
              "            await google.colab.kernel.invokeFunction('convertToInteractive',\n",
              "                                                     [key], {});\n",
              "          if (!dataTable) return;\n",
              "\n",
              "          const docLinkHtml = 'Like what you see? Visit the ' +\n",
              "            '<a target=\"_blank\" href=https://colab.research.google.com/notebooks/data_table.ipynb>data table notebook</a>'\n",
              "            + ' to learn more about interactive tables.';\n",
              "          element.innerHTML = '';\n",
              "          dataTable['output_type'] = 'display_data';\n",
              "          await google.colab.output.renderOutput(dataTable, element);\n",
              "          const docLink = document.createElement('div');\n",
              "          docLink.innerHTML = docLinkHtml;\n",
              "          element.appendChild(docLink);\n",
              "        }\n",
              "      </script>\n",
              "    </div>\n",
              "  </div>\n",
              "  "
            ]
          },
          "metadata": {},
          "execution_count": 19
        }
      ]
    },
    {
      "cell_type": "code",
      "source": [
        "test_df"
      ],
      "metadata": {
        "colab": {
          "base_uri": "https://localhost:8080/",
          "height": 424
        },
        "id": "cXl1i2BeY6ED",
        "outputId": "e9fe9475-af2d-4c25-f17f-646d9a368c5a"
      },
      "execution_count": 20,
      "outputs": [
        {
          "output_type": "execute_result",
          "data": {
            "text/plain": [
              "            target                                               text  \\\n",
              "0       BACKGROUND  this study analyzed liver function abnormaliti...   \n",
              "1          RESULTS  a post hoc analysis was conducted with the use...   \n",
              "2          RESULTS  liver function tests ( lfts ) were measured at...   \n",
              "3          RESULTS  survival analyses were used to assess the asso...   \n",
              "4          RESULTS  the percentage of patients with abnormal lfts ...   \n",
              "...            ...                                                ...   \n",
              "30130      RESULTS  there was a statistically significant between-...   \n",
              "30131      RESULTS  there were no statistically significant betwee...   \n",
              "30132      RESULTS  there was no significant association between s...   \n",
              "30133      RESULTS                 no adverse effects were reported .   \n",
              "30134  CONCLUSIONS  performing a @-week do-as-tolerated program of...   \n",
              "\n",
              "       line_number  total_lines  \n",
              "0                0            8  \n",
              "1                1            8  \n",
              "2                2            8  \n",
              "3                3            8  \n",
              "4                4            8  \n",
              "...            ...          ...  \n",
              "30130           13           17  \n",
              "30131           14           17  \n",
              "30132           15           17  \n",
              "30133           16           17  \n",
              "30134           17           17  \n",
              "\n",
              "[30135 rows x 4 columns]"
            ],
            "text/html": [
              "\n",
              "  <div id=\"df-c474f3e4-6af5-4b5b-8848-97ef760119ef\">\n",
              "    <div class=\"colab-df-container\">\n",
              "      <div>\n",
              "<style scoped>\n",
              "    .dataframe tbody tr th:only-of-type {\n",
              "        vertical-align: middle;\n",
              "    }\n",
              "\n",
              "    .dataframe tbody tr th {\n",
              "        vertical-align: top;\n",
              "    }\n",
              "\n",
              "    .dataframe thead th {\n",
              "        text-align: right;\n",
              "    }\n",
              "</style>\n",
              "<table border=\"1\" class=\"dataframe\">\n",
              "  <thead>\n",
              "    <tr style=\"text-align: right;\">\n",
              "      <th></th>\n",
              "      <th>target</th>\n",
              "      <th>text</th>\n",
              "      <th>line_number</th>\n",
              "      <th>total_lines</th>\n",
              "    </tr>\n",
              "  </thead>\n",
              "  <tbody>\n",
              "    <tr>\n",
              "      <th>0</th>\n",
              "      <td>BACKGROUND</td>\n",
              "      <td>this study analyzed liver function abnormaliti...</td>\n",
              "      <td>0</td>\n",
              "      <td>8</td>\n",
              "    </tr>\n",
              "    <tr>\n",
              "      <th>1</th>\n",
              "      <td>RESULTS</td>\n",
              "      <td>a post hoc analysis was conducted with the use...</td>\n",
              "      <td>1</td>\n",
              "      <td>8</td>\n",
              "    </tr>\n",
              "    <tr>\n",
              "      <th>2</th>\n",
              "      <td>RESULTS</td>\n",
              "      <td>liver function tests ( lfts ) were measured at...</td>\n",
              "      <td>2</td>\n",
              "      <td>8</td>\n",
              "    </tr>\n",
              "    <tr>\n",
              "      <th>3</th>\n",
              "      <td>RESULTS</td>\n",
              "      <td>survival analyses were used to assess the asso...</td>\n",
              "      <td>3</td>\n",
              "      <td>8</td>\n",
              "    </tr>\n",
              "    <tr>\n",
              "      <th>4</th>\n",
              "      <td>RESULTS</td>\n",
              "      <td>the percentage of patients with abnormal lfts ...</td>\n",
              "      <td>4</td>\n",
              "      <td>8</td>\n",
              "    </tr>\n",
              "    <tr>\n",
              "      <th>...</th>\n",
              "      <td>...</td>\n",
              "      <td>...</td>\n",
              "      <td>...</td>\n",
              "      <td>...</td>\n",
              "    </tr>\n",
              "    <tr>\n",
              "      <th>30130</th>\n",
              "      <td>RESULTS</td>\n",
              "      <td>there was a statistically significant between-...</td>\n",
              "      <td>13</td>\n",
              "      <td>17</td>\n",
              "    </tr>\n",
              "    <tr>\n",
              "      <th>30131</th>\n",
              "      <td>RESULTS</td>\n",
              "      <td>there were no statistically significant betwee...</td>\n",
              "      <td>14</td>\n",
              "      <td>17</td>\n",
              "    </tr>\n",
              "    <tr>\n",
              "      <th>30132</th>\n",
              "      <td>RESULTS</td>\n",
              "      <td>there was no significant association between s...</td>\n",
              "      <td>15</td>\n",
              "      <td>17</td>\n",
              "    </tr>\n",
              "    <tr>\n",
              "      <th>30133</th>\n",
              "      <td>RESULTS</td>\n",
              "      <td>no adverse effects were reported .</td>\n",
              "      <td>16</td>\n",
              "      <td>17</td>\n",
              "    </tr>\n",
              "    <tr>\n",
              "      <th>30134</th>\n",
              "      <td>CONCLUSIONS</td>\n",
              "      <td>performing a @-week do-as-tolerated program of...</td>\n",
              "      <td>17</td>\n",
              "      <td>17</td>\n",
              "    </tr>\n",
              "  </tbody>\n",
              "</table>\n",
              "<p>30135 rows × 4 columns</p>\n",
              "</div>\n",
              "      <button class=\"colab-df-convert\" onclick=\"convertToInteractive('df-c474f3e4-6af5-4b5b-8848-97ef760119ef')\"\n",
              "              title=\"Convert this dataframe to an interactive table.\"\n",
              "              style=\"display:none;\">\n",
              "        \n",
              "  <svg xmlns=\"http://www.w3.org/2000/svg\" height=\"24px\"viewBox=\"0 0 24 24\"\n",
              "       width=\"24px\">\n",
              "    <path d=\"M0 0h24v24H0V0z\" fill=\"none\"/>\n",
              "    <path d=\"M18.56 5.44l.94 2.06.94-2.06 2.06-.94-2.06-.94-.94-2.06-.94 2.06-2.06.94zm-11 1L8.5 8.5l.94-2.06 2.06-.94-2.06-.94L8.5 2.5l-.94 2.06-2.06.94zm10 10l.94 2.06.94-2.06 2.06-.94-2.06-.94-.94-2.06-.94 2.06-2.06.94z\"/><path d=\"M17.41 7.96l-1.37-1.37c-.4-.4-.92-.59-1.43-.59-.52 0-1.04.2-1.43.59L10.3 9.45l-7.72 7.72c-.78.78-.78 2.05 0 2.83L4 21.41c.39.39.9.59 1.41.59.51 0 1.02-.2 1.41-.59l7.78-7.78 2.81-2.81c.8-.78.8-2.07 0-2.86zM5.41 20L4 18.59l7.72-7.72 1.47 1.35L5.41 20z\"/>\n",
              "  </svg>\n",
              "      </button>\n",
              "      \n",
              "  <style>\n",
              "    .colab-df-container {\n",
              "      display:flex;\n",
              "      flex-wrap:wrap;\n",
              "      gap: 12px;\n",
              "    }\n",
              "\n",
              "    .colab-df-convert {\n",
              "      background-color: #E8F0FE;\n",
              "      border: none;\n",
              "      border-radius: 50%;\n",
              "      cursor: pointer;\n",
              "      display: none;\n",
              "      fill: #1967D2;\n",
              "      height: 32px;\n",
              "      padding: 0 0 0 0;\n",
              "      width: 32px;\n",
              "    }\n",
              "\n",
              "    .colab-df-convert:hover {\n",
              "      background-color: #E2EBFA;\n",
              "      box-shadow: 0px 1px 2px rgba(60, 64, 67, 0.3), 0px 1px 3px 1px rgba(60, 64, 67, 0.15);\n",
              "      fill: #174EA6;\n",
              "    }\n",
              "\n",
              "    [theme=dark] .colab-df-convert {\n",
              "      background-color: #3B4455;\n",
              "      fill: #D2E3FC;\n",
              "    }\n",
              "\n",
              "    [theme=dark] .colab-df-convert:hover {\n",
              "      background-color: #434B5C;\n",
              "      box-shadow: 0px 1px 3px 1px rgba(0, 0, 0, 0.15);\n",
              "      filter: drop-shadow(0px 1px 2px rgba(0, 0, 0, 0.3));\n",
              "      fill: #FFFFFF;\n",
              "    }\n",
              "  </style>\n",
              "\n",
              "      <script>\n",
              "        const buttonEl =\n",
              "          document.querySelector('#df-c474f3e4-6af5-4b5b-8848-97ef760119ef button.colab-df-convert');\n",
              "        buttonEl.style.display =\n",
              "          google.colab.kernel.accessAllowed ? 'block' : 'none';\n",
              "\n",
              "        async function convertToInteractive(key) {\n",
              "          const element = document.querySelector('#df-c474f3e4-6af5-4b5b-8848-97ef760119ef');\n",
              "          const dataTable =\n",
              "            await google.colab.kernel.invokeFunction('convertToInteractive',\n",
              "                                                     [key], {});\n",
              "          if (!dataTable) return;\n",
              "\n",
              "          const docLinkHtml = 'Like what you see? Visit the ' +\n",
              "            '<a target=\"_blank\" href=https://colab.research.google.com/notebooks/data_table.ipynb>data table notebook</a>'\n",
              "            + ' to learn more about interactive tables.';\n",
              "          element.innerHTML = '';\n",
              "          dataTable['output_type'] = 'display_data';\n",
              "          await google.colab.output.renderOutput(dataTable, element);\n",
              "          const docLink = document.createElement('div');\n",
              "          docLink.innerHTML = docLinkHtml;\n",
              "          element.appendChild(docLink);\n",
              "        }\n",
              "      </script>\n",
              "    </div>\n",
              "  </div>\n",
              "  "
            ]
          },
          "metadata": {},
          "execution_count": 20
        }
      ]
    },
    {
      "cell_type": "code",
      "source": [
        "train_df.target.value_counts()"
      ],
      "metadata": {
        "colab": {
          "base_uri": "https://localhost:8080/"
        },
        "id": "ecYZp5DKY6q5",
        "outputId": "d114d6a0-011c-4671-d381-6bee9877f1bd"
      },
      "execution_count": 21,
      "outputs": [
        {
          "output_type": "execute_result",
          "data": {
            "text/plain": [
              "METHODS        59353\n",
              "RESULTS        57953\n",
              "CONCLUSIONS    27168\n",
              "BACKGROUND     21727\n",
              "OBJECTIVE      13839\n",
              "Name: target, dtype: int64"
            ]
          },
          "metadata": {},
          "execution_count": 21
        }
      ]
    },
    {
      "cell_type": "code",
      "source": [
        "#length of different lines\n",
        "train_df.total_lines.plot.hist()"
      ],
      "metadata": {
        "colab": {
          "base_uri": "https://localhost:8080/",
          "height": 285
        },
        "id": "wNQr-CFQZEIS",
        "outputId": "60ad992c-8436-4efe-afe9-bf164a920a28"
      },
      "execution_count": 22,
      "outputs": [
        {
          "output_type": "execute_result",
          "data": {
            "text/plain": [
              "<matplotlib.axes._subplots.AxesSubplot at 0x7f78a5e03f90>"
            ]
          },
          "metadata": {},
          "execution_count": 22
        },
        {
          "output_type": "display_data",
          "data": {
            "text/plain": [
              "<Figure size 432x288 with 1 Axes>"
            ],
            "image/png": "[encoded data removed]"
          },
          "metadata": {
            "needs_background": "light"
          }
        }
      ]
    },
    {
      "cell_type": "code",
      "source": [
        "#Convert abstract text lines into lists\n",
        "train_sentences = train_df[\"text\"].tolist()\n",
        "val_sentences = val_df[\"text\"].tolist()\n",
        "test_sentences = test_df[\"text\"].tolist()\n",
        "len(train_sentences), len(val_sentences), len(test_sentences)"
      ],
      "metadata": {
        "colab": {
          "base_uri": "https://localhost:8080/"
        },
        "id": "-h8WL5i1ZMr9",
        "outputId": "801f3a7d-73e7-47c7-bc74-be824ee7571b"
      },
      "execution_count": 23,
      "outputs": [
        {
          "output_type": "execute_result",
          "data": {
            "text/plain": [
              "(180040, 30212, 30135)"
            ]
          },
          "metadata": {},
          "execution_count": 23
        }
      ]
    },
    {
      "cell_type": "markdown",
      "source": [
        "## Making numeric lables (ML models require numbers)"
      ],
      "metadata": {
        "id": "XJautK-qZgzg"
      }
    },
    {
      "cell_type": "code",
      "source": [
        "# One hot encode labels\n",
        "from sklearn.preprocessing import OneHotEncoder\n",
        "one_hot_encoder = OneHotEncoder(sparse=False)\n",
        "train_labels_one_hot = one_hot_encoder.fit_transform(train_df[\"target\"].to_numpy().reshape(-1, 1))\n",
        "val_labels_one_hot = one_hot_encoder.fit(val_df[\"target\"].to_numpy().reshape(-1, 1))\n",
        "test_labels_one_hot = one_hot_encoder.fit(test_df[\"target\"].to_numpy().reshape(-1, 1))"
      ],
      "metadata": {
        "id": "oP2YJVYBZ6k-"
      },
      "execution_count": 30,
      "outputs": []
    },
    {
      "cell_type": "code",
      "source": [
        "import tensorflow as tf\n",
        "tf.constant(train_labels_one_hot)"
      ],
      "metadata": {
        "colab": {
          "base_uri": "https://localhost:8080/"
        },
        "id": "Hz19p7K9aeUa",
        "outputId": "813b1a99-a0db-4050-e3d6-44ed59228d64"
      },
      "execution_count": 31,
      "outputs": [
        {
          "output_type": "execute_result",
          "data": {
            "text/plain": [
              "<tf.Tensor: shape=(180040, 5), dtype=float64, numpy=\n",
              "array([[0., 0., 0., 1., 0.],\n",
              "       [0., 0., 1., 0., 0.],\n",
              "       [0., 0., 1., 0., 0.],\n",
              "       ...,\n",
              "       [0., 0., 0., 0., 1.],\n",
              "       [0., 1., 0., 0., 0.],\n",
              "       [0., 1., 0., 0., 0.]])>"
            ]
          },
          "metadata": {},
          "execution_count": 31
        }
      ]
    },
    {
      "cell_type": "code",
      "source": [
        "train_labels_one_hot"
      ],
      "metadata": {
        "colab": {
          "base_uri": "https://localhost:8080/"
        },
        "id": "9tfTFYKPap6j",
        "outputId": "c137bfb9-1504-4c01-9c60-7d84952799f0"
      },
      "execution_count": 32,
      "outputs": [
        {
          "output_type": "execute_result",
          "data": {
            "text/plain": [
              "array([[0., 0., 0., 1., 0.],\n",
              "       [0., 0., 1., 0., 0.],\n",
              "       [0., 0., 1., 0., 0.],\n",
              "       ...,\n",
              "       [0., 0., 0., 0., 1.],\n",
              "       [0., 1., 0., 0., 0.],\n",
              "       [0., 1., 0., 0., 0.]])"
            ]
          },
          "metadata": {},
          "execution_count": 32
        }
      ]
    },
    {
      "cell_type": "code",
      "source": [
        "# Extract labels (\"target\" columns) and encode them into integers \n",
        "from sklearn.preprocessing import LabelEncoder\n",
        "label_encoder = LabelEncoder()\n",
        "train_labels_encoded = label_encoder.fit_transform(train_df[\"target\"].to_numpy())\n",
        "val_labels_encoded = label_encoder.transform(val_df[\"target\"].to_numpy())\n",
        "test_labels_encoded = label_encoder.transform(test_df[\"target\"].to_numpy())\n",
        "\n",
        "# Check what training labels look like\n",
        "train_labels_encoded"
      ],
      "metadata": {
        "colab": {
          "base_uri": "https://localhost:8080/"
        },
        "id": "HTSBM2r2auZv",
        "outputId": "520d8fed-56ab-4871-afb1-da9d541d79ad"
      },
      "execution_count": 59,
      "outputs": [
        {
          "output_type": "execute_result",
          "data": {
            "text/plain": [
              "array([3, 2, 2, ..., 4, 1, 1])"
            ]
          },
          "metadata": {},
          "execution_count": 59
        }
      ]
    },
    {
      "cell_type": "code",
      "source": [
        "train_labels_encoded"
      ],
      "metadata": {
        "colab": {
          "base_uri": "https://localhost:8080/"
        },
        "id": "BTmJF41Qba0f",
        "outputId": "e746309b-265d-47e3-a767-5725df9c67f4"
      },
      "execution_count": 60,
      "outputs": [
        {
          "output_type": "execute_result",
          "data": {
            "text/plain": [
              "array([3, 2, 2, ..., 4, 1, 1])"
            ]
          },
          "metadata": {},
          "execution_count": 60
        }
      ]
    },
    {
      "cell_type": "code",
      "source": [
        "label_encoder.classes_"
      ],
      "metadata": {
        "colab": {
          "base_uri": "https://localhost:8080/"
        },
        "id": "a8OZNU4LbdwW",
        "outputId": "a178175e-496b-45f5-cbdf-26f77f47a372"
      },
      "execution_count": 61,
      "outputs": [
        {
          "output_type": "execute_result",
          "data": {
            "text/plain": [
              "array(['BACKGROUND', 'CONCLUSIONS', 'METHODS', 'OBJECTIVE', 'RESULTS'],\n",
              "      dtype=object)"
            ]
          },
          "metadata": {},
          "execution_count": 61
        }
      ]
    },
    {
      "cell_type": "code",
      "source": [
        "#Model 0: Baseline Model - Naive Bayes TF-IDF Encoder\n",
        "from sklearn.feature_extraction.text import TfidfVectorizer\n",
        "from sklearn.naive_bayes import MultinomialNB\n",
        "from sklearn.pipeline import Pipeline\n",
        "\n",
        "model_0 = Pipeline([\n",
        "    (\"tf-idf\", TfidfVectorizer()),\n",
        "    (\"clf\", MultinomialNB())\n",
        "])\n",
        "\n",
        "#fitting the pipelien\n",
        "model_0.fit(X=train_sentences, y=train_labels_encoded)"
      ],
      "metadata": {
        "colab": {
          "base_uri": "https://localhost:8080/"
        },
        "id": "sHXA1iWBbpXB",
        "outputId": "8c70e237-d347-4f60-886d-9c9ac3bff663"
      },
      "execution_count": 62,
      "outputs": [
        {
          "output_type": "execute_result",
          "data": {
            "text/plain": [
              "Pipeline(steps=[('tf-idf', TfidfVectorizer()), ('clf', MultinomialNB())])"
            ]
          },
          "metadata": {},
          "execution_count": 62
        }
      ]
    },
    {
      "cell_type": "code",
      "source": [
        "#evaluate\n",
        "model_0.score(X=val_sentences,\n",
        "              y=val_labels_encoded)"
      ],
      "metadata": {
        "colab": {
          "base_uri": "https://localhost:8080/"
        },
        "id": "XcF7zPd1cuxI",
        "outputId": "296635d5-c839-4cb8-fedc-263ec6b13076"
      },
      "execution_count": 63,
      "outputs": [
        {
          "output_type": "execute_result",
          "data": {
            "text/plain": [
              "0.7218323844829869"
            ]
          },
          "metadata": {},
          "execution_count": 63
        }
      ]
    },
    {
      "cell_type": "code",
      "source": [
        "#make predictions\n",
        "baseline_preds = model_0.predict(val_sentences)\n",
        "baseline_preds"
      ],
      "metadata": {
        "colab": {
          "base_uri": "https://localhost:8080/"
        },
        "id": "MOBs8GeSdAjS",
        "outputId": "d5af4e25-801a-49ae-c147-886209f646a8"
      },
      "execution_count": 65,
      "outputs": [
        {
          "output_type": "execute_result",
          "data": {
            "text/plain": [
              "array([4, 1, 3, ..., 4, 4, 1])"
            ]
          },
          "metadata": {},
          "execution_count": 65
        }
      ]
    },
    {
      "cell_type": "code",
      "source": [
        "val_labels_encoded"
      ],
      "metadata": {
        "colab": {
          "base_uri": "https://localhost:8080/"
        },
        "id": "aotcFRUddNtq",
        "outputId": "a78d81df-fa05-431c-d770-b1df4704deca"
      },
      "execution_count": 66,
      "outputs": [
        {
          "output_type": "execute_result",
          "data": {
            "text/plain": [
              "array([0, 0, 3, ..., 4, 1, 1])"
            ]
          },
          "metadata": {},
          "execution_count": 66
        }
      ]
    },
    {
      "cell_type": "code",
      "source": [
        "##download helper functions script\n",
        "!wget https://raw.githubusercontent.com/mrdbourke/tensorflow-deep-learning/main/extras/helper_functions.py"
      ],
      "metadata": {
        "colab": {
          "base_uri": "https://localhost:8080/"
        },
        "id": "tjMkIFMJehVO",
        "outputId": "9de4ddb6-7d3f-4375-ee84-8176ebed7772"
      },
      "execution_count": 67,
      "outputs": [
        {
          "output_type": "stream",
          "name": "stdout",
          "text": [
            "--2022-08-01 22:15:57--  https://raw.githubusercontent.com/mrdbourke/tensorflow-deep-learning/main/extras/helper_functions.py\n",
            "Resolving raw.githubusercontent.com (raw.githubusercontent.com)... 185.199.108.133, 185.199.109.133, 185.199.110.133, ...\n",
            "Connecting to raw.githubusercontent.com (raw.githubusercontent.com)|185.199.108.133|:443... connected.\n",
            "HTTP request sent, awaiting response... 200 OK\n",
            "Length: 10246 (10K) [text/plain]\n",
            "Saving to: ‘helper_functions.py’\n",
            "\n",
            "helper_functions.py 100%[===================>]  10.01K  --.-KB/s    in 0s      \n",
            "\n",
            "2022-08-01 22:15:57 (71.6 MB/s) - ‘helper_functions.py’ saved [10246/10246]\n",
            "\n"
          ]
        }
      ]
    },
    {
      "cell_type": "code",
      "source": [
        "from helper_functions import calculate_results"
      ],
      "metadata": {
        "id": "xBHchs7VeuTh"
      },
      "execution_count": 68,
      "outputs": []
    },
    {
      "cell_type": "code",
      "source": [
        "baseline_results = calculate_results(val_labels_encoded,\n",
        "                                   baseline_preds)"
      ],
      "metadata": {
        "id": "V5BHDXbEe0FI"
      },
      "execution_count": 70,
      "outputs": []
    },
    {
      "cell_type": "code",
      "source": [
        "baseline_results"
      ],
      "metadata": {
        "colab": {
          "base_uri": "https://localhost:8080/"
        },
        "id": "m_RHfMTse6Nz",
        "outputId": "2adf6640-bc7d-492b-eeab-0947c68755ce"
      },
      "execution_count": 71,
      "outputs": [
        {
          "output_type": "execute_result",
          "data": {
            "text/plain": [
              "{'accuracy': 72.1832384482987,\n",
              " 'f1': 0.6989250353450294,\n",
              " 'precision': 0.7186466952323352,\n",
              " 'recall': 0.7218323844829869}"
            ]
          },
          "metadata": {},
          "execution_count": 71
        }
      ]
    },
    {
      "cell_type": "markdown",
      "source": [
        "## Preparing text for deep sequence models using tokenization and embedding"
      ],
      "metadata": {
        "id": "wgquXh5he-Oq"
      }
    },
    {
      "cell_type": "code",
      "source": [
        "import numpy as np\n",
        "import tensorflow as tf\n",
        "from tensorflow.keras import layers"
      ],
      "metadata": {
        "id": "XgpAMcVhfOsP"
      },
      "execution_count": 72,
      "outputs": []
    },
    {
      "cell_type": "code",
      "source": [
        "#How long is each sentence on average\n",
        "sent_lens = [len(sentence.split()) for sentence in train_sentences]"
      ],
      "metadata": {
        "id": "BxUSgo-tfaL_"
      },
      "execution_count": 74,
      "outputs": []
    },
    {
      "cell_type": "code",
      "source": [
        "sent_lens"
      ],
      "metadata": {
        "colab": {
          "base_uri": "https://localhost:8080/"
        },
        "id": "5mk3r_OLflEr",
        "outputId": "164423ee-c576-469c-eea5-dee018c736b5"
      },
      "execution_count": 75,
      "outputs": [
        {
          "output_type": "execute_result",
          "data": {
            "text/plain": [
              "[49,\n",
              " 27,\n",
              " 15,\n",
              " 14,\n",
              " 35,\n",
              " 29,\n",
              " 30,\n",
              " 55,\n",
              " 36,\n",
              " 8,\n",
              " 32,\n",
              " 39,\n",
              " 12,\n",
              " 26,\n",
              " 33,\n",
              " 40,\n",
              " 22,\n",
              " 23,\n",
              " 27,\n",
              " 26,\n",
              " 27,\n",
              " 34,\n",
              " 41,\n",
              " 18,\n",
              " 9,\n",
              " 23,\n",
              " 59,\n",
              " 16,\n",
              " 18,\n",
              " 22,\n",
              " 17,\n",
              " 51,\n",
              " 8,\n",
              " 17,\n",
              " 16,\n",
              " 5,\n",
              " 21,\n",
              " 4,\n",
              " 42,\n",
              " 50,\n",
              " 11,\n",
              " 19,\n",
              " 20,\n",
              " 29,\n",
              " 36,\n",
              " 44,\n",
              " 39,\n",
              " 25,\n",
              " 19,\n",
              " 24,\n",
              " 19,\n",
              " 14,\n",
              " 11,\n",
              " 18,\n",
              " 16,\n",
              " 26,\n",
              " 16,\n",
              " 18,\n",
              " 38,\n",
              " 28,\n",
              " 21,\n",
              " 18,\n",
              " 22,\n",
              " 9,\n",
              " 37,\n",
              " 6,\n",
              " 32,\n",
              " 21,\n",
              " 26,\n",
              " 25,\n",
              " 18,\n",
              " 21,\n",
              " 20,\n",
              " 12,\n",
              " 26,\n",
              " 16,\n",
              " 23,\n",
              " 19,\n",
              " 16,\n",
              " 39,\n",
              " 19,\n",
              " 14,\n",
              " 37,\n",
              " 34,\n",
              " 15,\n",
              " 47,\n",
              " 26,\n",
              " 87,\n",
              " 17,\n",
              " 29,\n",
              " 31,\n",
              " 13,\n",
              " 37,\n",
              " 28,\n",
              " 35,\n",
              " 60,\n",
              " 64,\n",
              " 66,\n",
              " 8,\n",
              " 12,\n",
              " 17,\n",
              " 40,\n",
              " 43,\n",
              " 37,\n",
              " 47,\n",
              " 6,\n",
              " 40,\n",
              " 64,\n",
              " 20,\n",
              " 32,\n",
              " 53,\n",
              " 16,\n",
              " 30,\n",
              " 54,\n",
              " 51,\n",
              " 19,\n",
              " 28,\n",
              " 32,\n",
              " 36,\n",
              " 40,\n",
              " 13,\n",
              " 25,\n",
              " 30,\n",
              " 23,\n",
              " 17,\n",
              " 15,\n",
              " 20,\n",
              " 50,\n",
              " 12,\n",
              " 16,\n",
              " 27,\n",
              " 24,\n",
              " 10,\n",
              " 24,\n",
              " 5,\n",
              " 14,\n",
              " 19,\n",
              " 32,\n",
              " 13,\n",
              " 21,\n",
              " 23,\n",
              " 10,\n",
              " 11,\n",
              " 17,\n",
              " 12,\n",
              " 21,\n",
              " 21,\n",
              " 15,\n",
              " 17,\n",
              " 21,\n",
              " 18,\n",
              " 40,\n",
              " 33,\n",
              " 21,\n",
              " 41,\n",
              " 21,\n",
              " 13,\n",
              " 29,\n",
              " 28,\n",
              " 13,\n",
              " 44,\n",
              " 20,\n",
              " 31,\n",
              " 8,\n",
              " 29,\n",
              " 13,\n",
              " 116,\n",
              " 27,\n",
              " 26,\n",
              " 32,\n",
              " 34,\n",
              " 17,\n",
              " 23,\n",
              " 20,\n",
              " 29,\n",
              " 11,\n",
              " 7,\n",
              " 17,\n",
              " 31,\n",
              " 43,\n",
              " 36,\n",
              " 17,\n",
              " 31,\n",
              " 17,\n",
              " 42,\n",
              " 18,\n",
              " 39,\n",
              " 29,\n",
              " 30,\n",
              " 24,\n",
              " 81,\n",
              " 19,\n",
              " 19,\n",
              " 33,\n",
              " 22,\n",
              " 11,\n",
              " 55,\n",
              " 11,\n",
              " 14,\n",
              " 28,\n",
              " 42,\n",
              " 34,\n",
              " 44,\n",
              " 15,\n",
              " 22,\n",
              " 44,\n",
              " 34,\n",
              " 29,\n",
              " 14,\n",
              " 54,\n",
              " 33,\n",
              " 80,\n",
              " 38,\n",
              " 15,\n",
              " 19,\n",
              " 30,\n",
              " 51,\n",
              " 20,\n",
              " 57,\n",
              " 13,\n",
              " 34,\n",
              " 34,\n",
              " 29,\n",
              " 22,\n",
              " 15,\n",
              " 23,\n",
              " 32,\n",
              " 11,\n",
              " 12,\n",
              " 17,\n",
              " 15,\n",
              " 4,\n",
              " 7,\n",
              " 38,\n",
              " 14,\n",
              " 10,\n",
              " 6,\n",
              " 26,\n",
              " 15,\n",
              " 60,\n",
              " 22,\n",
              " 12,\n",
              " 27,\n",
              " 16,\n",
              " 11,\n",
              " 23,\n",
              " 8,\n",
              " 17,\n",
              " 7,\n",
              " 27,\n",
              " 27,\n",
              " 35,\n",
              " 34,\n",
              " 8,\n",
              " 22,\n",
              " 27,\n",
              " 38,\n",
              " 23,\n",
              " 21,\n",
              " 16,\n",
              " 4,\n",
              " 2,\n",
              " 37,\n",
              " 20,\n",
              " 25,\n",
              " 36,\n",
              " 19,\n",
              " 26,\n",
              " 31,\n",
              " 28,\n",
              " 20,\n",
              " 21,\n",
              " 15,\n",
              " 10,\n",
              " 2,\n",
              " 43,\n",
              " 18,\n",
              " 49,\n",
              " 24,\n",
              " 19,\n",
              " 36,\n",
              " 24,\n",
              " 28,\n",
              " 37,\n",
              " 26,\n",
              " 17,\n",
              " 25,\n",
              " 57,\n",
              " 20,\n",
              " 9,\n",
              " 16,\n",
              " 10,\n",
              " 11,\n",
              " 87,\n",
              " 41,\n",
              " 45,\n",
              " 44,\n",
              " 15,\n",
              " 11,\n",
              " 17,\n",
              " 11,\n",
              " 5,\n",
              " 6,\n",
              " 31,\n",
              " 31,\n",
              " 20,\n",
              " 16,\n",
              " 13,\n",
              " 24,\n",
              " 37,\n",
              " 14,\n",
              " 28,\n",
              " 17,\n",
              " 19,\n",
              " 27,\n",
              " 17,\n",
              " 25,\n",
              " 15,\n",
              " 16,\n",
              " 21,\n",
              " 25,\n",
              " 23,\n",
              " 23,\n",
              " 7,\n",
              " 16,\n",
              " 21,\n",
              " 13,\n",
              " 33,\n",
              " 34,\n",
              " 11,\n",
              " 46,\n",
              " 52,\n",
              " 24,\n",
              " 8,\n",
              " 16,\n",
              " 22,\n",
              " 20,\n",
              " 13,\n",
              " 25,\n",
              " 30,\n",
              " 13,\n",
              " 9,\n",
              " 16,\n",
              " 22,\n",
              " 39,\n",
              " 15,\n",
              " 15,\n",
              " 24,\n",
              " 25,\n",
              " 20,\n",
              " 35,\n",
              " 26,\n",
              " 24,\n",
              " 27,\n",
              " 29,\n",
              " 30,\n",
              " 10,\n",
              " 23,\n",
              " 22,\n",
              " 35,\n",
              " 60,\n",
              " 34,\n",
              " 15,\n",
              " 11,\n",
              " 30,\n",
              " 50,\n",
              " 18,\n",
              " 73,\n",
              " 8,\n",
              " 13,\n",
              " 25,\n",
              " 14,\n",
              " 14,\n",
              " 7,\n",
              " 46,\n",
              " 13,\n",
              " 20,\n",
              " 22,\n",
              " 30,\n",
              " 21,\n",
              " 22,\n",
              " 17,\n",
              " 30,\n",
              " 10,\n",
              " 17,\n",
              " 45,\n",
              " 20,\n",
              " 14,\n",
              " 9,\n",
              " 23,\n",
              " 14,\n",
              " 12,\n",
              " 26,\n",
              " 14,\n",
              " 27,\n",
              " 15,\n",
              " 33,\n",
              " 16,\n",
              " 12,\n",
              " 15,\n",
              " 22,\n",
              " 15,\n",
              " 30,\n",
              " 36,\n",
              " 30,\n",
              " 19,\n",
              " 30,\n",
              " 21,\n",
              " 37,\n",
              " 23,\n",
              " 29,\n",
              " 17,\n",
              " 60,\n",
              " 15,\n",
              " 23,\n",
              " 45,\n",
              " 29,\n",
              " 20,\n",
              " 22,\n",
              " 7,\n",
              " 17,\n",
              " 18,\n",
              " 19,\n",
              " 19,\n",
              " 12,\n",
              " 18,\n",
              " 15,\n",
              " 29,\n",
              " 22,\n",
              " 21,\n",
              " 18,\n",
              " 11,\n",
              " 14,\n",
              " 75,\n",
              " 38,\n",
              " 43,\n",
              " 25,\n",
              " 10,\n",
              " 12,\n",
              " 25,\n",
              " 12,\n",
              " 23,\n",
              " 36,\n",
              " 59,\n",
              " 7,\n",
              " 120,\n",
              " 17,\n",
              " 43,\n",
              " 9,\n",
              " 37,\n",
              " 42,\n",
              " 15,\n",
              " 17,\n",
              " 26,\n",
              " 35,\n",
              " 17,\n",
              " 30,\n",
              " 19,\n",
              " 23,\n",
              " 44,\n",
              " 12,\n",
              " 25,\n",
              " 11,\n",
              " 25,\n",
              " 38,\n",
              " 26,\n",
              " 56,\n",
              " 42,\n",
              " 25,\n",
              " 38,\n",
              " 22,\n",
              " 19,\n",
              " 11,\n",
              " 11,\n",
              " 27,\n",
              " 34,\n",
              " 20,\n",
              " 24,\n",
              " 10,\n",
              " 30,\n",
              " 27,\n",
              " 30,\n",
              " 4,\n",
              " 2,\n",
              " 4,\n",
              " 21,\n",
              " 33,\n",
              " 33,\n",
              " 12,\n",
              " 35,\n",
              " 22,\n",
              " 8,\n",
              " 18,\n",
              " 10,\n",
              " 10,\n",
              " 6,\n",
              " 15,\n",
              " 78,\n",
              " 15,\n",
              " 32,\n",
              " 27,\n",
              " 6,\n",
              " 27,\n",
              " 45,\n",
              " 16,\n",
              " 33,\n",
              " 46,\n",
              " 18,\n",
              " 17,\n",
              " 14,\n",
              " 27,\n",
              " 23,\n",
              " 13,\n",
              " 22,\n",
              " 21,\n",
              " 11,\n",
              " 20,\n",
              " 27,\n",
              " 26,\n",
              " 43,\n",
              " 17,\n",
              " 11,\n",
              " 15,\n",
              " 30,\n",
              " 17,\n",
              " 32,\n",
              " 87,\n",
              " 18,\n",
              " 20,\n",
              " 23,\n",
              " 25,\n",
              " 12,\n",
              " 22,\n",
              " 22,\n",
              " 28,\n",
              " 52,\n",
              " 29,\n",
              " 23,\n",
              " 30,\n",
              " 67,\n",
              " 47,\n",
              " 25,\n",
              " 19,\n",
              " 32,\n",
              " 35,\n",
              " 35,\n",
              " 26,\n",
              " 27,\n",
              " 27,\n",
              " 19,\n",
              " 13,\n",
              " 27,\n",
              " 27,\n",
              " 26,\n",
              " 33,\n",
              " 22,\n",
              " 40,\n",
              " 25,\n",
              " 17,\n",
              " 9,\n",
              " 8,\n",
              " 38,\n",
              " 49,\n",
              " 30,\n",
              " 59,\n",
              " 54,\n",
              " 24,\n",
              " 26,\n",
              " 13,\n",
              " 22,\n",
              " 23,\n",
              " 53,\n",
              " 14,\n",
              " 78,\n",
              " 34,\n",
              " 40,\n",
              " 52,\n",
              " 26,\n",
              " 43,\n",
              " 16,\n",
              " 19,\n",
              " 27,\n",
              " 14,\n",
              " 21,\n",
              " 30,\n",
              " 8,\n",
              " 40,\n",
              " 19,\n",
              " 13,\n",
              " 19,\n",
              " 34,\n",
              " 8,\n",
              " 23,\n",
              " 32,\n",
              " 9,\n",
              " 37,\n",
              " 15,\n",
              " 85,\n",
              " 36,\n",
              " 45,\n",
              " 62,\n",
              " 111,\n",
              " 111,\n",
              " 65,\n",
              " 25,\n",
              " 22,\n",
              " 32,\n",
              " 14,\n",
              " 51,\n",
              " 47,\n",
              " 17,\n",
              " 42,\n",
              " 16,\n",
              " 10,\n",
              " 19,\n",
              " 33,\n",
              " 20,\n",
              " 24,\n",
              " 24,\n",
              " 28,\n",
              " 42,\n",
              " 23,\n",
              " 23,\n",
              " 20,\n",
              " 20,\n",
              " 21,\n",
              " 16,\n",
              " 35,\n",
              " 10,\n",
              " 30,\n",
              " 11,\n",
              " 14,\n",
              " 17,\n",
              " 36,\n",
              " 26,\n",
              " 30,\n",
              " 32,\n",
              " 6,\n",
              " 13,\n",
              " 26,\n",
              " 48,\n",
              " 42,\n",
              " 23,\n",
              " 32,\n",
              " 25,\n",
              " 14,\n",
              " 34,\n",
              " 42,\n",
              " 14,\n",
              " 20,\n",
              " 35,\n",
              " 25,\n",
              " 6,\n",
              " 22,\n",
              " 26,\n",
              " 55,\n",
              " 28,\n",
              " 16,\n",
              " 30,\n",
              " 45,\n",
              " 12,\n",
              " 70,\n",
              " 21,\n",
              " 23,\n",
              " 5,\n",
              " 24,\n",
              " 53,\n",
              " 16,\n",
              " 14,\n",
              " 59,\n",
              " 37,\n",
              " 25,\n",
              " 29,\n",
              " 16,\n",
              " 7,\n",
              " 23,\n",
              " 18,\n",
              " 19,\n",
              " 20,\n",
              " 23,\n",
              " 42,\n",
              " 33,\n",
              " 34,\n",
              " 21,\n",
              " 24,\n",
              " 18,\n",
              " 14,\n",
              " 27,\n",
              " 57,\n",
              " 12,\n",
              " 54,\n",
              " 39,\n",
              " 38,\n",
              " 51,\n",
              " 36,\n",
              " 23,\n",
              " 31,\n",
              " 63,\n",
              " 13,\n",
              " 23,\n",
              " 22,\n",
              " 19,\n",
              " 11,\n",
              " 18,\n",
              " 21,\n",
              " 30,\n",
              " 14,\n",
              " 13,\n",
              " 12,\n",
              " 18,\n",
              " 9,\n",
              " 17,\n",
              " 27,\n",
              " 16,\n",
              " 38,\n",
              " 10,\n",
              " 13,\n",
              " 17,\n",
              " 14,\n",
              " 13,\n",
              " 25,\n",
              " 10,\n",
              " 20,\n",
              " 24,\n",
              " 32,\n",
              " 28,\n",
              " 62,\n",
              " 35,\n",
              " 42,\n",
              " 20,\n",
              " 16,\n",
              " 12,\n",
              " 28,\n",
              " 23,\n",
              " 19,\n",
              " 21,\n",
              " 34,\n",
              " 26,\n",
              " 14,\n",
              " 12,\n",
              " 9,\n",
              " 18,\n",
              " 19,\n",
              " 21,\n",
              " 45,\n",
              " 16,\n",
              " 24,\n",
              " 70,\n",
              " 32,\n",
              " 33,\n",
              " 29,\n",
              " 28,\n",
              " 32,\n",
              " 24,\n",
              " 26,\n",
              " 37,\n",
              " 30,\n",
              " 16,\n",
              " 20,\n",
              " 15,\n",
              " 29,\n",
              " 10,\n",
              " 35,\n",
              " 15,\n",
              " 16,\n",
              " 25,\n",
              " 38,\n",
              " 20,\n",
              " 30,\n",
              " 22,\n",
              " 44,\n",
              " 64,\n",
              " 40,\n",
              " 87,\n",
              " 7,\n",
              " 27,\n",
              " 11,\n",
              " 16,\n",
              " 30,\n",
              " 20,\n",
              " 18,\n",
              " 43,\n",
              " 13,\n",
              " 59,\n",
              " 38,\n",
              " 29,\n",
              " 34,\n",
              " 33,\n",
              " 4,\n",
              " 28,\n",
              " 21,\n",
              " 3,\n",
              " 18,\n",
              " 29,\n",
              " 23,\n",
              " 28,\n",
              " 18,\n",
              " 18,\n",
              " 14,\n",
              " 20,\n",
              " 30,\n",
              " 7,\n",
              " 14,\n",
              " 3,\n",
              " 39,\n",
              " 20,\n",
              " 21,\n",
              " 35,\n",
              " 10,\n",
              " 22,\n",
              " 21,\n",
              " 19,\n",
              " 36,\n",
              " 39,\n",
              " 2,\n",
              " 22,\n",
              " 24,\n",
              " 26,\n",
              " 11,\n",
              " 8,\n",
              " 53,\n",
              " 41,\n",
              " 34,\n",
              " 27,\n",
              " 38,\n",
              " 32,\n",
              " 44,\n",
              " 32,\n",
              " 34,\n",
              " 48,\n",
              " 36,\n",
              " 36,\n",
              " 37,\n",
              " 12,\n",
              " 22,\n",
              " 22,\n",
              " 13,\n",
              " 16,\n",
              " 12,\n",
              " 14,\n",
              " 12,\n",
              " 26,\n",
              " 22,\n",
              " 30,\n",
              " 24,\n",
              " 24,\n",
              " 30,\n",
              " 46,\n",
              " 27,\n",
              " 27,\n",
              " 27,\n",
              " 28,\n",
              " 37,\n",
              " 34,\n",
              " 14,\n",
              " 21,\n",
              " 39,\n",
              " 16,\n",
              " 26,\n",
              " 21,\n",
              " 8,\n",
              " 24,\n",
              " 26,\n",
              " 8,\n",
              " 81,\n",
              " 36,\n",
              " 12,\n",
              " 19,\n",
              " 21,\n",
              " 19,\n",
              " 43,\n",
              " 19,\n",
              " 14,\n",
              " 35,\n",
              " 21,\n",
              " 21,\n",
              " 42,\n",
              " 38,\n",
              " 34,\n",
              " 27,\n",
              " 21,\n",
              " 32,\n",
              " 25,\n",
              " 28,\n",
              " 23,\n",
              " 31,\n",
              " 48,\n",
              " 84,\n",
              " 19,\n",
              " 22,\n",
              " 22,\n",
              " 33,\n",
              " 24,\n",
              " 30,\n",
              " 15,\n",
              " 24,\n",
              " 27,\n",
              " 11,\n",
              " 19,\n",
              " 18,\n",
              " 21,\n",
              " 55,\n",
              " 50,\n",
              " 32,\n",
              " 40,\n",
              " 40,\n",
              " 17,\n",
              " 17,\n",
              " 20,\n",
              " 50,\n",
              " 6,\n",
              " 12,\n",
              " 26,\n",
              " 20,\n",
              " 17,\n",
              " 8,\n",
              " 11,\n",
              " 14,\n",
              " 39,\n",
              " 47,\n",
              " 34,\n",
              " 32,\n",
              " 22,\n",
              " 41,\n",
              " 77,\n",
              " 27,\n",
              " 26,\n",
              " 8,\n",
              " 10,\n",
              " 34,\n",
              " 28,\n",
              " 27,\n",
              " 30,\n",
              " 32,\n",
              " 32,\n",
              " 65,\n",
              " 25,\n",
              " 18,\n",
              " 14,\n",
              " 37,\n",
              " 9,\n",
              " 76,\n",
              " 12,\n",
              " 22,\n",
              " 35,\n",
              " 23,\n",
              " 8,\n",
              " 19,\n",
              " 19,\n",
              " 17,\n",
              " 11,\n",
              " 33,\n",
              " 8,\n",
              " 11,\n",
              " 15,\n",
              " 24,\n",
              " 27,\n",
              " 6,\n",
              " 16,\n",
              " 59,\n",
              " 34,\n",
              " 24,\n",
              " 10,\n",
              " 37,\n",
              " 51,\n",
              " 11,\n",
              " 12,\n",
              " 22,\n",
              " 19,\n",
              " 15,\n",
              " 19,\n",
              " 23,\n",
              " 13,\n",
              " 25,\n",
              " 9,\n",
              " 29,\n",
              " 16,\n",
              " 7,\n",
              " 29,\n",
              " 24,\n",
              " 25,\n",
              " 22,\n",
              " 20,\n",
              " 14,\n",
              " 33,\n",
              " 11,\n",
              " 11,\n",
              " 21,\n",
              " 18,\n",
              " 50,\n",
              " 35,\n",
              " 22,\n",
              " 34,\n",
              " 63,\n",
              " 23,\n",
              " 53,\n",
              " 19,\n",
              " 12,\n",
              " 15,\n",
              " 17,\n",
              " ...]"
            ]
          },
          "metadata": {},
          "execution_count": 75
        }
      ]
    },
    {
      "cell_type": "code",
      "source": [
        "avg_sent_len = np.mean(sent_lens)\n",
        "avg_sent_len"
      ],
      "metadata": {
        "colab": {
          "base_uri": "https://localhost:8080/"
        },
        "id": "_LjB1r4pfmKP",
        "outputId": "b24acd8e-d0b4-4ee1-a11c-1155704c907a"
      },
      "execution_count": 76,
      "outputs": [
        {
          "output_type": "execute_result",
          "data": {
            "text/plain": [
              "26.338269273494777"
            ]
          },
          "metadata": {},
          "execution_count": 76
        }
      ]
    },
    {
      "cell_type": "code",
      "source": [
        "import matplotlib.pyplot as plt\n",
        "plt.hist(sent_lens, bins=40)"
      ],
      "metadata": {
        "colab": {
          "base_uri": "https://localhost:8080/",
          "height": 533
        },
        "id": "Rk69E_befqoz",
        "outputId": "9810ee1c-5312-4fb2-ace5-f57a03f40ff8"
      },
      "execution_count": 78,
      "outputs": [
        {
          "output_type": "execute_result",
          "data": {
            "text/plain": [
              "(array([9.1130e+03, 3.2962e+04, 4.9105e+04, 3.4666e+04, 2.2517e+04,\n",
              "        1.4360e+04, 6.8790e+03, 4.0660e+03, 2.5730e+03, 1.3580e+03,\n",
              "        9.3400e+02, 5.1100e+02, 3.3600e+02, 2.2400e+02, 1.3100e+02,\n",
              "        9.5000e+01, 6.8000e+01, 3.3000e+01, 2.5000e+01, 2.0000e+01,\n",
              "        9.0000e+00, 1.1000e+01, 7.0000e+00, 5.0000e+00, 4.0000e+00,\n",
              "        5.0000e+00, 5.0000e+00, 5.0000e+00, 3.0000e+00, 3.0000e+00,\n",
              "        1.0000e+00, 1.0000e+00, 2.0000e+00, 1.0000e+00, 0.0000e+00,\n",
              "        0.0000e+00, 0.0000e+00, 1.0000e+00, 0.0000e+00, 1.0000e+00]),\n",
              " array([  1.   ,   8.375,  15.75 ,  23.125,  30.5  ,  37.875,  45.25 ,\n",
              "         52.625,  60.   ,  67.375,  74.75 ,  82.125,  89.5  ,  96.875,\n",
              "        104.25 , 111.625, 119.   , 126.375, 133.75 , 141.125, 148.5  ,\n",
              "        155.875, 163.25 , 170.625, 178.   , 185.375, 192.75 , 200.125,\n",
              "        207.5  , 214.875, 222.25 , 229.625, 237.   , 244.375, 251.75 ,\n",
              "        259.125, 266.5  , 273.875, 281.25 , 288.625, 296.   ]),\n",
              " <a list of 40 Patch objects>)"
            ]
          },
          "metadata": {},
          "execution_count": 78
        },
        {
          "output_type": "display_data",
          "data": {
            "text/plain": [
              "<Figure size 432x288 with 1 Axes>"
            ],
            "image/png": "[encoded data removed]"
          },
          "metadata": {
            "needs_background": "light"
          }
        }
      ]
    },
    {
      "cell_type": "code",
      "source": [
        "np.percentile(sent_lens, .95)"
      ],
      "metadata": {
        "colab": {
          "base_uri": "https://localhost:8080/"
        },
        "id": "jGh4AvaXf67g",
        "outputId": "aea593c9-9683-401b-871b-2ad816b17323"
      },
      "execution_count": 81,
      "outputs": [
        {
          "output_type": "execute_result",
          "data": {
            "text/plain": [
              "4.0"
            ]
          },
          "metadata": {},
          "execution_count": 81
        }
      ]
    },
    {
      "cell_type": "code",
      "source": [
        "output_seq_len = int(np.percentile(sent_lens, 95))"
      ],
      "metadata": {
        "id": "VwaTdUM_gDTs"
      },
      "execution_count": 82,
      "outputs": []
    },
    {
      "cell_type": "code",
      "source": [
        "output_seq_len"
      ],
      "metadata": {
        "colab": {
          "base_uri": "https://localhost:8080/"
        },
        "id": "zQfdvD4_gUfG",
        "outputId": "afbafadd-55b1-49a7-8812-ef6d90950027"
      },
      "execution_count": 83,
      "outputs": [
        {
          "output_type": "execute_result",
          "data": {
            "text/plain": [
              "55"
            ]
          },
          "metadata": {},
          "execution_count": 83
        }
      ]
    },
    {
      "cell_type": "code",
      "source": [
        "max(sent_lens)"
      ],
      "metadata": {
        "colab": {
          "base_uri": "https://localhost:8080/"
        },
        "id": "DNKM-W-JgVnT",
        "outputId": "2d9a2f66-a8db-4dcb-ca7e-1584ab9f805f"
      },
      "execution_count": 86,
      "outputs": [
        {
          "output_type": "execute_result",
          "data": {
            "text/plain": [
              "296"
            ]
          },
          "metadata": {},
          "execution_count": 86
        }
      ]
    },
    {
      "cell_type": "code",
      "source": [
        ""
      ],
      "metadata": {
        "id": "jRdCp0N7gaqe"
      },
      "execution_count": null,
      "outputs": []
    }
  ]
}