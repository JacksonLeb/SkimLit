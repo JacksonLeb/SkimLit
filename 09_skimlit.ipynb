{
  "nbformat": 4,
  "nbformat_minor": 0,
  "metadata": {
    "colab": {
      "name": "09_skimlit.ipynb",
      "provenance": [],
      "collapsed_sections": [],
      "authorship_tag": "ABX9TyOyHjEBbWBJQ1em20TVxnQT",
      "include_colab_link": true
    },
    "kernelspec": {
      "name": "python3",
      "display_name": "Python 3"
    },
    "language_info": {
      "name": "python"
    },
    "accelerator": "GPU",
    "gpuClass": "standard"
  },
  "cells": [
    {
      "cell_type": "markdown",
      "metadata": {
        "id": "view-in-github",
        "colab_type": "text"
      },
      "source": [
        "<a href=\"https://colab.research.google.com/github/JacksonLeb/SkimLit/blob/main/09_skimlit.ipynb\" target=\"_parent\"><img src=\"https://colab.research.google.com/assets/colab-badge.svg\" alt=\"Open In Colab\"/></a>"
      ]
    },
    {
      "cell_type": "code",
      "execution_count": 1,
      "metadata": {
        "colab": {
          "base_uri": "https://localhost:8080/"
        },
        "id": "CjJsWKQGmcNV",
        "outputId": "bdfd338e-341d-4db5-82a9-bb7a2b285cb1"
      },
      "outputs": [
        {
          "output_type": "stream",
          "name": "stdout",
          "text": [
            "GPU 0: Tesla T4 (UUID: GPU-c2987d3a-a0d6-fc38-09b2-1062bf992c14)\n"
          ]
        }
      ],
      "source": [
        "!nvidia-smi -L"
      ]
    },
    {
      "cell_type": "markdown",
      "source": [
        "#Building NLP Model to make Reading Medical Abstracts Easier"
      ],
      "metadata": {
        "id": "1nAVeDLDnZlj"
      }
    },
    {
      "cell_type": "code",
      "source": [
        "!git clone https://github.com/Franck-Dernoncourt/pubmed-rct.git\n",
        "!ls pubmed-rct"
      ],
      "metadata": {
        "colab": {
          "base_uri": "https://localhost:8080/"
        },
        "id": "KkkpF0bkn3jn",
        "outputId": "efacf108-d734-43ac-f1b3-1792089c454e"
      },
      "execution_count": 2,
      "outputs": [
        {
          "output_type": "stream",
          "name": "stdout",
          "text": [
            "Cloning into 'pubmed-rct'...\n",
            "remote: Enumerating objects: 33, done.\u001b[K\n",
            "remote: Counting objects: 100% (8/8), done.\u001b[K\n",
            "remote: Compressing objects: 100% (3/3), done.\u001b[K\n",
            "remote: Total 33 (delta 5), reused 5 (delta 5), pack-reused 25\u001b[K\n",
            "Unpacking objects: 100% (33/33), done.\n",
            "Checking out files: 100% (13/13), done.\n",
            "PubMed_200k_RCT\n",
            "PubMed_200k_RCT_numbers_replaced_with_at_sign\n",
            "PubMed_20k_RCT\n",
            "PubMed_20k_RCT_numbers_replaced_with_at_sign\n",
            "README.md\n"
          ]
        }
      ]
    },
    {
      "cell_type": "code",
      "source": [
        "#Checking files in Pubmed_20k\n",
        "!ls pubmed-rct/PubMed_20k_RCT_numbers_replaced_with_at_sign/"
      ],
      "metadata": {
        "colab": {
          "base_uri": "https://localhost:8080/"
        },
        "id": "bu9vdFMWopxB",
        "outputId": "0771976b-c5f1-4572-f1f8-ad25c0feb7b3"
      },
      "execution_count": 3,
      "outputs": [
        {
          "output_type": "stream",
          "name": "stdout",
          "text": [
            "dev.txt  test.txt  train.txt\n"
          ]
        }
      ]
    },
    {
      "cell_type": "code",
      "source": [
        "#Getting filenames and 20k  dataset with numbers replaced with @\n",
        "data_dir = \"/content/pubmed-rct/PubMed_20k_RCT_numbers_replaced_with_at_sign\"\n"
      ],
      "metadata": {
        "id": "dCCS9n9uo8rZ"
      },
      "execution_count": 4,
      "outputs": []
    },
    {
      "cell_type": "code",
      "source": [
        "#checking file names in target directory\n",
        "import os\n",
        "filenames = [data_dir + filename for filename in os.listdir(data_dir)]\n",
        "filenames"
      ],
      "metadata": {
        "colab": {
          "base_uri": "https://localhost:8080/"
        },
        "id": "1IsMzFsjps0E",
        "outputId": "d61bef0c-df90-4dae-9fde-e8ff39d93c83"
      },
      "execution_count": 5,
      "outputs": [
        {
          "output_type": "execute_result",
          "data": {
            "text/plain": [
              "['/content/pubmed-rct/PubMed_20k_RCT_numbers_replaced_with_at_signtest.txt',\n",
              " '/content/pubmed-rct/PubMed_20k_RCT_numbers_replaced_with_at_signtrain.txt',\n",
              " '/content/pubmed-rct/PubMed_20k_RCT_numbers_replaced_with_at_signdev.txt']"
            ]
          },
          "metadata": {},
          "execution_count": 5
        }
      ]
    },
    {
      "cell_type": "markdown",
      "source": [
        "###preproess data"
      ],
      "metadata": {
        "id": "usRVNSsbpzbz"
      }
    },
    {
      "cell_type": "code",
      "source": [
        "#Function to read in lines of target text file\n",
        "def get_lines(filename):\n",
        "  \"\"\"\n",
        "  Reads in a filename and returns the lines of text as a list\n",
        "\n",
        "  Args:\n",
        "    filename: a string ocintains the target filepath\n",
        "\n",
        "  Returns:\n",
        "    a list containing each line in the file\n",
        "  \"\"\"\n",
        "  with open(filename, \"r\") as f:\n",
        "    return f.readlines()\n",
        "    "
      ],
      "metadata": {
        "id": "f2xwpTzUqISd"
      },
      "execution_count": 6,
      "outputs": []
    },
    {
      "cell_type": "code",
      "source": [
        "#reading in training liines\n",
        "train_lines = get_lines(data_dir+\"/train.txt\")"
      ],
      "metadata": {
        "id": "M26EjlVIqrHm"
      },
      "execution_count": 7,
      "outputs": []
    },
    {
      "cell_type": "code",
      "source": [
        "train_lines[:20]"
      ],
      "metadata": {
        "colab": {
          "base_uri": "https://localhost:8080/"
        },
        "id": "9Foacc5_qt5d",
        "outputId": "d15ed6ab-3108-43f2-ce20-187119901fca"
      },
      "execution_count": 8,
      "outputs": [
        {
          "output_type": "execute_result",
          "data": {
            "text/plain": [
              "['###24293578\\n',\n",
              " 'OBJECTIVE\\tTo investigate the efficacy of @ weeks of daily low-dose oral prednisolone in improving pain , mobility , and systemic low-grade inflammation in the short term and whether the effect would be sustained at @ weeks in older adults with moderate to severe knee osteoarthritis ( OA ) .\\n',\n",
              " 'METHODS\\tA total of @ patients with primary knee OA were randomized @:@ ; @ received @ mg/day of prednisolone and @ received placebo for @ weeks .\\n',\n",
              " 'METHODS\\tOutcome measures included pain reduction and improvement in function scores and systemic inflammation markers .\\n',\n",
              " 'METHODS\\tPain was assessed using the visual analog pain scale ( @-@ mm ) .\\n',\n",
              " 'METHODS\\tSecondary outcome measures included the Western Ontario and McMaster Universities Osteoarthritis Index scores , patient global assessment ( PGA ) of the severity of knee OA , and @-min walk distance ( @MWD ) .\\n',\n",
              " 'METHODS\\tSerum levels of interleukin @ ( IL-@ ) , IL-@ , tumor necrosis factor ( TNF ) - , and high-sensitivity C-reactive protein ( hsCRP ) were measured .\\n',\n",
              " 'RESULTS\\tThere was a clinically relevant reduction in the intervention group compared to the placebo group for knee pain , physical function , PGA , and @MWD at @ weeks .\\n',\n",
              " 'RESULTS\\tThe mean difference between treatment arms ( @ % CI ) was @ ( @-@ @ ) , p < @ ; @ ( @-@ @ ) , p < @ ; @ ( @-@ @ ) , p < @ ; and @ ( @-@ @ ) , p < @ , respectively .\\n',\n",
              " 'RESULTS\\tFurther , there was a clinically relevant reduction in the serum levels of IL-@ , IL-@ , TNF - , and hsCRP at @ weeks in the intervention group when compared to the placebo group .\\n',\n",
              " 'RESULTS\\tThese differences remained significant at @ weeks .\\n',\n",
              " 'RESULTS\\tThe Outcome Measures in Rheumatology Clinical Trials-Osteoarthritis Research Society International responder rate was @ % in the intervention group and @ % in the placebo group ( p < @ ) .\\n',\n",
              " 'CONCLUSIONS\\tLow-dose oral prednisolone had both a short-term and a longer sustained effect resulting in less knee pain , better physical function , and attenuation of systemic inflammation in older patients with knee OA ( ClinicalTrials.gov identifier NCT@ ) .\\n',\n",
              " '\\n',\n",
              " '###24854809\\n',\n",
              " 'BACKGROUND\\tEmotional eating is associated with overeating and the development of obesity .\\n',\n",
              " 'BACKGROUND\\tYet , empirical evidence for individual ( trait ) differences in emotional eating and cognitive mechanisms that contribute to eating during sad mood remain equivocal .\\n',\n",
              " 'OBJECTIVE\\tThe aim of this study was to test if attention bias for food moderates the effect of self-reported emotional eating during sad mood ( vs neutral mood ) on actual food intake .\\n',\n",
              " 'OBJECTIVE\\tIt was expected that emotional eating is predictive of elevated attention for food and higher food intake after an experimentally induced sad mood and that attentional maintenance on food predicts food intake during a sad versus a neutral mood .\\n',\n",
              " 'METHODS\\tParticipants ( N = @ ) were randomly assigned to one of the two experimental mood induction conditions ( sad/neutral ) .\\n']"
            ]
          },
          "metadata": {},
          "execution_count": 8
        }
      ]
    },
    {
      "cell_type": "code",
      "source": [
        "len(train_lines)"
      ],
      "metadata": {
        "colab": {
          "base_uri": "https://localhost:8080/"
        },
        "id": "YOPqc2Dbq4e4",
        "outputId": "8306ede6-c70f-4400-8c74-527f6598a49e"
      },
      "execution_count": 9,
      "outputs": [
        {
          "output_type": "execute_result",
          "data": {
            "text/plain": [
              "210040"
            ]
          },
          "metadata": {},
          "execution_count": 9
        }
      ]
    },
    {
      "cell_type": "markdown",
      "source": [
        "#How the data will be formatted\n",
        "[\n",
        "    {'linenumber': 0,\n",
        "     'target': 'BACKGROUND',\n",
        "     'text': 'Emotional eating is associated with overeating and the development of obesity ',\n",
        "     'total_lines': 11},\n",
        " \n",
        "]"
      ],
      "metadata": {
        "id": "1Ql6trCnrJGv"
      }
    },
    {
      "cell_type": "code",
      "source": [
        "def preprocess_text_with_line_numbers(filename):\n",
        "  \"\"\"\n",
        "  Returns a list of dictionaries of abstract line data\n",
        "\n",
        "  takes in filename, reads it contents and sort through each line, extracting htisngs like the target label,\n",
        "  the text of the sentence, how many sentences are in the current asbtract, etc\n",
        "  \"\"\"\n",
        "\n",
        "  input_lines = get_lines(filename)\n",
        "  abstract_lines = \"\"\n",
        "  abstract_samples = []\n",
        "\n",
        "  for line in input_lines:\n",
        "    if(line.startswith(\"###\")):\n",
        "      #new id line\n",
        "       abstract_id = line\n",
        "       abstract_lines = \"\"\n",
        "    elif(line.isspace()):\n",
        "      #new line\n",
        "       abstract_line_split = abstract_lines.splitlines()\n",
        "\n",
        "       #Iterate through each line in a single abstract and count them at the same time\n",
        "       for abstract_line_number, abstract_line in enumerate(abstract_line_split):\n",
        "         line_data = {}\n",
        "         target_text_split = abstract_line.split('\\t')\n",
        "         line_data[\"target\"] = target_text_split[0]\n",
        "         line_data[\"text\"] = target_text_split[1].lower()\n",
        "         line_data[\"line_number\"] = abstract_line_number\n",
        "         line_data[\"total_lines\"] = len(abstract_line_split) - 1\n",
        "         abstract_samples.append(line_data)\n",
        "    else:\n",
        "      abstract_lines += line\n",
        "  \n",
        "  return abstract_samples\n"
      ],
      "metadata": {
        "id": "rs7c786pr670"
      },
      "execution_count": 10,
      "outputs": []
    },
    {
      "cell_type": "code",
      "source": [
        "%%time\n",
        "train_samples = preprocess_text_with_line_numbers(data_dir + \"/train.txt\")\n",
        "val_samples = preprocess_text_with_line_numbers(data_dir + \"/dev.txt\")\n",
        "test_samples = preprocess_text_with_line_numbers(data_dir + \"/test.txt\")"
      ],
      "metadata": {
        "colab": {
          "base_uri": "https://localhost:8080/"
        },
        "id": "vZ-ugUyuXxeg",
        "outputId": "18c4b223-156e-4057-d164-896d118ead9d"
      },
      "execution_count": 11,
      "outputs": [
        {
          "output_type": "stream",
          "name": "stdout",
          "text": [
            "CPU times: user 724 ms, sys: 126 ms, total: 850 ms\n",
            "Wall time: 1.28 s\n"
          ]
        }
      ]
    },
    {
      "cell_type": "code",
      "source": [
        "len(train_samples), len(val_samples), len(test_samples)"
      ],
      "metadata": {
        "colab": {
          "base_uri": "https://localhost:8080/"
        },
        "id": "CAf7kpLhX9by",
        "outputId": "260c16a2-4e67-4220-e24c-26cd134f5f72"
      },
      "execution_count": 12,
      "outputs": [
        {
          "output_type": "execute_result",
          "data": {
            "text/plain": [
              "(180040, 30212, 30135)"
            ]
          },
          "metadata": {},
          "execution_count": 12
        }
      ]
    },
    {
      "cell_type": "code",
      "source": [
        "train_samples[:20]"
      ],
      "metadata": {
        "colab": {
          "base_uri": "https://localhost:8080/"
        },
        "id": "dYJ93F2BYF58",
        "outputId": "adc5d4fb-ad60-4365-c44d-6b726074cf63"
      },
      "execution_count": 13,
      "outputs": [
        {
          "output_type": "execute_result",
          "data": {
            "text/plain": [
              "[{'line_number': 0,\n",
              "  'target': 'OBJECTIVE',\n",
              "  'text': 'to investigate the efficacy of @ weeks of daily low-dose oral prednisolone in improving pain , mobility , and systemic low-grade inflammation in the short term and whether the effect would be sustained at @ weeks in older adults with moderate to severe knee osteoarthritis ( oa ) .',\n",
              "  'total_lines': 11},\n",
              " {'line_number': 1,\n",
              "  'target': 'METHODS',\n",
              "  'text': 'a total of @ patients with primary knee oa were randomized @:@ ; @ received @ mg/day of prednisolone and @ received placebo for @ weeks .',\n",
              "  'total_lines': 11},\n",
              " {'line_number': 2,\n",
              "  'target': 'METHODS',\n",
              "  'text': 'outcome measures included pain reduction and improvement in function scores and systemic inflammation markers .',\n",
              "  'total_lines': 11},\n",
              " {'line_number': 3,\n",
              "  'target': 'METHODS',\n",
              "  'text': 'pain was assessed using the visual analog pain scale ( @-@ mm ) .',\n",
              "  'total_lines': 11},\n",
              " {'line_number': 4,\n",
              "  'target': 'METHODS',\n",
              "  'text': 'secondary outcome measures included the western ontario and mcmaster universities osteoarthritis index scores , patient global assessment ( pga ) of the severity of knee oa , and @-min walk distance ( @mwd ) .',\n",
              "  'total_lines': 11},\n",
              " {'line_number': 5,\n",
              "  'target': 'METHODS',\n",
              "  'text': 'serum levels of interleukin @ ( il-@ ) , il-@ , tumor necrosis factor ( tnf ) - , and high-sensitivity c-reactive protein ( hscrp ) were measured .',\n",
              "  'total_lines': 11},\n",
              " {'line_number': 6,\n",
              "  'target': 'RESULTS',\n",
              "  'text': 'there was a clinically relevant reduction in the intervention group compared to the placebo group for knee pain , physical function , pga , and @mwd at @ weeks .',\n",
              "  'total_lines': 11},\n",
              " {'line_number': 7,\n",
              "  'target': 'RESULTS',\n",
              "  'text': 'the mean difference between treatment arms ( @ % ci ) was @ ( @-@ @ ) , p < @ ; @ ( @-@ @ ) , p < @ ; @ ( @-@ @ ) , p < @ ; and @ ( @-@ @ ) , p < @ , respectively .',\n",
              "  'total_lines': 11},\n",
              " {'line_number': 8,\n",
              "  'target': 'RESULTS',\n",
              "  'text': 'further , there was a clinically relevant reduction in the serum levels of il-@ , il-@ , tnf - , and hscrp at @ weeks in the intervention group when compared to the placebo group .',\n",
              "  'total_lines': 11},\n",
              " {'line_number': 9,\n",
              "  'target': 'RESULTS',\n",
              "  'text': 'these differences remained significant at @ weeks .',\n",
              "  'total_lines': 11},\n",
              " {'line_number': 10,\n",
              "  'target': 'RESULTS',\n",
              "  'text': 'the outcome measures in rheumatology clinical trials-osteoarthritis research society international responder rate was @ % in the intervention group and @ % in the placebo group ( p < @ ) .',\n",
              "  'total_lines': 11},\n",
              " {'line_number': 11,\n",
              "  'target': 'CONCLUSIONS',\n",
              "  'text': 'low-dose oral prednisolone had both a short-term and a longer sustained effect resulting in less knee pain , better physical function , and attenuation of systemic inflammation in older patients with knee oa ( clinicaltrials.gov identifier nct@ ) .',\n",
              "  'total_lines': 11},\n",
              " {'line_number': 0,\n",
              "  'target': 'BACKGROUND',\n",
              "  'text': 'emotional eating is associated with overeating and the development of obesity .',\n",
              "  'total_lines': 10},\n",
              " {'line_number': 1,\n",
              "  'target': 'BACKGROUND',\n",
              "  'text': 'yet , empirical evidence for individual ( trait ) differences in emotional eating and cognitive mechanisms that contribute to eating during sad mood remain equivocal .',\n",
              "  'total_lines': 10},\n",
              " {'line_number': 2,\n",
              "  'target': 'OBJECTIVE',\n",
              "  'text': 'the aim of this study was to test if attention bias for food moderates the effect of self-reported emotional eating during sad mood ( vs neutral mood ) on actual food intake .',\n",
              "  'total_lines': 10},\n",
              " {'line_number': 3,\n",
              "  'target': 'OBJECTIVE',\n",
              "  'text': 'it was expected that emotional eating is predictive of elevated attention for food and higher food intake after an experimentally induced sad mood and that attentional maintenance on food predicts food intake during a sad versus a neutral mood .',\n",
              "  'total_lines': 10},\n",
              " {'line_number': 4,\n",
              "  'target': 'METHODS',\n",
              "  'text': 'participants ( n = @ ) were randomly assigned to one of the two experimental mood induction conditions ( sad/neutral ) .',\n",
              "  'total_lines': 10},\n",
              " {'line_number': 5,\n",
              "  'target': 'METHODS',\n",
              "  'text': 'attentional biases for high caloric foods were measured by eye tracking during a visual probe task with pictorial food and neutral stimuli .',\n",
              "  'total_lines': 10},\n",
              " {'line_number': 6,\n",
              "  'target': 'METHODS',\n",
              "  'text': 'self-reported emotional eating was assessed with the dutch eating behavior questionnaire ( debq ) and ad libitum food intake was tested by a disguised food offer .',\n",
              "  'total_lines': 10},\n",
              " {'line_number': 7,\n",
              "  'target': 'RESULTS',\n",
              "  'text': 'hierarchical multivariate regression modeling showed that self-reported emotional eating did not account for changes in attention allocation for food or food intake in either condition .',\n",
              "  'total_lines': 10}]"
            ]
          },
          "metadata": {},
          "execution_count": 13
        }
      ]
    },
    {
      "cell_type": "code",
      "source": [
        "import pandas as pd\n",
        "train_df = pd.DataFrame(train_samples)\n",
        "val_df = pd.DataFrame(val_samples)\n",
        "test_df = pd.DataFrame(test_samples)"
      ],
      "metadata": {
        "id": "n2aNCMm3YUqS"
      },
      "execution_count": 14,
      "outputs": []
    },
    {
      "cell_type": "code",
      "source": [
        "train_df"
      ],
      "metadata": {
        "colab": {
          "base_uri": "https://localhost:8080/",
          "height": 424
        },
        "id": "HoukqNsTY4PG",
        "outputId": "18ec7bca-6bbf-430b-9612-1ff74000976d"
      },
      "execution_count": 15,
      "outputs": [
        {
          "output_type": "execute_result",
          "data": {
            "text/plain": [
              "             target                                               text  \\\n",
              "0         OBJECTIVE  to investigate the efficacy of @ weeks of dail...   \n",
              "1           METHODS  a total of @ patients with primary knee oa wer...   \n",
              "2           METHODS  outcome measures included pain reduction and i...   \n",
              "3           METHODS  pain was assessed using the visual analog pain...   \n",
              "4           METHODS  secondary outcome measures included the wester...   \n",
              "...             ...                                                ...   \n",
              "180035      RESULTS  for the absolute change in percent atheroma vo...   \n",
              "180036      RESULTS  for pav , a significantly greater percentage o...   \n",
              "180037      RESULTS  both strategies had acceptable side effect pro...   \n",
              "180038  CONCLUSIONS  compared with standard statin monotherapy , th...   \n",
              "180039  CONCLUSIONS  ( plaque regression with cholesterol absorptio...   \n",
              "\n",
              "        line_number  total_lines  \n",
              "0                 0           11  \n",
              "1                 1           11  \n",
              "2                 2           11  \n",
              "3                 3           11  \n",
              "4                 4           11  \n",
              "...             ...          ...  \n",
              "180035            7           11  \n",
              "180036            8           11  \n",
              "180037            9           11  \n",
              "180038           10           11  \n",
              "180039           11           11  \n",
              "\n",
              "[180040 rows x 4 columns]"
            ],
            "text/html": [
              "\n",
              "  <div id=\"df-41479d49-dfeb-415e-a039-c5b834e9f848\">\n",
              "    <div class=\"colab-df-container\">\n",
              "      <div>\n",
              "<style scoped>\n",
              "    .dataframe tbody tr th:only-of-type {\n",
              "        vertical-align: middle;\n",
              "    }\n",
              "\n",
              "    .dataframe tbody tr th {\n",
              "        vertical-align: top;\n",
              "    }\n",
              "\n",
              "    .dataframe thead th {\n",
              "        text-align: right;\n",
              "    }\n",
              "</style>\n",
              "<table border=\"1\" class=\"dataframe\">\n",
              "  <thead>\n",
              "    <tr style=\"text-align: right;\">\n",
              "      <th></th>\n",
              "      <th>target</th>\n",
              "      <th>text</th>\n",
              "      <th>line_number</th>\n",
              "      <th>total_lines</th>\n",
              "    </tr>\n",
              "  </thead>\n",
              "  <tbody>\n",
              "    <tr>\n",
              "      <th>0</th>\n",
              "      <td>OBJECTIVE</td>\n",
              "      <td>to investigate the efficacy of @ weeks of dail...</td>\n",
              "      <td>0</td>\n",
              "      <td>11</td>\n",
              "    </tr>\n",
              "    <tr>\n",
              "      <th>1</th>\n",
              "      <td>METHODS</td>\n",
              "      <td>a total of @ patients with primary knee oa wer...</td>\n",
              "      <td>1</td>\n",
              "      <td>11</td>\n",
              "    </tr>\n",
              "    <tr>\n",
              "      <th>2</th>\n",
              "      <td>METHODS</td>\n",
              "      <td>outcome measures included pain reduction and i...</td>\n",
              "      <td>2</td>\n",
              "      <td>11</td>\n",
              "    </tr>\n",
              "    <tr>\n",
              "      <th>3</th>\n",
              "      <td>METHODS</td>\n",
              "      <td>pain was assessed using the visual analog pain...</td>\n",
              "      <td>3</td>\n",
              "      <td>11</td>\n",
              "    </tr>\n",
              "    <tr>\n",
              "      <th>4</th>\n",
              "      <td>METHODS</td>\n",
              "      <td>secondary outcome measures included the wester...</td>\n",
              "      <td>4</td>\n",
              "      <td>11</td>\n",
              "    </tr>\n",
              "    <tr>\n",
              "      <th>...</th>\n",
              "      <td>...</td>\n",
              "      <td>...</td>\n",
              "      <td>...</td>\n",
              "      <td>...</td>\n",
              "    </tr>\n",
              "    <tr>\n",
              "      <th>180035</th>\n",
              "      <td>RESULTS</td>\n",
              "      <td>for the absolute change in percent atheroma vo...</td>\n",
              "      <td>7</td>\n",
              "      <td>11</td>\n",
              "    </tr>\n",
              "    <tr>\n",
              "      <th>180036</th>\n",
              "      <td>RESULTS</td>\n",
              "      <td>for pav , a significantly greater percentage o...</td>\n",
              "      <td>8</td>\n",
              "      <td>11</td>\n",
              "    </tr>\n",
              "    <tr>\n",
              "      <th>180037</th>\n",
              "      <td>RESULTS</td>\n",
              "      <td>both strategies had acceptable side effect pro...</td>\n",
              "      <td>9</td>\n",
              "      <td>11</td>\n",
              "    </tr>\n",
              "    <tr>\n",
              "      <th>180038</th>\n",
              "      <td>CONCLUSIONS</td>\n",
              "      <td>compared with standard statin monotherapy , th...</td>\n",
              "      <td>10</td>\n",
              "      <td>11</td>\n",
              "    </tr>\n",
              "    <tr>\n",
              "      <th>180039</th>\n",
              "      <td>CONCLUSIONS</td>\n",
              "      <td>( plaque regression with cholesterol absorptio...</td>\n",
              "      <td>11</td>\n",
              "      <td>11</td>\n",
              "    </tr>\n",
              "  </tbody>\n",
              "</table>\n",
              "<p>180040 rows × 4 columns</p>\n",
              "</div>\n",
              "      <button class=\"colab-df-convert\" onclick=\"convertToInteractive('df-41479d49-dfeb-415e-a039-c5b834e9f848')\"\n",
              "              title=\"Convert this dataframe to an interactive table.\"\n",
              "              style=\"display:none;\">\n",
              "        \n",
              "  <svg xmlns=\"http://www.w3.org/2000/svg\" height=\"24px\"viewBox=\"0 0 24 24\"\n",
              "       width=\"24px\">\n",
              "    <path d=\"M0 0h24v24H0V0z\" fill=\"none\"/>\n",
              "    <path d=\"M18.56 5.44l.94 2.06.94-2.06 2.06-.94-2.06-.94-.94-2.06-.94 2.06-2.06.94zm-11 1L8.5 8.5l.94-2.06 2.06-.94-2.06-.94L8.5 2.5l-.94 2.06-2.06.94zm10 10l.94 2.06.94-2.06 2.06-.94-2.06-.94-.94-2.06-.94 2.06-2.06.94z\"/><path d=\"M17.41 7.96l-1.37-1.37c-.4-.4-.92-.59-1.43-.59-.52 0-1.04.2-1.43.59L10.3 9.45l-7.72 7.72c-.78.78-.78 2.05 0 2.83L4 21.41c.39.39.9.59 1.41.59.51 0 1.02-.2 1.41-.59l7.78-7.78 2.81-2.81c.8-.78.8-2.07 0-2.86zM5.41 20L4 18.59l7.72-7.72 1.47 1.35L5.41 20z\"/>\n",
              "  </svg>\n",
              "      </button>\n",
              "      \n",
              "  <style>\n",
              "    .colab-df-container {\n",
              "      display:flex;\n",
              "      flex-wrap:wrap;\n",
              "      gap: 12px;\n",
              "    }\n",
              "\n",
              "    .colab-df-convert {\n",
              "      background-color: #E8F0FE;\n",
              "      border: none;\n",
              "      border-radius: 50%;\n",
              "      cursor: pointer;\n",
              "      display: none;\n",
              "      fill: #1967D2;\n",
              "      height: 32px;\n",
              "      padding: 0 0 0 0;\n",
              "      width: 32px;\n",
              "    }\n",
              "\n",
              "    .colab-df-convert:hover {\n",
              "      background-color: #E2EBFA;\n",
              "      box-shadow: 0px 1px 2px rgba(60, 64, 67, 0.3), 0px 1px 3px 1px rgba(60, 64, 67, 0.15);\n",
              "      fill: #174EA6;\n",
              "    }\n",
              "\n",
              "    [theme=dark] .colab-df-convert {\n",
              "      background-color: #3B4455;\n",
              "      fill: #D2E3FC;\n",
              "    }\n",
              "\n",
              "    [theme=dark] .colab-df-convert:hover {\n",
              "      background-color: #434B5C;\n",
              "      box-shadow: 0px 1px 3px 1px rgba(0, 0, 0, 0.15);\n",
              "      filter: drop-shadow(0px 1px 2px rgba(0, 0, 0, 0.3));\n",
              "      fill: #FFFFFF;\n",
              "    }\n",
              "  </style>\n",
              "\n",
              "      <script>\n",
              "        const buttonEl =\n",
              "          document.querySelector('#df-41479d49-dfeb-415e-a039-c5b834e9f848 button.colab-df-convert');\n",
              "        buttonEl.style.display =\n",
              "          google.colab.kernel.accessAllowed ? 'block' : 'none';\n",
              "\n",
              "        async function convertToInteractive(key) {\n",
              "          const element = document.querySelector('#df-41479d49-dfeb-415e-a039-c5b834e9f848');\n",
              "          const dataTable =\n",
              "            await google.colab.kernel.invokeFunction('convertToInteractive',\n",
              "                                                     [key], {});\n",
              "          if (!dataTable) return;\n",
              "\n",
              "          const docLinkHtml = 'Like what you see? Visit the ' +\n",
              "            '<a target=\"_blank\" href=https://colab.research.google.com/notebooks/data_table.ipynb>data table notebook</a>'\n",
              "            + ' to learn more about interactive tables.';\n",
              "          element.innerHTML = '';\n",
              "          dataTable['output_type'] = 'display_data';\n",
              "          await google.colab.output.renderOutput(dataTable, element);\n",
              "          const docLink = document.createElement('div');\n",
              "          docLink.innerHTML = docLinkHtml;\n",
              "          element.appendChild(docLink);\n",
              "        }\n",
              "      </script>\n",
              "    </div>\n",
              "  </div>\n",
              "  "
            ]
          },
          "metadata": {},
          "execution_count": 15
        }
      ]
    },
    {
      "cell_type": "code",
      "source": [
        "val_df"
      ],
      "metadata": {
        "colab": {
          "base_uri": "https://localhost:8080/",
          "height": 424
        },
        "id": "Rk-TtsMhY5Em",
        "outputId": "4ba67e50-c346-4254-9fd0-ff2c8552d951"
      },
      "execution_count": 16,
      "outputs": [
        {
          "output_type": "execute_result",
          "data": {
            "text/plain": [
              "            target                                               text  \\\n",
              "0       BACKGROUND  ige sensitization to aspergillus fumigatus and...   \n",
              "1       BACKGROUND  it is not clear whether these patients would b...   \n",
              "2        OBJECTIVE  we sought to determine whether a @-month cours...   \n",
              "3          METHODS  asthmatic patients who were ige sensitized to ...   \n",
              "4          METHODS  primary outcomes were improvement in quality o...   \n",
              "...            ...                                                ...   \n",
              "30207      RESULTS  pruritus occurred more frequently with the act...   \n",
              "30208      RESULTS  three patients in the active-regimen group ( @...   \n",
              "30209      RESULTS  hemoglobin values of grade @ ( @ to < @ g per ...   \n",
              "30210  CONCLUSIONS  rates of response to a @-week interferon-free ...   \n",
              "30211  CONCLUSIONS  ( funded by abbvie ; sapphire-ii clinicaltrial...   \n",
              "\n",
              "       line_number  total_lines  \n",
              "0                0            9  \n",
              "1                1            9  \n",
              "2                2            9  \n",
              "3                3            9  \n",
              "4                4            9  \n",
              "...            ...          ...  \n",
              "30207            9           13  \n",
              "30208           10           13  \n",
              "30209           11           13  \n",
              "30210           12           13  \n",
              "30211           13           13  \n",
              "\n",
              "[30212 rows x 4 columns]"
            ],
            "text/html": [
              "\n",
              "  <div id=\"df-7ddb2d5f-526f-447d-9439-c470ecc4537b\">\n",
              "    <div class=\"colab-df-container\">\n",
              "      <div>\n",
              "<style scoped>\n",
              "    .dataframe tbody tr th:only-of-type {\n",
              "        vertical-align: middle;\n",
              "    }\n",
              "\n",
              "    .dataframe tbody tr th {\n",
              "        vertical-align: top;\n",
              "    }\n",
              "\n",
              "    .dataframe thead th {\n",
              "        text-align: right;\n",
              "    }\n",
              "</style>\n",
              "<table border=\"1\" class=\"dataframe\">\n",
              "  <thead>\n",
              "    <tr style=\"text-align: right;\">\n",
              "      <th></th>\n",
              "      <th>target</th>\n",
              "      <th>text</th>\n",
              "      <th>line_number</th>\n",
              "      <th>total_lines</th>\n",
              "    </tr>\n",
              "  </thead>\n",
              "  <tbody>\n",
              "    <tr>\n",
              "      <th>0</th>\n",
              "      <td>BACKGROUND</td>\n",
              "      <td>ige sensitization to aspergillus fumigatus and...</td>\n",
              "      <td>0</td>\n",
              "      <td>9</td>\n",
              "    </tr>\n",
              "    <tr>\n",
              "      <th>1</th>\n",
              "      <td>BACKGROUND</td>\n",
              "      <td>it is not clear whether these patients would b...</td>\n",
              "      <td>1</td>\n",
              "      <td>9</td>\n",
              "    </tr>\n",
              "    <tr>\n",
              "      <th>2</th>\n",
              "      <td>OBJECTIVE</td>\n",
              "      <td>we sought to determine whether a @-month cours...</td>\n",
              "      <td>2</td>\n",
              "      <td>9</td>\n",
              "    </tr>\n",
              "    <tr>\n",
              "      <th>3</th>\n",
              "      <td>METHODS</td>\n",
              "      <td>asthmatic patients who were ige sensitized to ...</td>\n",
              "      <td>3</td>\n",
              "      <td>9</td>\n",
              "    </tr>\n",
              "    <tr>\n",
              "      <th>4</th>\n",
              "      <td>METHODS</td>\n",
              "      <td>primary outcomes were improvement in quality o...</td>\n",
              "      <td>4</td>\n",
              "      <td>9</td>\n",
              "    </tr>\n",
              "    <tr>\n",
              "      <th>...</th>\n",
              "      <td>...</td>\n",
              "      <td>...</td>\n",
              "      <td>...</td>\n",
              "      <td>...</td>\n",
              "    </tr>\n",
              "    <tr>\n",
              "      <th>30207</th>\n",
              "      <td>RESULTS</td>\n",
              "      <td>pruritus occurred more frequently with the act...</td>\n",
              "      <td>9</td>\n",
              "      <td>13</td>\n",
              "    </tr>\n",
              "    <tr>\n",
              "      <th>30208</th>\n",
              "      <td>RESULTS</td>\n",
              "      <td>three patients in the active-regimen group ( @...</td>\n",
              "      <td>10</td>\n",
              "      <td>13</td>\n",
              "    </tr>\n",
              "    <tr>\n",
              "      <th>30209</th>\n",
              "      <td>RESULTS</td>\n",
              "      <td>hemoglobin values of grade @ ( @ to &lt; @ g per ...</td>\n",
              "      <td>11</td>\n",
              "      <td>13</td>\n",
              "    </tr>\n",
              "    <tr>\n",
              "      <th>30210</th>\n",
              "      <td>CONCLUSIONS</td>\n",
              "      <td>rates of response to a @-week interferon-free ...</td>\n",
              "      <td>12</td>\n",
              "      <td>13</td>\n",
              "    </tr>\n",
              "    <tr>\n",
              "      <th>30211</th>\n",
              "      <td>CONCLUSIONS</td>\n",
              "      <td>( funded by abbvie ; sapphire-ii clinicaltrial...</td>\n",
              "      <td>13</td>\n",
              "      <td>13</td>\n",
              "    </tr>\n",
              "  </tbody>\n",
              "</table>\n",
              "<p>30212 rows × 4 columns</p>\n",
              "</div>\n",
              "      <button class=\"colab-df-convert\" onclick=\"convertToInteractive('df-7ddb2d5f-526f-447d-9439-c470ecc4537b')\"\n",
              "              title=\"Convert this dataframe to an interactive table.\"\n",
              "              style=\"display:none;\">\n",
              "        \n",
              "  <svg xmlns=\"http://www.w3.org/2000/svg\" height=\"24px\"viewBox=\"0 0 24 24\"\n",
              "       width=\"24px\">\n",
              "    <path d=\"M0 0h24v24H0V0z\" fill=\"none\"/>\n",
              "    <path d=\"M18.56 5.44l.94 2.06.94-2.06 2.06-.94-2.06-.94-.94-2.06-.94 2.06-2.06.94zm-11 1L8.5 8.5l.94-2.06 2.06-.94-2.06-.94L8.5 2.5l-.94 2.06-2.06.94zm10 10l.94 2.06.94-2.06 2.06-.94-2.06-.94-.94-2.06-.94 2.06-2.06.94z\"/><path d=\"M17.41 7.96l-1.37-1.37c-.4-.4-.92-.59-1.43-.59-.52 0-1.04.2-1.43.59L10.3 9.45l-7.72 7.72c-.78.78-.78 2.05 0 2.83L4 21.41c.39.39.9.59 1.41.59.51 0 1.02-.2 1.41-.59l7.78-7.78 2.81-2.81c.8-.78.8-2.07 0-2.86zM5.41 20L4 18.59l7.72-7.72 1.47 1.35L5.41 20z\"/>\n",
              "  </svg>\n",
              "      </button>\n",
              "      \n",
              "  <style>\n",
              "    .colab-df-container {\n",
              "      display:flex;\n",
              "      flex-wrap:wrap;\n",
              "      gap: 12px;\n",
              "    }\n",
              "\n",
              "    .colab-df-convert {\n",
              "      background-color: #E8F0FE;\n",
              "      border: none;\n",
              "      border-radius: 50%;\n",
              "      cursor: pointer;\n",
              "      display: none;\n",
              "      fill: #1967D2;\n",
              "      height: 32px;\n",
              "      padding: 0 0 0 0;\n",
              "      width: 32px;\n",
              "    }\n",
              "\n",
              "    .colab-df-convert:hover {\n",
              "      background-color: #E2EBFA;\n",
              "      box-shadow: 0px 1px 2px rgba(60, 64, 67, 0.3), 0px 1px 3px 1px rgba(60, 64, 67, 0.15);\n",
              "      fill: #174EA6;\n",
              "    }\n",
              "\n",
              "    [theme=dark] .colab-df-convert {\n",
              "      background-color: #3B4455;\n",
              "      fill: #D2E3FC;\n",
              "    }\n",
              "\n",
              "    [theme=dark] .colab-df-convert:hover {\n",
              "      background-color: #434B5C;\n",
              "      box-shadow: 0px 1px 3px 1px rgba(0, 0, 0, 0.15);\n",
              "      filter: drop-shadow(0px 1px 2px rgba(0, 0, 0, 0.3));\n",
              "      fill: #FFFFFF;\n",
              "    }\n",
              "  </style>\n",
              "\n",
              "      <script>\n",
              "        const buttonEl =\n",
              "          document.querySelector('#df-7ddb2d5f-526f-447d-9439-c470ecc4537b button.colab-df-convert');\n",
              "        buttonEl.style.display =\n",
              "          google.colab.kernel.accessAllowed ? 'block' : 'none';\n",
              "\n",
              "        async function convertToInteractive(key) {\n",
              "          const element = document.querySelector('#df-7ddb2d5f-526f-447d-9439-c470ecc4537b');\n",
              "          const dataTable =\n",
              "            await google.colab.kernel.invokeFunction('convertToInteractive',\n",
              "                                                     [key], {});\n",
              "          if (!dataTable) return;\n",
              "\n",
              "          const docLinkHtml = 'Like what you see? Visit the ' +\n",
              "            '<a target=\"_blank\" href=https://colab.research.google.com/notebooks/data_table.ipynb>data table notebook</a>'\n",
              "            + ' to learn more about interactive tables.';\n",
              "          element.innerHTML = '';\n",
              "          dataTable['output_type'] = 'display_data';\n",
              "          await google.colab.output.renderOutput(dataTable, element);\n",
              "          const docLink = document.createElement('div');\n",
              "          docLink.innerHTML = docLinkHtml;\n",
              "          element.appendChild(docLink);\n",
              "        }\n",
              "      </script>\n",
              "    </div>\n",
              "  </div>\n",
              "  "
            ]
          },
          "metadata": {},
          "execution_count": 16
        }
      ]
    },
    {
      "cell_type": "code",
      "source": [
        "test_df"
      ],
      "metadata": {
        "colab": {
          "base_uri": "https://localhost:8080/",
          "height": 424
        },
        "id": "cXl1i2BeY6ED",
        "outputId": "344a6e58-3ef2-48a4-dcd4-67c397ba61ce"
      },
      "execution_count": 17,
      "outputs": [
        {
          "output_type": "execute_result",
          "data": {
            "text/plain": [
              "            target                                               text  \\\n",
              "0       BACKGROUND  this study analyzed liver function abnormaliti...   \n",
              "1          RESULTS  a post hoc analysis was conducted with the use...   \n",
              "2          RESULTS  liver function tests ( lfts ) were measured at...   \n",
              "3          RESULTS  survival analyses were used to assess the asso...   \n",
              "4          RESULTS  the percentage of patients with abnormal lfts ...   \n",
              "...            ...                                                ...   \n",
              "30130      RESULTS  there was a statistically significant between-...   \n",
              "30131      RESULTS  there were no statistically significant betwee...   \n",
              "30132      RESULTS  there was no significant association between s...   \n",
              "30133      RESULTS                 no adverse effects were reported .   \n",
              "30134  CONCLUSIONS  performing a @-week do-as-tolerated program of...   \n",
              "\n",
              "       line_number  total_lines  \n",
              "0                0            8  \n",
              "1                1            8  \n",
              "2                2            8  \n",
              "3                3            8  \n",
              "4                4            8  \n",
              "...            ...          ...  \n",
              "30130           13           17  \n",
              "30131           14           17  \n",
              "30132           15           17  \n",
              "30133           16           17  \n",
              "30134           17           17  \n",
              "\n",
              "[30135 rows x 4 columns]"
            ],
            "text/html": [
              "\n",
              "  <div id=\"df-eed8e889-3fce-4eb4-8680-32979079a1bb\">\n",
              "    <div class=\"colab-df-container\">\n",
              "      <div>\n",
              "<style scoped>\n",
              "    .dataframe tbody tr th:only-of-type {\n",
              "        vertical-align: middle;\n",
              "    }\n",
              "\n",
              "    .dataframe tbody tr th {\n",
              "        vertical-align: top;\n",
              "    }\n",
              "\n",
              "    .dataframe thead th {\n",
              "        text-align: right;\n",
              "    }\n",
              "</style>\n",
              "<table border=\"1\" class=\"dataframe\">\n",
              "  <thead>\n",
              "    <tr style=\"text-align: right;\">\n",
              "      <th></th>\n",
              "      <th>target</th>\n",
              "      <th>text</th>\n",
              "      <th>line_number</th>\n",
              "      <th>total_lines</th>\n",
              "    </tr>\n",
              "  </thead>\n",
              "  <tbody>\n",
              "    <tr>\n",
              "      <th>0</th>\n",
              "      <td>BACKGROUND</td>\n",
              "      <td>this study analyzed liver function abnormaliti...</td>\n",
              "      <td>0</td>\n",
              "      <td>8</td>\n",
              "    </tr>\n",
              "    <tr>\n",
              "      <th>1</th>\n",
              "      <td>RESULTS</td>\n",
              "      <td>a post hoc analysis was conducted with the use...</td>\n",
              "      <td>1</td>\n",
              "      <td>8</td>\n",
              "    </tr>\n",
              "    <tr>\n",
              "      <th>2</th>\n",
              "      <td>RESULTS</td>\n",
              "      <td>liver function tests ( lfts ) were measured at...</td>\n",
              "      <td>2</td>\n",
              "      <td>8</td>\n",
              "    </tr>\n",
              "    <tr>\n",
              "      <th>3</th>\n",
              "      <td>RESULTS</td>\n",
              "      <td>survival analyses were used to assess the asso...</td>\n",
              "      <td>3</td>\n",
              "      <td>8</td>\n",
              "    </tr>\n",
              "    <tr>\n",
              "      <th>4</th>\n",
              "      <td>RESULTS</td>\n",
              "      <td>the percentage of patients with abnormal lfts ...</td>\n",
              "      <td>4</td>\n",
              "      <td>8</td>\n",
              "    </tr>\n",
              "    <tr>\n",
              "      <th>...</th>\n",
              "      <td>...</td>\n",
              "      <td>...</td>\n",
              "      <td>...</td>\n",
              "      <td>...</td>\n",
              "    </tr>\n",
              "    <tr>\n",
              "      <th>30130</th>\n",
              "      <td>RESULTS</td>\n",
              "      <td>there was a statistically significant between-...</td>\n",
              "      <td>13</td>\n",
              "      <td>17</td>\n",
              "    </tr>\n",
              "    <tr>\n",
              "      <th>30131</th>\n",
              "      <td>RESULTS</td>\n",
              "      <td>there were no statistically significant betwee...</td>\n",
              "      <td>14</td>\n",
              "      <td>17</td>\n",
              "    </tr>\n",
              "    <tr>\n",
              "      <th>30132</th>\n",
              "      <td>RESULTS</td>\n",
              "      <td>there was no significant association between s...</td>\n",
              "      <td>15</td>\n",
              "      <td>17</td>\n",
              "    </tr>\n",
              "    <tr>\n",
              "      <th>30133</th>\n",
              "      <td>RESULTS</td>\n",
              "      <td>no adverse effects were reported .</td>\n",
              "      <td>16</td>\n",
              "      <td>17</td>\n",
              "    </tr>\n",
              "    <tr>\n",
              "      <th>30134</th>\n",
              "      <td>CONCLUSIONS</td>\n",
              "      <td>performing a @-week do-as-tolerated program of...</td>\n",
              "      <td>17</td>\n",
              "      <td>17</td>\n",
              "    </tr>\n",
              "  </tbody>\n",
              "</table>\n",
              "<p>30135 rows × 4 columns</p>\n",
              "</div>\n",
              "      <button class=\"colab-df-convert\" onclick=\"convertToInteractive('df-eed8e889-3fce-4eb4-8680-32979079a1bb')\"\n",
              "              title=\"Convert this dataframe to an interactive table.\"\n",
              "              style=\"display:none;\">\n",
              "        \n",
              "  <svg xmlns=\"http://www.w3.org/2000/svg\" height=\"24px\"viewBox=\"0 0 24 24\"\n",
              "       width=\"24px\">\n",
              "    <path d=\"M0 0h24v24H0V0z\" fill=\"none\"/>\n",
              "    <path d=\"M18.56 5.44l.94 2.06.94-2.06 2.06-.94-2.06-.94-.94-2.06-.94 2.06-2.06.94zm-11 1L8.5 8.5l.94-2.06 2.06-.94-2.06-.94L8.5 2.5l-.94 2.06-2.06.94zm10 10l.94 2.06.94-2.06 2.06-.94-2.06-.94-.94-2.06-.94 2.06-2.06.94z\"/><path d=\"M17.41 7.96l-1.37-1.37c-.4-.4-.92-.59-1.43-.59-.52 0-1.04.2-1.43.59L10.3 9.45l-7.72 7.72c-.78.78-.78 2.05 0 2.83L4 21.41c.39.39.9.59 1.41.59.51 0 1.02-.2 1.41-.59l7.78-7.78 2.81-2.81c.8-.78.8-2.07 0-2.86zM5.41 20L4 18.59l7.72-7.72 1.47 1.35L5.41 20z\"/>\n",
              "  </svg>\n",
              "      </button>\n",
              "      \n",
              "  <style>\n",
              "    .colab-df-container {\n",
              "      display:flex;\n",
              "      flex-wrap:wrap;\n",
              "      gap: 12px;\n",
              "    }\n",
              "\n",
              "    .colab-df-convert {\n",
              "      background-color: #E8F0FE;\n",
              "      border: none;\n",
              "      border-radius: 50%;\n",
              "      cursor: pointer;\n",
              "      display: none;\n",
              "      fill: #1967D2;\n",
              "      height: 32px;\n",
              "      padding: 0 0 0 0;\n",
              "      width: 32px;\n",
              "    }\n",
              "\n",
              "    .colab-df-convert:hover {\n",
              "      background-color: #E2EBFA;\n",
              "      box-shadow: 0px 1px 2px rgba(60, 64, 67, 0.3), 0px 1px 3px 1px rgba(60, 64, 67, 0.15);\n",
              "      fill: #174EA6;\n",
              "    }\n",
              "\n",
              "    [theme=dark] .colab-df-convert {\n",
              "      background-color: #3B4455;\n",
              "      fill: #D2E3FC;\n",
              "    }\n",
              "\n",
              "    [theme=dark] .colab-df-convert:hover {\n",
              "      background-color: #434B5C;\n",
              "      box-shadow: 0px 1px 3px 1px rgba(0, 0, 0, 0.15);\n",
              "      filter: drop-shadow(0px 1px 2px rgba(0, 0, 0, 0.3));\n",
              "      fill: #FFFFFF;\n",
              "    }\n",
              "  </style>\n",
              "\n",
              "      <script>\n",
              "        const buttonEl =\n",
              "          document.querySelector('#df-eed8e889-3fce-4eb4-8680-32979079a1bb button.colab-df-convert');\n",
              "        buttonEl.style.display =\n",
              "          google.colab.kernel.accessAllowed ? 'block' : 'none';\n",
              "\n",
              "        async function convertToInteractive(key) {\n",
              "          const element = document.querySelector('#df-eed8e889-3fce-4eb4-8680-32979079a1bb');\n",
              "          const dataTable =\n",
              "            await google.colab.kernel.invokeFunction('convertToInteractive',\n",
              "                                                     [key], {});\n",
              "          if (!dataTable) return;\n",
              "\n",
              "          const docLinkHtml = 'Like what you see? Visit the ' +\n",
              "            '<a target=\"_blank\" href=https://colab.research.google.com/notebooks/data_table.ipynb>data table notebook</a>'\n",
              "            + ' to learn more about interactive tables.';\n",
              "          element.innerHTML = '';\n",
              "          dataTable['output_type'] = 'display_data';\n",
              "          await google.colab.output.renderOutput(dataTable, element);\n",
              "          const docLink = document.createElement('div');\n",
              "          docLink.innerHTML = docLinkHtml;\n",
              "          element.appendChild(docLink);\n",
              "        }\n",
              "      </script>\n",
              "    </div>\n",
              "  </div>\n",
              "  "
            ]
          },
          "metadata": {},
          "execution_count": 17
        }
      ]
    },
    {
      "cell_type": "code",
      "source": [
        "train_df.target.value_counts()"
      ],
      "metadata": {
        "colab": {
          "base_uri": "https://localhost:8080/"
        },
        "id": "ecYZp5DKY6q5",
        "outputId": "359bcac4-8b0d-4f36-cf29-77628cf5c6c8"
      },
      "execution_count": 18,
      "outputs": [
        {
          "output_type": "execute_result",
          "data": {
            "text/plain": [
              "METHODS        59353\n",
              "RESULTS        57953\n",
              "CONCLUSIONS    27168\n",
              "BACKGROUND     21727\n",
              "OBJECTIVE      13839\n",
              "Name: target, dtype: int64"
            ]
          },
          "metadata": {},
          "execution_count": 18
        }
      ]
    },
    {
      "cell_type": "code",
      "source": [
        "#length of different lines\n",
        "train_df.total_lines.plot.hist()"
      ],
      "metadata": {
        "colab": {
          "base_uri": "https://localhost:8080/",
          "height": 285
        },
        "id": "wNQr-CFQZEIS",
        "outputId": "59a8cd6f-9143-411d-da54-7fb7d1823e7e"
      },
      "execution_count": 19,
      "outputs": [
        {
          "output_type": "execute_result",
          "data": {
            "text/plain": [
              "<matplotlib.axes._subplots.AxesSubplot at 0x7f0f02f27f50>"
            ]
          },
          "metadata": {},
          "execution_count": 19
        },
        {
          "output_type": "display_data",
          "data": {
            "text/plain": [
              "<Figure size 432x288 with 1 Axes>"
            ],
            "image/png": "[encoded data removed]"
          },
          "metadata": {
            "needs_background": "light"
          }
        }
      ]
    },
    {
      "cell_type": "code",
      "source": [
        "#Convert abstract text lines into lists\n",
        "train_sentences = train_df[\"text\"].tolist()\n",
        "val_sentences = val_df[\"text\"].tolist()\n",
        "test_sentences = test_df[\"text\"].tolist()\n",
        "len(train_sentences), len(val_sentences), len(test_sentences)"
      ],
      "metadata": {
        "colab": {
          "base_uri": "https://localhost:8080/"
        },
        "id": "-h8WL5i1ZMr9",
        "outputId": "c94837c6-9e40-456c-c900-67be536887e7"
      },
      "execution_count": 20,
      "outputs": [
        {
          "output_type": "execute_result",
          "data": {
            "text/plain": [
              "(180040, 30212, 30135)"
            ]
          },
          "metadata": {},
          "execution_count": 20
        }
      ]
    },
    {
      "cell_type": "markdown",
      "source": [
        "## Making numeric lables (ML models require numbers)"
      ],
      "metadata": {
        "id": "XJautK-qZgzg"
      }
    },
    {
      "cell_type": "code",
      "source": [
        "# One hot encode labels\n",
        "from sklearn.preprocessing import OneHotEncoder\n",
        "one_hot_encoder = OneHotEncoder(sparse=False)\n",
        "train_labels_one_hot = one_hot_encoder.fit_transform(train_df[\"target\"].to_numpy().reshape(-1, 1))\n",
        "val_labels_one_hot = one_hot_encoder.fit_transform(val_df[\"target\"].to_numpy().reshape(-1, 1))\n",
        "test_labels_one_hot = one_hot_encoder.fit_transform(test_df[\"target\"].to_numpy().reshape(-1, 1))"
      ],
      "metadata": {
        "id": "oP2YJVYBZ6k-"
      },
      "execution_count": 21,
      "outputs": []
    },
    {
      "cell_type": "code",
      "source": [
        "import tensorflow as tf\n",
        "tf.constant(train_labels_one_hot)"
      ],
      "metadata": {
        "colab": {
          "base_uri": "https://localhost:8080/"
        },
        "id": "Hz19p7K9aeUa",
        "outputId": "727ae9ba-d259-4bf4-bc17-0653df57f24e"
      },
      "execution_count": 22,
      "outputs": [
        {
          "output_type": "execute_result",
          "data": {
            "text/plain": [
              "<tf.Tensor: shape=(180040, 5), dtype=float64, numpy=\n",
              "array([[0., 0., 0., 1., 0.],\n",
              "       [0., 0., 1., 0., 0.],\n",
              "       [0., 0., 1., 0., 0.],\n",
              "       ...,\n",
              "       [0., 0., 0., 0., 1.],\n",
              "       [0., 1., 0., 0., 0.],\n",
              "       [0., 1., 0., 0., 0.]])>"
            ]
          },
          "metadata": {},
          "execution_count": 22
        }
      ]
    },
    {
      "cell_type": "code",
      "source": [
        "train_labels_one_hot"
      ],
      "metadata": {
        "colab": {
          "base_uri": "https://localhost:8080/"
        },
        "id": "9tfTFYKPap6j",
        "outputId": "03403592-e5fe-4760-c412-c52e74e78ef5"
      },
      "execution_count": 23,
      "outputs": [
        {
          "output_type": "execute_result",
          "data": {
            "text/plain": [
              "array([[0., 0., 0., 1., 0.],\n",
              "       [0., 0., 1., 0., 0.],\n",
              "       [0., 0., 1., 0., 0.],\n",
              "       ...,\n",
              "       [0., 0., 0., 0., 1.],\n",
              "       [0., 1., 0., 0., 0.],\n",
              "       [0., 1., 0., 0., 0.]])"
            ]
          },
          "metadata": {},
          "execution_count": 23
        }
      ]
    },
    {
      "cell_type": "code",
      "source": [
        "# Extract labels (\"target\" columns) and encode them into integers \n",
        "from sklearn.preprocessing import LabelEncoder\n",
        "label_encoder = LabelEncoder()\n",
        "train_labels_encoded = label_encoder.fit_transform(train_df[\"target\"].to_numpy())\n",
        "val_labels_encoded = label_encoder.transform(val_df[\"target\"].to_numpy())\n",
        "test_labels_encoded = label_encoder.transform(test_df[\"target\"].to_numpy())\n",
        "\n",
        "# Check what training labels look like\n",
        "train_labels_encoded"
      ],
      "metadata": {
        "colab": {
          "base_uri": "https://localhost:8080/"
        },
        "id": "HTSBM2r2auZv",
        "outputId": "7bfdfe26-2df1-4429-fd32-5f24343e812c"
      },
      "execution_count": 24,
      "outputs": [
        {
          "output_type": "execute_result",
          "data": {
            "text/plain": [
              "array([3, 2, 2, ..., 4, 1, 1])"
            ]
          },
          "metadata": {},
          "execution_count": 24
        }
      ]
    },
    {
      "cell_type": "code",
      "source": [
        "train_labels_encoded"
      ],
      "metadata": {
        "colab": {
          "base_uri": "https://localhost:8080/"
        },
        "id": "BTmJF41Qba0f",
        "outputId": "36d604b6-b1b1-4314-b1ec-4113017c727c"
      },
      "execution_count": 25,
      "outputs": [
        {
          "output_type": "execute_result",
          "data": {
            "text/plain": [
              "array([3, 2, 2, ..., 4, 1, 1])"
            ]
          },
          "metadata": {},
          "execution_count": 25
        }
      ]
    },
    {
      "cell_type": "code",
      "source": [
        "label_encoder.classes_"
      ],
      "metadata": {
        "colab": {
          "base_uri": "https://localhost:8080/"
        },
        "id": "a8OZNU4LbdwW",
        "outputId": "ed8808bf-2c22-4868-835f-3b51ae192e43"
      },
      "execution_count": 26,
      "outputs": [
        {
          "output_type": "execute_result",
          "data": {
            "text/plain": [
              "array(['BACKGROUND', 'CONCLUSIONS', 'METHODS', 'OBJECTIVE', 'RESULTS'],\n",
              "      dtype=object)"
            ]
          },
          "metadata": {},
          "execution_count": 26
        }
      ]
    },
    {
      "cell_type": "code",
      "source": [
        "#Model 0: Baseline Model - Naive Bayes TF-IDF Encoder\n",
        "from sklearn.feature_extraction.text import TfidfVectorizer\n",
        "from sklearn.naive_bayes import MultinomialNB\n",
        "from sklearn.pipeline import Pipeline\n",
        "\n",
        "model_0 = Pipeline([\n",
        "    (\"tf-idf\", TfidfVectorizer()),\n",
        "    (\"clf\", MultinomialNB())\n",
        "])\n",
        "\n",
        "#fitting the pipelien\n",
        "model_0.fit(X=train_sentences, y=train_labels_encoded)"
      ],
      "metadata": {
        "colab": {
          "base_uri": "https://localhost:8080/"
        },
        "id": "sHXA1iWBbpXB",
        "outputId": "94ea69a1-1d41-422b-8c04-770b1598dd8c"
      },
      "execution_count": 27,
      "outputs": [
        {
          "output_type": "execute_result",
          "data": {
            "text/plain": [
              "Pipeline(steps=[('tf-idf', TfidfVectorizer()), ('clf', MultinomialNB())])"
            ]
          },
          "metadata": {},
          "execution_count": 27
        }
      ]
    },
    {
      "cell_type": "code",
      "source": [
        "#evaluate\n",
        "model_0.score(X=val_sentences,\n",
        "              y=val_labels_encoded)"
      ],
      "metadata": {
        "colab": {
          "base_uri": "https://localhost:8080/"
        },
        "id": "XcF7zPd1cuxI",
        "outputId": "51186bc4-614f-40ab-c9c6-76a644406386"
      },
      "execution_count": 28,
      "outputs": [
        {
          "output_type": "execute_result",
          "data": {
            "text/plain": [
              "0.7218323844829869"
            ]
          },
          "metadata": {},
          "execution_count": 28
        }
      ]
    },
    {
      "cell_type": "code",
      "source": [
        "#make predictions\n",
        "baseline_preds = model_0.predict(val_sentences)\n",
        "baseline_preds"
      ],
      "metadata": {
        "colab": {
          "base_uri": "https://localhost:8080/"
        },
        "id": "MOBs8GeSdAjS",
        "outputId": "5fe26b00-ba6b-4e23-c3a5-d402b635decf"
      },
      "execution_count": 29,
      "outputs": [
        {
          "output_type": "execute_result",
          "data": {
            "text/plain": [
              "array([4, 1, 3, ..., 4, 4, 1])"
            ]
          },
          "metadata": {},
          "execution_count": 29
        }
      ]
    },
    {
      "cell_type": "code",
      "source": [
        "val_labels_encoded"
      ],
      "metadata": {
        "colab": {
          "base_uri": "https://localhost:8080/"
        },
        "id": "aotcFRUddNtq",
        "outputId": "fcbf4356-6469-45d3-c6c6-d65711006809"
      },
      "execution_count": 30,
      "outputs": [
        {
          "output_type": "execute_result",
          "data": {
            "text/plain": [
              "array([0, 0, 3, ..., 4, 1, 1])"
            ]
          },
          "metadata": {},
          "execution_count": 30
        }
      ]
    },
    {
      "cell_type": "code",
      "source": [
        "##download helper functions script\n",
        "!wget https://raw.githubusercontent.com/mrdbourke/tensorflow-deep-learning/main/extras/helper_functions.py"
      ],
      "metadata": {
        "colab": {
          "base_uri": "https://localhost:8080/"
        },
        "id": "tjMkIFMJehVO",
        "outputId": "88d3bdd3-8aa5-4e7d-9e82-f3ac24ec791d"
      },
      "execution_count": 31,
      "outputs": [
        {
          "output_type": "stream",
          "name": "stdout",
          "text": [
            "--2022-08-11 01:07:38--  https://raw.githubusercontent.com/mrdbourke/tensorflow-deep-learning/main/extras/helper_functions.py\n",
            "Resolving raw.githubusercontent.com (raw.githubusercontent.com)... 185.199.108.133, 185.199.109.133, 185.199.111.133, ...\n",
            "Connecting to raw.githubusercontent.com (raw.githubusercontent.com)|185.199.108.133|:443... connected.\n",
            "HTTP request sent, awaiting response... 200 OK\n",
            "Length: 10246 (10K) [text/plain]\n",
            "Saving to: ‘helper_functions.py’\n",
            "\n",
            "\rhelper_functions.py   0%[                    ]       0  --.-KB/s               \rhelper_functions.py 100%[===================>]  10.01K  --.-KB/s    in 0s      \n",
            "\n",
            "2022-08-11 01:07:39 (89.6 MB/s) - ‘helper_functions.py’ saved [10246/10246]\n",
            "\n"
          ]
        }
      ]
    },
    {
      "cell_type": "code",
      "source": [
        "from helper_functions import calculate_results"
      ],
      "metadata": {
        "id": "xBHchs7VeuTh"
      },
      "execution_count": 32,
      "outputs": []
    },
    {
      "cell_type": "code",
      "source": [
        "baseline_results = calculate_results(val_labels_encoded,\n",
        "                                   baseline_preds)"
      ],
      "metadata": {
        "id": "V5BHDXbEe0FI"
      },
      "execution_count": 33,
      "outputs": []
    },
    {
      "cell_type": "code",
      "source": [
        "baseline_results"
      ],
      "metadata": {
        "colab": {
          "base_uri": "https://localhost:8080/"
        },
        "id": "m_RHfMTse6Nz",
        "outputId": "1e2b6260-58a6-42bd-8fbb-554fa97c9c27"
      },
      "execution_count": 34,
      "outputs": [
        {
          "output_type": "execute_result",
          "data": {
            "text/plain": [
              "{'accuracy': 72.1832384482987,\n",
              " 'f1': 0.6989250353450294,\n",
              " 'precision': 0.7186466952323352,\n",
              " 'recall': 0.7218323844829869}"
            ]
          },
          "metadata": {},
          "execution_count": 34
        }
      ]
    },
    {
      "cell_type": "markdown",
      "source": [
        "## Preparing text for deep sequence models using tokenization and embedding"
      ],
      "metadata": {
        "id": "wgquXh5he-Oq"
      }
    },
    {
      "cell_type": "code",
      "source": [
        "import numpy as np\n",
        "import tensorflow as tf\n",
        "from tensorflow.keras import layers"
      ],
      "metadata": {
        "id": "XgpAMcVhfOsP"
      },
      "execution_count": 35,
      "outputs": []
    },
    {
      "cell_type": "code",
      "source": [
        "#How long is each sentence on average\n",
        "sent_lens = [len(sentence.split()) for sentence in train_sentences]"
      ],
      "metadata": {
        "id": "BxUSgo-tfaL_"
      },
      "execution_count": 36,
      "outputs": []
    },
    {
      "cell_type": "code",
      "source": [
        "sent_lens"
      ],
      "metadata": {
        "colab": {
          "base_uri": "https://localhost:8080/"
        },
        "id": "5mk3r_OLflEr",
        "outputId": "2f0673b8-67ec-46c1-ce07-58a7354b299b"
      },
      "execution_count": 37,
      "outputs": [
        {
          "output_type": "execute_result",
          "data": {
            "text/plain": [
              "[49,\n",
              " 27,\n",
              " 15,\n",
              " 14,\n",
              " 35,\n",
              " 29,\n",
              " 30,\n",
              " 55,\n",
              " 36,\n",
              " 8,\n",
              " 32,\n",
              " 39,\n",
              " 12,\n",
              " 26,\n",
              " 33,\n",
              " 40,\n",
              " 22,\n",
              " 23,\n",
              " 27,\n",
              " 26,\n",
              " 27,\n",
              " 34,\n",
              " 41,\n",
              " 18,\n",
              " 9,\n",
              " 23,\n",
              " 59,\n",
              " 16,\n",
              " 18,\n",
              " 22,\n",
              " 17,\n",
              " 51,\n",
              " 8,\n",
              " 17,\n",
              " 16,\n",
              " 5,\n",
              " 21,\n",
              " 4,\n",
              " 42,\n",
              " 50,\n",
              " 11,\n",
              " 19,\n",
              " 20,\n",
              " 29,\n",
              " 36,\n",
              " 44,\n",
              " 39,\n",
              " 25,\n",
              " 19,\n",
              " 24,\n",
              " 19,\n",
              " 14,\n",
              " 11,\n",
              " 18,\n",
              " 16,\n",
              " 26,\n",
              " 16,\n",
              " 18,\n",
              " 38,\n",
              " 28,\n",
              " 21,\n",
              " 18,\n",
              " 22,\n",
              " 9,\n",
              " 37,\n",
              " 6,\n",
              " 32,\n",
              " 21,\n",
              " 26,\n",
              " 25,\n",
              " 18,\n",
              " 21,\n",
              " 20,\n",
              " 12,\n",
              " 26,\n",
              " 16,\n",
              " 23,\n",
              " 19,\n",
              " 16,\n",
              " 39,\n",
              " 19,\n",
              " 14,\n",
              " 37,\n",
              " 34,\n",
              " 15,\n",
              " 47,\n",
              " 26,\n",
              " 87,\n",
              " 17,\n",
              " 29,\n",
              " 31,\n",
              " 13,\n",
              " 37,\n",
              " 28,\n",
              " 35,\n",
              " 60,\n",
              " 64,\n",
              " 66,\n",
              " 8,\n",
              " 12,\n",
              " 17,\n",
              " 40,\n",
              " 43,\n",
              " 37,\n",
              " 47,\n",
              " 6,\n",
              " 40,\n",
              " 64,\n",
              " 20,\n",
              " 32,\n",
              " 53,\n",
              " 16,\n",
              " 30,\n",
              " 54,\n",
              " 51,\n",
              " 19,\n",
              " 28,\n",
              " 32,\n",
              " 36,\n",
              " 40,\n",
              " 13,\n",
              " 25,\n",
              " 30,\n",
              " 23,\n",
              " 17,\n",
              " 15,\n",
              " 20,\n",
              " 50,\n",
              " 12,\n",
              " 16,\n",
              " 27,\n",
              " 24,\n",
              " 10,\n",
              " 24,\n",
              " 5,\n",
              " 14,\n",
              " 19,\n",
              " 32,\n",
              " 13,\n",
              " 21,\n",
              " 23,\n",
              " 10,\n",
              " 11,\n",
              " 17,\n",
              " 12,\n",
              " 21,\n",
              " 21,\n",
              " 15,\n",
              " 17,\n",
              " 21,\n",
              " 18,\n",
              " 40,\n",
              " 33,\n",
              " 21,\n",
              " 41,\n",
              " 21,\n",
              " 13,\n",
              " 29,\n",
              " 28,\n",
              " 13,\n",
              " 44,\n",
              " 20,\n",
              " 31,\n",
              " 8,\n",
              " 29,\n",
              " 13,\n",
              " 116,\n",
              " 27,\n",
              " 26,\n",
              " 32,\n",
              " 34,\n",
              " 17,\n",
              " 23,\n",
              " 20,\n",
              " 29,\n",
              " 11,\n",
              " 7,\n",
              " 17,\n",
              " 31,\n",
              " 43,\n",
              " 36,\n",
              " 17,\n",
              " 31,\n",
              " 17,\n",
              " 42,\n",
              " 18,\n",
              " 39,\n",
              " 29,\n",
              " 30,\n",
              " 24,\n",
              " 81,\n",
              " 19,\n",
              " 19,\n",
              " 33,\n",
              " 22,\n",
              " 11,\n",
              " 55,\n",
              " 11,\n",
              " 14,\n",
              " 28,\n",
              " 42,\n",
              " 34,\n",
              " 44,\n",
              " 15,\n",
              " 22,\n",
              " 44,\n",
              " 34,\n",
              " 29,\n",
              " 14,\n",
              " 54,\n",
              " 33,\n",
              " 80,\n",
              " 38,\n",
              " 15,\n",
              " 19,\n",
              " 30,\n",
              " 51,\n",
              " 20,\n",
              " 57,\n",
              " 13,\n",
              " 34,\n",
              " 34,\n",
              " 29,\n",
              " 22,\n",
              " 15,\n",
              " 23,\n",
              " 32,\n",
              " 11,\n",
              " 12,\n",
              " 17,\n",
              " 15,\n",
              " 4,\n",
              " 7,\n",
              " 38,\n",
              " 14,\n",
              " 10,\n",
              " 6,\n",
              " 26,\n",
              " 15,\n",
              " 60,\n",
              " 22,\n",
              " 12,\n",
              " 27,\n",
              " 16,\n",
              " 11,\n",
              " 23,\n",
              " 8,\n",
              " 17,\n",
              " 7,\n",
              " 27,\n",
              " 27,\n",
              " 35,\n",
              " 34,\n",
              " 8,\n",
              " 22,\n",
              " 27,\n",
              " 38,\n",
              " 23,\n",
              " 21,\n",
              " 16,\n",
              " 4,\n",
              " 2,\n",
              " 37,\n",
              " 20,\n",
              " 25,\n",
              " 36,\n",
              " 19,\n",
              " 26,\n",
              " 31,\n",
              " 28,\n",
              " 20,\n",
              " 21,\n",
              " 15,\n",
              " 10,\n",
              " 2,\n",
              " 43,\n",
              " 18,\n",
              " 49,\n",
              " 24,\n",
              " 19,\n",
              " 36,\n",
              " 24,\n",
              " 28,\n",
              " 37,\n",
              " 26,\n",
              " 17,\n",
              " 25,\n",
              " 57,\n",
              " 20,\n",
              " 9,\n",
              " 16,\n",
              " 10,\n",
              " 11,\n",
              " 87,\n",
              " 41,\n",
              " 45,\n",
              " 44,\n",
              " 15,\n",
              " 11,\n",
              " 17,\n",
              " 11,\n",
              " 5,\n",
              " 6,\n",
              " 31,\n",
              " 31,\n",
              " 20,\n",
              " 16,\n",
              " 13,\n",
              " 24,\n",
              " 37,\n",
              " 14,\n",
              " 28,\n",
              " 17,\n",
              " 19,\n",
              " 27,\n",
              " 17,\n",
              " 25,\n",
              " 15,\n",
              " 16,\n",
              " 21,\n",
              " 25,\n",
              " 23,\n",
              " 23,\n",
              " 7,\n",
              " 16,\n",
              " 21,\n",
              " 13,\n",
              " 33,\n",
              " 34,\n",
              " 11,\n",
              " 46,\n",
              " 52,\n",
              " 24,\n",
              " 8,\n",
              " 16,\n",
              " 22,\n",
              " 20,\n",
              " 13,\n",
              " 25,\n",
              " 30,\n",
              " 13,\n",
              " 9,\n",
              " 16,\n",
              " 22,\n",
              " 39,\n",
              " 15,\n",
              " 15,\n",
              " 24,\n",
              " 25,\n",
              " 20,\n",
              " 35,\n",
              " 26,\n",
              " 24,\n",
              " 27,\n",
              " 29,\n",
              " 30,\n",
              " 10,\n",
              " 23,\n",
              " 22,\n",
              " 35,\n",
              " 60,\n",
              " 34,\n",
              " 15,\n",
              " 11,\n",
              " 30,\n",
              " 50,\n",
              " 18,\n",
              " 73,\n",
              " 8,\n",
              " 13,\n",
              " 25,\n",
              " 14,\n",
              " 14,\n",
              " 7,\n",
              " 46,\n",
              " 13,\n",
              " 20,\n",
              " 22,\n",
              " 30,\n",
              " 21,\n",
              " 22,\n",
              " 17,\n",
              " 30,\n",
              " 10,\n",
              " 17,\n",
              " 45,\n",
              " 20,\n",
              " 14,\n",
              " 9,\n",
              " 23,\n",
              " 14,\n",
              " 12,\n",
              " 26,\n",
              " 14,\n",
              " 27,\n",
              " 15,\n",
              " 33,\n",
              " 16,\n",
              " 12,\n",
              " 15,\n",
              " 22,\n",
              " 15,\n",
              " 30,\n",
              " 36,\n",
              " 30,\n",
              " 19,\n",
              " 30,\n",
              " 21,\n",
              " 37,\n",
              " 23,\n",
              " 29,\n",
              " 17,\n",
              " 60,\n",
              " 15,\n",
              " 23,\n",
              " 45,\n",
              " 29,\n",
              " 20,\n",
              " 22,\n",
              " 7,\n",
              " 17,\n",
              " 18,\n",
              " 19,\n",
              " 19,\n",
              " 12,\n",
              " 18,\n",
              " 15,\n",
              " 29,\n",
              " 22,\n",
              " 21,\n",
              " 18,\n",
              " 11,\n",
              " 14,\n",
              " 75,\n",
              " 38,\n",
              " 43,\n",
              " 25,\n",
              " 10,\n",
              " 12,\n",
              " 25,\n",
              " 12,\n",
              " 23,\n",
              " 36,\n",
              " 59,\n",
              " 7,\n",
              " 120,\n",
              " 17,\n",
              " 43,\n",
              " 9,\n",
              " 37,\n",
              " 42,\n",
              " 15,\n",
              " 17,\n",
              " 26,\n",
              " 35,\n",
              " 17,\n",
              " 30,\n",
              " 19,\n",
              " 23,\n",
              " 44,\n",
              " 12,\n",
              " 25,\n",
              " 11,\n",
              " 25,\n",
              " 38,\n",
              " 26,\n",
              " 56,\n",
              " 42,\n",
              " 25,\n",
              " 38,\n",
              " 22,\n",
              " 19,\n",
              " 11,\n",
              " 11,\n",
              " 27,\n",
              " 34,\n",
              " 20,\n",
              " 24,\n",
              " 10,\n",
              " 30,\n",
              " 27,\n",
              " 30,\n",
              " 4,\n",
              " 2,\n",
              " 4,\n",
              " 21,\n",
              " 33,\n",
              " 33,\n",
              " 12,\n",
              " 35,\n",
              " 22,\n",
              " 8,\n",
              " 18,\n",
              " 10,\n",
              " 10,\n",
              " 6,\n",
              " 15,\n",
              " 78,\n",
              " 15,\n",
              " 32,\n",
              " 27,\n",
              " 6,\n",
              " 27,\n",
              " 45,\n",
              " 16,\n",
              " 33,\n",
              " 46,\n",
              " 18,\n",
              " 17,\n",
              " 14,\n",
              " 27,\n",
              " 23,\n",
              " 13,\n",
              " 22,\n",
              " 21,\n",
              " 11,\n",
              " 20,\n",
              " 27,\n",
              " 26,\n",
              " 43,\n",
              " 17,\n",
              " 11,\n",
              " 15,\n",
              " 30,\n",
              " 17,\n",
              " 32,\n",
              " 87,\n",
              " 18,\n",
              " 20,\n",
              " 23,\n",
              " 25,\n",
              " 12,\n",
              " 22,\n",
              " 22,\n",
              " 28,\n",
              " 52,\n",
              " 29,\n",
              " 23,\n",
              " 30,\n",
              " 67,\n",
              " 47,\n",
              " 25,\n",
              " 19,\n",
              " 32,\n",
              " 35,\n",
              " 35,\n",
              " 26,\n",
              " 27,\n",
              " 27,\n",
              " 19,\n",
              " 13,\n",
              " 27,\n",
              " 27,\n",
              " 26,\n",
              " 33,\n",
              " 22,\n",
              " 40,\n",
              " 25,\n",
              " 17,\n",
              " 9,\n",
              " 8,\n",
              " 38,\n",
              " 49,\n",
              " 30,\n",
              " 59,\n",
              " 54,\n",
              " 24,\n",
              " 26,\n",
              " 13,\n",
              " 22,\n",
              " 23,\n",
              " 53,\n",
              " 14,\n",
              " 78,\n",
              " 34,\n",
              " 40,\n",
              " 52,\n",
              " 26,\n",
              " 43,\n",
              " 16,\n",
              " 19,\n",
              " 27,\n",
              " 14,\n",
              " 21,\n",
              " 30,\n",
              " 8,\n",
              " 40,\n",
              " 19,\n",
              " 13,\n",
              " 19,\n",
              " 34,\n",
              " 8,\n",
              " 23,\n",
              " 32,\n",
              " 9,\n",
              " 37,\n",
              " 15,\n",
              " 85,\n",
              " 36,\n",
              " 45,\n",
              " 62,\n",
              " 111,\n",
              " 111,\n",
              " 65,\n",
              " 25,\n",
              " 22,\n",
              " 32,\n",
              " 14,\n",
              " 51,\n",
              " 47,\n",
              " 17,\n",
              " 42,\n",
              " 16,\n",
              " 10,\n",
              " 19,\n",
              " 33,\n",
              " 20,\n",
              " 24,\n",
              " 24,\n",
              " 28,\n",
              " 42,\n",
              " 23,\n",
              " 23,\n",
              " 20,\n",
              " 20,\n",
              " 21,\n",
              " 16,\n",
              " 35,\n",
              " 10,\n",
              " 30,\n",
              " 11,\n",
              " 14,\n",
              " 17,\n",
              " 36,\n",
              " 26,\n",
              " 30,\n",
              " 32,\n",
              " 6,\n",
              " 13,\n",
              " 26,\n",
              " 48,\n",
              " 42,\n",
              " 23,\n",
              " 32,\n",
              " 25,\n",
              " 14,\n",
              " 34,\n",
              " 42,\n",
              " 14,\n",
              " 20,\n",
              " 35,\n",
              " 25,\n",
              " 6,\n",
              " 22,\n",
              " 26,\n",
              " 55,\n",
              " 28,\n",
              " 16,\n",
              " 30,\n",
              " 45,\n",
              " 12,\n",
              " 70,\n",
              " 21,\n",
              " 23,\n",
              " 5,\n",
              " 24,\n",
              " 53,\n",
              " 16,\n",
              " 14,\n",
              " 59,\n",
              " 37,\n",
              " 25,\n",
              " 29,\n",
              " 16,\n",
              " 7,\n",
              " 23,\n",
              " 18,\n",
              " 19,\n",
              " 20,\n",
              " 23,\n",
              " 42,\n",
              " 33,\n",
              " 34,\n",
              " 21,\n",
              " 24,\n",
              " 18,\n",
              " 14,\n",
              " 27,\n",
              " 57,\n",
              " 12,\n",
              " 54,\n",
              " 39,\n",
              " 38,\n",
              " 51,\n",
              " 36,\n",
              " 23,\n",
              " 31,\n",
              " 63,\n",
              " 13,\n",
              " 23,\n",
              " 22,\n",
              " 19,\n",
              " 11,\n",
              " 18,\n",
              " 21,\n",
              " 30,\n",
              " 14,\n",
              " 13,\n",
              " 12,\n",
              " 18,\n",
              " 9,\n",
              " 17,\n",
              " 27,\n",
              " 16,\n",
              " 38,\n",
              " 10,\n",
              " 13,\n",
              " 17,\n",
              " 14,\n",
              " 13,\n",
              " 25,\n",
              " 10,\n",
              " 20,\n",
              " 24,\n",
              " 32,\n",
              " 28,\n",
              " 62,\n",
              " 35,\n",
              " 42,\n",
              " 20,\n",
              " 16,\n",
              " 12,\n",
              " 28,\n",
              " 23,\n",
              " 19,\n",
              " 21,\n",
              " 34,\n",
              " 26,\n",
              " 14,\n",
              " 12,\n",
              " 9,\n",
              " 18,\n",
              " 19,\n",
              " 21,\n",
              " 45,\n",
              " 16,\n",
              " 24,\n",
              " 70,\n",
              " 32,\n",
              " 33,\n",
              " 29,\n",
              " 28,\n",
              " 32,\n",
              " 24,\n",
              " 26,\n",
              " 37,\n",
              " 30,\n",
              " 16,\n",
              " 20,\n",
              " 15,\n",
              " 29,\n",
              " 10,\n",
              " 35,\n",
              " 15,\n",
              " 16,\n",
              " 25,\n",
              " 38,\n",
              " 20,\n",
              " 30,\n",
              " 22,\n",
              " 44,\n",
              " 64,\n",
              " 40,\n",
              " 87,\n",
              " 7,\n",
              " 27,\n",
              " 11,\n",
              " 16,\n",
              " 30,\n",
              " 20,\n",
              " 18,\n",
              " 43,\n",
              " 13,\n",
              " 59,\n",
              " 38,\n",
              " 29,\n",
              " 34,\n",
              " 33,\n",
              " 4,\n",
              " 28,\n",
              " 21,\n",
              " 3,\n",
              " 18,\n",
              " 29,\n",
              " 23,\n",
              " 28,\n",
              " 18,\n",
              " 18,\n",
              " 14,\n",
              " 20,\n",
              " 30,\n",
              " 7,\n",
              " 14,\n",
              " 3,\n",
              " 39,\n",
              " 20,\n",
              " 21,\n",
              " 35,\n",
              " 10,\n",
              " 22,\n",
              " 21,\n",
              " 19,\n",
              " 36,\n",
              " 39,\n",
              " 2,\n",
              " 22,\n",
              " 24,\n",
              " 26,\n",
              " 11,\n",
              " 8,\n",
              " 53,\n",
              " 41,\n",
              " 34,\n",
              " 27,\n",
              " 38,\n",
              " 32,\n",
              " 44,\n",
              " 32,\n",
              " 34,\n",
              " 48,\n",
              " 36,\n",
              " 36,\n",
              " 37,\n",
              " 12,\n",
              " 22,\n",
              " 22,\n",
              " 13,\n",
              " 16,\n",
              " 12,\n",
              " 14,\n",
              " 12,\n",
              " 26,\n",
              " 22,\n",
              " 30,\n",
              " 24,\n",
              " 24,\n",
              " 30,\n",
              " 46,\n",
              " 27,\n",
              " 27,\n",
              " 27,\n",
              " 28,\n",
              " 37,\n",
              " 34,\n",
              " 14,\n",
              " 21,\n",
              " 39,\n",
              " 16,\n",
              " 26,\n",
              " 21,\n",
              " 8,\n",
              " 24,\n",
              " 26,\n",
              " 8,\n",
              " 81,\n",
              " 36,\n",
              " 12,\n",
              " 19,\n",
              " 21,\n",
              " 19,\n",
              " 43,\n",
              " 19,\n",
              " 14,\n",
              " 35,\n",
              " 21,\n",
              " 21,\n",
              " 42,\n",
              " 38,\n",
              " 34,\n",
              " 27,\n",
              " 21,\n",
              " 32,\n",
              " 25,\n",
              " 28,\n",
              " 23,\n",
              " 31,\n",
              " 48,\n",
              " 84,\n",
              " 19,\n",
              " 22,\n",
              " 22,\n",
              " 33,\n",
              " 24,\n",
              " 30,\n",
              " 15,\n",
              " 24,\n",
              " 27,\n",
              " 11,\n",
              " 19,\n",
              " 18,\n",
              " 21,\n",
              " 55,\n",
              " 50,\n",
              " 32,\n",
              " 40,\n",
              " 40,\n",
              " 17,\n",
              " 17,\n",
              " 20,\n",
              " 50,\n",
              " 6,\n",
              " 12,\n",
              " 26,\n",
              " 20,\n",
              " 17,\n",
              " 8,\n",
              " 11,\n",
              " 14,\n",
              " 39,\n",
              " 47,\n",
              " 34,\n",
              " 32,\n",
              " 22,\n",
              " 41,\n",
              " 77,\n",
              " 27,\n",
              " 26,\n",
              " 8,\n",
              " 10,\n",
              " 34,\n",
              " 28,\n",
              " 27,\n",
              " 30,\n",
              " 32,\n",
              " 32,\n",
              " 65,\n",
              " 25,\n",
              " 18,\n",
              " 14,\n",
              " 37,\n",
              " 9,\n",
              " 76,\n",
              " 12,\n",
              " 22,\n",
              " 35,\n",
              " 23,\n",
              " 8,\n",
              " 19,\n",
              " 19,\n",
              " 17,\n",
              " 11,\n",
              " 33,\n",
              " 8,\n",
              " 11,\n",
              " 15,\n",
              " 24,\n",
              " 27,\n",
              " 6,\n",
              " 16,\n",
              " 59,\n",
              " 34,\n",
              " 24,\n",
              " 10,\n",
              " 37,\n",
              " 51,\n",
              " 11,\n",
              " 12,\n",
              " 22,\n",
              " 19,\n",
              " 15,\n",
              " 19,\n",
              " 23,\n",
              " 13,\n",
              " 25,\n",
              " 9,\n",
              " 29,\n",
              " 16,\n",
              " 7,\n",
              " 29,\n",
              " 24,\n",
              " 25,\n",
              " 22,\n",
              " 20,\n",
              " 14,\n",
              " 33,\n",
              " 11,\n",
              " 11,\n",
              " 21,\n",
              " 18,\n",
              " 50,\n",
              " 35,\n",
              " 22,\n",
              " 34,\n",
              " 63,\n",
              " 23,\n",
              " 53,\n",
              " 19,\n",
              " 12,\n",
              " 15,\n",
              " 17,\n",
              " ...]"
            ]
          },
          "metadata": {},
          "execution_count": 37
        }
      ]
    },
    {
      "cell_type": "code",
      "source": [
        "avg_sent_len = np.mean(sent_lens)\n",
        "avg_sent_len"
      ],
      "metadata": {
        "colab": {
          "base_uri": "https://localhost:8080/"
        },
        "id": "_LjB1r4pfmKP",
        "outputId": "60c16a5f-6044-4fc0-dfb9-eba44c019234"
      },
      "execution_count": 38,
      "outputs": [
        {
          "output_type": "execute_result",
          "data": {
            "text/plain": [
              "26.338269273494777"
            ]
          },
          "metadata": {},
          "execution_count": 38
        }
      ]
    },
    {
      "cell_type": "code",
      "source": [
        "import matplotlib.pyplot as plt\n",
        "plt.hist(sent_lens, bins=40)"
      ],
      "metadata": {
        "colab": {
          "base_uri": "https://localhost:8080/",
          "height": 533
        },
        "id": "Rk69E_befqoz",
        "outputId": "2f964d07-bc31-4b3f-89dc-6274579ff475"
      },
      "execution_count": 39,
      "outputs": [
        {
          "output_type": "execute_result",
          "data": {
            "text/plain": [
              "(array([9.1130e+03, 3.2962e+04, 4.9105e+04, 3.4666e+04, 2.2517e+04,\n",
              "        1.4360e+04, 6.8790e+03, 4.0660e+03, 2.5730e+03, 1.3580e+03,\n",
              "        9.3400e+02, 5.1100e+02, 3.3600e+02, 2.2400e+02, 1.3100e+02,\n",
              "        9.5000e+01, 6.8000e+01, 3.3000e+01, 2.5000e+01, 2.0000e+01,\n",
              "        9.0000e+00, 1.1000e+01, 7.0000e+00, 5.0000e+00, 4.0000e+00,\n",
              "        5.0000e+00, 5.0000e+00, 5.0000e+00, 3.0000e+00, 3.0000e+00,\n",
              "        1.0000e+00, 1.0000e+00, 2.0000e+00, 1.0000e+00, 0.0000e+00,\n",
              "        0.0000e+00, 0.0000e+00, 1.0000e+00, 0.0000e+00, 1.0000e+00]),\n",
              " array([  1.   ,   8.375,  15.75 ,  23.125,  30.5  ,  37.875,  45.25 ,\n",
              "         52.625,  60.   ,  67.375,  74.75 ,  82.125,  89.5  ,  96.875,\n",
              "        104.25 , 111.625, 119.   , 126.375, 133.75 , 141.125, 148.5  ,\n",
              "        155.875, 163.25 , 170.625, 178.   , 185.375, 192.75 , 200.125,\n",
              "        207.5  , 214.875, 222.25 , 229.625, 237.   , 244.375, 251.75 ,\n",
              "        259.125, 266.5  , 273.875, 281.25 , 288.625, 296.   ]),\n",
              " <a list of 40 Patch objects>)"
            ]
          },
          "metadata": {},
          "execution_count": 39
        },
        {
          "output_type": "display_data",
          "data": {
            "text/plain": [
              "<Figure size 432x288 with 1 Axes>"
            ],
            "image/png": "[encoded data removed]"
          },
          "metadata": {
            "needs_background": "light"
          }
        }
      ]
    },
    {
      "cell_type": "code",
      "source": [
        "np.percentile(sent_lens, .95)"
      ],
      "metadata": {
        "colab": {
          "base_uri": "https://localhost:8080/"
        },
        "id": "jGh4AvaXf67g",
        "outputId": "43692497-c477-46e3-a4f9-ab7480ef3c8e"
      },
      "execution_count": 40,
      "outputs": [
        {
          "output_type": "execute_result",
          "data": {
            "text/plain": [
              "4.0"
            ]
          },
          "metadata": {},
          "execution_count": 40
        }
      ]
    },
    {
      "cell_type": "code",
      "source": [
        "output_seq_len = int(np.percentile(sent_lens, 95))"
      ],
      "metadata": {
        "id": "VwaTdUM_gDTs"
      },
      "execution_count": 41,
      "outputs": []
    },
    {
      "cell_type": "code",
      "source": [
        "output_seq_len"
      ],
      "metadata": {
        "colab": {
          "base_uri": "https://localhost:8080/"
        },
        "id": "zQfdvD4_gUfG",
        "outputId": "5f385f3c-35e4-4da2-953c-3fe1679c37cd"
      },
      "execution_count": 42,
      "outputs": [
        {
          "output_type": "execute_result",
          "data": {
            "text/plain": [
              "55"
            ]
          },
          "metadata": {},
          "execution_count": 42
        }
      ]
    },
    {
      "cell_type": "code",
      "source": [
        "max(sent_lens)"
      ],
      "metadata": {
        "colab": {
          "base_uri": "https://localhost:8080/"
        },
        "id": "DNKM-W-JgVnT",
        "outputId": "ea8885e1-fe7d-48e1-da86-336cc5cdb888"
      },
      "execution_count": 43,
      "outputs": [
        {
          "output_type": "execute_result",
          "data": {
            "text/plain": [
              "296"
            ]
          },
          "metadata": {},
          "execution_count": 43
        }
      ]
    },
    {
      "cell_type": "code",
      "source": [
        "#Text Vectorization\n",
        "#homw many words are in our vocabulary\n",
        "max_tokens = 68000"
      ],
      "metadata": {
        "id": "jRdCp0N7gaqe"
      },
      "execution_count": 44,
      "outputs": []
    },
    {
      "cell_type": "code",
      "source": [
        "from tensorflow.keras.layers.experimental.preprocessing import TextVectorization\n",
        "\n",
        "text_vectorizer = TextVectorization(max_tokens=max_tokens,\n",
        "                                    output_sequence_length=output_seq_len)"
      ],
      "metadata": {
        "id": "4tciNTE_6772"
      },
      "execution_count": 45,
      "outputs": []
    },
    {
      "cell_type": "code",
      "source": [
        "#fitting text vectorizer to our data set\n",
        "text_vectorizer.adapt(train_sentences)"
      ],
      "metadata": {
        "id": "Z_WU07wm7HQl"
      },
      "execution_count": 46,
      "outputs": []
    },
    {
      "cell_type": "code",
      "source": [
        "#test out text_vectorizor on random sentences\n",
        "import random\n",
        "target_sentence = random.choice(train_sentences)\n",
        "print(f\"Text: {target_sentence}\")\n",
        "print(f\"Vectorized Text: {text_vectorizer([target_sentence])}\")"
      ],
      "metadata": {
        "colab": {
          "base_uri": "https://localhost:8080/"
        },
        "id": "zXBhEqDY7pGq",
        "outputId": "023761b4-13c9-47ec-bdd3-6c235e0ee359"
      },
      "execution_count": 47,
      "outputs": [
        {
          "output_type": "stream",
          "name": "stdout",
          "text": [
            "Text: three-percent hts is more effective than ns in acutely reducing concussion pain in children .\n",
            "Vectorized Text: [[33760  8915    20    69   137    42  2066     5  5380   451  8744    65\n",
            "      5   109     0     0     0     0     0     0     0     0     0     0\n",
            "      0     0     0     0     0     0     0     0     0     0     0     0\n",
            "      0     0     0     0     0     0     0     0     0     0     0     0\n",
            "      0     0     0     0     0     0     0]]\n"
          ]
        }
      ]
    },
    {
      "cell_type": "code",
      "source": [
        "#HOw many words in our training vocabulary\n",
        "rct_20k_text_vocab = text_vectorizer.get_vocabulary()\n",
        "print(f\"Num of words: {len(rct_20k_text_vocab)}\")\n",
        "print(f\"most common words: {rct_20k_text_vocab[:5]}\")\n",
        "print(f\"least common words: {rct_20k_text_vocab[-5:]}\")"
      ],
      "metadata": {
        "colab": {
          "base_uri": "https://localhost:8080/"
        },
        "id": "al9n3M-z79za",
        "outputId": "d8cba977-584f-4b28-c399-a2da7b9a6ad3"
      },
      "execution_count": 48,
      "outputs": [
        {
          "output_type": "stream",
          "name": "stdout",
          "text": [
            "Num of words: 64841\n",
            "most common words: ['', '[UNK]', 'the', 'and', 'of']\n",
            "least common words: ['aainduced', 'aaigroup', 'aachener', 'aachen', 'aaacp']\n"
          ]
        }
      ]
    },
    {
      "cell_type": "code",
      "source": [
        "text_vectorizer.get_config()"
      ],
      "metadata": {
        "colab": {
          "base_uri": "https://localhost:8080/"
        },
        "id": "pG0vRoxc8YSP",
        "outputId": "83e8bf32-99ed-472c-f231-81ebe3312de1"
      },
      "execution_count": 49,
      "outputs": [
        {
          "output_type": "execute_result",
          "data": {
            "text/plain": [
              "{'batch_input_shape': (None,),\n",
              " 'dtype': 'string',\n",
              " 'idf_weights': None,\n",
              " 'max_tokens': 68000,\n",
              " 'name': 'text_vectorization',\n",
              " 'ngrams': None,\n",
              " 'output_mode': 'int',\n",
              " 'output_sequence_length': 55,\n",
              " 'pad_to_max_tokens': False,\n",
              " 'ragged': False,\n",
              " 'sparse': False,\n",
              " 'split': 'whitespace',\n",
              " 'standardize': 'lower_and_strip_punctuation',\n",
              " 'trainable': True,\n",
              " 'vocabulary': None}"
            ]
          },
          "metadata": {},
          "execution_count": 49
        }
      ]
    },
    {
      "cell_type": "code",
      "source": [
        "#Create token embedding layer\n",
        "token_embed = layers.Embedding(input_dim=len(rct_20k_text_vocab),\n",
        "                               output_dim=128,\n",
        "                               mask_zero=True, #using masking to handle vairable sequence lengths\n",
        "                               name=\"token_embedding\")"
      ],
      "metadata": {
        "id": "D1dvYpDE8iA3"
      },
      "execution_count": 50,
      "outputs": []
    },
    {
      "cell_type": "code",
      "source": [
        "#show an example\n",
        "print(f\"sentence before embedding: {target_sentence}\")\n",
        "vectorized_sentence = text_vectorizer([target_sentence])\n",
        "print(f\"setnece after vectorization: {vectorized_sentence}\")\n",
        "embedded_sentence = token_embed(vectorized_sentence)\n",
        "print(f\"embedded sentence: {embedded_sentence}\")\n",
        "print(f\"embedded sentence shape: {embedded_sentence.shape}\")"
      ],
      "metadata": {
        "colab": {
          "base_uri": "https://localhost:8080/"
        },
        "id": "dn2YzQVl9MFY",
        "outputId": "9d016ff1-ffc2-43f6-f9fd-b7bc896771e3"
      },
      "execution_count": 51,
      "outputs": [
        {
          "output_type": "stream",
          "name": "stdout",
          "text": [
            "sentence before embedding: three-percent hts is more effective than ns in acutely reducing concussion pain in children .\n",
            "setnece after vectorization: [[33760  8915    20    69   137    42  2066     5  5380   451  8744    65\n",
            "      5   109     0     0     0     0     0     0     0     0     0     0\n",
            "      0     0     0     0     0     0     0     0     0     0     0     0\n",
            "      0     0     0     0     0     0     0     0     0     0     0     0\n",
            "      0     0     0     0     0     0     0]]\n",
            "embedded sentence: [[[-0.00772806  0.01774002 -0.02959691 ... -0.01075834 -0.00624676\n",
            "    0.0073029 ]\n",
            "  [ 0.04148198  0.04823116  0.02328071 ...  0.00402398 -0.01587927\n",
            "    0.001628  ]\n",
            "  [ 0.02261213  0.01400944 -0.03254648 ... -0.02215934 -0.01089961\n",
            "    0.03847114]\n",
            "  ...\n",
            "  [ 0.01960677  0.04107178 -0.00059177 ...  0.0215234  -0.04810899\n",
            "   -0.00081004]\n",
            "  [ 0.01960677  0.04107178 -0.00059177 ...  0.0215234  -0.04810899\n",
            "   -0.00081004]\n",
            "  [ 0.01960677  0.04107178 -0.00059177 ...  0.0215234  -0.04810899\n",
            "   -0.00081004]]]\n",
            "embedded sentence shape: (1, 55, 128)\n"
          ]
        }
      ]
    },
    {
      "cell_type": "code",
      "source": [
        "## Creating datasets \n",
        "#Turn our data into tf datasets\n",
        "train_labels_one_hot = tf.constant(train_labels_one_hot)\n",
        "val_labels_one_hot = tf.constant(val_labels_one_hot)\n",
        "test_labels_one_hot = tf.constant(test_labels_one_hot)\n",
        "\n",
        "train_dataset = tf.data.Dataset.from_tensor_slices((train_sentences, train_labels_one_hot))\n",
        "val_dataset = tf.data.Dataset.from_tensor_slices((val_sentences, val_labels_one_hot))\n",
        "test_dataset = tf.data.Dataset.from_tensor_slices((test_sentences, test_labels_one_hot))\n"
      ],
      "metadata": {
        "id": "bCfxHyzE9kpv"
      },
      "execution_count": 52,
      "outputs": []
    },
    {
      "cell_type": "code",
      "source": [
        "#Take the TensorSliceDataset into prefetched datasets\n",
        "train_dataset = train_dataset.batch(32).prefetch(tf.data.AUTOTUNE)\n",
        "val_dataset = val_dataset.batch(32).prefetch(tf.data.AUTOTUNE)\n",
        "test_dataset = test_dataset.batch(32).prefetch(tf.data.AUTOTUNE)"
      ],
      "metadata": {
        "id": "PtIIciD--Z2Z"
      },
      "execution_count": 53,
      "outputs": []
    },
    {
      "cell_type": "code",
      "source": [
        "train_dataset"
      ],
      "metadata": {
        "colab": {
          "base_uri": "https://localhost:8080/"
        },
        "id": "ryjeIRDhCmUu",
        "outputId": "294dcf4e-92cf-4d5e-ba21-c56591ac3c16"
      },
      "execution_count": 54,
      "outputs": [
        {
          "output_type": "execute_result",
          "data": {
            "text/plain": [
              "<PrefetchDataset element_spec=(TensorSpec(shape=(None,), dtype=tf.string, name=None), TensorSpec(shape=(None, 5), dtype=tf.float64, name=None))>"
            ]
          },
          "metadata": {},
          "execution_count": 54
        }
      ]
    },
    {
      "cell_type": "code",
      "source": [
        "## Model 1: Conv1D with token embeddings\n",
        "inputs = layers.Input(shape=(1,), dtype=tf.string)\n",
        "text_vectors = text_vectorizer(inputs)\n",
        "token_embeddings = token_embed(text_vectors)\n",
        "x = layers.Conv1D(64, kernel_size=5, padding=\"same\", activation=\"relu\")(token_embeddings)\n",
        "x = layers.GlobalAveragePooling1D()(x)\n",
        "outputs = layers.Dense(5, activation=\"softmax\")(x)\n",
        "model_1 = tf.keras.Model(inputs, outputs)\n",
        "#compile\n",
        "model_1.compile(loss=\"categorical_crossentropy\",\n",
        "                optimizer=tf.keras.optimizers.Adam(),\n",
        "                metrics=[\"accuracy\"])\n",
        "\n"
      ],
      "metadata": {
        "id": "Xp7k7PGSC-CR"
      },
      "execution_count": 55,
      "outputs": []
    },
    {
      "cell_type": "code",
      "source": [
        "model_1.summary()"
      ],
      "metadata": {
        "colab": {
          "base_uri": "https://localhost:8080/"
        },
        "id": "gcXUn49aEFX4",
        "outputId": "db737fec-cba0-4ad6-b7c3-b44bdbdaadab"
      },
      "execution_count": 56,
      "outputs": [
        {
          "output_type": "stream",
          "name": "stdout",
          "text": [
            "Model: \"model\"\n",
            "_________________________________________________________________\n",
            " Layer (type)                Output Shape              Param #   \n",
            "=================================================================\n",
            " input_1 (InputLayer)        [(None, 1)]               0         \n",
            "                                                                 \n",
            " text_vectorization (TextVec  (None, 55)               0         \n",
            " torization)                                                     \n",
            "                                                                 \n",
            " token_embedding (Embedding)  (None, 55, 128)          8299648   \n",
            "                                                                 \n",
            " conv1d (Conv1D)             (None, 55, 64)            41024     \n",
            "                                                                 \n",
            " global_average_pooling1d (G  (None, 64)               0         \n",
            " lobalAveragePooling1D)                                          \n",
            "                                                                 \n",
            " dense (Dense)               (None, 5)                 325       \n",
            "                                                                 \n",
            "=================================================================\n",
            "Total params: 8,340,997\n",
            "Trainable params: 8,340,997\n",
            "Non-trainable params: 0\n",
            "_________________________________________________________________\n"
          ]
        }
      ]
    },
    {
      "cell_type": "code",
      "source": [
        "history_model_1 = model_1.fit(train_dataset,\n",
        "                              steps_per_epoch=(0.1*len(train_dataset)),\n",
        "                              epochs=3,\n",
        "                              validation_data=val_dataset,\n",
        "                              validation_steps=(0.1*len(val_dataset)))"
      ],
      "metadata": {
        "colab": {
          "base_uri": "https://localhost:8080/"
        },
        "id": "dd-rXpCyEQIv",
        "outputId": "44534f33-95da-42e3-9887-30b854b5967d"
      },
      "execution_count": 57,
      "outputs": [
        {
          "output_type": "stream",
          "name": "stdout",
          "text": [
            "Epoch 1/3\n",
            "562/562 [==============================] - 17s 9ms/step - loss: 0.9191 - accuracy: 0.6352 - val_loss: 0.6938 - val_accuracy: 0.7388\n",
            "Epoch 2/3\n",
            "562/562 [==============================] - 5s 10ms/step - loss: 0.6595 - accuracy: 0.7533 - val_loss: 0.6351 - val_accuracy: 0.7697\n",
            "Epoch 3/3\n",
            "562/562 [==============================] - 5s 9ms/step - loss: 0.6194 - accuracy: 0.7723 - val_loss: 0.5977 - val_accuracy: 0.7865\n"
          ]
        }
      ]
    },
    {
      "cell_type": "code",
      "source": [
        "#Evaluate on whole validation dtaset\n",
        "model_1.evaluate(val_dataset)"
      ],
      "metadata": {
        "colab": {
          "base_uri": "https://localhost:8080/"
        },
        "id": "DonrvzRGEsrC",
        "outputId": "d6c98031-9095-4336-c700-ec4304952be3"
      },
      "execution_count": 58,
      "outputs": [
        {
          "output_type": "stream",
          "name": "stdout",
          "text": [
            "945/945 [==============================] - 3s 3ms/step - loss: 0.5979 - accuracy: 0.7865\n"
          ]
        },
        {
          "output_type": "execute_result",
          "data": {
            "text/plain": [
              "[0.5978965163230896, 0.7865086793899536]"
            ]
          },
          "metadata": {},
          "execution_count": 58
        }
      ]
    },
    {
      "cell_type": "code",
      "source": [
        "#making predictions\n",
        "model_1_pred_probs = model_1.predict(val_dataset)\n",
        "model_1_preds = tf.argmax(model_1_pred_probs, axis=1)\n",
        "model_1_preds"
      ],
      "metadata": {
        "colab": {
          "base_uri": "https://localhost:8080/"
        },
        "id": "u8PGLQXzFHC-",
        "outputId": "39557919-56b8-4648-8128-f3a178d6e630"
      },
      "execution_count": 59,
      "outputs": [
        {
          "output_type": "execute_result",
          "data": {
            "text/plain": [
              "<tf.Tensor: shape=(30212,), dtype=int64, numpy=array([0, 0, 3, ..., 4, 1, 1])>"
            ]
          },
          "metadata": {},
          "execution_count": 59
        }
      ]
    },
    {
      "cell_type": "code",
      "source": [
        "model_1_results = calculate_results(val_labels_encoded,\n",
        "                                    model_1_preds)"
      ],
      "metadata": {
        "id": "Fk9m7csUFTzw"
      },
      "execution_count": 60,
      "outputs": []
    },
    {
      "cell_type": "code",
      "source": [
        "model_1_results"
      ],
      "metadata": {
        "colab": {
          "base_uri": "https://localhost:8080/"
        },
        "id": "8OWsihDjFgty",
        "outputId": "ffccaaca-458f-46c5-d970-dda7f07b3d3a"
      },
      "execution_count": 61,
      "outputs": [
        {
          "output_type": "execute_result",
          "data": {
            "text/plain": [
              "{'accuracy': 78.65086720508407,\n",
              " 'f1': 0.783969269460303,\n",
              " 'precision': 0.783060150107253,\n",
              " 'recall': 0.7865086720508407}"
            ]
          },
          "metadata": {},
          "execution_count": 61
        }
      ]
    },
    {
      "cell_type": "markdown",
      "source": [
        "##Feature Extraction with pretrained token embeddings"
      ],
      "metadata": {
        "id": "gGCLp_CTFiUX"
      }
    },
    {
      "cell_type": "code",
      "source": [
        "#Using pretrained word embeddings from tensorflow hub\n",
        "import tensorflow_hub as hub\n",
        "tf_hub_embedding_layer = hub.KerasLayer(\"https://tfhub.dev/google/universal-sentence-encoder/4\",\n",
        "                                        trainable=False,\n",
        "                                        name=\"universal_sentence_encoder\")\n"
      ],
      "metadata": {
        "id": "e1G-m9DPFzeA"
      },
      "execution_count": 62,
      "outputs": []
    },
    {
      "cell_type": "code",
      "source": [
        "random_train_sentence = random.choice(train_sentences)\n",
        "print(f\"random sentence: {random_train_sentence}\")\n",
        "use_embedded_sentence = tf_hub_embedding_layer([random_train_sentence])\n",
        "print(f\"embedded version: {use_embedded_sentence}\")"
      ],
      "metadata": {
        "colab": {
          "base_uri": "https://localhost:8080/"
        },
        "id": "uG2sSsfHG0Wb",
        "outputId": "11e11af4-2043-4055-aae6-55b72455a856"
      },
      "execution_count": 63,
      "outputs": [
        {
          "output_type": "stream",
          "name": "stdout",
          "text": [
            "random sentence: @ crohn 's disease patients who had undergone resection were treated with twhf @ mg/kg/day or azathioprine @ mg/kg/day .\n",
            "embedded version: [[-3.98549587e-02  6.06353246e-02  7.29184821e-02 -4.47400846e-02\n",
            "  -2.43051536e-02 -2.69916728e-02  7.29168132e-02 -3.27800736e-02\n",
            "  -3.87590155e-02 -2.01984067e-02  9.72004086e-02 -4.06840555e-02\n",
            "   5.73463924e-02  6.86418116e-02 -1.90742463e-02 -4.11786884e-03\n",
            "  -9.77077857e-02 -1.58343427e-02 -2.60838363e-02 -1.91444054e-03\n",
            "   8.46804231e-02 -2.51281112e-02 -2.04242375e-02 -1.78752169e-02\n",
            "   4.28924933e-02  4.88425344e-02  4.62524854e-02 -7.17589725e-03\n",
            "   2.81799887e-03  7.53147677e-02  9.67528857e-03  9.77886990e-02\n",
            "  -9.72658023e-03 -4.31274474e-02  4.89029400e-02  7.21734613e-02\n",
            "   2.65974645e-03 -5.92789315e-02 -1.04151117e-02 -1.12892538e-02\n",
            "  -5.04333600e-02 -5.84818535e-02  1.19791254e-02  1.41882142e-02\n",
            "   6.00282475e-02  6.55555427e-02 -4.36995067e-02  4.55631614e-02\n",
            "   3.41231911e-03  1.92856491e-02 -5.95590100e-02  1.27770128e-02\n",
            "  -2.24131029e-02 -4.87372614e-02  6.46309704e-02  1.42750787e-02\n",
            "  -2.94668749e-02 -7.60852126e-03 -1.20604048e-02  3.55670713e-02\n",
            "  -5.21061905e-02  5.71255349e-02 -2.38368474e-02  1.42066395e-02\n",
            "   4.81779426e-02  7.10559785e-02  1.78370625e-02 -9.58653912e-03\n",
            "   2.47833412e-02 -1.41487503e-02 -2.81966720e-02  1.14180418e-02\n",
            "   3.13603207e-02 -5.85773103e-02 -7.95874149e-02  1.89354811e-02\n",
            "   3.86046544e-02 -2.68213265e-03 -4.69027720e-02 -6.80374727e-02\n",
            "  -4.65343744e-02  4.10403870e-02  1.47846229e-02  3.47465947e-02\n",
            "  -1.61355454e-02  9.09154415e-02 -1.47899948e-02 -2.74150427e-02\n",
            "  -6.08266471e-03 -9.26397145e-02 -4.90116477e-02 -2.22854745e-02\n",
            "  -5.48513569e-02 -1.93884708e-02  5.30938767e-02 -3.88711132e-02\n",
            "  -5.28695323e-02 -8.20404515e-02  2.63918303e-02 -1.58192143e-02\n",
            "  -1.74613334e-02  7.44353421e-03  3.90319712e-02 -1.86329633e-02\n",
            "   6.78586289e-02 -8.47916454e-02  8.39205831e-03 -6.49749208e-03\n",
            "   1.37849515e-02  4.33503799e-02 -5.60216198e-04 -4.15497646e-02\n",
            "  -1.22415628e-02  7.75689865e-03 -1.93990059e-02  5.80190122e-03\n",
            "   4.77900058e-02 -2.03927886e-02  3.49351801e-02 -5.14633730e-02\n",
            "  -5.46691716e-02  1.96754579e-02  9.49982367e-03  7.36647323e-02\n",
            "   9.60153807e-03  2.54010931e-02 -3.45956720e-02  4.33691666e-02\n",
            "   6.25104830e-02 -4.67058979e-02 -5.75560816e-02  9.77787748e-02\n",
            "   6.21060170e-02  4.68327701e-02  1.82453673e-02 -1.81721933e-02\n",
            "   2.26505157e-02 -4.15728688e-02  5.21234535e-02  2.59840563e-02\n",
            "  -6.75758570e-02  5.45073114e-02 -2.33008619e-02 -3.57471257e-02\n",
            "   4.51369956e-02  1.55524760e-02 -2.02104673e-02 -3.81875075e-02\n",
            "   6.95896521e-02  2.84454823e-02  5.48864491e-02 -8.03916827e-02\n",
            "  -5.49764298e-02  8.19001123e-02  6.97394684e-02  8.02415758e-02\n",
            "   8.90049115e-02  2.68014916e-03  3.82494647e-03 -2.61531081e-02\n",
            "   2.41045598e-02 -2.50193123e-02  2.46827845e-02 -7.45224431e-02\n",
            "   8.59047938e-03 -1.36300614e-02 -1.25309844e-02 -3.15927565e-02\n",
            "  -9.00004525e-03  5.52708376e-03 -5.08794561e-02 -9.73742604e-02\n",
            "  -7.10830241e-02 -6.39517456e-02 -4.75646975e-03  2.51297951e-02\n",
            "  -6.02769032e-02  2.54774466e-02  4.42544743e-02  2.42298059e-02\n",
            "  -7.11518601e-02 -4.98745069e-02  2.48654634e-02  2.15287413e-02\n",
            "   1.12346094e-02  1.55139621e-02 -2.41218545e-02  2.85539404e-02\n",
            "  -1.52016468e-02  6.54125214e-02 -1.01635782e-02 -6.37793615e-02\n",
            "   5.57314083e-02  3.56007032e-02  6.97921887e-02 -6.62577711e-03\n",
            "   1.36338631e-02  5.95691018e-02  1.46404039e-02 -3.58620882e-02\n",
            "  -6.59052953e-02 -3.85341905e-02  1.34924538e-02  3.93187404e-02\n",
            "  -2.61588779e-04  5.62168378e-03  7.06005245e-02  7.36283930e-03\n",
            "   2.99871415e-02  1.16722658e-02  1.13380682e-02  2.06313636e-02\n",
            "  -7.71544734e-03 -5.47201447e-02 -5.41217253e-02  4.69762199e-02\n",
            "   4.73851450e-02  7.46721774e-02  2.63666101e-02 -4.13525291e-03\n",
            "  -9.27772745e-02  5.25949802e-03  2.58603450e-02  3.71834473e-03\n",
            "   7.22475275e-02  5.00840619e-02  5.52154481e-02  4.07393500e-02\n",
            "  -8.25770795e-02 -2.38331314e-02  8.19111802e-03  3.37298810e-02\n",
            "   8.90477002e-03 -1.34240519e-02  2.53205877e-02 -4.67302017e-02\n",
            "  -4.79513183e-02  3.78460102e-02 -4.56329323e-02 -6.43320233e-02\n",
            "   4.95441183e-02  2.83323135e-02  1.88093614e-02  2.68651675e-02\n",
            "  -3.38665769e-02 -1.22679146e-02 -2.38156170e-02 -4.63877097e-02\n",
            "  -2.13803835e-02 -7.16838539e-02  5.67008741e-02 -6.57670498e-02\n",
            "  -3.46105397e-02  8.25301185e-03 -1.04795061e-02  1.65093020e-02\n",
            "   3.80645320e-02 -2.00910941e-02 -3.57958041e-02  2.33198293e-02\n",
            "   4.90851291e-02 -1.33031828e-03  4.18528654e-02  6.12498708e-02\n",
            "  -2.02589650e-02  1.15692681e-02 -5.81541136e-02  4.24132347e-02\n",
            "  -9.98277101e-04  4.92442325e-02 -6.98681697e-02  3.94624509e-02\n",
            "   3.35449204e-02 -9.44818556e-02 -4.26490046e-02  4.22041630e-03\n",
            "  -6.31826743e-02  8.82087573e-02 -2.70648897e-02 -1.60255954e-02\n",
            "   3.92854698e-02  4.09677401e-02 -1.45032750e-02 -4.57603224e-02\n",
            "  -5.34165166e-02 -4.54785340e-02  8.38816911e-03 -1.10137574e-02\n",
            "   5.97675666e-02  2.63883695e-02 -1.01668024e-02 -7.59516507e-02\n",
            "  -6.92539364e-02  3.65569070e-02 -5.38521446e-02 -7.66431764e-02\n",
            "  -4.00574086e-03 -1.85083263e-02  5.02275229e-02  1.35698151e-02\n",
            "   1.40629662e-03  4.85306978e-02 -3.23783420e-02 -8.38746056e-02\n",
            "   3.50848213e-02  2.90483199e-02 -7.40379542e-02 -2.99891178e-02\n",
            "   4.45015263e-03 -2.19775606e-02 -6.01330437e-02 -3.44517119e-02\n",
            "   5.07346429e-02 -1.12712132e-02  9.37927701e-03 -1.23009169e-02\n",
            "   5.99453785e-03  5.18540703e-02  5.53693362e-02  7.75900632e-02\n",
            "  -7.16628507e-02 -4.78835963e-03  5.30796349e-02 -6.97541656e-03\n",
            "  -4.30092625e-02  9.22506824e-02 -7.46936128e-02  1.97665524e-02\n",
            "  -3.07436585e-02  3.13693024e-02 -5.56911482e-03 -4.29630317e-02\n",
            "  -3.85885723e-02  1.99758168e-02  2.46690530e-02  3.46814195e-04\n",
            "  -6.37071207e-02 -3.76120694e-02  4.04466093e-02  4.21322547e-02\n",
            "  -2.80585364e-02 -7.25123882e-02  8.12288299e-02  7.22703785e-02\n",
            "   5.34161814e-02 -7.96117112e-02 -3.84248351e-03 -4.63013500e-02\n",
            "  -8.44961684e-03  4.28212620e-02 -6.16709236e-03 -1.16317095e-02\n",
            "   6.86580390e-02 -3.04698832e-02  6.92877024e-02  4.33590040e-02\n",
            "   7.95527399e-02 -5.01376875e-02 -2.01086272e-02 -4.30408753e-02\n",
            "   5.51430956e-02 -5.13851307e-02 -5.16171083e-02 -5.12068085e-02\n",
            "   7.84132183e-02 -4.36330028e-03  4.63401619e-03 -1.36212753e-02\n",
            "   1.76869165e-02 -8.48093349e-03 -1.65076051e-02  3.69399562e-02\n",
            "  -4.65514464e-03  5.19171320e-02  3.86100896e-02  9.22068208e-02\n",
            "   3.23103145e-02 -3.09668127e-02  6.13733083e-02  1.96769685e-02\n",
            "   5.16155511e-02  4.47166301e-02 -3.03878896e-02  2.20105816e-02\n",
            "  -2.64558271e-02  1.16100144e-02 -5.61147109e-02 -1.04561457e-02\n",
            "  -4.14607301e-02 -6.60714358e-02 -1.68585945e-02  1.25793181e-02\n",
            "  -1.82991512e-02  4.48531434e-02  4.13385890e-02 -2.22207401e-02\n",
            "  -1.54457316e-02  2.85473857e-02  1.75967384e-02 -9.73644853e-02\n",
            "   7.51526207e-02  2.88762785e-02 -5.65358177e-02  4.47508926e-03\n",
            "   2.42951717e-02  2.88178697e-02  4.83789891e-02 -6.10049888e-02\n",
            "   2.60739122e-02 -6.45037647e-03 -6.23405837e-02 -2.69061755e-02\n",
            "  -2.64449436e-02  6.75486028e-03  2.07891818e-02 -7.23810196e-02\n",
            "  -7.63645470e-02 -2.14199778e-02  3.66981141e-02 -6.20425083e-02\n",
            "  -5.17933778e-02 -8.93707760e-03 -1.14506371e-02  4.04750444e-02\n",
            "   3.17045636e-02  1.15395756e-02 -4.46935706e-02 -6.28984571e-02\n",
            "  -3.73659452e-04 -3.14495005e-02 -3.07234507e-02 -2.91388799e-02\n",
            "   2.53528124e-03  2.05709841e-02  3.99348065e-02 -2.72775367e-02\n",
            "  -1.07925953e-02  5.95645644e-02  2.04846752e-03  4.59446572e-02\n",
            "   3.80898863e-02  3.36414799e-02 -3.08256131e-02 -3.63289155e-02\n",
            "  -1.57838371e-02 -6.21045753e-03 -2.08331179e-02 -3.37365462e-04\n",
            "  -6.94200844e-02  7.88054913e-02  1.73926726e-02  1.16276452e-02\n",
            "   5.35813905e-02 -7.61889443e-02 -2.38912441e-02 -8.24045166e-02\n",
            "  -5.09619936e-02  8.60075131e-02 -6.26353845e-02 -7.34254392e-03\n",
            "   2.38300338e-02  4.73826416e-02 -7.03858212e-02  1.37237208e-02\n",
            "   2.04952061e-02  1.75323859e-02 -2.60199290e-02  3.33335660e-02\n",
            "   4.82550934e-02 -7.03261718e-02  2.71712821e-02  2.98463609e-02\n",
            "  -7.94642195e-02  3.99792418e-02 -3.18055786e-02 -9.33420961e-04\n",
            "   4.44014221e-02  4.70317006e-02 -5.87054305e-02  2.01929361e-02\n",
            "  -3.55230980e-02 -7.76240826e-02  1.13567952e-02  6.84940442e-02\n",
            "  -6.97972346e-03 -5.80249839e-02 -5.39798513e-02 -1.56776980e-02\n",
            "  -2.69712061e-02 -3.51323783e-02 -2.42411550e-02 -4.45920887e-06\n",
            "  -1.47910276e-02 -7.52242431e-02  6.07387647e-02 -3.44788767e-02\n",
            "   1.56863537e-02  3.11259590e-02  3.50337029e-02  2.83033997e-02\n",
            "  -5.17111346e-02  5.30036399e-03  2.19194945e-02  1.69323739e-02\n",
            "   5.00460714e-02 -9.77893472e-02 -2.86431215e-03 -4.88994606e-02\n",
            "   3.08885379e-03 -4.54222336e-02 -2.68860888e-02 -1.58731360e-02]]\n"
          ]
        }
      ]
    },
    {
      "cell_type": "markdown",
      "source": [
        "#Building and Fitting a featuer extraction model\n"
      ],
      "metadata": {
        "id": "yYJ-_KW7HBrH"
      }
    },
    {
      "cell_type": "code",
      "source": [
        "#model 2\n",
        "inputs = layers.Input(shape=[], dtype=tf.string)\n",
        "pretrained_embedding = tf_hub_embedding_layer(inputs)\n",
        "x = layers.Dense(128, activation=\"relu\")(pretrained_embedding)\n",
        "outputs = layers.Dense(5, activation=\"softmax\")(x)\n",
        "model_2 = tf.keras.Model(inputs, outputs, name=\"model2USEfeatureExtractor\")\n",
        "\n",
        "model_2.compile(loss=\"categorical_crossentropy\",\n",
        "                optimizer=tf.keras.optimizers.Adam(),\n",
        "                metrics=[\"accuracy\"])\n",
        "\n",
        "model_2_history = model_2.fit(train_dataset,\n",
        "                              epochs=3,\n",
        "                              steps_per_epoch=int(0.1 * len(train_dataset)),\n",
        "                              validation_data=val_dataset,\n",
        "                              validation_steps=(0.1 * len(val_dataset)))"
      ],
      "metadata": {
        "colab": {
          "base_uri": "https://localhost:8080/"
        },
        "id": "SM9u2tCCB85u",
        "outputId": "be711c8e-0ad1-4a80-fe05-49d970220bdc"
      },
      "execution_count": 64,
      "outputs": [
        {
          "output_type": "stream",
          "name": "stdout",
          "text": [
            "Epoch 1/3\n",
            "562/562 [==============================] - 10s 14ms/step - loss: 0.9173 - accuracy: 0.6507 - val_loss: 0.8009 - val_accuracy: 0.6901\n",
            "Epoch 2/3\n",
            "562/562 [==============================] - 8s 13ms/step - loss: 0.7689 - accuracy: 0.7017 - val_loss: 0.7597 - val_accuracy: 0.7030\n",
            "Epoch 3/3\n",
            "562/562 [==============================] - 7s 13ms/step - loss: 0.7530 - accuracy: 0.7122 - val_loss: 0.7444 - val_accuracy: 0.7079\n"
          ]
        }
      ]
    },
    {
      "cell_type": "code",
      "source": [
        "model_2.summary()"
      ],
      "metadata": {
        "colab": {
          "base_uri": "https://localhost:8080/"
        },
        "id": "oUZ9HX-uC0m7",
        "outputId": "6ea1fd3f-413c-4038-e71f-f668174058f5"
      },
      "execution_count": 65,
      "outputs": [
        {
          "output_type": "stream",
          "name": "stdout",
          "text": [
            "Model: \"model2USEfeatureExtractor\"\n",
            "_________________________________________________________________\n",
            " Layer (type)                Output Shape              Param #   \n",
            "=================================================================\n",
            " input_2 (InputLayer)        [(None,)]                 0         \n",
            "                                                                 \n",
            " universal_sentence_encoder   (None, 512)              256797824 \n",
            " (KerasLayer)                                                    \n",
            "                                                                 \n",
            " dense_1 (Dense)             (None, 128)               65664     \n",
            "                                                                 \n",
            " dense_2 (Dense)             (None, 5)                 645       \n",
            "                                                                 \n",
            "=================================================================\n",
            "Total params: 256,864,133\n",
            "Trainable params: 66,309\n",
            "Non-trainable params: 256,797,824\n",
            "_________________________________________________________________\n"
          ]
        }
      ]
    },
    {
      "cell_type": "code",
      "source": [
        "model_2.evaluate(val_dataset)"
      ],
      "metadata": {
        "colab": {
          "base_uri": "https://localhost:8080/"
        },
        "id": "989nCY4oDA2J",
        "outputId": "ff23c7a9-f932-452b-efbc-36660e2a769d"
      },
      "execution_count": 66,
      "outputs": [
        {
          "output_type": "stream",
          "name": "stdout",
          "text": [
            "945/945 [==============================] - 11s 12ms/step - loss: 0.7418 - accuracy: 0.7122\n"
          ]
        },
        {
          "output_type": "execute_result",
          "data": {
            "text/plain": [
              "[0.7417554259300232, 0.7122335433959961]"
            ]
          },
          "metadata": {},
          "execution_count": 66
        }
      ]
    },
    {
      "cell_type": "code",
      "source": [
        "model_2_pred_probs = model_2.predict(val_dataset)\n",
        "model_2_preds = tf.argmax(model_2_pred_probs, axis=1)\n",
        "model_2_preds"
      ],
      "metadata": {
        "colab": {
          "base_uri": "https://localhost:8080/"
        },
        "id": "5J0zEXnhDFj7",
        "outputId": "0dc871a0-8848-46ef-9254-d90d522c5251"
      },
      "execution_count": 67,
      "outputs": [
        {
          "output_type": "execute_result",
          "data": {
            "text/plain": [
              "<tf.Tensor: shape=(30212,), dtype=int64, numpy=array([0, 1, 3, ..., 4, 4, 2])>"
            ]
          },
          "metadata": {},
          "execution_count": 67
        }
      ]
    },
    {
      "cell_type": "code",
      "source": [
        "#calcualte reults\n",
        "model_2_results = calculate_results(y_true=val_labels_encoded,\n",
        "                                    y_pred=model_2_preds)"
      ],
      "metadata": {
        "id": "UsOnr6hQDQmr"
      },
      "execution_count": 68,
      "outputs": []
    },
    {
      "cell_type": "code",
      "source": [
        "model_2_results"
      ],
      "metadata": {
        "colab": {
          "base_uri": "https://localhost:8080/"
        },
        "id": "8Byp_QgKDXcA",
        "outputId": "6295d2e2-18f6-4927-f670-a121ae8d2515"
      },
      "execution_count": 69,
      "outputs": [
        {
          "output_type": "execute_result",
          "data": {
            "text/plain": [
              "{'accuracy': 71.22335495829472,\n",
              " 'f1': 0.7093670693195184,\n",
              " 'precision': 0.7125580035795557,\n",
              " 'recall': 0.7122335495829472}"
            ]
          },
          "metadata": {},
          "execution_count": 69
        }
      ]
    },
    {
      "cell_type": "code",
      "source": [
        "baseline_results"
      ],
      "metadata": {
        "colab": {
          "base_uri": "https://localhost:8080/"
        },
        "id": "NguPibqrDfam",
        "outputId": "1b5554df-2734-4726-ff50-e3ece4f3f5df"
      },
      "execution_count": 70,
      "outputs": [
        {
          "output_type": "execute_result",
          "data": {
            "text/plain": [
              "{'accuracy': 72.1832384482987,\n",
              " 'f1': 0.6989250353450294,\n",
              " 'precision': 0.7186466952323352,\n",
              " 'recall': 0.7218323844829869}"
            ]
          },
          "metadata": {},
          "execution_count": 70
        }
      ]
    },
    {
      "cell_type": "markdown",
      "source": [
        "#Model_3 = Conv1D with Character Embeddings"
      ],
      "metadata": {
        "id": "Fl-WH7xVDlVd"
      }
    },
    {
      "cell_type": "markdown",
      "source": [
        "###creating character level tokenization"
      ],
      "metadata": {
        "id": "0e3YpP5yEQb-"
      }
    },
    {
      "cell_type": "code",
      "source": [
        "train_sentences[:5]"
      ],
      "metadata": {
        "colab": {
          "base_uri": "https://localhost:8080/"
        },
        "id": "X6s3s3s4ETA9",
        "outputId": "8a2e9b72-2326-41b0-b143-7ba7ff960c3b"
      },
      "execution_count": 71,
      "outputs": [
        {
          "output_type": "execute_result",
          "data": {
            "text/plain": [
              "['to investigate the efficacy of @ weeks of daily low-dose oral prednisolone in improving pain , mobility , and systemic low-grade inflammation in the short term and whether the effect would be sustained at @ weeks in older adults with moderate to severe knee osteoarthritis ( oa ) .',\n",
              " 'a total of @ patients with primary knee oa were randomized @:@ ; @ received @ mg/day of prednisolone and @ received placebo for @ weeks .',\n",
              " 'outcome measures included pain reduction and improvement in function scores and systemic inflammation markers .',\n",
              " 'pain was assessed using the visual analog pain scale ( @-@ mm ) .',\n",
              " 'secondary outcome measures included the western ontario and mcmaster universities osteoarthritis index scores , patient global assessment ( pga ) of the severity of knee oa , and @-min walk distance ( @mwd ) .']"
            ]
          },
          "metadata": {},
          "execution_count": 71
        }
      ]
    },
    {
      "cell_type": "code",
      "source": [
        "def split_chars(text):\n",
        "  return \" \".join(list(text))"
      ],
      "metadata": {
        "id": "fYp6VgZiEUge"
      },
      "execution_count": 72,
      "outputs": []
    },
    {
      "cell_type": "code",
      "source": [
        "split_chars(random_train_sentence)"
      ],
      "metadata": {
        "colab": {
          "base_uri": "https://localhost:8080/",
          "height": 53
        },
        "id": "_eGgE8QgEZSb",
        "outputId": "c89f0a14-a4b6-49bb-d1d4-0a61ef1b3343"
      },
      "execution_count": 73,
      "outputs": [
        {
          "output_type": "execute_result",
          "data": {
            "text/plain": [
              "\"@   c r o h n   ' s   d i s e a s e   p a t i e n t s   w h o   h a d   u n d e r g o n e   r e s e c t i o n   w e r e   t r e a t e d   w i t h   t w h f   @   m g / k g / d a y   o r   a z a t h i o p r i n e   @   m g / k g / d a y   .\""
            ],
            "application/vnd.google.colaboratory.intrinsic+json": {
              "type": "string"
            }
          },
          "metadata": {},
          "execution_count": 73
        }
      ]
    },
    {
      "cell_type": "code",
      "source": [
        "#split sequence levle data into char level datset\n",
        "train_chars = [split_chars(sentence) for sentence in train_sentences]\n",
        "val_chars = [split_chars(sentence) for sentence in val_sentences]\n",
        "test_chars = [split_chars(sentence) for sentence in test_sentences]\n",
        "\n",
        "chars_lens = [len(sentence) for sentence in train_sentences]\n",
        "mean_char_len = np.mean(chars_lens)\n",
        "mean_char_len"
      ],
      "metadata": {
        "colab": {
          "base_uri": "https://localhost:8080/"
        },
        "id": "xbi2wn_8Ecbl",
        "outputId": "06c733e5-606f-4bdd-8893-c99cdcdc1701"
      },
      "execution_count": 74,
      "outputs": [
        {
          "output_type": "execute_result",
          "data": {
            "text/plain": [
              "149.3662574983337"
            ]
          },
          "metadata": {},
          "execution_count": 74
        }
      ]
    },
    {
      "cell_type": "code",
      "source": [
        "import matplotlib.pyplot as plt\n",
        "plt.hist(chars_lens, bins=10)"
      ],
      "metadata": {
        "colab": {
          "base_uri": "https://localhost:8080/",
          "height": 372
        },
        "id": "nBmPPZXbE89y",
        "outputId": "d1402bb4-ea3f-4a60-bdcd-4bfcb8bae861"
      },
      "execution_count": 75,
      "outputs": [
        {
          "output_type": "execute_result",
          "data": {
            "text/plain": [
              "(array([9.2691e+04, 7.6343e+04, 9.6890e+03, 1.0890e+03, 1.6700e+02,\n",
              "        4.2000e+01, 1.3000e+01, 3.0000e+00, 2.0000e+00, 1.0000e+00]),\n",
              " array([1.0000e+00, 1.3950e+02, 2.7800e+02, 4.1650e+02, 5.5500e+02,\n",
              "        6.9350e+02, 8.3200e+02, 9.7050e+02, 1.1090e+03, 1.2475e+03,\n",
              "        1.3860e+03]),\n",
              " <a list of 10 Patch objects>)"
            ]
          },
          "metadata": {},
          "execution_count": 75
        },
        {
          "output_type": "display_data",
          "data": {
            "text/plain": [
              "<Figure size 432x288 with 1 Axes>"
            ],
            "image/png": "[encoded data removed]"
          },
          "metadata": {
            "needs_background": "light"
          }
        }
      ]
    },
    {
      "cell_type": "code",
      "source": [
        "#Find what character length covers 95% of sequences\n",
        "output_seq_char_len = int(np.percentile(chars_lens, 95))\n",
        "output_seq_char_len"
      ],
      "metadata": {
        "colab": {
          "base_uri": "https://localhost:8080/"
        },
        "id": "c7uG2Pn7FBDt",
        "outputId": "d32f9aed-d8ba-4484-9d4d-0d264a17e34d"
      },
      "execution_count": 76,
      "outputs": [
        {
          "output_type": "execute_result",
          "data": {
            "text/plain": [
              "290"
            ]
          },
          "metadata": {},
          "execution_count": 76
        }
      ]
    },
    {
      "cell_type": "code",
      "source": [
        "#get all keyboard characters\n",
        "import string\n",
        "alphabet = string.ascii_lowercase + string.digits + string.punctuation\n",
        "\n",
        "NUM_CHAR_TOKENS = len(alphabet) + 2 #add 2 for space and UNK\n",
        "char_vectorizer = TextVectorization(max_tokens=NUM_CHAR_TOKENS,\n",
        "                                    output_sequence_length=output_seq_char_len,\n",
        "                                    #standardize=None,\n",
        "                                    name=\"char_vectorizer\")"
      ],
      "metadata": {
        "id": "iZ5yhZnoFKmk"
      },
      "execution_count": 77,
      "outputs": []
    },
    {
      "cell_type": "code",
      "source": [
        "#adapt character vectorizer to tarining characters\n",
        "char_vectorizer.adapt(train_chars)"
      ],
      "metadata": {
        "id": "Ia2a3ghvF2OR"
      },
      "execution_count": 78,
      "outputs": []
    },
    {
      "cell_type": "code",
      "source": [
        "char_vocab = char_vectorizer.get_vocabulary()\n",
        "print(f\"Nmber of different character in charactervocab: {len(char_vocab)}\")\n",
        "print(f\"most common chars : {char_vocab[:5]}\")\n",
        "print(f\"Least common; {char_vocab[-5:]}\")"
      ],
      "metadata": {
        "colab": {
          "base_uri": "https://localhost:8080/"
        },
        "id": "AIFAU_ioF8js",
        "outputId": "d233cdc3-7062-4d85-9641-43d9380bc815"
      },
      "execution_count": 79,
      "outputs": [
        {
          "output_type": "stream",
          "name": "stdout",
          "text": [
            "Nmber of different character in charactervocab: 28\n",
            "most common chars : ['', '[UNK]', 'e', 't', 'i']\n",
            "Least common; ['k', 'x', 'z', 'q', 'j']\n"
          ]
        }
      ]
    },
    {
      "cell_type": "code",
      "source": [
        "random_train_chars = random.choice(train_chars)\n",
        "print(f\"Charified text: \\n {random_train_chars}\")\n",
        "print(f\"Length of ranodm_train_chares: {len(random_train_chars.split())}\")\n",
        "vectorized_chars = char_vectorizer([random_train_chars])\n",
        "print(f\"Vectorized Chars : {vectorized_chars}\")\n",
        "print(f\"Length of vectorized chars: {len(vectorized_chars[0])}\")\n"
      ],
      "metadata": {
        "colab": {
          "base_uri": "https://localhost:8080/"
        },
        "id": "z2xth9axGMuu",
        "outputId": "a8e71909-4da8-496a-ffa8-4869eb1db323"
      },
      "execution_count": 80,
      "outputs": [
        {
          "output_type": "stream",
          "name": "stdout",
          "text": [
            "Charified text: \n",
            " w i t h   t h e i r   v i s u a l   f i e l d s   o b s c u r e d   ,   s u b j e c t s   i n   b o t h   g r o u p s   w e r e   t h e n   e v a l u a t e d   o n   t h e i r   a b i l i t y   t o   u s e   t h e   s u c t i o n   a n d   b i p o l a r   i n s t r u m e n t s   t o   f i n d   s i x   e l a s t o t h a n e   o b j e c t s   w i t h   a r e a s   r a n g i n g   f r o m   @   t o   @   c m @   e m b e d d e d   i n   a   u r e t h a n e   f o a m   b r a i n   c a v i t y   m o d e l   w h i l e   r e l y i n g   o n   t a c t i l e   a n d   k i n e s t h e t i c   s e n s a t i o n   o n l y   .\n",
            "Length of ranodm_train_chares: 259\n",
            "Vectorized Chars : [[20  4  3 13  3 13  2  4  8 21  4  9 16  5 12 17  4  2 12 10  9  7 22  9\n",
            "  11 16  8  2 10  9 16 22 27  2 11  3  9  4  6 22  7  3 13 18  8  7 16 14\n",
            "   9 20  2  8  2  3 13  2  6  2 21  5 12 16  5  3  2 10  7  6  3 13  2  4\n",
            "   8  5 22  4 12  4  3 19  3  7 16  9  2  3 13  2  9 16 11  3  4  7  6  5\n",
            "   6 10 22  4 14  7 12  5  8  4  6  9  3  8 16 15  2  6  3  9  3  7 17  4\n",
            "   6 10  9  4 24  2 12  5  9  3  7  3 13  5  6  2  7 22 27  2 11  3  9 20\n",
            "   4  3 13  5  8  2  5  9  8  5  6 18  4  6 18 17  8  7 15  3  7 11 15  2\n",
            "  15 22  2 10 10  2 10  4  6  5 16  8  2  3 13  5  6  2 17  7  5 15 22  8\n",
            "   5  4  6 11  5 21  4  3 19 15  7 10  2 12 20 13  4 12  2  8  2 12 19  4\n",
            "   6 18  7  6  3  5 11  3  4 12  2  5  6 10 23  4  6  2  9  3 13  2  3  4\n",
            "  11  9  2  6  9  5  3  4  7  6  7  6 12 19  0  0  0  0  0  0  0  0  0  0\n",
            "   0  0  0  0  0  0  0  0  0  0  0  0  0  0  0  0  0  0  0  0  0  0  0  0\n",
            "   0  0]]\n",
            "Length of vectorized chars: 290\n"
          ]
        }
      ]
    },
    {
      "cell_type": "code",
      "source": [
        "## creating a character level embedding\n",
        "char_embed = layers.Embedding(input_dim=len(char_vocab),\n",
        "                              output_dim=25,\n",
        "                              mask_zero=True,\n",
        "                              name=\"char_embed\")"
      ],
      "metadata": {
        "id": "Lj7gGZibGyUi"
      },
      "execution_count": 81,
      "outputs": []
    },
    {
      "cell_type": "code",
      "source": [
        "print(f\"Charified text: \\n {random_train_chars}\")\n",
        "char_embed_example = char_embed(char_vectorizer([random_train_chars]))\n",
        "print(f\"Embedded chars. : {char_embed_example}\")\n",
        "print(f\"Embeddes shape: {char_embed_example.shape}\")"
      ],
      "metadata": {
        "colab": {
          "base_uri": "https://localhost:8080/"
        },
        "id": "SgcQtw7fHh8s",
        "outputId": "51ba357c-e17d-4e01-8be4-fd9ead08b103"
      },
      "execution_count": 82,
      "outputs": [
        {
          "output_type": "stream",
          "name": "stdout",
          "text": [
            "Charified text: \n",
            " w i t h   t h e i r   v i s u a l   f i e l d s   o b s c u r e d   ,   s u b j e c t s   i n   b o t h   g r o u p s   w e r e   t h e n   e v a l u a t e d   o n   t h e i r   a b i l i t y   t o   u s e   t h e   s u c t i o n   a n d   b i p o l a r   i n s t r u m e n t s   t o   f i n d   s i x   e l a s t o t h a n e   o b j e c t s   w i t h   a r e a s   r a n g i n g   f r o m   @   t o   @   c m @   e m b e d d e d   i n   a   u r e t h a n e   f o a m   b r a i n   c a v i t y   m o d e l   w h i l e   r e l y i n g   o n   t a c t i l e   a n d   k i n e s t h e t i c   s e n s a t i o n   o n l y   .\n",
            "Embedded chars. : [[[ 0.02040153 -0.04709522 -0.03048872 ... -0.02553967  0.03862682\n",
            "   -0.00659968]\n",
            "  [-0.02233608 -0.0243426  -0.04740406 ... -0.01179399  0.0021572\n",
            "   -0.00974806]\n",
            "  [ 0.02764064 -0.01051688 -0.01472383 ...  0.04107883 -0.0241366\n",
            "    0.00016551]\n",
            "  ...\n",
            "  [ 0.0356349   0.01699514  0.03316658 ... -0.01259048  0.03697339\n",
            "   -0.00114702]\n",
            "  [ 0.0356349   0.01699514  0.03316658 ... -0.01259048  0.03697339\n",
            "   -0.00114702]\n",
            "  [ 0.0356349   0.01699514  0.03316658 ... -0.01259048  0.03697339\n",
            "   -0.00114702]]]\n",
            "Embeddes shape: (1, 290, 25)\n"
          ]
        }
      ]
    },
    {
      "cell_type": "code",
      "source": [
        "#model_3\n",
        "inputs = layers.Input(shape=(1,), dtype=tf.string)\n",
        "char_vectors = char_vectorizer(inputs)\n",
        "char_embeddings = char_embed(char_vectors)\n",
        "x = layers.Conv1D(64, kernel_size=5, padding=\"same\", activation=\"relu\")(char_embeddings)\n",
        "x = layers.GlobalMaxPool1D()(x)\n",
        "outputs = layers.Dense(5, activation=\"softmax\")(x)\n",
        "model_3 = tf.keras.Model(inputs=inputs,\n",
        "                         outputs=outputs,\n",
        "                         name=\"model_3_conv1d_char_embedding\")"
      ],
      "metadata": {
        "id": "fgRSNVcAHzV4"
      },
      "execution_count": 83,
      "outputs": []
    },
    {
      "cell_type": "code",
      "source": [
        "model_3.summary()"
      ],
      "metadata": {
        "colab": {
          "base_uri": "https://localhost:8080/"
        },
        "id": "I5SZqUihIu4M",
        "outputId": "c5592d64-4c7f-4d33-a951-fe52715a4332"
      },
      "execution_count": 84,
      "outputs": [
        {
          "output_type": "stream",
          "name": "stdout",
          "text": [
            "Model: \"model_3_conv1d_char_embedding\"\n",
            "_________________________________________________________________\n",
            " Layer (type)                Output Shape              Param #   \n",
            "=================================================================\n",
            " input_3 (InputLayer)        [(None, 1)]               0         \n",
            "                                                                 \n",
            " char_vectorizer (TextVector  (None, 290)              0         \n",
            " ization)                                                        \n",
            "                                                                 \n",
            " char_embed (Embedding)      (None, 290, 25)           700       \n",
            "                                                                 \n",
            " conv1d_1 (Conv1D)           (None, 290, 64)           8064      \n",
            "                                                                 \n",
            " global_max_pooling1d (Globa  (None, 64)               0         \n",
            " lMaxPooling1D)                                                  \n",
            "                                                                 \n",
            " dense_3 (Dense)             (None, 5)                 325       \n",
            "                                                                 \n",
            "=================================================================\n",
            "Total params: 9,089\n",
            "Trainable params: 9,089\n",
            "Non-trainable params: 0\n",
            "_________________________________________________________________\n"
          ]
        }
      ]
    },
    {
      "cell_type": "code",
      "source": [
        "#Create char level datsets\n",
        "train_char_dataset = tf.data.Dataset.from_tensor_slices((train_chars, train_labels_one_hot)).batch(32).prefetch(tf.data.AUTOTUNE)\n",
        "val_char_dataset = tf.data.Dataset.from_tensor_slices((val_chars, val_labels_one_hot)).batch(32).prefetch(tf.data.AUTOTUNE)\n",
        "test_char_dataset = tf.data.Dataset.from_tensor_slices((test_chars, test_labels_one_hot)).batch(32).prefetch(tf.data.AUTOTUNE)"
      ],
      "metadata": {
        "id": "3_WKW-iZIv3D"
      },
      "execution_count": 85,
      "outputs": []
    },
    {
      "cell_type": "code",
      "source": [
        "train_char_dataset"
      ],
      "metadata": {
        "colab": {
          "base_uri": "https://localhost:8080/"
        },
        "id": "HpMRilpHJJ2v",
        "outputId": "03a514e7-7660-43d2-b63d-1d2ce78bfa37"
      },
      "execution_count": 86,
      "outputs": [
        {
          "output_type": "execute_result",
          "data": {
            "text/plain": [
              "<PrefetchDataset element_spec=(TensorSpec(shape=(None,), dtype=tf.string, name=None), TensorSpec(shape=(None, 5), dtype=tf.float64, name=None))>"
            ]
          },
          "metadata": {},
          "execution_count": 86
        }
      ]
    },
    {
      "cell_type": "code",
      "source": [
        "#Fit the model on chars only\n",
        "model_3.compile(loss=\"categorical_crossentropy\",\n",
        "                optimizer=tf.keras.optimizers.Adam(),\n",
        "                metrics=[\"accuracy\"])\n",
        "\n",
        "model_3_history = model_3.fit(train_char_dataset,\n",
        "                              steps_per_epoch=int(0.1*len(train_char_dataset)),\n",
        "                              epochs=3,\n",
        "                              validation_data=val_char_dataset,\n",
        "                              validation_steps=int(0.1*len(val_char_dataset)))"
      ],
      "metadata": {
        "colab": {
          "base_uri": "https://localhost:8080/"
        },
        "id": "zw-Mv8bUJP5q",
        "outputId": "efb62e00-58e1-4f66-bc27-636a40fd538f"
      },
      "execution_count": 87,
      "outputs": [
        {
          "output_type": "stream",
          "name": "stdout",
          "text": [
            "Epoch 1/3\n",
            "562/562 [==============================] - 4s 6ms/step - loss: 1.2484 - accuracy: 0.4933 - val_loss: 1.0444 - val_accuracy: 0.5768\n",
            "Epoch 2/3\n",
            "562/562 [==============================] - 3s 6ms/step - loss: 1.0084 - accuracy: 0.5918 - val_loss: 0.9437 - val_accuracy: 0.6270\n",
            "Epoch 3/3\n",
            "562/562 [==============================] - 3s 6ms/step - loss: 0.9224 - accuracy: 0.6380 - val_loss: 0.8720 - val_accuracy: 0.6606\n"
          ]
        }
      ]
    },
    {
      "cell_type": "code",
      "source": [
        "model_3_pred_probs = model_3.predict(val_char_dataset)\n",
        "model_3_preds = tf.argmax(model_3_pred_probs, axis=1)\n",
        "model_3_preds"
      ],
      "metadata": {
        "colab": {
          "base_uri": "https://localhost:8080/"
        },
        "id": "CAKgR2ASJs3W",
        "outputId": "7c28559b-f839-4573-91ca-a5690a6ee3c4"
      },
      "execution_count": 88,
      "outputs": [
        {
          "output_type": "execute_result",
          "data": {
            "text/plain": [
              "<tf.Tensor: shape=(30212,), dtype=int64, numpy=array([1, 1, 3, ..., 4, 4, 0])>"
            ]
          },
          "metadata": {},
          "execution_count": 88
        }
      ]
    },
    {
      "cell_type": "code",
      "source": [
        "model_3_results = calculate_results(val_labels_encoded,\n",
        "                                    model_3_preds)\n",
        "model_3_results"
      ],
      "metadata": {
        "colab": {
          "base_uri": "https://localhost:8080/"
        },
        "id": "HkUqmfiJKKaf",
        "outputId": "4ccf9b61-1a63-4210-a079-af75d3ebee0b"
      },
      "execution_count": 89,
      "outputs": [
        {
          "output_type": "execute_result",
          "data": {
            "text/plain": [
              "{'accuracy': 65.42102475837416,\n",
              " 'f1': 0.645841952069376,\n",
              " 'precision': 0.6525577221609008,\n",
              " 'recall': 0.6542102475837416}"
            ]
          },
          "metadata": {},
          "execution_count": 89
        }
      ]
    },
    {
      "cell_type": "code",
      "source": [
        "## Model 4: combining pretrianed token embeddings + characters embeddings\n",
        "token_inputs = layers.Input(shape=[], dtype=tf.string, name=\"token_input\")\n",
        "token_embeddings = tf_hub_embedding_layer(token_inputs)\n",
        "token_outputs = layers.Dense(128, activation=\"relu\")(token_embeddings)\n",
        "token_model = tf.keras.Model(inputs=token_inputs,\n",
        "                             outputs=token_outputs)\n",
        "\n",
        "char_inputs = layers.Input(shape=(1,), dtype=tf.string, name=\"char_input\")\n",
        "char_vectors = char_vectorizer(char_inputs)\n",
        "char_embeddings = char_embed(char_vectors)\n",
        "char_bi_lstm = layers.Bidirectional(layers.LSTM(24))(char_embeddings)\n",
        "char_model = tf.keras.Model(inputs=char_inputs,\n",
        "                            outputs=char_bi_lstm)"
      ],
      "metadata": {
        "id": "sE6XftF6Kotg"
      },
      "execution_count": 91,
      "outputs": []
    },
    {
      "cell_type": "code",
      "source": [
        "#using tf.keras.layers.Concatenate\n",
        "token_char_concat = layers.Concatenate(name=\"tokenc_char_hybrid\")([token_model.output,\n",
        "                                                                   char_model.output])\n",
        "\n",
        "#create output layers\n",
        "combined_dropout = layers.Dropout(0.5)(token_char_concat)\n",
        "combined_dense = layers.Dense(128, activation=\"relu\")(combined_dropout)\n",
        "final_dropout = layers.Dropout(0.5)(combined_dense)\n",
        "output_layer = layers.Dense(5, activation=\"softmax\")(final_dropout)\n",
        "\n",
        "model_4 = tf.keras.Model(inputs=[token_model.input, char_model.input],\n",
        "                         outputs=output_layer,\n",
        "                         name=\"model_4_token_and_char_embeddings\")"
      ],
      "metadata": {
        "id": "SrH7UT0beoNl"
      },
      "execution_count": 92,
      "outputs": []
    },
    {
      "cell_type": "code",
      "source": [
        "model_4.summary()\n",
        "model_4.compile(loss=\"categorical_crossentropy\",\n",
        "                optimizer=tf.keras.optimizers.Adam(),\n",
        "                metrics=[\"accuracy\"])\n",
        "\n"
      ],
      "metadata": {
        "colab": {
          "base_uri": "https://localhost:8080/"
        },
        "id": "JVZIZkdGf-SH",
        "outputId": "ffeb62fe-77d7-43b6-b009-8a88289f4a1e"
      },
      "execution_count": 93,
      "outputs": [
        {
          "output_type": "stream",
          "name": "stdout",
          "text": [
            "Model: \"model_4_token_and_char_embeddings\"\n",
            "__________________________________________________________________________________________________\n",
            " Layer (type)                   Output Shape         Param #     Connected to                     \n",
            "==================================================================================================\n",
            " char_input (InputLayer)        [(None, 1)]          0           []                               \n",
            "                                                                                                  \n",
            " token_input (InputLayer)       [(None,)]            0           []                               \n",
            "                                                                                                  \n",
            " char_vectorizer (TextVectoriza  (None, 290)         0           ['char_input[0][0]']             \n",
            " tion)                                                                                            \n",
            "                                                                                                  \n",
            " universal_sentence_encoder (Ke  (None, 512)         256797824   ['token_input[0][0]']            \n",
            " rasLayer)                                                                                        \n",
            "                                                                                                  \n",
            " char_embed (Embedding)         (None, 290, 25)      700         ['char_vectorizer[1][0]']        \n",
            "                                                                                                  \n",
            " dense_5 (Dense)                (None, 128)          65664       ['universal_sentence_encoder[2][0\n",
            "                                                                 ]']                              \n",
            "                                                                                                  \n",
            " bidirectional (Bidirectional)  (None, 50)           10200       ['char_embed[1][0]']             \n",
            "                                                                                                  \n",
            " tokenc_char_hybrid (Concatenat  (None, 178)         0           ['dense_5[0][0]',                \n",
            " e)                                                               'bidirectional[0][0]']          \n",
            "                                                                                                  \n",
            " dropout (Dropout)              (None, 178)          0           ['tokenc_char_hybrid[0][0]']     \n",
            "                                                                                                  \n",
            " dense_6 (Dense)                (None, 128)          22912       ['dropout[0][0]']                \n",
            "                                                                                                  \n",
            " dropout_1 (Dropout)            (None, 128)          0           ['dense_6[0][0]']                \n",
            "                                                                                                  \n",
            " dense_7 (Dense)                (None, 5)            645         ['dropout_1[0][0]']              \n",
            "                                                                                                  \n",
            "==================================================================================================\n",
            "Total params: 256,897,945\n",
            "Trainable params: 100,121\n",
            "Non-trainable params: 256,797,824\n",
            "__________________________________________________________________________________________________\n"
          ]
        }
      ]
    },
    {
      "cell_type": "code",
      "source": [
        "from keras.utils.vis_utils import plot_model"
      ],
      "metadata": {
        "id": "0Wak6NUrgK-1"
      },
      "execution_count": 97,
      "outputs": []
    },
    {
      "cell_type": "code",
      "source": [
        "plot_model(model_4)"
      ],
      "metadata": {
        "colab": {
          "base_uri": "https://localhost:8080/",
          "height": 856
        },
        "id": "1rjqn9hygqjp",
        "outputId": "c8990119-aefe-4d09-c062-c01bdcc45dd1"
      },
      "execution_count": 98,
      "outputs": [
        {
          "output_type": "execute_result",
          "data": {
            "text/plain": [
              "<IPython.core.display.Image object>"
            ],
            "image/png": "[encoded data removed]"
          },
          "metadata": {},
          "execution_count": 98
        }
      ]
    },
    {
      "cell_type": "code",
      "source": [
        "### combining char and token datasets\n",
        "train_char_token_data = tf.data.Dataset.from_tensor_slices((train_sentences, train_chars))\n",
        "train_char_token_labels = tf.data.Dataset.from_tensor_slices(train_labels_one_hot)\n",
        "train_char_token_dataset = tf.data.Dataset.zip((train_char_token_data, train_char_token_labels))\n",
        "\n",
        "#prefetching\n",
        "train_char_token_dataset = train_char_token_dataset.batch(32).prefetch(tf.data.AUTOTUNE)"
      ],
      "metadata": {
        "id": "YCrZ0Qg5g85o"
      },
      "execution_count": 101,
      "outputs": []
    },
    {
      "cell_type": "code",
      "source": [
        "### combining char and token datasets\n",
        "val_char_token_data = tf.data.Dataset.from_tensor_slices((val_sentences, val_chars))\n",
        "val_char_token_labels = tf.data.Dataset.from_tensor_slices(val_labels_one_hot)\n",
        "val_char_token_dataset = tf.data.Dataset.zip((val_char_token_data, val_char_token_labels))\n",
        "\n",
        "#prefetching\n",
        "val_char_token_dataset = val_char_token_dataset.batch(32).prefetch(tf.data.AUTOTUNE)"
      ],
      "metadata": {
        "id": "1rGqvh-6ihjz"
      },
      "execution_count": 102,
      "outputs": []
    },
    {
      "cell_type": "code",
      "source": [
        "train_char_token_dataset, val_char_token_dataset"
      ],
      "metadata": {
        "colab": {
          "base_uri": "https://localhost:8080/"
        },
        "id": "DQ7GnQPZjF6b",
        "outputId": "811ddc8f-772f-4bcd-f64c-3803aba71db8"
      },
      "execution_count": 103,
      "outputs": [
        {
          "output_type": "execute_result",
          "data": {
            "text/plain": [
              "(<PrefetchDataset element_spec=((TensorSpec(shape=(None,), dtype=tf.string, name=None), TensorSpec(shape=(None,), dtype=tf.string, name=None)), TensorSpec(shape=(None, 5), dtype=tf.float64, name=None))>,\n",
              " <PrefetchDataset element_spec=((TensorSpec(shape=(None,), dtype=tf.string, name=None), TensorSpec(shape=(None,), dtype=tf.string, name=None)), TensorSpec(shape=(None, 5), dtype=tf.float64, name=None))>)"
            ]
          },
          "metadata": {},
          "execution_count": 103
        }
      ]
    },
    {
      "cell_type": "markdown",
      "source": [
        "###Fitting a model"
      ],
      "metadata": {
        "id": "MHWdadJUjKUR"
      }
    },
    {
      "cell_type": "code",
      "source": [
        "history_model_4 = model_4.fit(train_char_token_dataset,\n",
        "                              steps_per_epoch=int(0.1*len(train_char_token_dataset)),\n",
        "                              epochs=3,\n",
        "                              validation_data=val_char_token_dataset,\n",
        "                              validation_steps=int(0.1*len(val_char_token_dataset)))"
      ],
      "metadata": {
        "colab": {
          "base_uri": "https://localhost:8080/"
        },
        "id": "t880EX74jaji",
        "outputId": "98f68707-0e2b-40fd-83d7-c34c7bb19745"
      },
      "execution_count": 105,
      "outputs": [
        {
          "output_type": "stream",
          "name": "stdout",
          "text": [
            "Epoch 1/3\n",
            "562/562 [==============================] - 68s 93ms/step - loss: 0.9857 - accuracy: 0.6050 - val_loss: 0.7846 - val_accuracy: 0.7035\n",
            "Epoch 2/3\n",
            "562/562 [==============================] - 48s 86ms/step - loss: 0.8036 - accuracy: 0.6884 - val_loss: 0.7094 - val_accuracy: 0.7334\n",
            "Epoch 3/3\n",
            "562/562 [==============================] - 42s 75ms/step - loss: 0.7735 - accuracy: 0.7066 - val_loss: 0.6922 - val_accuracy: 0.7374\n"
          ]
        }
      ]
    },
    {
      "cell_type": "code",
      "source": [
        "model_4_pred_probs = model_4.predict(val_char_token_dataset)\n",
        "model_4_preds = tf.argmax(model_4_pred_probs, axis=1)\n",
        "model_4_results = calculate_results(val_labels_encoded,\n",
        "                                    model_4_preds)"
      ],
      "metadata": {
        "id": "mOUouM6Cjouq"
      },
      "execution_count": 106,
      "outputs": []
    },
    {
      "cell_type": "code",
      "source": [
        "model_4_results"
      ],
      "metadata": {
        "colab": {
          "base_uri": "https://localhost:8080/"
        },
        "id": "Q7NJP9FmkdJZ",
        "outputId": "a5cd7b7a-7380-47a9-99f3-9bbfb60fb018"
      },
      "execution_count": 107,
      "outputs": [
        {
          "output_type": "execute_result",
          "data": {
            "text/plain": [
              "{'accuracy': 73.26889977492387,\n",
              " 'f1': 0.7302719464324838,\n",
              " 'precision': 0.734625021405254,\n",
              " 'recall': 0.7326889977492387}"
            ]
          },
          "metadata": {},
          "execution_count": 107
        }
      ]
    },
    {
      "cell_type": "code",
      "source": [
        ""
      ],
      "metadata": {
        "id": "jCsnsO36kd8b"
      },
      "execution_count": null,
      "outputs": []
    }
  ]
}