{
  "nbformat": 4,
  "nbformat_minor": 0,
  "metadata": {
    "colab": {
      "name": "09_skimlit.ipynb",
      "provenance": [],
      "collapsed_sections": [],
      "authorship_tag": "ABX9TyNCdiVcJTMyJV6Ez7ap6TgY",
      "include_colab_link": true
    },
    "kernelspec": {
      "name": "python3",
      "display_name": "Python 3"
    },
    "language_info": {
      "name": "python"
    },
    "accelerator": "GPU",
    "gpuClass": "standard"
  },
  "cells": [
    {
      "cell_type": "markdown",
      "metadata": {
        "id": "view-in-github",
        "colab_type": "text"
      },
      "source": [
        "<a href=\"https://colab.research.google.com/github/JacksonLeb/SkimLit/blob/main/09_skimlit.ipynb\" target=\"_parent\"><img src=\"https://colab.research.google.com/assets/colab-badge.svg\" alt=\"Open In Colab\"/></a>"
      ]
    },
    {
      "cell_type": "code",
      "execution_count": 1,
      "metadata": {
        "colab": {
          "base_uri": "https://localhost:8080/"
        },
        "id": "CjJsWKQGmcNV",
        "outputId": "4335edae-2bb0-453d-ea58-4d211a144051"
      },
      "outputs": [
        {
          "output_type": "stream",
          "name": "stdout",
          "text": [
            "GPU 0: Tesla T4 (UUID: GPU-36c83c04-28ed-f163-2f84-5367bf2626d1)\n"
          ]
        }
      ],
      "source": [
        "!nvidia-smi -L"
      ]
    },
    {
      "cell_type": "markdown",
      "source": [
        "#Building NLP Model to make Reading Medical Abstracts Easier"
      ],
      "metadata": {
        "id": "1nAVeDLDnZlj"
      }
    },
    {
      "cell_type": "code",
      "source": [
        "!git clone https://github.com/Franck-Dernoncourt/pubmed-rct.git\n",
        "!ls pubmed-rct"
      ],
      "metadata": {
        "colab": {
          "base_uri": "https://localhost:8080/"
        },
        "id": "KkkpF0bkn3jn",
        "outputId": "3ca95fc6-e142-4265-9292-e902e5cb5b64"
      },
      "execution_count": 2,
      "outputs": [
        {
          "output_type": "stream",
          "name": "stdout",
          "text": [
            "Cloning into 'pubmed-rct'...\n",
            "remote: Enumerating objects: 33, done.\u001b[K\n",
            "remote: Counting objects: 100% (8/8), done.\u001b[K\n",
            "remote: Compressing objects: 100% (3/3), done.\u001b[K\n",
            "remote: Total 33 (delta 5), reused 5 (delta 5), pack-reused 25\u001b[K\n",
            "Unpacking objects: 100% (33/33), done.\n",
            "PubMed_200k_RCT\n",
            "PubMed_200k_RCT_numbers_replaced_with_at_sign\n",
            "PubMed_20k_RCT\n",
            "PubMed_20k_RCT_numbers_replaced_with_at_sign\n",
            "README.md\n"
          ]
        }
      ]
    },
    {
      "cell_type": "code",
      "source": [
        "#Checking files in Pubmed_20k\n",
        "!ls pubmed-rct/PubMed_20k_RCT_numbers_replaced_with_at_sign/"
      ],
      "metadata": {
        "colab": {
          "base_uri": "https://localhost:8080/"
        },
        "id": "bu9vdFMWopxB",
        "outputId": "907623d8-dad1-43e8-b808-64e8bb782130"
      },
      "execution_count": 3,
      "outputs": [
        {
          "output_type": "stream",
          "name": "stdout",
          "text": [
            "dev.txt  test.txt  train.txt\n"
          ]
        }
      ]
    },
    {
      "cell_type": "code",
      "source": [
        "#Getting filenames and 20k  dataset with numbers replaced with @\n",
        "data_dir = \"/content/pubmed-rct/PubMed_20k_RCT_numbers_replaced_with_at_sign\"\n"
      ],
      "metadata": {
        "id": "dCCS9n9uo8rZ"
      },
      "execution_count": 4,
      "outputs": []
    },
    {
      "cell_type": "code",
      "source": [
        "#checking file names in target directory\n",
        "import os\n",
        "filenames = [data_dir + filename for filename in os.listdir(data_dir)]\n",
        "filenames"
      ],
      "metadata": {
        "colab": {
          "base_uri": "https://localhost:8080/"
        },
        "id": "1IsMzFsjps0E",
        "outputId": "d36c4b5e-1d22-445e-a389-7270be2d09e6"
      },
      "execution_count": 5,
      "outputs": [
        {
          "output_type": "execute_result",
          "data": {
            "text/plain": [
              "['/content/pubmed-rct/PubMed_20k_RCT_numbers_replaced_with_at_signtest.txt',\n",
              " '/content/pubmed-rct/PubMed_20k_RCT_numbers_replaced_with_at_signtrain.txt',\n",
              " '/content/pubmed-rct/PubMed_20k_RCT_numbers_replaced_with_at_signdev.txt']"
            ]
          },
          "metadata": {},
          "execution_count": 5
        }
      ]
    },
    {
      "cell_type": "markdown",
      "source": [
        "###preproess data"
      ],
      "metadata": {
        "id": "usRVNSsbpzbz"
      }
    },
    {
      "cell_type": "code",
      "source": [
        "#Function to read in lines of target text file\n",
        "def get_lines(filename):\n",
        "  \"\"\"\n",
        "  Reads in a filename and returns the lines of text as a list\n",
        "\n",
        "  Args:\n",
        "    filename: a string ocintains the target filepath\n",
        "\n",
        "  Returns:\n",
        "    a list containing each line in the file\n",
        "  \"\"\"\n",
        "  with open(filename, \"r\") as f:\n",
        "    return f.readlines()\n",
        "    "
      ],
      "metadata": {
        "id": "f2xwpTzUqISd"
      },
      "execution_count": 6,
      "outputs": []
    },
    {
      "cell_type": "code",
      "source": [
        "#reading in training liines\n",
        "train_lines = get_lines(data_dir+\"/train.txt\")"
      ],
      "metadata": {
        "id": "M26EjlVIqrHm"
      },
      "execution_count": 7,
      "outputs": []
    },
    {
      "cell_type": "code",
      "source": [
        "train_lines[:20]"
      ],
      "metadata": {
        "colab": {
          "base_uri": "https://localhost:8080/"
        },
        "id": "9Foacc5_qt5d",
        "outputId": "c2ce1d97-7763-41a7-876e-35f6e64792a2"
      },
      "execution_count": 8,
      "outputs": [
        {
          "output_type": "execute_result",
          "data": {
            "text/plain": [
              "['###24293578\\n',\n",
              " 'OBJECTIVE\\tTo investigate the efficacy of @ weeks of daily low-dose oral prednisolone in improving pain , mobility , and systemic low-grade inflammation in the short term and whether the effect would be sustained at @ weeks in older adults with moderate to severe knee osteoarthritis ( OA ) .\\n',\n",
              " 'METHODS\\tA total of @ patients with primary knee OA were randomized @:@ ; @ received @ mg/day of prednisolone and @ received placebo for @ weeks .\\n',\n",
              " 'METHODS\\tOutcome measures included pain reduction and improvement in function scores and systemic inflammation markers .\\n',\n",
              " 'METHODS\\tPain was assessed using the visual analog pain scale ( @-@ mm ) .\\n',\n",
              " 'METHODS\\tSecondary outcome measures included the Western Ontario and McMaster Universities Osteoarthritis Index scores , patient global assessment ( PGA ) of the severity of knee OA , and @-min walk distance ( @MWD ) .\\n',\n",
              " 'METHODS\\tSerum levels of interleukin @ ( IL-@ ) , IL-@ , tumor necrosis factor ( TNF ) - , and high-sensitivity C-reactive protein ( hsCRP ) were measured .\\n',\n",
              " 'RESULTS\\tThere was a clinically relevant reduction in the intervention group compared to the placebo group for knee pain , physical function , PGA , and @MWD at @ weeks .\\n',\n",
              " 'RESULTS\\tThe mean difference between treatment arms ( @ % CI ) was @ ( @-@ @ ) , p < @ ; @ ( @-@ @ ) , p < @ ; @ ( @-@ @ ) , p < @ ; and @ ( @-@ @ ) , p < @ , respectively .\\n',\n",
              " 'RESULTS\\tFurther , there was a clinically relevant reduction in the serum levels of IL-@ , IL-@ , TNF - , and hsCRP at @ weeks in the intervention group when compared to the placebo group .\\n',\n",
              " 'RESULTS\\tThese differences remained significant at @ weeks .\\n',\n",
              " 'RESULTS\\tThe Outcome Measures in Rheumatology Clinical Trials-Osteoarthritis Research Society International responder rate was @ % in the intervention group and @ % in the placebo group ( p < @ ) .\\n',\n",
              " 'CONCLUSIONS\\tLow-dose oral prednisolone had both a short-term and a longer sustained effect resulting in less knee pain , better physical function , and attenuation of systemic inflammation in older patients with knee OA ( ClinicalTrials.gov identifier NCT@ ) .\\n',\n",
              " '\\n',\n",
              " '###24854809\\n',\n",
              " 'BACKGROUND\\tEmotional eating is associated with overeating and the development of obesity .\\n',\n",
              " 'BACKGROUND\\tYet , empirical evidence for individual ( trait ) differences in emotional eating and cognitive mechanisms that contribute to eating during sad mood remain equivocal .\\n',\n",
              " 'OBJECTIVE\\tThe aim of this study was to test if attention bias for food moderates the effect of self-reported emotional eating during sad mood ( vs neutral mood ) on actual food intake .\\n',\n",
              " 'OBJECTIVE\\tIt was expected that emotional eating is predictive of elevated attention for food and higher food intake after an experimentally induced sad mood and that attentional maintenance on food predicts food intake during a sad versus a neutral mood .\\n',\n",
              " 'METHODS\\tParticipants ( N = @ ) were randomly assigned to one of the two experimental mood induction conditions ( sad/neutral ) .\\n']"
            ]
          },
          "metadata": {},
          "execution_count": 8
        }
      ]
    },
    {
      "cell_type": "code",
      "source": [
        "len(train_lines)"
      ],
      "metadata": {
        "colab": {
          "base_uri": "https://localhost:8080/"
        },
        "id": "YOPqc2Dbq4e4",
        "outputId": "78780d5e-3219-40b4-8ce5-bf50998b3d34"
      },
      "execution_count": 9,
      "outputs": [
        {
          "output_type": "execute_result",
          "data": {
            "text/plain": [
              "210040"
            ]
          },
          "metadata": {},
          "execution_count": 9
        }
      ]
    },
    {
      "cell_type": "markdown",
      "source": [
        "#How the data will be formatted\n",
        "[\n",
        "    {'linenumber': 0,\n",
        "     'target': 'BACKGROUND',\n",
        "     'text': 'Emotional eating is associated with overeating and the development of obesity ',\n",
        "     'total_lines': 11},\n",
        " \n",
        "]"
      ],
      "metadata": {
        "id": "1Ql6trCnrJGv"
      }
    },
    {
      "cell_type": "code",
      "source": [
        "def preprocess_text_with_line_numbers(filename):\n",
        "  \"\"\"\n",
        "  Returns a list of dictionaries of abstract line data\n",
        "\n",
        "  takes in filename, reads it contents and sort through each line, extracting htisngs like the target label,\n",
        "  the text of the sentence, how many sentences are in the current asbtract, etc\n",
        "  \"\"\"\n",
        "\n",
        "  input_lines = get_lines(filename)\n",
        "  abstract_lines = \"\"\n",
        "  abstract_samples = []\n",
        "\n",
        "  for line in input_lines:\n",
        "    if(line.startswith(\"###\")):\n",
        "      #new id line\n",
        "       abstract_id = line\n",
        "       abstract_lines = \"\"\n",
        "    elif(line.isspace()):\n",
        "      #new line\n",
        "       abstract_line_split = abstract_lines.splitlines()\n",
        "\n",
        "       #Iterate through each line in a single abstract and count them at the same time\n",
        "       for abstract_line_number, abstract_line in enumerate(abstract_line_split):\n",
        "         line_data = {}\n",
        "         target_text_split = abstract_line.split('\\t')\n",
        "         line_data[\"target\"] = target_text_split[0]\n",
        "         line_data[\"text\"] = target_text_split[1].lower()\n",
        "         line_data[\"line_number\"] = abstract_line_number\n",
        "         line_data[\"total_lines\"] = len(abstract_line_split) - 1\n",
        "         abstract_samples.append(line_data)\n",
        "    else:\n",
        "      abstract_lines += line\n",
        "  \n",
        "  return abstract_samples\n"
      ],
      "metadata": {
        "id": "rs7c786pr670"
      },
      "execution_count": 10,
      "outputs": []
    },
    {
      "cell_type": "code",
      "source": [
        "%%time\n",
        "train_samples = preprocess_text_with_line_numbers(data_dir + \"/train.txt\")\n",
        "val_samples = preprocess_text_with_line_numbers(data_dir + \"/dev.txt\")\n",
        "test_samples = preprocess_text_with_line_numbers(data_dir + \"/test.txt\")"
      ],
      "metadata": {
        "colab": {
          "base_uri": "https://localhost:8080/"
        },
        "id": "vZ-ugUyuXxeg",
        "outputId": "ad0a3c07-4481-4886-c10f-9d537e76802d"
      },
      "execution_count": 11,
      "outputs": [
        {
          "output_type": "stream",
          "name": "stdout",
          "text": [
            "CPU times: user 422 ms, sys: 92.7 ms, total: 515 ms\n",
            "Wall time: 534 ms\n"
          ]
        }
      ]
    },
    {
      "cell_type": "code",
      "source": [
        "len(train_samples), len(val_samples), len(test_samples)"
      ],
      "metadata": {
        "colab": {
          "base_uri": "https://localhost:8080/"
        },
        "id": "CAf7kpLhX9by",
        "outputId": "ed502f16-1cd1-45fc-adc0-6d3aadcfb7b7"
      },
      "execution_count": 12,
      "outputs": [
        {
          "output_type": "execute_result",
          "data": {
            "text/plain": [
              "(180040, 30212, 30135)"
            ]
          },
          "metadata": {},
          "execution_count": 12
        }
      ]
    },
    {
      "cell_type": "code",
      "source": [
        "train_samples[:20]"
      ],
      "metadata": {
        "colab": {
          "base_uri": "https://localhost:8080/"
        },
        "id": "dYJ93F2BYF58",
        "outputId": "5701845a-b32e-4654-866e-e1ebad4276f5"
      },
      "execution_count": 13,
      "outputs": [
        {
          "output_type": "execute_result",
          "data": {
            "text/plain": [
              "[{'line_number': 0,\n",
              "  'target': 'OBJECTIVE',\n",
              "  'text': 'to investigate the efficacy of @ weeks of daily low-dose oral prednisolone in improving pain , mobility , and systemic low-grade inflammation in the short term and whether the effect would be sustained at @ weeks in older adults with moderate to severe knee osteoarthritis ( oa ) .',\n",
              "  'total_lines': 11},\n",
              " {'line_number': 1,\n",
              "  'target': 'METHODS',\n",
              "  'text': 'a total of @ patients with primary knee oa were randomized @:@ ; @ received @ mg/day of prednisolone and @ received placebo for @ weeks .',\n",
              "  'total_lines': 11},\n",
              " {'line_number': 2,\n",
              "  'target': 'METHODS',\n",
              "  'text': 'outcome measures included pain reduction and improvement in function scores and systemic inflammation markers .',\n",
              "  'total_lines': 11},\n",
              " {'line_number': 3,\n",
              "  'target': 'METHODS',\n",
              "  'text': 'pain was assessed using the visual analog pain scale ( @-@ mm ) .',\n",
              "  'total_lines': 11},\n",
              " {'line_number': 4,\n",
              "  'target': 'METHODS',\n",
              "  'text': 'secondary outcome measures included the western ontario and mcmaster universities osteoarthritis index scores , patient global assessment ( pga ) of the severity of knee oa , and @-min walk distance ( @mwd ) .',\n",
              "  'total_lines': 11},\n",
              " {'line_number': 5,\n",
              "  'target': 'METHODS',\n",
              "  'text': 'serum levels of interleukin @ ( il-@ ) , il-@ , tumor necrosis factor ( tnf ) - , and high-sensitivity c-reactive protein ( hscrp ) were measured .',\n",
              "  'total_lines': 11},\n",
              " {'line_number': 6,\n",
              "  'target': 'RESULTS',\n",
              "  'text': 'there was a clinically relevant reduction in the intervention group compared to the placebo group for knee pain , physical function , pga , and @mwd at @ weeks .',\n",
              "  'total_lines': 11},\n",
              " {'line_number': 7,\n",
              "  'target': 'RESULTS',\n",
              "  'text': 'the mean difference between treatment arms ( @ % ci ) was @ ( @-@ @ ) , p < @ ; @ ( @-@ @ ) , p < @ ; @ ( @-@ @ ) , p < @ ; and @ ( @-@ @ ) , p < @ , respectively .',\n",
              "  'total_lines': 11},\n",
              " {'line_number': 8,\n",
              "  'target': 'RESULTS',\n",
              "  'text': 'further , there was a clinically relevant reduction in the serum levels of il-@ , il-@ , tnf - , and hscrp at @ weeks in the intervention group when compared to the placebo group .',\n",
              "  'total_lines': 11},\n",
              " {'line_number': 9,\n",
              "  'target': 'RESULTS',\n",
              "  'text': 'these differences remained significant at @ weeks .',\n",
              "  'total_lines': 11},\n",
              " {'line_number': 10,\n",
              "  'target': 'RESULTS',\n",
              "  'text': 'the outcome measures in rheumatology clinical trials-osteoarthritis research society international responder rate was @ % in the intervention group and @ % in the placebo group ( p < @ ) .',\n",
              "  'total_lines': 11},\n",
              " {'line_number': 11,\n",
              "  'target': 'CONCLUSIONS',\n",
              "  'text': 'low-dose oral prednisolone had both a short-term and a longer sustained effect resulting in less knee pain , better physical function , and attenuation of systemic inflammation in older patients with knee oa ( clinicaltrials.gov identifier nct@ ) .',\n",
              "  'total_lines': 11},\n",
              " {'line_number': 0,\n",
              "  'target': 'BACKGROUND',\n",
              "  'text': 'emotional eating is associated with overeating and the development of obesity .',\n",
              "  'total_lines': 10},\n",
              " {'line_number': 1,\n",
              "  'target': 'BACKGROUND',\n",
              "  'text': 'yet , empirical evidence for individual ( trait ) differences in emotional eating and cognitive mechanisms that contribute to eating during sad mood remain equivocal .',\n",
              "  'total_lines': 10},\n",
              " {'line_number': 2,\n",
              "  'target': 'OBJECTIVE',\n",
              "  'text': 'the aim of this study was to test if attention bias for food moderates the effect of self-reported emotional eating during sad mood ( vs neutral mood ) on actual food intake .',\n",
              "  'total_lines': 10},\n",
              " {'line_number': 3,\n",
              "  'target': 'OBJECTIVE',\n",
              "  'text': 'it was expected that emotional eating is predictive of elevated attention for food and higher food intake after an experimentally induced sad mood and that attentional maintenance on food predicts food intake during a sad versus a neutral mood .',\n",
              "  'total_lines': 10},\n",
              " {'line_number': 4,\n",
              "  'target': 'METHODS',\n",
              "  'text': 'participants ( n = @ ) were randomly assigned to one of the two experimental mood induction conditions ( sad/neutral ) .',\n",
              "  'total_lines': 10},\n",
              " {'line_number': 5,\n",
              "  'target': 'METHODS',\n",
              "  'text': 'attentional biases for high caloric foods were measured by eye tracking during a visual probe task with pictorial food and neutral stimuli .',\n",
              "  'total_lines': 10},\n",
              " {'line_number': 6,\n",
              "  'target': 'METHODS',\n",
              "  'text': 'self-reported emotional eating was assessed with the dutch eating behavior questionnaire ( debq ) and ad libitum food intake was tested by a disguised food offer .',\n",
              "  'total_lines': 10},\n",
              " {'line_number': 7,\n",
              "  'target': 'RESULTS',\n",
              "  'text': 'hierarchical multivariate regression modeling showed that self-reported emotional eating did not account for changes in attention allocation for food or food intake in either condition .',\n",
              "  'total_lines': 10}]"
            ]
          },
          "metadata": {},
          "execution_count": 13
        }
      ]
    },
    {
      "cell_type": "code",
      "source": [
        "import pandas as pd\n",
        "train_df = pd.DataFrame(train_samples)\n",
        "val_df = pd.DataFrame(val_samples)\n",
        "test_df = pd.DataFrame(test_samples)"
      ],
      "metadata": {
        "id": "n2aNCMm3YUqS"
      },
      "execution_count": 14,
      "outputs": []
    },
    {
      "cell_type": "code",
      "source": [
        "train_df"
      ],
      "metadata": {
        "colab": {
          "base_uri": "https://localhost:8080/",
          "height": 424
        },
        "id": "HoukqNsTY4PG",
        "outputId": "89588e02-b1d9-45ee-d6c5-f52809213b52"
      },
      "execution_count": 15,
      "outputs": [
        {
          "output_type": "execute_result",
          "data": {
            "text/plain": [
              "             target                                               text  \\\n",
              "0         OBJECTIVE  to investigate the efficacy of @ weeks of dail...   \n",
              "1           METHODS  a total of @ patients with primary knee oa wer...   \n",
              "2           METHODS  outcome measures included pain reduction and i...   \n",
              "3           METHODS  pain was assessed using the visual analog pain...   \n",
              "4           METHODS  secondary outcome measures included the wester...   \n",
              "...             ...                                                ...   \n",
              "180035      RESULTS  for the absolute change in percent atheroma vo...   \n",
              "180036      RESULTS  for pav , a significantly greater percentage o...   \n",
              "180037      RESULTS  both strategies had acceptable side effect pro...   \n",
              "180038  CONCLUSIONS  compared with standard statin monotherapy , th...   \n",
              "180039  CONCLUSIONS  ( plaque regression with cholesterol absorptio...   \n",
              "\n",
              "        line_number  total_lines  \n",
              "0                 0           11  \n",
              "1                 1           11  \n",
              "2                 2           11  \n",
              "3                 3           11  \n",
              "4                 4           11  \n",
              "...             ...          ...  \n",
              "180035            7           11  \n",
              "180036            8           11  \n",
              "180037            9           11  \n",
              "180038           10           11  \n",
              "180039           11           11  \n",
              "\n",
              "[180040 rows x 4 columns]"
            ],
            "text/html": [
              "\n",
              "  <div id=\"df-6683d735-a531-489f-bb1e-8bbc9a56cf2f\">\n",
              "    <div class=\"colab-df-container\">\n",
              "      <div>\n",
              "<style scoped>\n",
              "    .dataframe tbody tr th:only-of-type {\n",
              "        vertical-align: middle;\n",
              "    }\n",
              "\n",
              "    .dataframe tbody tr th {\n",
              "        vertical-align: top;\n",
              "    }\n",
              "\n",
              "    .dataframe thead th {\n",
              "        text-align: right;\n",
              "    }\n",
              "</style>\n",
              "<table border=\"1\" class=\"dataframe\">\n",
              "  <thead>\n",
              "    <tr style=\"text-align: right;\">\n",
              "      <th></th>\n",
              "      <th>target</th>\n",
              "      <th>text</th>\n",
              "      <th>line_number</th>\n",
              "      <th>total_lines</th>\n",
              "    </tr>\n",
              "  </thead>\n",
              "  <tbody>\n",
              "    <tr>\n",
              "      <th>0</th>\n",
              "      <td>OBJECTIVE</td>\n",
              "      <td>to investigate the efficacy of @ weeks of dail...</td>\n",
              "      <td>0</td>\n",
              "      <td>11</td>\n",
              "    </tr>\n",
              "    <tr>\n",
              "      <th>1</th>\n",
              "      <td>METHODS</td>\n",
              "      <td>a total of @ patients with primary knee oa wer...</td>\n",
              "      <td>1</td>\n",
              "      <td>11</td>\n",
              "    </tr>\n",
              "    <tr>\n",
              "      <th>2</th>\n",
              "      <td>METHODS</td>\n",
              "      <td>outcome measures included pain reduction and i...</td>\n",
              "      <td>2</td>\n",
              "      <td>11</td>\n",
              "    </tr>\n",
              "    <tr>\n",
              "      <th>3</th>\n",
              "      <td>METHODS</td>\n",
              "      <td>pain was assessed using the visual analog pain...</td>\n",
              "      <td>3</td>\n",
              "      <td>11</td>\n",
              "    </tr>\n",
              "    <tr>\n",
              "      <th>4</th>\n",
              "      <td>METHODS</td>\n",
              "      <td>secondary outcome measures included the wester...</td>\n",
              "      <td>4</td>\n",
              "      <td>11</td>\n",
              "    </tr>\n",
              "    <tr>\n",
              "      <th>...</th>\n",
              "      <td>...</td>\n",
              "      <td>...</td>\n",
              "      <td>...</td>\n",
              "      <td>...</td>\n",
              "    </tr>\n",
              "    <tr>\n",
              "      <th>180035</th>\n",
              "      <td>RESULTS</td>\n",
              "      <td>for the absolute change in percent atheroma vo...</td>\n",
              "      <td>7</td>\n",
              "      <td>11</td>\n",
              "    </tr>\n",
              "    <tr>\n",
              "      <th>180036</th>\n",
              "      <td>RESULTS</td>\n",
              "      <td>for pav , a significantly greater percentage o...</td>\n",
              "      <td>8</td>\n",
              "      <td>11</td>\n",
              "    </tr>\n",
              "    <tr>\n",
              "      <th>180037</th>\n",
              "      <td>RESULTS</td>\n",
              "      <td>both strategies had acceptable side effect pro...</td>\n",
              "      <td>9</td>\n",
              "      <td>11</td>\n",
              "    </tr>\n",
              "    <tr>\n",
              "      <th>180038</th>\n",
              "      <td>CONCLUSIONS</td>\n",
              "      <td>compared with standard statin monotherapy , th...</td>\n",
              "      <td>10</td>\n",
              "      <td>11</td>\n",
              "    </tr>\n",
              "    <tr>\n",
              "      <th>180039</th>\n",
              "      <td>CONCLUSIONS</td>\n",
              "      <td>( plaque regression with cholesterol absorptio...</td>\n",
              "      <td>11</td>\n",
              "      <td>11</td>\n",
              "    </tr>\n",
              "  </tbody>\n",
              "</table>\n",
              "<p>180040 rows × 4 columns</p>\n",
              "</div>\n",
              "      <button class=\"colab-df-convert\" onclick=\"convertToInteractive('df-6683d735-a531-489f-bb1e-8bbc9a56cf2f')\"\n",
              "              title=\"Convert this dataframe to an interactive table.\"\n",
              "              style=\"display:none;\">\n",
              "        \n",
              "  <svg xmlns=\"http://www.w3.org/2000/svg\" height=\"24px\"viewBox=\"0 0 24 24\"\n",
              "       width=\"24px\">\n",
              "    <path d=\"M0 0h24v24H0V0z\" fill=\"none\"/>\n",
              "    <path d=\"M18.56 5.44l.94 2.06.94-2.06 2.06-.94-2.06-.94-.94-2.06-.94 2.06-2.06.94zm-11 1L8.5 8.5l.94-2.06 2.06-.94-2.06-.94L8.5 2.5l-.94 2.06-2.06.94zm10 10l.94 2.06.94-2.06 2.06-.94-2.06-.94-.94-2.06-.94 2.06-2.06.94z\"/><path d=\"M17.41 7.96l-1.37-1.37c-.4-.4-.92-.59-1.43-.59-.52 0-1.04.2-1.43.59L10.3 9.45l-7.72 7.72c-.78.78-.78 2.05 0 2.83L4 21.41c.39.39.9.59 1.41.59.51 0 1.02-.2 1.41-.59l7.78-7.78 2.81-2.81c.8-.78.8-2.07 0-2.86zM5.41 20L4 18.59l7.72-7.72 1.47 1.35L5.41 20z\"/>\n",
              "  </svg>\n",
              "      </button>\n",
              "      \n",
              "  <style>\n",
              "    .colab-df-container {\n",
              "      display:flex;\n",
              "      flex-wrap:wrap;\n",
              "      gap: 12px;\n",
              "    }\n",
              "\n",
              "    .colab-df-convert {\n",
              "      background-color: #E8F0FE;\n",
              "      border: none;\n",
              "      border-radius: 50%;\n",
              "      cursor: pointer;\n",
              "      display: none;\n",
              "      fill: #1967D2;\n",
              "      height: 32px;\n",
              "      padding: 0 0 0 0;\n",
              "      width: 32px;\n",
              "    }\n",
              "\n",
              "    .colab-df-convert:hover {\n",
              "      background-color: #E2EBFA;\n",
              "      box-shadow: 0px 1px 2px rgba(60, 64, 67, 0.3), 0px 1px 3px 1px rgba(60, 64, 67, 0.15);\n",
              "      fill: #174EA6;\n",
              "    }\n",
              "\n",
              "    [theme=dark] .colab-df-convert {\n",
              "      background-color: #3B4455;\n",
              "      fill: #D2E3FC;\n",
              "    }\n",
              "\n",
              "    [theme=dark] .colab-df-convert:hover {\n",
              "      background-color: #434B5C;\n",
              "      box-shadow: 0px 1px 3px 1px rgba(0, 0, 0, 0.15);\n",
              "      filter: drop-shadow(0px 1px 2px rgba(0, 0, 0, 0.3));\n",
              "      fill: #FFFFFF;\n",
              "    }\n",
              "  </style>\n",
              "\n",
              "      <script>\n",
              "        const buttonEl =\n",
              "          document.querySelector('#df-6683d735-a531-489f-bb1e-8bbc9a56cf2f button.colab-df-convert');\n",
              "        buttonEl.style.display =\n",
              "          google.colab.kernel.accessAllowed ? 'block' : 'none';\n",
              "\n",
              "        async function convertToInteractive(key) {\n",
              "          const element = document.querySelector('#df-6683d735-a531-489f-bb1e-8bbc9a56cf2f');\n",
              "          const dataTable =\n",
              "            await google.colab.kernel.invokeFunction('convertToInteractive',\n",
              "                                                     [key], {});\n",
              "          if (!dataTable) return;\n",
              "\n",
              "          const docLinkHtml = 'Like what you see? Visit the ' +\n",
              "            '<a target=\"_blank\" href=https://colab.research.google.com/notebooks/data_table.ipynb>data table notebook</a>'\n",
              "            + ' to learn more about interactive tables.';\n",
              "          element.innerHTML = '';\n",
              "          dataTable['output_type'] = 'display_data';\n",
              "          await google.colab.output.renderOutput(dataTable, element);\n",
              "          const docLink = document.createElement('div');\n",
              "          docLink.innerHTML = docLinkHtml;\n",
              "          element.appendChild(docLink);\n",
              "        }\n",
              "      </script>\n",
              "    </div>\n",
              "  </div>\n",
              "  "
            ]
          },
          "metadata": {},
          "execution_count": 15
        }
      ]
    },
    {
      "cell_type": "code",
      "source": [
        "val_df"
      ],
      "metadata": {
        "colab": {
          "base_uri": "https://localhost:8080/",
          "height": 424
        },
        "id": "Rk-TtsMhY5Em",
        "outputId": "93e02a94-daf7-485c-a5e3-2507593bfa40"
      },
      "execution_count": 16,
      "outputs": [
        {
          "output_type": "execute_result",
          "data": {
            "text/plain": [
              "            target                                               text  \\\n",
              "0       BACKGROUND  ige sensitization to aspergillus fumigatus and...   \n",
              "1       BACKGROUND  it is not clear whether these patients would b...   \n",
              "2        OBJECTIVE  we sought to determine whether a @-month cours...   \n",
              "3          METHODS  asthmatic patients who were ige sensitized to ...   \n",
              "4          METHODS  primary outcomes were improvement in quality o...   \n",
              "...            ...                                                ...   \n",
              "30207      RESULTS  pruritus occurred more frequently with the act...   \n",
              "30208      RESULTS  three patients in the active-regimen group ( @...   \n",
              "30209      RESULTS  hemoglobin values of grade @ ( @ to < @ g per ...   \n",
              "30210  CONCLUSIONS  rates of response to a @-week interferon-free ...   \n",
              "30211  CONCLUSIONS  ( funded by abbvie ; sapphire-ii clinicaltrial...   \n",
              "\n",
              "       line_number  total_lines  \n",
              "0                0            9  \n",
              "1                1            9  \n",
              "2                2            9  \n",
              "3                3            9  \n",
              "4                4            9  \n",
              "...            ...          ...  \n",
              "30207            9           13  \n",
              "30208           10           13  \n",
              "30209           11           13  \n",
              "30210           12           13  \n",
              "30211           13           13  \n",
              "\n",
              "[30212 rows x 4 columns]"
            ],
            "text/html": [
              "\n",
              "  <div id=\"df-7ea294d6-8b77-4102-b691-4e58aafb3b9e\">\n",
              "    <div class=\"colab-df-container\">\n",
              "      <div>\n",
              "<style scoped>\n",
              "    .dataframe tbody tr th:only-of-type {\n",
              "        vertical-align: middle;\n",
              "    }\n",
              "\n",
              "    .dataframe tbody tr th {\n",
              "        vertical-align: top;\n",
              "    }\n",
              "\n",
              "    .dataframe thead th {\n",
              "        text-align: right;\n",
              "    }\n",
              "</style>\n",
              "<table border=\"1\" class=\"dataframe\">\n",
              "  <thead>\n",
              "    <tr style=\"text-align: right;\">\n",
              "      <th></th>\n",
              "      <th>target</th>\n",
              "      <th>text</th>\n",
              "      <th>line_number</th>\n",
              "      <th>total_lines</th>\n",
              "    </tr>\n",
              "  </thead>\n",
              "  <tbody>\n",
              "    <tr>\n",
              "      <th>0</th>\n",
              "      <td>BACKGROUND</td>\n",
              "      <td>ige sensitization to aspergillus fumigatus and...</td>\n",
              "      <td>0</td>\n",
              "      <td>9</td>\n",
              "    </tr>\n",
              "    <tr>\n",
              "      <th>1</th>\n",
              "      <td>BACKGROUND</td>\n",
              "      <td>it is not clear whether these patients would b...</td>\n",
              "      <td>1</td>\n",
              "      <td>9</td>\n",
              "    </tr>\n",
              "    <tr>\n",
              "      <th>2</th>\n",
              "      <td>OBJECTIVE</td>\n",
              "      <td>we sought to determine whether a @-month cours...</td>\n",
              "      <td>2</td>\n",
              "      <td>9</td>\n",
              "    </tr>\n",
              "    <tr>\n",
              "      <th>3</th>\n",
              "      <td>METHODS</td>\n",
              "      <td>asthmatic patients who were ige sensitized to ...</td>\n",
              "      <td>3</td>\n",
              "      <td>9</td>\n",
              "    </tr>\n",
              "    <tr>\n",
              "      <th>4</th>\n",
              "      <td>METHODS</td>\n",
              "      <td>primary outcomes were improvement in quality o...</td>\n",
              "      <td>4</td>\n",
              "      <td>9</td>\n",
              "    </tr>\n",
              "    <tr>\n",
              "      <th>...</th>\n",
              "      <td>...</td>\n",
              "      <td>...</td>\n",
              "      <td>...</td>\n",
              "      <td>...</td>\n",
              "    </tr>\n",
              "    <tr>\n",
              "      <th>30207</th>\n",
              "      <td>RESULTS</td>\n",
              "      <td>pruritus occurred more frequently with the act...</td>\n",
              "      <td>9</td>\n",
              "      <td>13</td>\n",
              "    </tr>\n",
              "    <tr>\n",
              "      <th>30208</th>\n",
              "      <td>RESULTS</td>\n",
              "      <td>three patients in the active-regimen group ( @...</td>\n",
              "      <td>10</td>\n",
              "      <td>13</td>\n",
              "    </tr>\n",
              "    <tr>\n",
              "      <th>30209</th>\n",
              "      <td>RESULTS</td>\n",
              "      <td>hemoglobin values of grade @ ( @ to &lt; @ g per ...</td>\n",
              "      <td>11</td>\n",
              "      <td>13</td>\n",
              "    </tr>\n",
              "    <tr>\n",
              "      <th>30210</th>\n",
              "      <td>CONCLUSIONS</td>\n",
              "      <td>rates of response to a @-week interferon-free ...</td>\n",
              "      <td>12</td>\n",
              "      <td>13</td>\n",
              "    </tr>\n",
              "    <tr>\n",
              "      <th>30211</th>\n",
              "      <td>CONCLUSIONS</td>\n",
              "      <td>( funded by abbvie ; sapphire-ii clinicaltrial...</td>\n",
              "      <td>13</td>\n",
              "      <td>13</td>\n",
              "    </tr>\n",
              "  </tbody>\n",
              "</table>\n",
              "<p>30212 rows × 4 columns</p>\n",
              "</div>\n",
              "      <button class=\"colab-df-convert\" onclick=\"convertToInteractive('df-7ea294d6-8b77-4102-b691-4e58aafb3b9e')\"\n",
              "              title=\"Convert this dataframe to an interactive table.\"\n",
              "              style=\"display:none;\">\n",
              "        \n",
              "  <svg xmlns=\"http://www.w3.org/2000/svg\" height=\"24px\"viewBox=\"0 0 24 24\"\n",
              "       width=\"24px\">\n",
              "    <path d=\"M0 0h24v24H0V0z\" fill=\"none\"/>\n",
              "    <path d=\"M18.56 5.44l.94 2.06.94-2.06 2.06-.94-2.06-.94-.94-2.06-.94 2.06-2.06.94zm-11 1L8.5 8.5l.94-2.06 2.06-.94-2.06-.94L8.5 2.5l-.94 2.06-2.06.94zm10 10l.94 2.06.94-2.06 2.06-.94-2.06-.94-.94-2.06-.94 2.06-2.06.94z\"/><path d=\"M17.41 7.96l-1.37-1.37c-.4-.4-.92-.59-1.43-.59-.52 0-1.04.2-1.43.59L10.3 9.45l-7.72 7.72c-.78.78-.78 2.05 0 2.83L4 21.41c.39.39.9.59 1.41.59.51 0 1.02-.2 1.41-.59l7.78-7.78 2.81-2.81c.8-.78.8-2.07 0-2.86zM5.41 20L4 18.59l7.72-7.72 1.47 1.35L5.41 20z\"/>\n",
              "  </svg>\n",
              "      </button>\n",
              "      \n",
              "  <style>\n",
              "    .colab-df-container {\n",
              "      display:flex;\n",
              "      flex-wrap:wrap;\n",
              "      gap: 12px;\n",
              "    }\n",
              "\n",
              "    .colab-df-convert {\n",
              "      background-color: #E8F0FE;\n",
              "      border: none;\n",
              "      border-radius: 50%;\n",
              "      cursor: pointer;\n",
              "      display: none;\n",
              "      fill: #1967D2;\n",
              "      height: 32px;\n",
              "      padding: 0 0 0 0;\n",
              "      width: 32px;\n",
              "    }\n",
              "\n",
              "    .colab-df-convert:hover {\n",
              "      background-color: #E2EBFA;\n",
              "      box-shadow: 0px 1px 2px rgba(60, 64, 67, 0.3), 0px 1px 3px 1px rgba(60, 64, 67, 0.15);\n",
              "      fill: #174EA6;\n",
              "    }\n",
              "\n",
              "    [theme=dark] .colab-df-convert {\n",
              "      background-color: #3B4455;\n",
              "      fill: #D2E3FC;\n",
              "    }\n",
              "\n",
              "    [theme=dark] .colab-df-convert:hover {\n",
              "      background-color: #434B5C;\n",
              "      box-shadow: 0px 1px 3px 1px rgba(0, 0, 0, 0.15);\n",
              "      filter: drop-shadow(0px 1px 2px rgba(0, 0, 0, 0.3));\n",
              "      fill: #FFFFFF;\n",
              "    }\n",
              "  </style>\n",
              "\n",
              "      <script>\n",
              "        const buttonEl =\n",
              "          document.querySelector('#df-7ea294d6-8b77-4102-b691-4e58aafb3b9e button.colab-df-convert');\n",
              "        buttonEl.style.display =\n",
              "          google.colab.kernel.accessAllowed ? 'block' : 'none';\n",
              "\n",
              "        async function convertToInteractive(key) {\n",
              "          const element = document.querySelector('#df-7ea294d6-8b77-4102-b691-4e58aafb3b9e');\n",
              "          const dataTable =\n",
              "            await google.colab.kernel.invokeFunction('convertToInteractive',\n",
              "                                                     [key], {});\n",
              "          if (!dataTable) return;\n",
              "\n",
              "          const docLinkHtml = 'Like what you see? Visit the ' +\n",
              "            '<a target=\"_blank\" href=https://colab.research.google.com/notebooks/data_table.ipynb>data table notebook</a>'\n",
              "            + ' to learn more about interactive tables.';\n",
              "          element.innerHTML = '';\n",
              "          dataTable['output_type'] = 'display_data';\n",
              "          await google.colab.output.renderOutput(dataTable, element);\n",
              "          const docLink = document.createElement('div');\n",
              "          docLink.innerHTML = docLinkHtml;\n",
              "          element.appendChild(docLink);\n",
              "        }\n",
              "      </script>\n",
              "    </div>\n",
              "  </div>\n",
              "  "
            ]
          },
          "metadata": {},
          "execution_count": 16
        }
      ]
    },
    {
      "cell_type": "code",
      "source": [
        "test_df"
      ],
      "metadata": {
        "colab": {
          "base_uri": "https://localhost:8080/",
          "height": 424
        },
        "id": "cXl1i2BeY6ED",
        "outputId": "6ff2e260-516d-421f-c862-c77f1080239d"
      },
      "execution_count": 17,
      "outputs": [
        {
          "output_type": "execute_result",
          "data": {
            "text/plain": [
              "            target                                               text  \\\n",
              "0       BACKGROUND  this study analyzed liver function abnormaliti...   \n",
              "1          RESULTS  a post hoc analysis was conducted with the use...   \n",
              "2          RESULTS  liver function tests ( lfts ) were measured at...   \n",
              "3          RESULTS  survival analyses were used to assess the asso...   \n",
              "4          RESULTS  the percentage of patients with abnormal lfts ...   \n",
              "...            ...                                                ...   \n",
              "30130      RESULTS  there was a statistically significant between-...   \n",
              "30131      RESULTS  there were no statistically significant betwee...   \n",
              "30132      RESULTS  there was no significant association between s...   \n",
              "30133      RESULTS                 no adverse effects were reported .   \n",
              "30134  CONCLUSIONS  performing a @-week do-as-tolerated program of...   \n",
              "\n",
              "       line_number  total_lines  \n",
              "0                0            8  \n",
              "1                1            8  \n",
              "2                2            8  \n",
              "3                3            8  \n",
              "4                4            8  \n",
              "...            ...          ...  \n",
              "30130           13           17  \n",
              "30131           14           17  \n",
              "30132           15           17  \n",
              "30133           16           17  \n",
              "30134           17           17  \n",
              "\n",
              "[30135 rows x 4 columns]"
            ],
            "text/html": [
              "\n",
              "  <div id=\"df-17b13e4c-3500-4bb4-9589-b03e298ede37\">\n",
              "    <div class=\"colab-df-container\">\n",
              "      <div>\n",
              "<style scoped>\n",
              "    .dataframe tbody tr th:only-of-type {\n",
              "        vertical-align: middle;\n",
              "    }\n",
              "\n",
              "    .dataframe tbody tr th {\n",
              "        vertical-align: top;\n",
              "    }\n",
              "\n",
              "    .dataframe thead th {\n",
              "        text-align: right;\n",
              "    }\n",
              "</style>\n",
              "<table border=\"1\" class=\"dataframe\">\n",
              "  <thead>\n",
              "    <tr style=\"text-align: right;\">\n",
              "      <th></th>\n",
              "      <th>target</th>\n",
              "      <th>text</th>\n",
              "      <th>line_number</th>\n",
              "      <th>total_lines</th>\n",
              "    </tr>\n",
              "  </thead>\n",
              "  <tbody>\n",
              "    <tr>\n",
              "      <th>0</th>\n",
              "      <td>BACKGROUND</td>\n",
              "      <td>this study analyzed liver function abnormaliti...</td>\n",
              "      <td>0</td>\n",
              "      <td>8</td>\n",
              "    </tr>\n",
              "    <tr>\n",
              "      <th>1</th>\n",
              "      <td>RESULTS</td>\n",
              "      <td>a post hoc analysis was conducted with the use...</td>\n",
              "      <td>1</td>\n",
              "      <td>8</td>\n",
              "    </tr>\n",
              "    <tr>\n",
              "      <th>2</th>\n",
              "      <td>RESULTS</td>\n",
              "      <td>liver function tests ( lfts ) were measured at...</td>\n",
              "      <td>2</td>\n",
              "      <td>8</td>\n",
              "    </tr>\n",
              "    <tr>\n",
              "      <th>3</th>\n",
              "      <td>RESULTS</td>\n",
              "      <td>survival analyses were used to assess the asso...</td>\n",
              "      <td>3</td>\n",
              "      <td>8</td>\n",
              "    </tr>\n",
              "    <tr>\n",
              "      <th>4</th>\n",
              "      <td>RESULTS</td>\n",
              "      <td>the percentage of patients with abnormal lfts ...</td>\n",
              "      <td>4</td>\n",
              "      <td>8</td>\n",
              "    </tr>\n",
              "    <tr>\n",
              "      <th>...</th>\n",
              "      <td>...</td>\n",
              "      <td>...</td>\n",
              "      <td>...</td>\n",
              "      <td>...</td>\n",
              "    </tr>\n",
              "    <tr>\n",
              "      <th>30130</th>\n",
              "      <td>RESULTS</td>\n",
              "      <td>there was a statistically significant between-...</td>\n",
              "      <td>13</td>\n",
              "      <td>17</td>\n",
              "    </tr>\n",
              "    <tr>\n",
              "      <th>30131</th>\n",
              "      <td>RESULTS</td>\n",
              "      <td>there were no statistically significant betwee...</td>\n",
              "      <td>14</td>\n",
              "      <td>17</td>\n",
              "    </tr>\n",
              "    <tr>\n",
              "      <th>30132</th>\n",
              "      <td>RESULTS</td>\n",
              "      <td>there was no significant association between s...</td>\n",
              "      <td>15</td>\n",
              "      <td>17</td>\n",
              "    </tr>\n",
              "    <tr>\n",
              "      <th>30133</th>\n",
              "      <td>RESULTS</td>\n",
              "      <td>no adverse effects were reported .</td>\n",
              "      <td>16</td>\n",
              "      <td>17</td>\n",
              "    </tr>\n",
              "    <tr>\n",
              "      <th>30134</th>\n",
              "      <td>CONCLUSIONS</td>\n",
              "      <td>performing a @-week do-as-tolerated program of...</td>\n",
              "      <td>17</td>\n",
              "      <td>17</td>\n",
              "    </tr>\n",
              "  </tbody>\n",
              "</table>\n",
              "<p>30135 rows × 4 columns</p>\n",
              "</div>\n",
              "      <button class=\"colab-df-convert\" onclick=\"convertToInteractive('df-17b13e4c-3500-4bb4-9589-b03e298ede37')\"\n",
              "              title=\"Convert this dataframe to an interactive table.\"\n",
              "              style=\"display:none;\">\n",
              "        \n",
              "  <svg xmlns=\"http://www.w3.org/2000/svg\" height=\"24px\"viewBox=\"0 0 24 24\"\n",
              "       width=\"24px\">\n",
              "    <path d=\"M0 0h24v24H0V0z\" fill=\"none\"/>\n",
              "    <path d=\"M18.56 5.44l.94 2.06.94-2.06 2.06-.94-2.06-.94-.94-2.06-.94 2.06-2.06.94zm-11 1L8.5 8.5l.94-2.06 2.06-.94-2.06-.94L8.5 2.5l-.94 2.06-2.06.94zm10 10l.94 2.06.94-2.06 2.06-.94-2.06-.94-.94-2.06-.94 2.06-2.06.94z\"/><path d=\"M17.41 7.96l-1.37-1.37c-.4-.4-.92-.59-1.43-.59-.52 0-1.04.2-1.43.59L10.3 9.45l-7.72 7.72c-.78.78-.78 2.05 0 2.83L4 21.41c.39.39.9.59 1.41.59.51 0 1.02-.2 1.41-.59l7.78-7.78 2.81-2.81c.8-.78.8-2.07 0-2.86zM5.41 20L4 18.59l7.72-7.72 1.47 1.35L5.41 20z\"/>\n",
              "  </svg>\n",
              "      </button>\n",
              "      \n",
              "  <style>\n",
              "    .colab-df-container {\n",
              "      display:flex;\n",
              "      flex-wrap:wrap;\n",
              "      gap: 12px;\n",
              "    }\n",
              "\n",
              "    .colab-df-convert {\n",
              "      background-color: #E8F0FE;\n",
              "      border: none;\n",
              "      border-radius: 50%;\n",
              "      cursor: pointer;\n",
              "      display: none;\n",
              "      fill: #1967D2;\n",
              "      height: 32px;\n",
              "      padding: 0 0 0 0;\n",
              "      width: 32px;\n",
              "    }\n",
              "\n",
              "    .colab-df-convert:hover {\n",
              "      background-color: #E2EBFA;\n",
              "      box-shadow: 0px 1px 2px rgba(60, 64, 67, 0.3), 0px 1px 3px 1px rgba(60, 64, 67, 0.15);\n",
              "      fill: #174EA6;\n",
              "    }\n",
              "\n",
              "    [theme=dark] .colab-df-convert {\n",
              "      background-color: #3B4455;\n",
              "      fill: #D2E3FC;\n",
              "    }\n",
              "\n",
              "    [theme=dark] .colab-df-convert:hover {\n",
              "      background-color: #434B5C;\n",
              "      box-shadow: 0px 1px 3px 1px rgba(0, 0, 0, 0.15);\n",
              "      filter: drop-shadow(0px 1px 2px rgba(0, 0, 0, 0.3));\n",
              "      fill: #FFFFFF;\n",
              "    }\n",
              "  </style>\n",
              "\n",
              "      <script>\n",
              "        const buttonEl =\n",
              "          document.querySelector('#df-17b13e4c-3500-4bb4-9589-b03e298ede37 button.colab-df-convert');\n",
              "        buttonEl.style.display =\n",
              "          google.colab.kernel.accessAllowed ? 'block' : 'none';\n",
              "\n",
              "        async function convertToInteractive(key) {\n",
              "          const element = document.querySelector('#df-17b13e4c-3500-4bb4-9589-b03e298ede37');\n",
              "          const dataTable =\n",
              "            await google.colab.kernel.invokeFunction('convertToInteractive',\n",
              "                                                     [key], {});\n",
              "          if (!dataTable) return;\n",
              "\n",
              "          const docLinkHtml = 'Like what you see? Visit the ' +\n",
              "            '<a target=\"_blank\" href=https://colab.research.google.com/notebooks/data_table.ipynb>data table notebook</a>'\n",
              "            + ' to learn more about interactive tables.';\n",
              "          element.innerHTML = '';\n",
              "          dataTable['output_type'] = 'display_data';\n",
              "          await google.colab.output.renderOutput(dataTable, element);\n",
              "          const docLink = document.createElement('div');\n",
              "          docLink.innerHTML = docLinkHtml;\n",
              "          element.appendChild(docLink);\n",
              "        }\n",
              "      </script>\n",
              "    </div>\n",
              "  </div>\n",
              "  "
            ]
          },
          "metadata": {},
          "execution_count": 17
        }
      ]
    },
    {
      "cell_type": "code",
      "source": [
        "train_df.target.value_counts()"
      ],
      "metadata": {
        "colab": {
          "base_uri": "https://localhost:8080/"
        },
        "id": "ecYZp5DKY6q5",
        "outputId": "f6e09a34-7f34-409b-b89e-ec4520ec00f9"
      },
      "execution_count": 18,
      "outputs": [
        {
          "output_type": "execute_result",
          "data": {
            "text/plain": [
              "METHODS        59353\n",
              "RESULTS        57953\n",
              "CONCLUSIONS    27168\n",
              "BACKGROUND     21727\n",
              "OBJECTIVE      13839\n",
              "Name: target, dtype: int64"
            ]
          },
          "metadata": {},
          "execution_count": 18
        }
      ]
    },
    {
      "cell_type": "code",
      "source": [
        "#length of different lines\n",
        "train_df.total_lines.plot.hist()"
      ],
      "metadata": {
        "colab": {
          "base_uri": "https://localhost:8080/",
          "height": 285
        },
        "id": "wNQr-CFQZEIS",
        "outputId": "7434f926-e521-49c9-93d7-832d21ca1c18"
      },
      "execution_count": 19,
      "outputs": [
        {
          "output_type": "execute_result",
          "data": {
            "text/plain": [
              "<matplotlib.axes._subplots.AxesSubplot at 0x7f420154d910>"
            ]
          },
          "metadata": {},
          "execution_count": 19
        },
        {
          "output_type": "display_data",
          "data": {
            "text/plain": [
              "<Figure size 432x288 with 1 Axes>"
            ],
            "image/png": "[encoded data removed]"
          },
          "metadata": {
            "needs_background": "light"
          }
        }
      ]
    },
    {
      "cell_type": "code",
      "source": [
        "#Convert abstract text lines into lists\n",
        "train_sentences = train_df[\"text\"].tolist()\n",
        "val_sentences = val_df[\"text\"].tolist()\n",
        "test_sentences = test_df[\"text\"].tolist()\n",
        "len(train_sentences), len(val_sentences), len(test_sentences)"
      ],
      "metadata": {
        "colab": {
          "base_uri": "https://localhost:8080/"
        },
        "id": "-h8WL5i1ZMr9",
        "outputId": "136208ae-2f3f-4932-a18c-c364f1855663"
      },
      "execution_count": 57,
      "outputs": [
        {
          "output_type": "execute_result",
          "data": {
            "text/plain": [
              "(180040, 30212, 30135)"
            ]
          },
          "metadata": {},
          "execution_count": 57
        }
      ]
    },
    {
      "cell_type": "markdown",
      "source": [
        "## Making numeric lables (ML models require numbers)"
      ],
      "metadata": {
        "id": "XJautK-qZgzg"
      }
    },
    {
      "cell_type": "code",
      "source": [
        "# One hot encode labels\n",
        "from sklearn.preprocessing import OneHotEncoder\n",
        "one_hot_encoder = OneHotEncoder(sparse=False)\n",
        "train_labels_one_hot = one_hot_encoder.fit_transform(train_df[\"target\"].to_numpy().reshape(-1, 1))\n",
        "val_labels_one_hot = one_hot_encoder.fit_transform(val_df[\"target\"].to_numpy().reshape(-1, 1))\n",
        "test_labels_one_hot = one_hot_encoder.fit_transform(test_df[\"target\"].to_numpy().reshape(-1, 1))"
      ],
      "metadata": {
        "id": "oP2YJVYBZ6k-"
      },
      "execution_count": 77,
      "outputs": []
    },
    {
      "cell_type": "code",
      "source": [
        "import tensorflow as tf\n",
        "tf.constant(train_labels_one_hot)"
      ],
      "metadata": {
        "colab": {
          "base_uri": "https://localhost:8080/"
        },
        "id": "Hz19p7K9aeUa",
        "outputId": "a44c3d95-0b3f-40ee-b821-fc3de4d6fbea"
      },
      "execution_count": 22,
      "outputs": [
        {
          "output_type": "execute_result",
          "data": {
            "text/plain": [
              "<tf.Tensor: shape=(180040, 5), dtype=float64, numpy=\n",
              "array([[0., 0., 0., 1., 0.],\n",
              "       [0., 0., 1., 0., 0.],\n",
              "       [0., 0., 1., 0., 0.],\n",
              "       ...,\n",
              "       [0., 0., 0., 0., 1.],\n",
              "       [0., 1., 0., 0., 0.],\n",
              "       [0., 1., 0., 0., 0.]])>"
            ]
          },
          "metadata": {},
          "execution_count": 22
        }
      ]
    },
    {
      "cell_type": "code",
      "source": [
        "train_labels_one_hot"
      ],
      "metadata": {
        "colab": {
          "base_uri": "https://localhost:8080/"
        },
        "id": "9tfTFYKPap6j",
        "outputId": "41175712-67ac-4c50-fbd8-b6d226f518df"
      },
      "execution_count": 23,
      "outputs": [
        {
          "output_type": "execute_result",
          "data": {
            "text/plain": [
              "array([[0., 0., 0., 1., 0.],\n",
              "       [0., 0., 1., 0., 0.],\n",
              "       [0., 0., 1., 0., 0.],\n",
              "       ...,\n",
              "       [0., 0., 0., 0., 1.],\n",
              "       [0., 1., 0., 0., 0.],\n",
              "       [0., 1., 0., 0., 0.]])"
            ]
          },
          "metadata": {},
          "execution_count": 23
        }
      ]
    },
    {
      "cell_type": "code",
      "source": [
        "# Extract labels (\"target\" columns) and encode them into integers \n",
        "from sklearn.preprocessing import LabelEncoder\n",
        "label_encoder = LabelEncoder()\n",
        "train_labels_encoded = label_encoder.fit_transform(train_df[\"target\"].to_numpy())\n",
        "val_labels_encoded = label_encoder.transform(val_df[\"target\"].to_numpy())\n",
        "test_labels_encoded = label_encoder.transform(test_df[\"target\"].to_numpy())\n",
        "\n",
        "# Check what training labels look like\n",
        "train_labels_encoded"
      ],
      "metadata": {
        "colab": {
          "base_uri": "https://localhost:8080/"
        },
        "id": "HTSBM2r2auZv",
        "outputId": "35c92b7e-ab4f-4605-e814-d0b9e7fc7843"
      },
      "execution_count": 24,
      "outputs": [
        {
          "output_type": "execute_result",
          "data": {
            "text/plain": [
              "array([3, 2, 2, ..., 4, 1, 1])"
            ]
          },
          "metadata": {},
          "execution_count": 24
        }
      ]
    },
    {
      "cell_type": "code",
      "source": [
        "train_labels_encoded"
      ],
      "metadata": {
        "colab": {
          "base_uri": "https://localhost:8080/"
        },
        "id": "BTmJF41Qba0f",
        "outputId": "70297517-24d9-4038-9571-e6452935bb6d"
      },
      "execution_count": 25,
      "outputs": [
        {
          "output_type": "execute_result",
          "data": {
            "text/plain": [
              "array([3, 2, 2, ..., 4, 1, 1])"
            ]
          },
          "metadata": {},
          "execution_count": 25
        }
      ]
    },
    {
      "cell_type": "code",
      "source": [
        "label_encoder.classes_"
      ],
      "metadata": {
        "colab": {
          "base_uri": "https://localhost:8080/"
        },
        "id": "a8OZNU4LbdwW",
        "outputId": "63c6f067-3e37-45cd-eee4-a6f4fbc463bd"
      },
      "execution_count": 26,
      "outputs": [
        {
          "output_type": "execute_result",
          "data": {
            "text/plain": [
              "array(['BACKGROUND', 'CONCLUSIONS', 'METHODS', 'OBJECTIVE', 'RESULTS'],\n",
              "      dtype=object)"
            ]
          },
          "metadata": {},
          "execution_count": 26
        }
      ]
    },
    {
      "cell_type": "code",
      "source": [
        "#Model 0: Baseline Model - Naive Bayes TF-IDF Encoder\n",
        "from sklearn.feature_extraction.text import TfidfVectorizer\n",
        "from sklearn.naive_bayes import MultinomialNB\n",
        "from sklearn.pipeline import Pipeline\n",
        "\n",
        "model_0 = Pipeline([\n",
        "    (\"tf-idf\", TfidfVectorizer()),\n",
        "    (\"clf\", MultinomialNB())\n",
        "])\n",
        "\n",
        "#fitting the pipelien\n",
        "model_0.fit(X=train_sentences, y=train_labels_encoded)"
      ],
      "metadata": {
        "colab": {
          "base_uri": "https://localhost:8080/"
        },
        "id": "sHXA1iWBbpXB",
        "outputId": "5afba6bc-229b-4eaf-c58b-763839f9dbea"
      },
      "execution_count": 27,
      "outputs": [
        {
          "output_type": "execute_result",
          "data": {
            "text/plain": [
              "Pipeline(steps=[('tf-idf', TfidfVectorizer()), ('clf', MultinomialNB())])"
            ]
          },
          "metadata": {},
          "execution_count": 27
        }
      ]
    },
    {
      "cell_type": "code",
      "source": [
        "#evaluate\n",
        "model_0.score(X=val_sentences,\n",
        "              y=val_labels_encoded)"
      ],
      "metadata": {
        "colab": {
          "base_uri": "https://localhost:8080/"
        },
        "id": "XcF7zPd1cuxI",
        "outputId": "fbe3d3fc-f2b3-46ca-bf10-0bbe91ff50de"
      },
      "execution_count": 28,
      "outputs": [
        {
          "output_type": "execute_result",
          "data": {
            "text/plain": [
              "0.7218323844829869"
            ]
          },
          "metadata": {},
          "execution_count": 28
        }
      ]
    },
    {
      "cell_type": "code",
      "source": [
        "#make predictions\n",
        "baseline_preds = model_0.predict(val_sentences)\n",
        "baseline_preds"
      ],
      "metadata": {
        "colab": {
          "base_uri": "https://localhost:8080/"
        },
        "id": "MOBs8GeSdAjS",
        "outputId": "f8379b85-4869-440d-b48f-19405cd6a424"
      },
      "execution_count": 29,
      "outputs": [
        {
          "output_type": "execute_result",
          "data": {
            "text/plain": [
              "array([4, 1, 3, ..., 4, 4, 1])"
            ]
          },
          "metadata": {},
          "execution_count": 29
        }
      ]
    },
    {
      "cell_type": "code",
      "source": [
        "val_labels_encoded"
      ],
      "metadata": {
        "colab": {
          "base_uri": "https://localhost:8080/"
        },
        "id": "aotcFRUddNtq",
        "outputId": "9921035e-9f46-4cdc-c0d4-442ca59212fb"
      },
      "execution_count": 30,
      "outputs": [
        {
          "output_type": "execute_result",
          "data": {
            "text/plain": [
              "array([0, 0, 3, ..., 4, 1, 1])"
            ]
          },
          "metadata": {},
          "execution_count": 30
        }
      ]
    },
    {
      "cell_type": "code",
      "source": [
        "##download helper functions script\n",
        "!wget https://raw.githubusercontent.com/mrdbourke/tensorflow-deep-learning/main/extras/helper_functions.py"
      ],
      "metadata": {
        "colab": {
          "base_uri": "https://localhost:8080/"
        },
        "id": "tjMkIFMJehVO",
        "outputId": "ccbd0d94-7f8d-406c-dd23-ece1220ee7d9"
      },
      "execution_count": 31,
      "outputs": [
        {
          "output_type": "stream",
          "name": "stdout",
          "text": [
            "--2022-08-04 22:02:50--  https://raw.githubusercontent.com/mrdbourke/tensorflow-deep-learning/main/extras/helper_functions.py\n",
            "Resolving raw.githubusercontent.com (raw.githubusercontent.com)... 185.199.108.133, 185.199.109.133, 185.199.110.133, ...\n",
            "Connecting to raw.githubusercontent.com (raw.githubusercontent.com)|185.199.108.133|:443... connected.\n",
            "HTTP request sent, awaiting response... 200 OK\n",
            "Length: 10246 (10K) [text/plain]\n",
            "Saving to: ‘helper_functions.py’\n",
            "\n",
            "\rhelper_functions.py   0%[                    ]       0  --.-KB/s               \rhelper_functions.py 100%[===================>]  10.01K  --.-KB/s    in 0s      \n",
            "\n",
            "2022-08-04 22:02:50 (83.5 MB/s) - ‘helper_functions.py’ saved [10246/10246]\n",
            "\n"
          ]
        }
      ]
    },
    {
      "cell_type": "code",
      "source": [
        "from helper_functions import calculate_results"
      ],
      "metadata": {
        "id": "xBHchs7VeuTh"
      },
      "execution_count": 32,
      "outputs": []
    },
    {
      "cell_type": "code",
      "source": [
        "baseline_results = calculate_results(val_labels_encoded,\n",
        "                                   baseline_preds)"
      ],
      "metadata": {
        "id": "V5BHDXbEe0FI"
      },
      "execution_count": 33,
      "outputs": []
    },
    {
      "cell_type": "code",
      "source": [
        "baseline_results"
      ],
      "metadata": {
        "colab": {
          "base_uri": "https://localhost:8080/"
        },
        "id": "m_RHfMTse6Nz",
        "outputId": "a0c4ff08-b31e-4f61-e023-d23c23818942"
      },
      "execution_count": 34,
      "outputs": [
        {
          "output_type": "execute_result",
          "data": {
            "text/plain": [
              "{'accuracy': 72.1832384482987,\n",
              " 'f1': 0.6989250353450294,\n",
              " 'precision': 0.7186466952323352,\n",
              " 'recall': 0.7218323844829869}"
            ]
          },
          "metadata": {},
          "execution_count": 34
        }
      ]
    },
    {
      "cell_type": "markdown",
      "source": [
        "## Preparing text for deep sequence models using tokenization and embedding"
      ],
      "metadata": {
        "id": "wgquXh5he-Oq"
      }
    },
    {
      "cell_type": "code",
      "source": [
        "import numpy as np\n",
        "import tensorflow as tf\n",
        "from tensorflow.keras import layers"
      ],
      "metadata": {
        "id": "XgpAMcVhfOsP"
      },
      "execution_count": 35,
      "outputs": []
    },
    {
      "cell_type": "code",
      "source": [
        "#How long is each sentence on average\n",
        "sent_lens = [len(sentence.split()) for sentence in train_sentences]"
      ],
      "metadata": {
        "id": "BxUSgo-tfaL_"
      },
      "execution_count": 36,
      "outputs": []
    },
    {
      "cell_type": "code",
      "source": [
        "sent_lens"
      ],
      "metadata": {
        "colab": {
          "base_uri": "https://localhost:8080/"
        },
        "id": "5mk3r_OLflEr",
        "outputId": "258cb197-ae86-4622-e9a5-69e0b7c57aa6"
      },
      "execution_count": 37,
      "outputs": [
        {
          "output_type": "execute_result",
          "data": {
            "text/plain": [
              "[49,\n",
              " 27,\n",
              " 15,\n",
              " 14,\n",
              " 35,\n",
              " 29,\n",
              " 30,\n",
              " 55,\n",
              " 36,\n",
              " 8,\n",
              " 32,\n",
              " 39,\n",
              " 12,\n",
              " 26,\n",
              " 33,\n",
              " 40,\n",
              " 22,\n",
              " 23,\n",
              " 27,\n",
              " 26,\n",
              " 27,\n",
              " 34,\n",
              " 41,\n",
              " 18,\n",
              " 9,\n",
              " 23,\n",
              " 59,\n",
              " 16,\n",
              " 18,\n",
              " 22,\n",
              " 17,\n",
              " 51,\n",
              " 8,\n",
              " 17,\n",
              " 16,\n",
              " 5,\n",
              " 21,\n",
              " 4,\n",
              " 42,\n",
              " 50,\n",
              " 11,\n",
              " 19,\n",
              " 20,\n",
              " 29,\n",
              " 36,\n",
              " 44,\n",
              " 39,\n",
              " 25,\n",
              " 19,\n",
              " 24,\n",
              " 19,\n",
              " 14,\n",
              " 11,\n",
              " 18,\n",
              " 16,\n",
              " 26,\n",
              " 16,\n",
              " 18,\n",
              " 38,\n",
              " 28,\n",
              " 21,\n",
              " 18,\n",
              " 22,\n",
              " 9,\n",
              " 37,\n",
              " 6,\n",
              " 32,\n",
              " 21,\n",
              " 26,\n",
              " 25,\n",
              " 18,\n",
              " 21,\n",
              " 20,\n",
              " 12,\n",
              " 26,\n",
              " 16,\n",
              " 23,\n",
              " 19,\n",
              " 16,\n",
              " 39,\n",
              " 19,\n",
              " 14,\n",
              " 37,\n",
              " 34,\n",
              " 15,\n",
              " 47,\n",
              " 26,\n",
              " 87,\n",
              " 17,\n",
              " 29,\n",
              " 31,\n",
              " 13,\n",
              " 37,\n",
              " 28,\n",
              " 35,\n",
              " 60,\n",
              " 64,\n",
              " 66,\n",
              " 8,\n",
              " 12,\n",
              " 17,\n",
              " 40,\n",
              " 43,\n",
              " 37,\n",
              " 47,\n",
              " 6,\n",
              " 40,\n",
              " 64,\n",
              " 20,\n",
              " 32,\n",
              " 53,\n",
              " 16,\n",
              " 30,\n",
              " 54,\n",
              " 51,\n",
              " 19,\n",
              " 28,\n",
              " 32,\n",
              " 36,\n",
              " 40,\n",
              " 13,\n",
              " 25,\n",
              " 30,\n",
              " 23,\n",
              " 17,\n",
              " 15,\n",
              " 20,\n",
              " 50,\n",
              " 12,\n",
              " 16,\n",
              " 27,\n",
              " 24,\n",
              " 10,\n",
              " 24,\n",
              " 5,\n",
              " 14,\n",
              " 19,\n",
              " 32,\n",
              " 13,\n",
              " 21,\n",
              " 23,\n",
              " 10,\n",
              " 11,\n",
              " 17,\n",
              " 12,\n",
              " 21,\n",
              " 21,\n",
              " 15,\n",
              " 17,\n",
              " 21,\n",
              " 18,\n",
              " 40,\n",
              " 33,\n",
              " 21,\n",
              " 41,\n",
              " 21,\n",
              " 13,\n",
              " 29,\n",
              " 28,\n",
              " 13,\n",
              " 44,\n",
              " 20,\n",
              " 31,\n",
              " 8,\n",
              " 29,\n",
              " 13,\n",
              " 116,\n",
              " 27,\n",
              " 26,\n",
              " 32,\n",
              " 34,\n",
              " 17,\n",
              " 23,\n",
              " 20,\n",
              " 29,\n",
              " 11,\n",
              " 7,\n",
              " 17,\n",
              " 31,\n",
              " 43,\n",
              " 36,\n",
              " 17,\n",
              " 31,\n",
              " 17,\n",
              " 42,\n",
              " 18,\n",
              " 39,\n",
              " 29,\n",
              " 30,\n",
              " 24,\n",
              " 81,\n",
              " 19,\n",
              " 19,\n",
              " 33,\n",
              " 22,\n",
              " 11,\n",
              " 55,\n",
              " 11,\n",
              " 14,\n",
              " 28,\n",
              " 42,\n",
              " 34,\n",
              " 44,\n",
              " 15,\n",
              " 22,\n",
              " 44,\n",
              " 34,\n",
              " 29,\n",
              " 14,\n",
              " 54,\n",
              " 33,\n",
              " 80,\n",
              " 38,\n",
              " 15,\n",
              " 19,\n",
              " 30,\n",
              " 51,\n",
              " 20,\n",
              " 57,\n",
              " 13,\n",
              " 34,\n",
              " 34,\n",
              " 29,\n",
              " 22,\n",
              " 15,\n",
              " 23,\n",
              " 32,\n",
              " 11,\n",
              " 12,\n",
              " 17,\n",
              " 15,\n",
              " 4,\n",
              " 7,\n",
              " 38,\n",
              " 14,\n",
              " 10,\n",
              " 6,\n",
              " 26,\n",
              " 15,\n",
              " 60,\n",
              " 22,\n",
              " 12,\n",
              " 27,\n",
              " 16,\n",
              " 11,\n",
              " 23,\n",
              " 8,\n",
              " 17,\n",
              " 7,\n",
              " 27,\n",
              " 27,\n",
              " 35,\n",
              " 34,\n",
              " 8,\n",
              " 22,\n",
              " 27,\n",
              " 38,\n",
              " 23,\n",
              " 21,\n",
              " 16,\n",
              " 4,\n",
              " 2,\n",
              " 37,\n",
              " 20,\n",
              " 25,\n",
              " 36,\n",
              " 19,\n",
              " 26,\n",
              " 31,\n",
              " 28,\n",
              " 20,\n",
              " 21,\n",
              " 15,\n",
              " 10,\n",
              " 2,\n",
              " 43,\n",
              " 18,\n",
              " 49,\n",
              " 24,\n",
              " 19,\n",
              " 36,\n",
              " 24,\n",
              " 28,\n",
              " 37,\n",
              " 26,\n",
              " 17,\n",
              " 25,\n",
              " 57,\n",
              " 20,\n",
              " 9,\n",
              " 16,\n",
              " 10,\n",
              " 11,\n",
              " 87,\n",
              " 41,\n",
              " 45,\n",
              " 44,\n",
              " 15,\n",
              " 11,\n",
              " 17,\n",
              " 11,\n",
              " 5,\n",
              " 6,\n",
              " 31,\n",
              " 31,\n",
              " 20,\n",
              " 16,\n",
              " 13,\n",
              " 24,\n",
              " 37,\n",
              " 14,\n",
              " 28,\n",
              " 17,\n",
              " 19,\n",
              " 27,\n",
              " 17,\n",
              " 25,\n",
              " 15,\n",
              " 16,\n",
              " 21,\n",
              " 25,\n",
              " 23,\n",
              " 23,\n",
              " 7,\n",
              " 16,\n",
              " 21,\n",
              " 13,\n",
              " 33,\n",
              " 34,\n",
              " 11,\n",
              " 46,\n",
              " 52,\n",
              " 24,\n",
              " 8,\n",
              " 16,\n",
              " 22,\n",
              " 20,\n",
              " 13,\n",
              " 25,\n",
              " 30,\n",
              " 13,\n",
              " 9,\n",
              " 16,\n",
              " 22,\n",
              " 39,\n",
              " 15,\n",
              " 15,\n",
              " 24,\n",
              " 25,\n",
              " 20,\n",
              " 35,\n",
              " 26,\n",
              " 24,\n",
              " 27,\n",
              " 29,\n",
              " 30,\n",
              " 10,\n",
              " 23,\n",
              " 22,\n",
              " 35,\n",
              " 60,\n",
              " 34,\n",
              " 15,\n",
              " 11,\n",
              " 30,\n",
              " 50,\n",
              " 18,\n",
              " 73,\n",
              " 8,\n",
              " 13,\n",
              " 25,\n",
              " 14,\n",
              " 14,\n",
              " 7,\n",
              " 46,\n",
              " 13,\n",
              " 20,\n",
              " 22,\n",
              " 30,\n",
              " 21,\n",
              " 22,\n",
              " 17,\n",
              " 30,\n",
              " 10,\n",
              " 17,\n",
              " 45,\n",
              " 20,\n",
              " 14,\n",
              " 9,\n",
              " 23,\n",
              " 14,\n",
              " 12,\n",
              " 26,\n",
              " 14,\n",
              " 27,\n",
              " 15,\n",
              " 33,\n",
              " 16,\n",
              " 12,\n",
              " 15,\n",
              " 22,\n",
              " 15,\n",
              " 30,\n",
              " 36,\n",
              " 30,\n",
              " 19,\n",
              " 30,\n",
              " 21,\n",
              " 37,\n",
              " 23,\n",
              " 29,\n",
              " 17,\n",
              " 60,\n",
              " 15,\n",
              " 23,\n",
              " 45,\n",
              " 29,\n",
              " 20,\n",
              " 22,\n",
              " 7,\n",
              " 17,\n",
              " 18,\n",
              " 19,\n",
              " 19,\n",
              " 12,\n",
              " 18,\n",
              " 15,\n",
              " 29,\n",
              " 22,\n",
              " 21,\n",
              " 18,\n",
              " 11,\n",
              " 14,\n",
              " 75,\n",
              " 38,\n",
              " 43,\n",
              " 25,\n",
              " 10,\n",
              " 12,\n",
              " 25,\n",
              " 12,\n",
              " 23,\n",
              " 36,\n",
              " 59,\n",
              " 7,\n",
              " 120,\n",
              " 17,\n",
              " 43,\n",
              " 9,\n",
              " 37,\n",
              " 42,\n",
              " 15,\n",
              " 17,\n",
              " 26,\n",
              " 35,\n",
              " 17,\n",
              " 30,\n",
              " 19,\n",
              " 23,\n",
              " 44,\n",
              " 12,\n",
              " 25,\n",
              " 11,\n",
              " 25,\n",
              " 38,\n",
              " 26,\n",
              " 56,\n",
              " 42,\n",
              " 25,\n",
              " 38,\n",
              " 22,\n",
              " 19,\n",
              " 11,\n",
              " 11,\n",
              " 27,\n",
              " 34,\n",
              " 20,\n",
              " 24,\n",
              " 10,\n",
              " 30,\n",
              " 27,\n",
              " 30,\n",
              " 4,\n",
              " 2,\n",
              " 4,\n",
              " 21,\n",
              " 33,\n",
              " 33,\n",
              " 12,\n",
              " 35,\n",
              " 22,\n",
              " 8,\n",
              " 18,\n",
              " 10,\n",
              " 10,\n",
              " 6,\n",
              " 15,\n",
              " 78,\n",
              " 15,\n",
              " 32,\n",
              " 27,\n",
              " 6,\n",
              " 27,\n",
              " 45,\n",
              " 16,\n",
              " 33,\n",
              " 46,\n",
              " 18,\n",
              " 17,\n",
              " 14,\n",
              " 27,\n",
              " 23,\n",
              " 13,\n",
              " 22,\n",
              " 21,\n",
              " 11,\n",
              " 20,\n",
              " 27,\n",
              " 26,\n",
              " 43,\n",
              " 17,\n",
              " 11,\n",
              " 15,\n",
              " 30,\n",
              " 17,\n",
              " 32,\n",
              " 87,\n",
              " 18,\n",
              " 20,\n",
              " 23,\n",
              " 25,\n",
              " 12,\n",
              " 22,\n",
              " 22,\n",
              " 28,\n",
              " 52,\n",
              " 29,\n",
              " 23,\n",
              " 30,\n",
              " 67,\n",
              " 47,\n",
              " 25,\n",
              " 19,\n",
              " 32,\n",
              " 35,\n",
              " 35,\n",
              " 26,\n",
              " 27,\n",
              " 27,\n",
              " 19,\n",
              " 13,\n",
              " 27,\n",
              " 27,\n",
              " 26,\n",
              " 33,\n",
              " 22,\n",
              " 40,\n",
              " 25,\n",
              " 17,\n",
              " 9,\n",
              " 8,\n",
              " 38,\n",
              " 49,\n",
              " 30,\n",
              " 59,\n",
              " 54,\n",
              " 24,\n",
              " 26,\n",
              " 13,\n",
              " 22,\n",
              " 23,\n",
              " 53,\n",
              " 14,\n",
              " 78,\n",
              " 34,\n",
              " 40,\n",
              " 52,\n",
              " 26,\n",
              " 43,\n",
              " 16,\n",
              " 19,\n",
              " 27,\n",
              " 14,\n",
              " 21,\n",
              " 30,\n",
              " 8,\n",
              " 40,\n",
              " 19,\n",
              " 13,\n",
              " 19,\n",
              " 34,\n",
              " 8,\n",
              " 23,\n",
              " 32,\n",
              " 9,\n",
              " 37,\n",
              " 15,\n",
              " 85,\n",
              " 36,\n",
              " 45,\n",
              " 62,\n",
              " 111,\n",
              " 111,\n",
              " 65,\n",
              " 25,\n",
              " 22,\n",
              " 32,\n",
              " 14,\n",
              " 51,\n",
              " 47,\n",
              " 17,\n",
              " 42,\n",
              " 16,\n",
              " 10,\n",
              " 19,\n",
              " 33,\n",
              " 20,\n",
              " 24,\n",
              " 24,\n",
              " 28,\n",
              " 42,\n",
              " 23,\n",
              " 23,\n",
              " 20,\n",
              " 20,\n",
              " 21,\n",
              " 16,\n",
              " 35,\n",
              " 10,\n",
              " 30,\n",
              " 11,\n",
              " 14,\n",
              " 17,\n",
              " 36,\n",
              " 26,\n",
              " 30,\n",
              " 32,\n",
              " 6,\n",
              " 13,\n",
              " 26,\n",
              " 48,\n",
              " 42,\n",
              " 23,\n",
              " 32,\n",
              " 25,\n",
              " 14,\n",
              " 34,\n",
              " 42,\n",
              " 14,\n",
              " 20,\n",
              " 35,\n",
              " 25,\n",
              " 6,\n",
              " 22,\n",
              " 26,\n",
              " 55,\n",
              " 28,\n",
              " 16,\n",
              " 30,\n",
              " 45,\n",
              " 12,\n",
              " 70,\n",
              " 21,\n",
              " 23,\n",
              " 5,\n",
              " 24,\n",
              " 53,\n",
              " 16,\n",
              " 14,\n",
              " 59,\n",
              " 37,\n",
              " 25,\n",
              " 29,\n",
              " 16,\n",
              " 7,\n",
              " 23,\n",
              " 18,\n",
              " 19,\n",
              " 20,\n",
              " 23,\n",
              " 42,\n",
              " 33,\n",
              " 34,\n",
              " 21,\n",
              " 24,\n",
              " 18,\n",
              " 14,\n",
              " 27,\n",
              " 57,\n",
              " 12,\n",
              " 54,\n",
              " 39,\n",
              " 38,\n",
              " 51,\n",
              " 36,\n",
              " 23,\n",
              " 31,\n",
              " 63,\n",
              " 13,\n",
              " 23,\n",
              " 22,\n",
              " 19,\n",
              " 11,\n",
              " 18,\n",
              " 21,\n",
              " 30,\n",
              " 14,\n",
              " 13,\n",
              " 12,\n",
              " 18,\n",
              " 9,\n",
              " 17,\n",
              " 27,\n",
              " 16,\n",
              " 38,\n",
              " 10,\n",
              " 13,\n",
              " 17,\n",
              " 14,\n",
              " 13,\n",
              " 25,\n",
              " 10,\n",
              " 20,\n",
              " 24,\n",
              " 32,\n",
              " 28,\n",
              " 62,\n",
              " 35,\n",
              " 42,\n",
              " 20,\n",
              " 16,\n",
              " 12,\n",
              " 28,\n",
              " 23,\n",
              " 19,\n",
              " 21,\n",
              " 34,\n",
              " 26,\n",
              " 14,\n",
              " 12,\n",
              " 9,\n",
              " 18,\n",
              " 19,\n",
              " 21,\n",
              " 45,\n",
              " 16,\n",
              " 24,\n",
              " 70,\n",
              " 32,\n",
              " 33,\n",
              " 29,\n",
              " 28,\n",
              " 32,\n",
              " 24,\n",
              " 26,\n",
              " 37,\n",
              " 30,\n",
              " 16,\n",
              " 20,\n",
              " 15,\n",
              " 29,\n",
              " 10,\n",
              " 35,\n",
              " 15,\n",
              " 16,\n",
              " 25,\n",
              " 38,\n",
              " 20,\n",
              " 30,\n",
              " 22,\n",
              " 44,\n",
              " 64,\n",
              " 40,\n",
              " 87,\n",
              " 7,\n",
              " 27,\n",
              " 11,\n",
              " 16,\n",
              " 30,\n",
              " 20,\n",
              " 18,\n",
              " 43,\n",
              " 13,\n",
              " 59,\n",
              " 38,\n",
              " 29,\n",
              " 34,\n",
              " 33,\n",
              " 4,\n",
              " 28,\n",
              " 21,\n",
              " 3,\n",
              " 18,\n",
              " 29,\n",
              " 23,\n",
              " 28,\n",
              " 18,\n",
              " 18,\n",
              " 14,\n",
              " 20,\n",
              " 30,\n",
              " 7,\n",
              " 14,\n",
              " 3,\n",
              " 39,\n",
              " 20,\n",
              " 21,\n",
              " 35,\n",
              " 10,\n",
              " 22,\n",
              " 21,\n",
              " 19,\n",
              " 36,\n",
              " 39,\n",
              " 2,\n",
              " 22,\n",
              " 24,\n",
              " 26,\n",
              " 11,\n",
              " 8,\n",
              " 53,\n",
              " 41,\n",
              " 34,\n",
              " 27,\n",
              " 38,\n",
              " 32,\n",
              " 44,\n",
              " 32,\n",
              " 34,\n",
              " 48,\n",
              " 36,\n",
              " 36,\n",
              " 37,\n",
              " 12,\n",
              " 22,\n",
              " 22,\n",
              " 13,\n",
              " 16,\n",
              " 12,\n",
              " 14,\n",
              " 12,\n",
              " 26,\n",
              " 22,\n",
              " 30,\n",
              " 24,\n",
              " 24,\n",
              " 30,\n",
              " 46,\n",
              " 27,\n",
              " 27,\n",
              " 27,\n",
              " 28,\n",
              " 37,\n",
              " 34,\n",
              " 14,\n",
              " 21,\n",
              " 39,\n",
              " 16,\n",
              " 26,\n",
              " 21,\n",
              " 8,\n",
              " 24,\n",
              " 26,\n",
              " 8,\n",
              " 81,\n",
              " 36,\n",
              " 12,\n",
              " 19,\n",
              " 21,\n",
              " 19,\n",
              " 43,\n",
              " 19,\n",
              " 14,\n",
              " 35,\n",
              " 21,\n",
              " 21,\n",
              " 42,\n",
              " 38,\n",
              " 34,\n",
              " 27,\n",
              " 21,\n",
              " 32,\n",
              " 25,\n",
              " 28,\n",
              " 23,\n",
              " 31,\n",
              " 48,\n",
              " 84,\n",
              " 19,\n",
              " 22,\n",
              " 22,\n",
              " 33,\n",
              " 24,\n",
              " 30,\n",
              " 15,\n",
              " 24,\n",
              " 27,\n",
              " 11,\n",
              " 19,\n",
              " 18,\n",
              " 21,\n",
              " 55,\n",
              " 50,\n",
              " 32,\n",
              " 40,\n",
              " 40,\n",
              " 17,\n",
              " 17,\n",
              " 20,\n",
              " 50,\n",
              " 6,\n",
              " 12,\n",
              " 26,\n",
              " 20,\n",
              " 17,\n",
              " 8,\n",
              " 11,\n",
              " 14,\n",
              " 39,\n",
              " 47,\n",
              " 34,\n",
              " 32,\n",
              " 22,\n",
              " 41,\n",
              " 77,\n",
              " 27,\n",
              " 26,\n",
              " 8,\n",
              " 10,\n",
              " 34,\n",
              " 28,\n",
              " 27,\n",
              " 30,\n",
              " 32,\n",
              " 32,\n",
              " 65,\n",
              " 25,\n",
              " 18,\n",
              " 14,\n",
              " 37,\n",
              " 9,\n",
              " 76,\n",
              " 12,\n",
              " 22,\n",
              " 35,\n",
              " 23,\n",
              " 8,\n",
              " 19,\n",
              " 19,\n",
              " 17,\n",
              " 11,\n",
              " 33,\n",
              " 8,\n",
              " 11,\n",
              " 15,\n",
              " 24,\n",
              " 27,\n",
              " 6,\n",
              " 16,\n",
              " 59,\n",
              " 34,\n",
              " 24,\n",
              " 10,\n",
              " 37,\n",
              " 51,\n",
              " 11,\n",
              " 12,\n",
              " 22,\n",
              " 19,\n",
              " 15,\n",
              " 19,\n",
              " 23,\n",
              " 13,\n",
              " 25,\n",
              " 9,\n",
              " 29,\n",
              " 16,\n",
              " 7,\n",
              " 29,\n",
              " 24,\n",
              " 25,\n",
              " 22,\n",
              " 20,\n",
              " 14,\n",
              " 33,\n",
              " 11,\n",
              " 11,\n",
              " 21,\n",
              " 18,\n",
              " 50,\n",
              " 35,\n",
              " 22,\n",
              " 34,\n",
              " 63,\n",
              " 23,\n",
              " 53,\n",
              " 19,\n",
              " 12,\n",
              " 15,\n",
              " 17,\n",
              " ...]"
            ]
          },
          "metadata": {},
          "execution_count": 37
        }
      ]
    },
    {
      "cell_type": "code",
      "source": [
        "avg_sent_len = np.mean(sent_lens)\n",
        "avg_sent_len"
      ],
      "metadata": {
        "colab": {
          "base_uri": "https://localhost:8080/"
        },
        "id": "_LjB1r4pfmKP",
        "outputId": "291cd3d1-9e65-4776-a65d-b285fdcf1b7d"
      },
      "execution_count": 38,
      "outputs": [
        {
          "output_type": "execute_result",
          "data": {
            "text/plain": [
              "26.338269273494777"
            ]
          },
          "metadata": {},
          "execution_count": 38
        }
      ]
    },
    {
      "cell_type": "code",
      "source": [
        "import matplotlib.pyplot as plt\n",
        "plt.hist(sent_lens, bins=40)"
      ],
      "metadata": {
        "colab": {
          "base_uri": "https://localhost:8080/",
          "height": 533
        },
        "id": "Rk69E_befqoz",
        "outputId": "0a3293d6-9fab-4de3-c3bb-2709e9bab812"
      },
      "execution_count": 39,
      "outputs": [
        {
          "output_type": "execute_result",
          "data": {
            "text/plain": [
              "(array([9.1130e+03, 3.2962e+04, 4.9105e+04, 3.4666e+04, 2.2517e+04,\n",
              "        1.4360e+04, 6.8790e+03, 4.0660e+03, 2.5730e+03, 1.3580e+03,\n",
              "        9.3400e+02, 5.1100e+02, 3.3600e+02, 2.2400e+02, 1.3100e+02,\n",
              "        9.5000e+01, 6.8000e+01, 3.3000e+01, 2.5000e+01, 2.0000e+01,\n",
              "        9.0000e+00, 1.1000e+01, 7.0000e+00, 5.0000e+00, 4.0000e+00,\n",
              "        5.0000e+00, 5.0000e+00, 5.0000e+00, 3.0000e+00, 3.0000e+00,\n",
              "        1.0000e+00, 1.0000e+00, 2.0000e+00, 1.0000e+00, 0.0000e+00,\n",
              "        0.0000e+00, 0.0000e+00, 1.0000e+00, 0.0000e+00, 1.0000e+00]),\n",
              " array([  1.   ,   8.375,  15.75 ,  23.125,  30.5  ,  37.875,  45.25 ,\n",
              "         52.625,  60.   ,  67.375,  74.75 ,  82.125,  89.5  ,  96.875,\n",
              "        104.25 , 111.625, 119.   , 126.375, 133.75 , 141.125, 148.5  ,\n",
              "        155.875, 163.25 , 170.625, 178.   , 185.375, 192.75 , 200.125,\n",
              "        207.5  , 214.875, 222.25 , 229.625, 237.   , 244.375, 251.75 ,\n",
              "        259.125, 266.5  , 273.875, 281.25 , 288.625, 296.   ]),\n",
              " <a list of 40 Patch objects>)"
            ]
          },
          "metadata": {},
          "execution_count": 39
        },
        {
          "output_type": "display_data",
          "data": {
            "text/plain": [
              "<Figure size 432x288 with 1 Axes>"
            ],
            "image/png": "[encoded data removed]"
          },
          "metadata": {
            "needs_background": "light"
          }
        }
      ]
    },
    {
      "cell_type": "code",
      "source": [
        "np.percentile(sent_lens, .95)"
      ],
      "metadata": {
        "colab": {
          "base_uri": "https://localhost:8080/"
        },
        "id": "jGh4AvaXf67g",
        "outputId": "77dcde3f-17fe-41eb-a852-0063fe4fb6f8"
      },
      "execution_count": 40,
      "outputs": [
        {
          "output_type": "execute_result",
          "data": {
            "text/plain": [
              "4.0"
            ]
          },
          "metadata": {},
          "execution_count": 40
        }
      ]
    },
    {
      "cell_type": "code",
      "source": [
        "output_seq_len = int(np.percentile(sent_lens, 95))"
      ],
      "metadata": {
        "id": "VwaTdUM_gDTs"
      },
      "execution_count": 41,
      "outputs": []
    },
    {
      "cell_type": "code",
      "source": [
        "output_seq_len"
      ],
      "metadata": {
        "colab": {
          "base_uri": "https://localhost:8080/"
        },
        "id": "zQfdvD4_gUfG",
        "outputId": "7fa2369e-e247-43a6-cc2f-031d5cde8819"
      },
      "execution_count": 42,
      "outputs": [
        {
          "output_type": "execute_result",
          "data": {
            "text/plain": [
              "55"
            ]
          },
          "metadata": {},
          "execution_count": 42
        }
      ]
    },
    {
      "cell_type": "code",
      "source": [
        "max(sent_lens)"
      ],
      "metadata": {
        "colab": {
          "base_uri": "https://localhost:8080/"
        },
        "id": "DNKM-W-JgVnT",
        "outputId": "de83a148-2954-4eca-d05e-4952aaf154ba"
      },
      "execution_count": 43,
      "outputs": [
        {
          "output_type": "execute_result",
          "data": {
            "text/plain": [
              "296"
            ]
          },
          "metadata": {},
          "execution_count": 43
        }
      ]
    },
    {
      "cell_type": "code",
      "source": [
        "#Text Vectorization\n",
        "#homw many words are in our vocabulary\n",
        "max_tokens = 68000"
      ],
      "metadata": {
        "id": "jRdCp0N7gaqe"
      },
      "execution_count": 44,
      "outputs": []
    },
    {
      "cell_type": "code",
      "source": [
        "from tensorflow.keras.layers.experimental.preprocessing import TextVectorization\n",
        "\n",
        "text_vectorizer = TextVectorization(max_tokens=max_tokens,\n",
        "                                    output_sequence_length=output_seq_len)"
      ],
      "metadata": {
        "id": "4tciNTE_6772"
      },
      "execution_count": 45,
      "outputs": []
    },
    {
      "cell_type": "code",
      "source": [
        "#fitting text vectorizer to our data set\n",
        "text_vectorizer.adapt(train_sentences)"
      ],
      "metadata": {
        "id": "Z_WU07wm7HQl"
      },
      "execution_count": 46,
      "outputs": []
    },
    {
      "cell_type": "code",
      "source": [
        "#test out text_vectorizor on random sentences\n",
        "import random\n",
        "target_sentence = random.choice(train_sentences)\n",
        "print(f\"Text: {target_sentence}\")\n",
        "print(f\"Vectorized Text: {text_vectorizer([target_sentence])}\")"
      ],
      "metadata": {
        "colab": {
          "base_uri": "https://localhost:8080/"
        },
        "id": "zXBhEqDY7pGq",
        "outputId": "b9d2d9a7-6721-4adb-a2bb-7298923c6815"
      },
      "execution_count": 47,
      "outputs": [
        {
          "output_type": "stream",
          "name": "stdout",
          "text": [
            "Text: the @-year dmfs of imrt and imrt combined with chemotherapy was @ % and @ % , the os of them was @ % and @ % .\n",
            "Vectorized Text: [[   2  157 7893    4 5433    3 5433  286    7  415   10    3    2  653\n",
            "     4  942   10    3    0    0    0    0    0    0    0    0    0    0\n",
            "     0    0    0    0    0    0    0    0    0    0    0    0    0    0\n",
            "     0    0    0    0    0    0    0    0    0    0    0    0    0]]\n"
          ]
        }
      ]
    },
    {
      "cell_type": "code",
      "source": [
        "#HOw many words in our training vocabulary\n",
        "rct_20k_text_vocab = text_vectorizer.get_vocabulary()\n",
        "print(f\"Num of words: {len(rct_20k_text_vocab)}\")\n",
        "print(f\"most common words: {rct_20k_text_vocab[:5]}\")\n",
        "print(f\"least common words: {rct_20k_text_vocab[-5:]}\")"
      ],
      "metadata": {
        "colab": {
          "base_uri": "https://localhost:8080/"
        },
        "id": "al9n3M-z79za",
        "outputId": "d06f08af-bcd2-42ed-a16d-4e6428990c00"
      },
      "execution_count": 50,
      "outputs": [
        {
          "output_type": "stream",
          "name": "stdout",
          "text": [
            "Num of words: 64841\n",
            "most common words: ['', '[UNK]', 'the', 'and', 'of']\n",
            "least common words: ['aainduced', 'aaigroup', 'aachener', 'aachen', 'aaacp']\n"
          ]
        }
      ]
    },
    {
      "cell_type": "code",
      "source": [
        "text_vectorizer.get_config()"
      ],
      "metadata": {
        "colab": {
          "base_uri": "https://localhost:8080/"
        },
        "id": "pG0vRoxc8YSP",
        "outputId": "ed361842-ca17-47c9-9e69-cc045a0c5b30"
      },
      "execution_count": 51,
      "outputs": [
        {
          "output_type": "execute_result",
          "data": {
            "text/plain": [
              "{'batch_input_shape': (None,),\n",
              " 'dtype': 'string',\n",
              " 'idf_weights': None,\n",
              " 'max_tokens': 68000,\n",
              " 'name': 'text_vectorization',\n",
              " 'ngrams': None,\n",
              " 'output_mode': 'int',\n",
              " 'output_sequence_length': 55,\n",
              " 'pad_to_max_tokens': False,\n",
              " 'ragged': False,\n",
              " 'sparse': False,\n",
              " 'split': 'whitespace',\n",
              " 'standardize': 'lower_and_strip_punctuation',\n",
              " 'trainable': True,\n",
              " 'vocabulary': None}"
            ]
          },
          "metadata": {},
          "execution_count": 51
        }
      ]
    },
    {
      "cell_type": "code",
      "source": [
        "#Create token embedding layer\n",
        "token_embed = layers.Embedding(input_dim=len(rct_20k_text_vocab),\n",
        "                               output_dim=128,\n",
        "                               mask_zero=True, #using masking to handle vairable sequence lengths\n",
        "                               name=\"token_embedding\")"
      ],
      "metadata": {
        "id": "D1dvYpDE8iA3"
      },
      "execution_count": 52,
      "outputs": []
    },
    {
      "cell_type": "code",
      "source": [
        "#show an example\n",
        "print(f\"sentence before embedding: {target_sentence}\")\n",
        "vectorized_sentence = text_vectorizer([target_sentence])\n",
        "print(f\"setnece after vectorization: {vectorized_sentence}\")\n",
        "embedded_sentence = token_embed(vectorized_sentence)\n",
        "print(f\"embedded sentence: {embedded_sentence}\")\n",
        "print(f\"embedded sentence shape: {embedded_sentence.shape}\")"
      ],
      "metadata": {
        "colab": {
          "base_uri": "https://localhost:8080/"
        },
        "id": "dn2YzQVl9MFY",
        "outputId": "e988e9a3-8c6e-4a0a-b457-fcf1ccc3c1fa"
      },
      "execution_count": 53,
      "outputs": [
        {
          "output_type": "stream",
          "name": "stdout",
          "text": [
            "sentence before embedding: the @-year dmfs of imrt and imrt combined with chemotherapy was @ % and @ % , the os of them was @ % and @ % .\n",
            "setnece after vectorization: [[   2  157 7893    4 5433    3 5433  286    7  415   10    3    2  653\n",
            "     4  942   10    3    0    0    0    0    0    0    0    0    0    0\n",
            "     0    0    0    0    0    0    0    0    0    0    0    0    0    0\n",
            "     0    0    0    0    0    0    0    0    0    0    0    0    0]]\n",
            "embedded sentence: [[[-0.04778838  0.04236132  0.01402999 ... -0.04360659 -0.03997413\n",
            "    0.02241829]\n",
            "  [-0.04317201  0.03386021  0.0062595  ...  0.00843478 -0.00813044\n",
            "    0.04969328]\n",
            "  [ 0.0146681  -0.0470767  -0.03928722 ... -0.03217625 -0.03219765\n",
            "   -0.01058429]\n",
            "  ...\n",
            "  [ 0.04417754  0.03869214  0.02917088 ... -0.01854285 -0.00426105\n",
            "    0.01866278]\n",
            "  [ 0.04417754  0.03869214  0.02917088 ... -0.01854285 -0.00426105\n",
            "    0.01866278]\n",
            "  [ 0.04417754  0.03869214  0.02917088 ... -0.01854285 -0.00426105\n",
            "    0.01866278]]]\n",
            "embedded sentence shape: (1, 55, 128)\n"
          ]
        }
      ]
    },
    {
      "cell_type": "code",
      "source": [
        "## Creating datasets \n",
        "#Turn our data into tf datasets\n",
        "train_labels_one_hot = tf.constant(train_labels_one_hot)\n",
        "val_labels_one_hot = tf.constant(val_labels_one_hot)\n",
        "test_labels_one_hot = tf.constant(test_labels_one_hot)\n",
        "\n",
        "train_dataset = tf.data.Dataset.from_tensor_slices((train_sentences, train_labels_one_hot))\n",
        "val_dataset = tf.data.Dataset.from_tensor_slices((val_sentences, val_labels_one_hot))\n",
        "test_dataset = tf.data.Dataset.from_tensor_slices((test_sentences, test_labels_one_hot))\n"
      ],
      "metadata": {
        "id": "bCfxHyzE9kpv"
      },
      "execution_count": 84,
      "outputs": []
    },
    {
      "cell_type": "code",
      "source": [
        "#Take the TensorSliceDataset into prefetched datasets\n",
        "train_dataset = train_dataset.batch(32).prefetch(tf.data.AUTOTUNE)\n",
        "val_dataset = val_dataset.batch(32).prefetch(tf.data.AUTOTUNE)\n",
        "test_dataset = test_dataset.batch(32).prefetch(tf.data.AUTOTUNE)"
      ],
      "metadata": {
        "id": "PtIIciD--Z2Z"
      },
      "execution_count": 85,
      "outputs": []
    },
    {
      "cell_type": "code",
      "source": [
        "train_dataset"
      ],
      "metadata": {
        "colab": {
          "base_uri": "https://localhost:8080/"
        },
        "id": "ryjeIRDhCmUu",
        "outputId": "c3a634a8-6769-4420-ee38-7e4707fad5c6"
      },
      "execution_count": 86,
      "outputs": [
        {
          "output_type": "execute_result",
          "data": {
            "text/plain": [
              "<PrefetchDataset element_spec=(TensorSpec(shape=(None,), dtype=tf.string, name=None), TensorSpec(shape=(None, 5), dtype=tf.float64, name=None))>"
            ]
          },
          "metadata": {},
          "execution_count": 86
        }
      ]
    },
    {
      "cell_type": "code",
      "source": [
        "## Model 1: Conv1D with token embeddings\n",
        "inputs = layers.Input(shape=(1,), dtype=tf.string)\n",
        "text_vectors = text_vectorizer(inputs)\n",
        "token_embeddings = token_embed(text_vectors)\n",
        "x = layers.Conv1D(64, kernel_size=5, padding=\"same\", activation=\"relu\")(token_embeddings)\n",
        "x = layers.GlobalAveragePooling1D()(x)\n",
        "outputs = layers.Dense(5, activation=\"softmax\")(x)\n",
        "model_1 = tf.keras.Model(inputs, outputs)\n",
        "#compile\n",
        "model_1.compile(loss=\"categorical_crossentropy\",\n",
        "                optimizer=tf.keras.optimizers.Adam(),\n",
        "                metrics=[\"accuracy\"])\n",
        "\n"
      ],
      "metadata": {
        "id": "Xp7k7PGSC-CR"
      },
      "execution_count": 89,
      "outputs": []
    },
    {
      "cell_type": "code",
      "source": [
        "model_1.summary()"
      ],
      "metadata": {
        "colab": {
          "base_uri": "https://localhost:8080/"
        },
        "id": "gcXUn49aEFX4",
        "outputId": "70eb4715-c3ea-43be-f742-68f645a7abb6"
      },
      "execution_count": 90,
      "outputs": [
        {
          "output_type": "stream",
          "name": "stdout",
          "text": [
            "Model: \"model\"\n",
            "_________________________________________________________________\n",
            " Layer (type)                Output Shape              Param #   \n",
            "=================================================================\n",
            " input_3 (InputLayer)        [(None, 1)]               0         \n",
            "                                                                 \n",
            " text_vectorization (TextVec  (None, 55)               0         \n",
            " torization)                                                     \n",
            "                                                                 \n",
            " token_embedding (Embedding)  (None, 55, 128)          8299648   \n",
            "                                                                 \n",
            " conv1d_1 (Conv1D)           (None, 55, 64)            41024     \n",
            "                                                                 \n",
            " global_average_pooling1d_1   (None, 64)               0         \n",
            " (GlobalAveragePooling1D)                                        \n",
            "                                                                 \n",
            " dense (Dense)               (None, 5)                 325       \n",
            "                                                                 \n",
            "=================================================================\n",
            "Total params: 8,340,997\n",
            "Trainable params: 8,340,997\n",
            "Non-trainable params: 0\n",
            "_________________________________________________________________\n"
          ]
        }
      ]
    },
    {
      "cell_type": "code",
      "source": [
        "history_model_1 = model_1.fit(train_dataset,\n",
        "                              steps_per_epoch=(0.1*len(train_dataset)),\n",
        "                              epochs=3,\n",
        "                              validation_data=val_dataset,\n",
        "                              validation_steps=(0.1*len(val_dataset)))"
      ],
      "metadata": {
        "colab": {
          "base_uri": "https://localhost:8080/"
        },
        "id": "dd-rXpCyEQIv",
        "outputId": "e9aed54f-db9a-42d9-f3ab-dd6852f0e2ad"
      },
      "execution_count": 92,
      "outputs": [
        {
          "output_type": "stream",
          "name": "stdout",
          "text": [
            "Epoch 1/3\n",
            "562/562 [==============================] - 19s 11ms/step - loss: 0.9148 - accuracy: 0.6434 - val_loss: 0.6749 - val_accuracy: 0.7451\n",
            "Epoch 2/3\n",
            "562/562 [==============================] - 6s 10ms/step - loss: 0.6440 - accuracy: 0.7651 - val_loss: 0.6307 - val_accuracy: 0.7740\n",
            "Epoch 3/3\n",
            "562/562 [==============================] - 6s 11ms/step - loss: 0.6077 - accuracy: 0.7808 - val_loss: 0.5906 - val_accuracy: 0.7865\n"
          ]
        }
      ]
    },
    {
      "cell_type": "code",
      "source": [
        "#Evaluate on whole validation dtaset\n",
        "model_1.evaluate(val_dataset)"
      ],
      "metadata": {
        "colab": {
          "base_uri": "https://localhost:8080/"
        },
        "id": "DonrvzRGEsrC",
        "outputId": "bd956fe5-23ca-46e7-f3b1-d037e891d309"
      },
      "execution_count": 93,
      "outputs": [
        {
          "output_type": "stream",
          "name": "stdout",
          "text": [
            "945/945 [==============================] - 5s 5ms/step - loss: 0.5887 - accuracy: 0.7895\n"
          ]
        },
        {
          "output_type": "execute_result",
          "data": {
            "text/plain": [
              "[0.5886678099632263, 0.7894545197486877]"
            ]
          },
          "metadata": {},
          "execution_count": 93
        }
      ]
    },
    {
      "cell_type": "code",
      "source": [
        "#making predictions\n",
        "model_1_pred_probs = model_1.predict(val_dataset)\n",
        "model_1_preds = tf.argmax(model_1_pred_probs, axis=1)\n",
        "model_1_preds"
      ],
      "metadata": {
        "colab": {
          "base_uri": "https://localhost:8080/"
        },
        "id": "u8PGLQXzFHC-",
        "outputId": "808c7f24-e794-4364-a4cc-4ba98e76a02c"
      },
      "execution_count": 96,
      "outputs": [
        {
          "output_type": "execute_result",
          "data": {
            "text/plain": [
              "<tf.Tensor: shape=(30212,), dtype=int64, numpy=array([0, 0, 3, ..., 4, 1, 1])>"
            ]
          },
          "metadata": {},
          "execution_count": 96
        }
      ]
    },
    {
      "cell_type": "code",
      "source": [
        "model_1_results = calculate_results(val_labels_encoded,\n",
        "                                    model_1_preds)"
      ],
      "metadata": {
        "id": "Fk9m7csUFTzw"
      },
      "execution_count": 97,
      "outputs": []
    },
    {
      "cell_type": "code",
      "source": [
        "model_1_results"
      ],
      "metadata": {
        "colab": {
          "base_uri": "https://localhost:8080/"
        },
        "id": "8OWsihDjFgty",
        "outputId": "6b8c9d4a-978f-495f-8f18-9db9b4b7980d"
      },
      "execution_count": 98,
      "outputs": [
        {
          "output_type": "execute_result",
          "data": {
            "text/plain": [
              "{'accuracy': 78.94545213822323,\n",
              " 'f1': 0.7871723270765113,\n",
              " 'precision': 0.7866936189695583,\n",
              " 'recall': 0.7894545213822323}"
            ]
          },
          "metadata": {},
          "execution_count": 98
        }
      ]
    },
    {
      "cell_type": "markdown",
      "source": [
        "##Feature Extraction with pretrained token embeddings"
      ],
      "metadata": {
        "id": "gGCLp_CTFiUX"
      }
    },
    {
      "cell_type": "code",
      "source": [
        "#Using pretrained word embeddings from tensorflow hub\n",
        "import tensorflow_hub as hub\n",
        "tf_hub_embedding_layer = hub.KerasLayer(\"https://tfhub.dev/google/universal-sentence-encoder/4\",\n",
        "                                        trainable=False,\n",
        "                                        name=\"universal_sentence_encoder\")\n"
      ],
      "metadata": {
        "id": "e1G-m9DPFzeA"
      },
      "execution_count": 100,
      "outputs": []
    },
    {
      "cell_type": "code",
      "source": [
        "random_train_sentence = random.choice(train_sentences)\n",
        "print(f\"random sentence: {random_train_sentence}\")\n",
        "use_embedded_sentence = tf_hub_embedding_layer([random_train_sentence])\n",
        "print(f\"embedded version: {use_embedded_sentence}\")"
      ],
      "metadata": {
        "colab": {
          "base_uri": "https://localhost:8080/"
        },
        "id": "uG2sSsfHG0Wb",
        "outputId": "449a4e7a-7124-4fbc-edb2-9b64af137356"
      },
      "execution_count": 102,
      "outputs": [
        {
          "output_type": "stream",
          "name": "stdout",
          "text": [
            "random sentence: forty-two percent of eligible families agreed to be randomized into the trial .\n",
            "embedded version: [[-1.69182569e-02 -2.10830383e-02 -2.65385248e-02  3.97371985e-02\n",
            "  -1.85240023e-02 -2.28829756e-02  4.21373621e-02 -1.76197514e-02\n",
            "  -2.47257575e-02 -6.22257851e-02  3.91724557e-02 -2.36100890e-02\n",
            "   5.77898286e-02 -1.98279638e-02  4.76251058e-02 -6.21275268e-02\n",
            "  -8.43168721e-02  3.19587924e-02 -1.26996124e-02 -1.25964079e-02\n",
            "  -8.46575797e-02  2.72382144e-02  1.91687401e-02 -4.59185429e-02\n",
            "   1.25363776e-02  3.95588540e-02 -1.37053384e-02  7.56700858e-02\n",
            "   3.95349078e-02  2.81124171e-02  7.09609017e-02  9.48000699e-03\n",
            "  -3.85732912e-02  1.06753949e-02 -4.81119864e-02 -1.44249937e-02\n",
            "  -3.83898318e-02 -6.24108128e-02  7.32903183e-03  5.64378835e-02\n",
            "  -1.41285770e-02  2.33741943e-03  2.30630543e-02 -1.55632012e-02\n",
            "   1.94590688e-02 -3.69888693e-02  4.49571107e-03 -1.68443732e-02\n",
            "   4.77378108e-02 -7.88213983e-02 -7.61506939e-03  7.41004292e-03\n",
            "   4.32000048e-02 -1.36162043e-02 -1.73195340e-02 -2.25893389e-02\n",
            "   5.59643656e-02 -1.02028600e-03  5.35067357e-02  6.59814999e-02\n",
            "  -4.50226180e-02  1.68262720e-02 -4.73104455e-02 -3.34273614e-02\n",
            "   2.95569319e-02  7.43524032e-03  5.00687249e-02 -5.72465584e-02\n",
            "   7.06603229e-02  3.64496298e-02  7.37026380e-03  1.13503616e-02\n",
            "   2.71481858e-03  5.41606173e-02 -7.56727234e-02  6.21194243e-02\n",
            "  -3.54748927e-02  4.28510830e-02 -8.27336237e-02 -3.50818262e-02\n",
            "   4.39538769e-02  3.19608860e-02  3.75175439e-02 -5.00746956e-03\n",
            "   1.74276121e-02  7.02554267e-03 -5.44545799e-02 -2.06955615e-02\n",
            "  -4.40895148e-02 -3.84686887e-02 -7.09360093e-02  4.58882675e-02\n",
            "  -1.62262525e-02  1.12759983e-02  7.74957910e-02 -6.22914732e-02\n",
            "  -5.80142904e-03 -1.63633265e-02  2.43628882e-02  1.87217612e-02\n",
            "  -6.50068298e-02  3.98349799e-02 -3.71794626e-02  3.05222850e-02\n",
            "   2.40929425e-02  4.91446964e-02 -1.17458776e-02 -5.89713939e-02\n",
            "  -9.13752094e-02  1.68627705e-02  8.24939180e-03  6.99472949e-02\n",
            "  -2.82103308e-02  8.29141289e-02  4.80356775e-02  2.08646897e-02\n",
            "  -2.44031120e-02 -4.52933721e-02  4.42523845e-02 -6.81654830e-03\n",
            "   3.69001888e-02 -1.23204505e-02  4.98471484e-02  3.93399186e-02\n",
            "   2.54082270e-02  2.39007175e-02 -4.12149280e-02  4.09673154e-02\n",
            "   6.64990023e-02 -2.55546849e-02  3.78578790e-02  3.28284800e-02\n",
            "  -9.02499724e-03  3.27164610e-03 -5.14909737e-02 -6.19947910e-02\n",
            "  -5.01580955e-03  4.10751291e-02  4.93411869e-02  6.19695336e-02\n",
            "   2.21735518e-02 -4.56366129e-02 -8.93562380e-03 -3.37334275e-02\n",
            "  -7.91356191e-02  3.82568501e-02 -1.57460533e-02 -4.37787268e-03\n",
            "   1.77806728e-02 -2.27512047e-02  4.29030359e-02  8.89930595e-03\n",
            "   7.58367330e-02  9.39577632e-03  6.13060333e-02  2.56517995e-02\n",
            "  -1.21144289e-02 -5.79771958e-02 -5.85421845e-02  6.70304475e-03\n",
            "  -4.55887765e-02 -6.73046783e-02 -3.75168733e-02 -4.76679243e-02\n",
            "  -3.19618583e-02  5.31550087e-02 -5.15413918e-02  6.76193833e-02\n",
            "  -1.22598810e-02 -6.31877631e-02  1.53645957e-02  4.23678048e-02\n",
            "  -4.94357646e-02  2.21436154e-02  2.63960492e-02  1.64980497e-02\n",
            "   3.94794382e-02  5.24645299e-02 -2.13100426e-02  2.98304297e-02\n",
            "  -2.69083492e-02  2.32225638e-02  3.54138389e-02 -4.17511240e-02\n",
            "  -3.35815735e-02 -8.15250129e-02  6.81683794e-03  1.75539162e-02\n",
            "  -1.77465882e-02  3.02276928e-02  2.59900615e-02 -8.64769984e-03\n",
            "   3.12348884e-02  5.02519123e-02  3.68248820e-02 -5.42053627e-03\n",
            "  -3.78639274e-03  5.51698804e-02  2.45369785e-02  7.98404776e-03\n",
            "   8.65280479e-02  5.05859628e-02  3.78447324e-02  1.92045309e-02\n",
            "   7.87665024e-02 -4.23630439e-02  1.30107636e-02 -3.53536084e-02\n",
            "   5.94166145e-02  4.76142988e-02 -2.86781173e-02 -2.52433885e-02\n",
            "  -5.17873242e-02 -4.45696414e-02  1.87517330e-02 -7.49880895e-02\n",
            "   8.17628652e-02  7.40041435e-02  4.61442284e-02 -1.53448964e-02\n",
            "  -5.78215569e-02 -6.48849458e-02 -1.80088766e-02 -5.81565648e-02\n",
            "   4.61591920e-03  3.15132327e-02  6.43008426e-02  1.72034856e-02\n",
            "  -5.21107763e-02  2.24121772e-02  5.45015484e-02  6.09854283e-03\n",
            "   4.58100401e-02 -3.33717242e-02 -1.42635508e-02 -1.13175493e-02\n",
            "  -8.78374092e-03 -2.55798455e-02  1.10071363e-04 -6.14315122e-02\n",
            "   2.07014382e-02 -2.59720851e-02  2.55917907e-02 -4.91880774e-02\n",
            "   8.90238062e-02 -2.62828707e-03  6.99658971e-03 -7.21368417e-02\n",
            "  -6.60505369e-02 -5.65849505e-02  5.03383167e-02 -5.74712828e-02\n",
            "  -4.95976098e-02 -4.52277027e-02 -2.59737466e-02  3.09778862e-02\n",
            "  -2.89417291e-03 -9.14851427e-02  1.26645686e-02 -6.67829439e-02\n",
            "   2.61529367e-02  3.82124968e-02 -4.69610058e-02  6.93994313e-02\n",
            "  -7.71973953e-02 -6.05227239e-02 -3.81942801e-02 -9.43338405e-03\n",
            "   2.44623225e-05 -3.53944227e-02 -7.81777501e-02 -3.20486948e-02\n",
            "   4.69895117e-02  3.61621263e-04 -2.78111193e-02 -7.64821097e-02\n",
            "   5.55235110e-02 -1.95620544e-02 -2.09495388e-02  4.51820791e-02\n",
            "  -3.67265306e-02 -7.04402402e-02  5.55886654e-03  9.51109361e-03\n",
            "  -3.93070690e-02  2.19396558e-02 -4.95809838e-02  4.74822111e-02\n",
            "  -5.81293404e-02 -8.12383071e-02  5.59777627e-03 -6.00573905e-02\n",
            "  -7.62263015e-02  8.53555277e-02 -1.65290218e-02 -4.00444679e-02\n",
            "   9.92739946e-03  1.59478467e-03 -8.80869552e-02 -5.35129532e-02\n",
            "   4.34043109e-02  4.88794781e-02  5.84240854e-02 -6.06186278e-02\n",
            "  -8.03407729e-02  7.01721087e-02 -2.16724887e-03 -6.55842274e-02\n",
            "  -3.96540314e-02  2.38203257e-03  5.66674285e-02  4.08658497e-02\n",
            "   3.83093655e-02 -4.53063436e-02  1.09297680e-02 -3.15794651e-03\n",
            "  -1.84036400e-02  2.57670600e-02  3.90889011e-02 -5.77002019e-02\n",
            "  -4.57236916e-02 -5.94247654e-02 -4.25104378e-03  1.05663389e-02\n",
            "  -7.99307749e-02 -1.10688768e-02 -2.38553826e-02 -2.88475659e-02\n",
            "  -6.91428706e-02  2.33029425e-02  4.81374115e-02 -5.34945540e-03\n",
            "   6.58025667e-02 -1.69318169e-02  3.41764987e-02 -3.13898665e-03\n",
            "   5.26027456e-02 -3.96485589e-02 -2.06546411e-02  4.79158685e-02\n",
            "   6.52906820e-02 -3.82781290e-02  4.88957670e-03  3.10871787e-02\n",
            "   3.01270373e-02  6.14169873e-02  3.29474322e-02  8.04506764e-02\n",
            "   3.62837538e-02  6.55596107e-02 -2.97712293e-02 -7.75534138e-02\n",
            "   4.16482724e-02 -2.67448686e-02 -1.81416085e-03  2.22000349e-02\n",
            "  -3.18861268e-02 -5.89909330e-02  6.72729313e-02 -1.53726721e-02\n",
            "  -2.26997752e-02 -3.15427408e-02 -6.69398680e-02 -3.42646949e-02\n",
            "   6.81088632e-03 -6.84779882e-02 -4.06924188e-02  4.35946584e-02\n",
            "  -2.67464910e-02 -8.60044286e-02 -7.75066912e-02 -1.83006469e-02\n",
            "   3.75828221e-02  8.28091279e-02  1.99957490e-02 -2.32837424e-02\n",
            "  -6.89508170e-02 -6.19100742e-02  4.23565088e-03  4.28012162e-02\n",
            "  -7.77179981e-03 -6.92163482e-02 -8.85509923e-02  3.09698153e-02\n",
            "  -3.94698679e-02  3.13529186e-02  1.84358086e-03  2.67891912e-03\n",
            "  -3.81991155e-02  1.75756961e-02 -5.40362895e-02  3.39237750e-02\n",
            "  -3.81205752e-02 -8.37158784e-03 -6.02081902e-02 -5.27091045e-03\n",
            "   3.01139131e-02 -9.54969451e-02  3.23389359e-02 -3.43230926e-02\n",
            "   3.49443220e-02  7.92108104e-02  8.47468600e-02  2.12485101e-02\n",
            "  -3.81319635e-02 -1.13636730e-02 -9.77872591e-03  2.89746765e-02\n",
            "  -2.95467172e-02 -7.07708523e-02  4.35088910e-02  2.65100300e-02\n",
            "  -1.27990795e-02 -6.82002259e-03 -3.28853466e-02 -5.83556592e-02\n",
            "   9.23499838e-03 -5.90082780e-02  9.91676934e-03  2.94806040e-03\n",
            "   3.77145298e-02 -1.61823835e-02 -3.08459494e-02  2.37193331e-02\n",
            "   5.59935682e-02  2.88416985e-02 -7.81583637e-02 -8.07007104e-02\n",
            "  -4.23057899e-02 -2.37418953e-02 -1.09968409e-02 -6.72476664e-02\n",
            "  -6.92893863e-02 -2.74483673e-03 -1.57910828e-02  1.20132929e-02\n",
            "  -2.20124256e-02 -3.64880934e-02 -5.84385693e-02 -1.15660792e-02\n",
            "  -2.92099956e-02  1.99081916e-02 -3.43689471e-02 -3.80358770e-02\n",
            "   6.89720735e-02  1.30522589e-03 -2.25973055e-02  1.54247172e-02\n",
            "   5.02389111e-02  7.91516528e-02  4.17580195e-02  1.22191268e-03\n",
            "   2.85536461e-02 -6.67117164e-02  4.77904417e-02 -5.13339490e-02\n",
            "  -5.25834784e-02  5.35576008e-02 -4.22596075e-02  7.23952204e-02\n",
            "  -7.02606514e-02  6.85294792e-02  5.00519089e-02  5.25218509e-02\n",
            "   6.05802611e-02  4.71821502e-02  3.45953479e-02 -1.81301031e-02\n",
            "   6.14389405e-02 -4.59487326e-02 -3.29307914e-02 -2.51604393e-02\n",
            "  -3.30049172e-02  3.47952284e-02  1.35223307e-02  4.87533137e-02\n",
            "   1.23938592e-02  1.86358821e-02 -5.18153198e-02  7.80443698e-02\n",
            "  -3.23962979e-02  3.94065082e-02 -1.47030782e-03  1.18763810e-02\n",
            "   4.65555824e-02 -2.23052427e-02 -3.63893099e-02 -4.52390276e-02\n",
            "  -6.73962831e-02  8.37458298e-03  4.41452526e-02 -5.92814758e-02\n",
            "   5.48837185e-02 -4.31068242e-02  3.16818468e-02 -7.02530593e-02\n",
            "  -4.34752442e-02 -6.30256673e-03 -4.78035249e-02  1.42700947e-03\n",
            "   5.44152819e-02 -1.91543661e-02 -9.02573541e-02  5.78831881e-02\n",
            "  -1.66304093e-02 -7.87082985e-02  3.81631590e-02  6.44683465e-02\n",
            "  -3.07186116e-02 -4.64625005e-03  6.64921626e-02  2.01480128e-02]]\n"
          ]
        }
      ]
    },
    {
      "cell_type": "code",
      "source": [
        ""
      ],
      "metadata": {
        "id": "yYJ-_KW7HBrH"
      },
      "execution_count": null,
      "outputs": []
    }
  ]
}