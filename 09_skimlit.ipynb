{
  "nbformat": 4,
  "nbformat_minor": 0,
  "metadata": {
    "colab": {
      "name": "09_skimlit.ipynb",
      "provenance": [],
      "collapsed_sections": [],
      "authorship_tag": "ABX9TyML7DQuq5Y+p+ByFIVXncIQ",
      "include_colab_link": true
    },
    "kernelspec": {
      "name": "python3",
      "display_name": "Python 3"
    },
    "language_info": {
      "name": "python"
    },
    "accelerator": "GPU",
    "gpuClass": "standard"
  },
  "cells": [
    {
      "cell_type": "markdown",
      "metadata": {
        "id": "view-in-github",
        "colab_type": "text"
      },
      "source": [
        "<a href=\"https://colab.research.google.com/github/JacksonLeb/SkimLit/blob/main/09_skimlit.ipynb\" target=\"_parent\"><img src=\"https://colab.research.google.com/assets/colab-badge.svg\" alt=\"Open In Colab\"/></a>"
      ]
    },
    {
      "cell_type": "code",
      "execution_count": 1,
      "metadata": {
        "colab": {
          "base_uri": "https://localhost:8080/"
        },
        "id": "CjJsWKQGmcNV",
        "outputId": "4115cdde-6945-4c46-e445-d811d3489444"
      },
      "outputs": [
        {
          "output_type": "stream",
          "name": "stdout",
          "text": [
            "GPU 0: Tesla T4 (UUID: GPU-0b864049-8919-b955-4ed1-cf192009e06a)\n"
          ]
        }
      ],
      "source": [
        "!nvidia-smi -L"
      ]
    },
    {
      "cell_type": "markdown",
      "source": [
        "#Building NLP Model to make Reading Medical Abstracts Easier"
      ],
      "metadata": {
        "id": "1nAVeDLDnZlj"
      }
    },
    {
      "cell_type": "code",
      "source": [
        "!git clone https://github.com/Franck-Dernoncourt/pubmed-rct.git\n",
        "!ls pubmed-rct"
      ],
      "metadata": {
        "colab": {
          "base_uri": "https://localhost:8080/"
        },
        "id": "KkkpF0bkn3jn",
        "outputId": "316565fe-bb07-4acf-a0b9-42986ede37a6"
      },
      "execution_count": 2,
      "outputs": [
        {
          "output_type": "stream",
          "name": "stdout",
          "text": [
            "Cloning into 'pubmed-rct'...\n",
            "remote: Enumerating objects: 33, done.\u001b[K\n",
            "remote: Counting objects: 100% (8/8), done.\u001b[K\n",
            "remote: Compressing objects: 100% (3/3), done.\u001b[K\n",
            "remote: Total 33 (delta 5), reused 5 (delta 5), pack-reused 25\u001b[K\n",
            "Unpacking objects: 100% (33/33), done.\n",
            "PubMed_200k_RCT\n",
            "PubMed_200k_RCT_numbers_replaced_with_at_sign\n",
            "PubMed_20k_RCT\n",
            "PubMed_20k_RCT_numbers_replaced_with_at_sign\n",
            "README.md\n"
          ]
        }
      ]
    },
    {
      "cell_type": "code",
      "source": [
        "#Checking files in Pubmed_20k\n",
        "!ls pubmed-rct/PubMed_20k_RCT_numbers_replaced_with_at_sign/"
      ],
      "metadata": {
        "colab": {
          "base_uri": "https://localhost:8080/"
        },
        "id": "bu9vdFMWopxB",
        "outputId": "477891e4-202f-40ae-f900-62abadde0008"
      },
      "execution_count": 3,
      "outputs": [
        {
          "output_type": "stream",
          "name": "stdout",
          "text": [
            "dev.txt  test.txt  train.txt\n"
          ]
        }
      ]
    },
    {
      "cell_type": "code",
      "source": [
        "#Getting filenames and 20k  dataset with numbers replaced with @\n",
        "data_dir = \"/content/pubmed-rct/PubMed_20k_RCT_numbers_replaced_with_at_sign\"\n"
      ],
      "metadata": {
        "id": "dCCS9n9uo8rZ"
      },
      "execution_count": 4,
      "outputs": []
    },
    {
      "cell_type": "code",
      "source": [
        "#checking file names in target directory\n",
        "import os\n",
        "filenames = [data_dir + filename for filename in os.listdir(data_dir)]\n",
        "filenames"
      ],
      "metadata": {
        "colab": {
          "base_uri": "https://localhost:8080/"
        },
        "id": "1IsMzFsjps0E",
        "outputId": "64a30cbc-36e2-4ed0-cf2b-30277d7ae776"
      },
      "execution_count": 5,
      "outputs": [
        {
          "output_type": "execute_result",
          "data": {
            "text/plain": [
              "['/content/pubmed-rct/PubMed_20k_RCT_numbers_replaced_with_at_signdev.txt',\n",
              " '/content/pubmed-rct/PubMed_20k_RCT_numbers_replaced_with_at_signtest.txt',\n",
              " '/content/pubmed-rct/PubMed_20k_RCT_numbers_replaced_with_at_signtrain.txt']"
            ]
          },
          "metadata": {},
          "execution_count": 5
        }
      ]
    },
    {
      "cell_type": "markdown",
      "source": [
        "###preproess data"
      ],
      "metadata": {
        "id": "usRVNSsbpzbz"
      }
    },
    {
      "cell_type": "code",
      "source": [
        "#Function to read in lines of target text file\n",
        "def get_lines(filename):\n",
        "  \"\"\"\n",
        "  Reads in a filename and returns the lines of text as a list\n",
        "\n",
        "  Args:\n",
        "    filename: a string ocintains the target filepath\n",
        "\n",
        "  Returns:\n",
        "    a list containing each line in the file\n",
        "  \"\"\"\n",
        "  with open(filename, \"r\") as f:\n",
        "    return f.readlines()\n",
        "    "
      ],
      "metadata": {
        "id": "f2xwpTzUqISd"
      },
      "execution_count": 6,
      "outputs": []
    },
    {
      "cell_type": "code",
      "source": [
        "#reading in training liines\n",
        "train_lines = get_lines(data_dir+\"/train.txt\")"
      ],
      "metadata": {
        "id": "M26EjlVIqrHm"
      },
      "execution_count": 7,
      "outputs": []
    },
    {
      "cell_type": "code",
      "source": [
        "train_lines[:20]"
      ],
      "metadata": {
        "colab": {
          "base_uri": "https://localhost:8080/"
        },
        "id": "9Foacc5_qt5d",
        "outputId": "46caa82c-5e28-4217-b98f-0be2e11b03df"
      },
      "execution_count": 8,
      "outputs": [
        {
          "output_type": "execute_result",
          "data": {
            "text/plain": [
              "['###24293578\\n',\n",
              " 'OBJECTIVE\\tTo investigate the efficacy of @ weeks of daily low-dose oral prednisolone in improving pain , mobility , and systemic low-grade inflammation in the short term and whether the effect would be sustained at @ weeks in older adults with moderate to severe knee osteoarthritis ( OA ) .\\n',\n",
              " 'METHODS\\tA total of @ patients with primary knee OA were randomized @:@ ; @ received @ mg/day of prednisolone and @ received placebo for @ weeks .\\n',\n",
              " 'METHODS\\tOutcome measures included pain reduction and improvement in function scores and systemic inflammation markers .\\n',\n",
              " 'METHODS\\tPain was assessed using the visual analog pain scale ( @-@ mm ) .\\n',\n",
              " 'METHODS\\tSecondary outcome measures included the Western Ontario and McMaster Universities Osteoarthritis Index scores , patient global assessment ( PGA ) of the severity of knee OA , and @-min walk distance ( @MWD ) .\\n',\n",
              " 'METHODS\\tSerum levels of interleukin @ ( IL-@ ) , IL-@ , tumor necrosis factor ( TNF ) - , and high-sensitivity C-reactive protein ( hsCRP ) were measured .\\n',\n",
              " 'RESULTS\\tThere was a clinically relevant reduction in the intervention group compared to the placebo group for knee pain , physical function , PGA , and @MWD at @ weeks .\\n',\n",
              " 'RESULTS\\tThe mean difference between treatment arms ( @ % CI ) was @ ( @-@ @ ) , p < @ ; @ ( @-@ @ ) , p < @ ; @ ( @-@ @ ) , p < @ ; and @ ( @-@ @ ) , p < @ , respectively .\\n',\n",
              " 'RESULTS\\tFurther , there was a clinically relevant reduction in the serum levels of IL-@ , IL-@ , TNF - , and hsCRP at @ weeks in the intervention group when compared to the placebo group .\\n',\n",
              " 'RESULTS\\tThese differences remained significant at @ weeks .\\n',\n",
              " 'RESULTS\\tThe Outcome Measures in Rheumatology Clinical Trials-Osteoarthritis Research Society International responder rate was @ % in the intervention group and @ % in the placebo group ( p < @ ) .\\n',\n",
              " 'CONCLUSIONS\\tLow-dose oral prednisolone had both a short-term and a longer sustained effect resulting in less knee pain , better physical function , and attenuation of systemic inflammation in older patients with knee OA ( ClinicalTrials.gov identifier NCT@ ) .\\n',\n",
              " '\\n',\n",
              " '###24854809\\n',\n",
              " 'BACKGROUND\\tEmotional eating is associated with overeating and the development of obesity .\\n',\n",
              " 'BACKGROUND\\tYet , empirical evidence for individual ( trait ) differences in emotional eating and cognitive mechanisms that contribute to eating during sad mood remain equivocal .\\n',\n",
              " 'OBJECTIVE\\tThe aim of this study was to test if attention bias for food moderates the effect of self-reported emotional eating during sad mood ( vs neutral mood ) on actual food intake .\\n',\n",
              " 'OBJECTIVE\\tIt was expected that emotional eating is predictive of elevated attention for food and higher food intake after an experimentally induced sad mood and that attentional maintenance on food predicts food intake during a sad versus a neutral mood .\\n',\n",
              " 'METHODS\\tParticipants ( N = @ ) were randomly assigned to one of the two experimental mood induction conditions ( sad/neutral ) .\\n']"
            ]
          },
          "metadata": {},
          "execution_count": 8
        }
      ]
    },
    {
      "cell_type": "code",
      "source": [
        "len(train_lines)"
      ],
      "metadata": {
        "colab": {
          "base_uri": "https://localhost:8080/"
        },
        "id": "YOPqc2Dbq4e4",
        "outputId": "dba09438-8ac2-405c-c009-0168d210b429"
      },
      "execution_count": 9,
      "outputs": [
        {
          "output_type": "execute_result",
          "data": {
            "text/plain": [
              "210040"
            ]
          },
          "metadata": {},
          "execution_count": 9
        }
      ]
    },
    {
      "cell_type": "markdown",
      "source": [
        "#How the data will be formatted\n",
        "[\n",
        "    {'linenumber': 0,\n",
        "     'target': 'BACKGROUND',\n",
        "     'text': 'Emotional eating is associated with overeating and the development of obesity ',\n",
        "     'total_lines': 11},\n",
        " \n",
        "]"
      ],
      "metadata": {
        "id": "1Ql6trCnrJGv"
      }
    },
    {
      "cell_type": "code",
      "source": [
        "def preprocess_text_with_line_numbers(filename):\n",
        "  \"\"\"\n",
        "  Returns a list of dictionaries of abstract line data\n",
        "\n",
        "  takes in filename, reads it contents and sort through each line, extracting htisngs like the target label,\n",
        "  the text of the sentence, how many sentences are in the current asbtract, etc\n",
        "  \"\"\"\n",
        "\n",
        "  input_lines = get_lines(filename)\n",
        "  abstract_lines = \"\"\n",
        "  abstract_samples = []\n",
        "\n",
        "  for line in input_lines:\n",
        "    if(line.startswith(\"###\")):\n",
        "      #new id line\n",
        "       abstract_id = line\n",
        "       abstract_lines = \"\"\n",
        "    elif(line.isspace()):\n",
        "      #new line\n",
        "       abstract_line_split = abstract_lines.splitlines()\n",
        "\n",
        "       #Iterate through each line in a single abstract and count them at the same time\n",
        "       for abstract_line_number, abstract_line in enumerate(abstract_line_split):\n",
        "         line_data = {}\n",
        "         target_text_split = abstract_line.split('\\t')\n",
        "         line_data[\"target\"] = target_text_split[0]\n",
        "         line_data[\"text\"] = target_text_split[1].lower()\n",
        "         line_data[\"line_number\"] = abstract_line_number\n",
        "         line_data[\"total_lines\"] = len(abstract_line_split) - 1\n",
        "         abstract_samples.append(line_data)\n",
        "    else:\n",
        "      abstract_lines += line\n",
        "  \n",
        "  return abstract_samples\n"
      ],
      "metadata": {
        "id": "rs7c786pr670"
      },
      "execution_count": 10,
      "outputs": []
    },
    {
      "cell_type": "code",
      "source": [
        "%%time\n",
        "train_samples = preprocess_text_with_line_numbers(data_dir + \"/train.txt\")\n",
        "val_samples = preprocess_text_with_line_numbers(data_dir + \"/dev.txt\")\n",
        "test_samples = preprocess_text_with_line_numbers(data_dir + \"/test.txt\")"
      ],
      "metadata": {
        "colab": {
          "base_uri": "https://localhost:8080/"
        },
        "id": "vZ-ugUyuXxeg",
        "outputId": "67c005c8-7f66-4679-8882-52004f6d0bc9"
      },
      "execution_count": 11,
      "outputs": [
        {
          "output_type": "stream",
          "name": "stdout",
          "text": [
            "CPU times: user 395 ms, sys: 92.4 ms, total: 487 ms\n",
            "Wall time: 488 ms\n"
          ]
        }
      ]
    },
    {
      "cell_type": "code",
      "source": [
        "len(train_samples), len(val_samples), len(test_samples)"
      ],
      "metadata": {
        "colab": {
          "base_uri": "https://localhost:8080/"
        },
        "id": "CAf7kpLhX9by",
        "outputId": "e989d88e-c95e-4e50-aba4-29514fe13996"
      },
      "execution_count": 12,
      "outputs": [
        {
          "output_type": "execute_result",
          "data": {
            "text/plain": [
              "(180040, 30212, 30135)"
            ]
          },
          "metadata": {},
          "execution_count": 12
        }
      ]
    },
    {
      "cell_type": "code",
      "source": [
        "train_samples[:20]"
      ],
      "metadata": {
        "colab": {
          "base_uri": "https://localhost:8080/"
        },
        "id": "dYJ93F2BYF58",
        "outputId": "fee80c40-f3c5-4336-a993-277079454c5d"
      },
      "execution_count": 13,
      "outputs": [
        {
          "output_type": "execute_result",
          "data": {
            "text/plain": [
              "[{'line_number': 0,\n",
              "  'target': 'OBJECTIVE',\n",
              "  'text': 'to investigate the efficacy of @ weeks of daily low-dose oral prednisolone in improving pain , mobility , and systemic low-grade inflammation in the short term and whether the effect would be sustained at @ weeks in older adults with moderate to severe knee osteoarthritis ( oa ) .',\n",
              "  'total_lines': 11},\n",
              " {'line_number': 1,\n",
              "  'target': 'METHODS',\n",
              "  'text': 'a total of @ patients with primary knee oa were randomized @:@ ; @ received @ mg/day of prednisolone and @ received placebo for @ weeks .',\n",
              "  'total_lines': 11},\n",
              " {'line_number': 2,\n",
              "  'target': 'METHODS',\n",
              "  'text': 'outcome measures included pain reduction and improvement in function scores and systemic inflammation markers .',\n",
              "  'total_lines': 11},\n",
              " {'line_number': 3,\n",
              "  'target': 'METHODS',\n",
              "  'text': 'pain was assessed using the visual analog pain scale ( @-@ mm ) .',\n",
              "  'total_lines': 11},\n",
              " {'line_number': 4,\n",
              "  'target': 'METHODS',\n",
              "  'text': 'secondary outcome measures included the western ontario and mcmaster universities osteoarthritis index scores , patient global assessment ( pga ) of the severity of knee oa , and @-min walk distance ( @mwd ) .',\n",
              "  'total_lines': 11},\n",
              " {'line_number': 5,\n",
              "  'target': 'METHODS',\n",
              "  'text': 'serum levels of interleukin @ ( il-@ ) , il-@ , tumor necrosis factor ( tnf ) - , and high-sensitivity c-reactive protein ( hscrp ) were measured .',\n",
              "  'total_lines': 11},\n",
              " {'line_number': 6,\n",
              "  'target': 'RESULTS',\n",
              "  'text': 'there was a clinically relevant reduction in the intervention group compared to the placebo group for knee pain , physical function , pga , and @mwd at @ weeks .',\n",
              "  'total_lines': 11},\n",
              " {'line_number': 7,\n",
              "  'target': 'RESULTS',\n",
              "  'text': 'the mean difference between treatment arms ( @ % ci ) was @ ( @-@ @ ) , p < @ ; @ ( @-@ @ ) , p < @ ; @ ( @-@ @ ) , p < @ ; and @ ( @-@ @ ) , p < @ , respectively .',\n",
              "  'total_lines': 11},\n",
              " {'line_number': 8,\n",
              "  'target': 'RESULTS',\n",
              "  'text': 'further , there was a clinically relevant reduction in the serum levels of il-@ , il-@ , tnf - , and hscrp at @ weeks in the intervention group when compared to the placebo group .',\n",
              "  'total_lines': 11},\n",
              " {'line_number': 9,\n",
              "  'target': 'RESULTS',\n",
              "  'text': 'these differences remained significant at @ weeks .',\n",
              "  'total_lines': 11},\n",
              " {'line_number': 10,\n",
              "  'target': 'RESULTS',\n",
              "  'text': 'the outcome measures in rheumatology clinical trials-osteoarthritis research society international responder rate was @ % in the intervention group and @ % in the placebo group ( p < @ ) .',\n",
              "  'total_lines': 11},\n",
              " {'line_number': 11,\n",
              "  'target': 'CONCLUSIONS',\n",
              "  'text': 'low-dose oral prednisolone had both a short-term and a longer sustained effect resulting in less knee pain , better physical function , and attenuation of systemic inflammation in older patients with knee oa ( clinicaltrials.gov identifier nct@ ) .',\n",
              "  'total_lines': 11},\n",
              " {'line_number': 0,\n",
              "  'target': 'BACKGROUND',\n",
              "  'text': 'emotional eating is associated with overeating and the development of obesity .',\n",
              "  'total_lines': 10},\n",
              " {'line_number': 1,\n",
              "  'target': 'BACKGROUND',\n",
              "  'text': 'yet , empirical evidence for individual ( trait ) differences in emotional eating and cognitive mechanisms that contribute to eating during sad mood remain equivocal .',\n",
              "  'total_lines': 10},\n",
              " {'line_number': 2,\n",
              "  'target': 'OBJECTIVE',\n",
              "  'text': 'the aim of this study was to test if attention bias for food moderates the effect of self-reported emotional eating during sad mood ( vs neutral mood ) on actual food intake .',\n",
              "  'total_lines': 10},\n",
              " {'line_number': 3,\n",
              "  'target': 'OBJECTIVE',\n",
              "  'text': 'it was expected that emotional eating is predictive of elevated attention for food and higher food intake after an experimentally induced sad mood and that attentional maintenance on food predicts food intake during a sad versus a neutral mood .',\n",
              "  'total_lines': 10},\n",
              " {'line_number': 4,\n",
              "  'target': 'METHODS',\n",
              "  'text': 'participants ( n = @ ) were randomly assigned to one of the two experimental mood induction conditions ( sad/neutral ) .',\n",
              "  'total_lines': 10},\n",
              " {'line_number': 5,\n",
              "  'target': 'METHODS',\n",
              "  'text': 'attentional biases for high caloric foods were measured by eye tracking during a visual probe task with pictorial food and neutral stimuli .',\n",
              "  'total_lines': 10},\n",
              " {'line_number': 6,\n",
              "  'target': 'METHODS',\n",
              "  'text': 'self-reported emotional eating was assessed with the dutch eating behavior questionnaire ( debq ) and ad libitum food intake was tested by a disguised food offer .',\n",
              "  'total_lines': 10},\n",
              " {'line_number': 7,\n",
              "  'target': 'RESULTS',\n",
              "  'text': 'hierarchical multivariate regression modeling showed that self-reported emotional eating did not account for changes in attention allocation for food or food intake in either condition .',\n",
              "  'total_lines': 10}]"
            ]
          },
          "metadata": {},
          "execution_count": 13
        }
      ]
    },
    {
      "cell_type": "code",
      "source": [
        "import pandas as pd\n",
        "train_df = pd.DataFrame(train_samples)\n",
        "val_df = pd.DataFrame(val_samples)\n",
        "test_df = pd.DataFrame(test_samples)"
      ],
      "metadata": {
        "id": "n2aNCMm3YUqS"
      },
      "execution_count": 14,
      "outputs": []
    },
    {
      "cell_type": "code",
      "source": [
        "train_df"
      ],
      "metadata": {
        "colab": {
          "base_uri": "https://localhost:8080/",
          "height": 424
        },
        "id": "HoukqNsTY4PG",
        "outputId": "c63b1d4f-a626-47ec-869b-0c7512eb0464"
      },
      "execution_count": 15,
      "outputs": [
        {
          "output_type": "execute_result",
          "data": {
            "text/plain": [
              "             target                                               text  \\\n",
              "0         OBJECTIVE  to investigate the efficacy of @ weeks of dail...   \n",
              "1           METHODS  a total of @ patients with primary knee oa wer...   \n",
              "2           METHODS  outcome measures included pain reduction and i...   \n",
              "3           METHODS  pain was assessed using the visual analog pain...   \n",
              "4           METHODS  secondary outcome measures included the wester...   \n",
              "...             ...                                                ...   \n",
              "180035      RESULTS  for the absolute change in percent atheroma vo...   \n",
              "180036      RESULTS  for pav , a significantly greater percentage o...   \n",
              "180037      RESULTS  both strategies had acceptable side effect pro...   \n",
              "180038  CONCLUSIONS  compared with standard statin monotherapy , th...   \n",
              "180039  CONCLUSIONS  ( plaque regression with cholesterol absorptio...   \n",
              "\n",
              "        line_number  total_lines  \n",
              "0                 0           11  \n",
              "1                 1           11  \n",
              "2                 2           11  \n",
              "3                 3           11  \n",
              "4                 4           11  \n",
              "...             ...          ...  \n",
              "180035            7           11  \n",
              "180036            8           11  \n",
              "180037            9           11  \n",
              "180038           10           11  \n",
              "180039           11           11  \n",
              "\n",
              "[180040 rows x 4 columns]"
            ],
            "text/html": [
              "\n",
              "  <div id=\"df-86a06a43-a0b9-494a-aa4c-da4bd7fb1351\">\n",
              "    <div class=\"colab-df-container\">\n",
              "      <div>\n",
              "<style scoped>\n",
              "    .dataframe tbody tr th:only-of-type {\n",
              "        vertical-align: middle;\n",
              "    }\n",
              "\n",
              "    .dataframe tbody tr th {\n",
              "        vertical-align: top;\n",
              "    }\n",
              "\n",
              "    .dataframe thead th {\n",
              "        text-align: right;\n",
              "    }\n",
              "</style>\n",
              "<table border=\"1\" class=\"dataframe\">\n",
              "  <thead>\n",
              "    <tr style=\"text-align: right;\">\n",
              "      <th></th>\n",
              "      <th>target</th>\n",
              "      <th>text</th>\n",
              "      <th>line_number</th>\n",
              "      <th>total_lines</th>\n",
              "    </tr>\n",
              "  </thead>\n",
              "  <tbody>\n",
              "    <tr>\n",
              "      <th>0</th>\n",
              "      <td>OBJECTIVE</td>\n",
              "      <td>to investigate the efficacy of @ weeks of dail...</td>\n",
              "      <td>0</td>\n",
              "      <td>11</td>\n",
              "    </tr>\n",
              "    <tr>\n",
              "      <th>1</th>\n",
              "      <td>METHODS</td>\n",
              "      <td>a total of @ patients with primary knee oa wer...</td>\n",
              "      <td>1</td>\n",
              "      <td>11</td>\n",
              "    </tr>\n",
              "    <tr>\n",
              "      <th>2</th>\n",
              "      <td>METHODS</td>\n",
              "      <td>outcome measures included pain reduction and i...</td>\n",
              "      <td>2</td>\n",
              "      <td>11</td>\n",
              "    </tr>\n",
              "    <tr>\n",
              "      <th>3</th>\n",
              "      <td>METHODS</td>\n",
              "      <td>pain was assessed using the visual analog pain...</td>\n",
              "      <td>3</td>\n",
              "      <td>11</td>\n",
              "    </tr>\n",
              "    <tr>\n",
              "      <th>4</th>\n",
              "      <td>METHODS</td>\n",
              "      <td>secondary outcome measures included the wester...</td>\n",
              "      <td>4</td>\n",
              "      <td>11</td>\n",
              "    </tr>\n",
              "    <tr>\n",
              "      <th>...</th>\n",
              "      <td>...</td>\n",
              "      <td>...</td>\n",
              "      <td>...</td>\n",
              "      <td>...</td>\n",
              "    </tr>\n",
              "    <tr>\n",
              "      <th>180035</th>\n",
              "      <td>RESULTS</td>\n",
              "      <td>for the absolute change in percent atheroma vo...</td>\n",
              "      <td>7</td>\n",
              "      <td>11</td>\n",
              "    </tr>\n",
              "    <tr>\n",
              "      <th>180036</th>\n",
              "      <td>RESULTS</td>\n",
              "      <td>for pav , a significantly greater percentage o...</td>\n",
              "      <td>8</td>\n",
              "      <td>11</td>\n",
              "    </tr>\n",
              "    <tr>\n",
              "      <th>180037</th>\n",
              "      <td>RESULTS</td>\n",
              "      <td>both strategies had acceptable side effect pro...</td>\n",
              "      <td>9</td>\n",
              "      <td>11</td>\n",
              "    </tr>\n",
              "    <tr>\n",
              "      <th>180038</th>\n",
              "      <td>CONCLUSIONS</td>\n",
              "      <td>compared with standard statin monotherapy , th...</td>\n",
              "      <td>10</td>\n",
              "      <td>11</td>\n",
              "    </tr>\n",
              "    <tr>\n",
              "      <th>180039</th>\n",
              "      <td>CONCLUSIONS</td>\n",
              "      <td>( plaque regression with cholesterol absorptio...</td>\n",
              "      <td>11</td>\n",
              "      <td>11</td>\n",
              "    </tr>\n",
              "  </tbody>\n",
              "</table>\n",
              "<p>180040 rows × 4 columns</p>\n",
              "</div>\n",
              "      <button class=\"colab-df-convert\" onclick=\"convertToInteractive('df-86a06a43-a0b9-494a-aa4c-da4bd7fb1351')\"\n",
              "              title=\"Convert this dataframe to an interactive table.\"\n",
              "              style=\"display:none;\">\n",
              "        \n",
              "  <svg xmlns=\"http://www.w3.org/2000/svg\" height=\"24px\"viewBox=\"0 0 24 24\"\n",
              "       width=\"24px\">\n",
              "    <path d=\"M0 0h24v24H0V0z\" fill=\"none\"/>\n",
              "    <path d=\"M18.56 5.44l.94 2.06.94-2.06 2.06-.94-2.06-.94-.94-2.06-.94 2.06-2.06.94zm-11 1L8.5 8.5l.94-2.06 2.06-.94-2.06-.94L8.5 2.5l-.94 2.06-2.06.94zm10 10l.94 2.06.94-2.06 2.06-.94-2.06-.94-.94-2.06-.94 2.06-2.06.94z\"/><path d=\"M17.41 7.96l-1.37-1.37c-.4-.4-.92-.59-1.43-.59-.52 0-1.04.2-1.43.59L10.3 9.45l-7.72 7.72c-.78.78-.78 2.05 0 2.83L4 21.41c.39.39.9.59 1.41.59.51 0 1.02-.2 1.41-.59l7.78-7.78 2.81-2.81c.8-.78.8-2.07 0-2.86zM5.41 20L4 18.59l7.72-7.72 1.47 1.35L5.41 20z\"/>\n",
              "  </svg>\n",
              "      </button>\n",
              "      \n",
              "  <style>\n",
              "    .colab-df-container {\n",
              "      display:flex;\n",
              "      flex-wrap:wrap;\n",
              "      gap: 12px;\n",
              "    }\n",
              "\n",
              "    .colab-df-convert {\n",
              "      background-color: #E8F0FE;\n",
              "      border: none;\n",
              "      border-radius: 50%;\n",
              "      cursor: pointer;\n",
              "      display: none;\n",
              "      fill: #1967D2;\n",
              "      height: 32px;\n",
              "      padding: 0 0 0 0;\n",
              "      width: 32px;\n",
              "    }\n",
              "\n",
              "    .colab-df-convert:hover {\n",
              "      background-color: #E2EBFA;\n",
              "      box-shadow: 0px 1px 2px rgba(60, 64, 67, 0.3), 0px 1px 3px 1px rgba(60, 64, 67, 0.15);\n",
              "      fill: #174EA6;\n",
              "    }\n",
              "\n",
              "    [theme=dark] .colab-df-convert {\n",
              "      background-color: #3B4455;\n",
              "      fill: #D2E3FC;\n",
              "    }\n",
              "\n",
              "    [theme=dark] .colab-df-convert:hover {\n",
              "      background-color: #434B5C;\n",
              "      box-shadow: 0px 1px 3px 1px rgba(0, 0, 0, 0.15);\n",
              "      filter: drop-shadow(0px 1px 2px rgba(0, 0, 0, 0.3));\n",
              "      fill: #FFFFFF;\n",
              "    }\n",
              "  </style>\n",
              "\n",
              "      <script>\n",
              "        const buttonEl =\n",
              "          document.querySelector('#df-86a06a43-a0b9-494a-aa4c-da4bd7fb1351 button.colab-df-convert');\n",
              "        buttonEl.style.display =\n",
              "          google.colab.kernel.accessAllowed ? 'block' : 'none';\n",
              "\n",
              "        async function convertToInteractive(key) {\n",
              "          const element = document.querySelector('#df-86a06a43-a0b9-494a-aa4c-da4bd7fb1351');\n",
              "          const dataTable =\n",
              "            await google.colab.kernel.invokeFunction('convertToInteractive',\n",
              "                                                     [key], {});\n",
              "          if (!dataTable) return;\n",
              "\n",
              "          const docLinkHtml = 'Like what you see? Visit the ' +\n",
              "            '<a target=\"_blank\" href=https://colab.research.google.com/notebooks/data_table.ipynb>data table notebook</a>'\n",
              "            + ' to learn more about interactive tables.';\n",
              "          element.innerHTML = '';\n",
              "          dataTable['output_type'] = 'display_data';\n",
              "          await google.colab.output.renderOutput(dataTable, element);\n",
              "          const docLink = document.createElement('div');\n",
              "          docLink.innerHTML = docLinkHtml;\n",
              "          element.appendChild(docLink);\n",
              "        }\n",
              "      </script>\n",
              "    </div>\n",
              "  </div>\n",
              "  "
            ]
          },
          "metadata": {},
          "execution_count": 15
        }
      ]
    },
    {
      "cell_type": "code",
      "source": [
        "val_df"
      ],
      "metadata": {
        "colab": {
          "base_uri": "https://localhost:8080/",
          "height": 424
        },
        "id": "Rk-TtsMhY5Em",
        "outputId": "df488a87-f50e-4618-8187-83f475f4d3e5"
      },
      "execution_count": 16,
      "outputs": [
        {
          "output_type": "execute_result",
          "data": {
            "text/plain": [
              "            target                                               text  \\\n",
              "0       BACKGROUND  ige sensitization to aspergillus fumigatus and...   \n",
              "1       BACKGROUND  it is not clear whether these patients would b...   \n",
              "2        OBJECTIVE  we sought to determine whether a @-month cours...   \n",
              "3          METHODS  asthmatic patients who were ige sensitized to ...   \n",
              "4          METHODS  primary outcomes were improvement in quality o...   \n",
              "...            ...                                                ...   \n",
              "30207      RESULTS  pruritus occurred more frequently with the act...   \n",
              "30208      RESULTS  three patients in the active-regimen group ( @...   \n",
              "30209      RESULTS  hemoglobin values of grade @ ( @ to < @ g per ...   \n",
              "30210  CONCLUSIONS  rates of response to a @-week interferon-free ...   \n",
              "30211  CONCLUSIONS  ( funded by abbvie ; sapphire-ii clinicaltrial...   \n",
              "\n",
              "       line_number  total_lines  \n",
              "0                0            9  \n",
              "1                1            9  \n",
              "2                2            9  \n",
              "3                3            9  \n",
              "4                4            9  \n",
              "...            ...          ...  \n",
              "30207            9           13  \n",
              "30208           10           13  \n",
              "30209           11           13  \n",
              "30210           12           13  \n",
              "30211           13           13  \n",
              "\n",
              "[30212 rows x 4 columns]"
            ],
            "text/html": [
              "\n",
              "  <div id=\"df-249f62a0-f3e7-4c93-bca3-2447016b2c08\">\n",
              "    <div class=\"colab-df-container\">\n",
              "      <div>\n",
              "<style scoped>\n",
              "    .dataframe tbody tr th:only-of-type {\n",
              "        vertical-align: middle;\n",
              "    }\n",
              "\n",
              "    .dataframe tbody tr th {\n",
              "        vertical-align: top;\n",
              "    }\n",
              "\n",
              "    .dataframe thead th {\n",
              "        text-align: right;\n",
              "    }\n",
              "</style>\n",
              "<table border=\"1\" class=\"dataframe\">\n",
              "  <thead>\n",
              "    <tr style=\"text-align: right;\">\n",
              "      <th></th>\n",
              "      <th>target</th>\n",
              "      <th>text</th>\n",
              "      <th>line_number</th>\n",
              "      <th>total_lines</th>\n",
              "    </tr>\n",
              "  </thead>\n",
              "  <tbody>\n",
              "    <tr>\n",
              "      <th>0</th>\n",
              "      <td>BACKGROUND</td>\n",
              "      <td>ige sensitization to aspergillus fumigatus and...</td>\n",
              "      <td>0</td>\n",
              "      <td>9</td>\n",
              "    </tr>\n",
              "    <tr>\n",
              "      <th>1</th>\n",
              "      <td>BACKGROUND</td>\n",
              "      <td>it is not clear whether these patients would b...</td>\n",
              "      <td>1</td>\n",
              "      <td>9</td>\n",
              "    </tr>\n",
              "    <tr>\n",
              "      <th>2</th>\n",
              "      <td>OBJECTIVE</td>\n",
              "      <td>we sought to determine whether a @-month cours...</td>\n",
              "      <td>2</td>\n",
              "      <td>9</td>\n",
              "    </tr>\n",
              "    <tr>\n",
              "      <th>3</th>\n",
              "      <td>METHODS</td>\n",
              "      <td>asthmatic patients who were ige sensitized to ...</td>\n",
              "      <td>3</td>\n",
              "      <td>9</td>\n",
              "    </tr>\n",
              "    <tr>\n",
              "      <th>4</th>\n",
              "      <td>METHODS</td>\n",
              "      <td>primary outcomes were improvement in quality o...</td>\n",
              "      <td>4</td>\n",
              "      <td>9</td>\n",
              "    </tr>\n",
              "    <tr>\n",
              "      <th>...</th>\n",
              "      <td>...</td>\n",
              "      <td>...</td>\n",
              "      <td>...</td>\n",
              "      <td>...</td>\n",
              "    </tr>\n",
              "    <tr>\n",
              "      <th>30207</th>\n",
              "      <td>RESULTS</td>\n",
              "      <td>pruritus occurred more frequently with the act...</td>\n",
              "      <td>9</td>\n",
              "      <td>13</td>\n",
              "    </tr>\n",
              "    <tr>\n",
              "      <th>30208</th>\n",
              "      <td>RESULTS</td>\n",
              "      <td>three patients in the active-regimen group ( @...</td>\n",
              "      <td>10</td>\n",
              "      <td>13</td>\n",
              "    </tr>\n",
              "    <tr>\n",
              "      <th>30209</th>\n",
              "      <td>RESULTS</td>\n",
              "      <td>hemoglobin values of grade @ ( @ to &lt; @ g per ...</td>\n",
              "      <td>11</td>\n",
              "      <td>13</td>\n",
              "    </tr>\n",
              "    <tr>\n",
              "      <th>30210</th>\n",
              "      <td>CONCLUSIONS</td>\n",
              "      <td>rates of response to a @-week interferon-free ...</td>\n",
              "      <td>12</td>\n",
              "      <td>13</td>\n",
              "    </tr>\n",
              "    <tr>\n",
              "      <th>30211</th>\n",
              "      <td>CONCLUSIONS</td>\n",
              "      <td>( funded by abbvie ; sapphire-ii clinicaltrial...</td>\n",
              "      <td>13</td>\n",
              "      <td>13</td>\n",
              "    </tr>\n",
              "  </tbody>\n",
              "</table>\n",
              "<p>30212 rows × 4 columns</p>\n",
              "</div>\n",
              "      <button class=\"colab-df-convert\" onclick=\"convertToInteractive('df-249f62a0-f3e7-4c93-bca3-2447016b2c08')\"\n",
              "              title=\"Convert this dataframe to an interactive table.\"\n",
              "              style=\"display:none;\">\n",
              "        \n",
              "  <svg xmlns=\"http://www.w3.org/2000/svg\" height=\"24px\"viewBox=\"0 0 24 24\"\n",
              "       width=\"24px\">\n",
              "    <path d=\"M0 0h24v24H0V0z\" fill=\"none\"/>\n",
              "    <path d=\"M18.56 5.44l.94 2.06.94-2.06 2.06-.94-2.06-.94-.94-2.06-.94 2.06-2.06.94zm-11 1L8.5 8.5l.94-2.06 2.06-.94-2.06-.94L8.5 2.5l-.94 2.06-2.06.94zm10 10l.94 2.06.94-2.06 2.06-.94-2.06-.94-.94-2.06-.94 2.06-2.06.94z\"/><path d=\"M17.41 7.96l-1.37-1.37c-.4-.4-.92-.59-1.43-.59-.52 0-1.04.2-1.43.59L10.3 9.45l-7.72 7.72c-.78.78-.78 2.05 0 2.83L4 21.41c.39.39.9.59 1.41.59.51 0 1.02-.2 1.41-.59l7.78-7.78 2.81-2.81c.8-.78.8-2.07 0-2.86zM5.41 20L4 18.59l7.72-7.72 1.47 1.35L5.41 20z\"/>\n",
              "  </svg>\n",
              "      </button>\n",
              "      \n",
              "  <style>\n",
              "    .colab-df-container {\n",
              "      display:flex;\n",
              "      flex-wrap:wrap;\n",
              "      gap: 12px;\n",
              "    }\n",
              "\n",
              "    .colab-df-convert {\n",
              "      background-color: #E8F0FE;\n",
              "      border: none;\n",
              "      border-radius: 50%;\n",
              "      cursor: pointer;\n",
              "      display: none;\n",
              "      fill: #1967D2;\n",
              "      height: 32px;\n",
              "      padding: 0 0 0 0;\n",
              "      width: 32px;\n",
              "    }\n",
              "\n",
              "    .colab-df-convert:hover {\n",
              "      background-color: #E2EBFA;\n",
              "      box-shadow: 0px 1px 2px rgba(60, 64, 67, 0.3), 0px 1px 3px 1px rgba(60, 64, 67, 0.15);\n",
              "      fill: #174EA6;\n",
              "    }\n",
              "\n",
              "    [theme=dark] .colab-df-convert {\n",
              "      background-color: #3B4455;\n",
              "      fill: #D2E3FC;\n",
              "    }\n",
              "\n",
              "    [theme=dark] .colab-df-convert:hover {\n",
              "      background-color: #434B5C;\n",
              "      box-shadow: 0px 1px 3px 1px rgba(0, 0, 0, 0.15);\n",
              "      filter: drop-shadow(0px 1px 2px rgba(0, 0, 0, 0.3));\n",
              "      fill: #FFFFFF;\n",
              "    }\n",
              "  </style>\n",
              "\n",
              "      <script>\n",
              "        const buttonEl =\n",
              "          document.querySelector('#df-249f62a0-f3e7-4c93-bca3-2447016b2c08 button.colab-df-convert');\n",
              "        buttonEl.style.display =\n",
              "          google.colab.kernel.accessAllowed ? 'block' : 'none';\n",
              "\n",
              "        async function convertToInteractive(key) {\n",
              "          const element = document.querySelector('#df-249f62a0-f3e7-4c93-bca3-2447016b2c08');\n",
              "          const dataTable =\n",
              "            await google.colab.kernel.invokeFunction('convertToInteractive',\n",
              "                                                     [key], {});\n",
              "          if (!dataTable) return;\n",
              "\n",
              "          const docLinkHtml = 'Like what you see? Visit the ' +\n",
              "            '<a target=\"_blank\" href=https://colab.research.google.com/notebooks/data_table.ipynb>data table notebook</a>'\n",
              "            + ' to learn more about interactive tables.';\n",
              "          element.innerHTML = '';\n",
              "          dataTable['output_type'] = 'display_data';\n",
              "          await google.colab.output.renderOutput(dataTable, element);\n",
              "          const docLink = document.createElement('div');\n",
              "          docLink.innerHTML = docLinkHtml;\n",
              "          element.appendChild(docLink);\n",
              "        }\n",
              "      </script>\n",
              "    </div>\n",
              "  </div>\n",
              "  "
            ]
          },
          "metadata": {},
          "execution_count": 16
        }
      ]
    },
    {
      "cell_type": "code",
      "source": [
        "test_df"
      ],
      "metadata": {
        "colab": {
          "base_uri": "https://localhost:8080/",
          "height": 424
        },
        "id": "cXl1i2BeY6ED",
        "outputId": "111e5818-9d33-4c34-905d-abb5a563ff2c"
      },
      "execution_count": 17,
      "outputs": [
        {
          "output_type": "execute_result",
          "data": {
            "text/plain": [
              "            target                                               text  \\\n",
              "0       BACKGROUND  this study analyzed liver function abnormaliti...   \n",
              "1          RESULTS  a post hoc analysis was conducted with the use...   \n",
              "2          RESULTS  liver function tests ( lfts ) were measured at...   \n",
              "3          RESULTS  survival analyses were used to assess the asso...   \n",
              "4          RESULTS  the percentage of patients with abnormal lfts ...   \n",
              "...            ...                                                ...   \n",
              "30130      RESULTS  there was a statistically significant between-...   \n",
              "30131      RESULTS  there were no statistically significant betwee...   \n",
              "30132      RESULTS  there was no significant association between s...   \n",
              "30133      RESULTS                 no adverse effects were reported .   \n",
              "30134  CONCLUSIONS  performing a @-week do-as-tolerated program of...   \n",
              "\n",
              "       line_number  total_lines  \n",
              "0                0            8  \n",
              "1                1            8  \n",
              "2                2            8  \n",
              "3                3            8  \n",
              "4                4            8  \n",
              "...            ...          ...  \n",
              "30130           13           17  \n",
              "30131           14           17  \n",
              "30132           15           17  \n",
              "30133           16           17  \n",
              "30134           17           17  \n",
              "\n",
              "[30135 rows x 4 columns]"
            ],
            "text/html": [
              "\n",
              "  <div id=\"df-c1b1dab6-673d-4fce-ae73-4e0acc43cfa6\">\n",
              "    <div class=\"colab-df-container\">\n",
              "      <div>\n",
              "<style scoped>\n",
              "    .dataframe tbody tr th:only-of-type {\n",
              "        vertical-align: middle;\n",
              "    }\n",
              "\n",
              "    .dataframe tbody tr th {\n",
              "        vertical-align: top;\n",
              "    }\n",
              "\n",
              "    .dataframe thead th {\n",
              "        text-align: right;\n",
              "    }\n",
              "</style>\n",
              "<table border=\"1\" class=\"dataframe\">\n",
              "  <thead>\n",
              "    <tr style=\"text-align: right;\">\n",
              "      <th></th>\n",
              "      <th>target</th>\n",
              "      <th>text</th>\n",
              "      <th>line_number</th>\n",
              "      <th>total_lines</th>\n",
              "    </tr>\n",
              "  </thead>\n",
              "  <tbody>\n",
              "    <tr>\n",
              "      <th>0</th>\n",
              "      <td>BACKGROUND</td>\n",
              "      <td>this study analyzed liver function abnormaliti...</td>\n",
              "      <td>0</td>\n",
              "      <td>8</td>\n",
              "    </tr>\n",
              "    <tr>\n",
              "      <th>1</th>\n",
              "      <td>RESULTS</td>\n",
              "      <td>a post hoc analysis was conducted with the use...</td>\n",
              "      <td>1</td>\n",
              "      <td>8</td>\n",
              "    </tr>\n",
              "    <tr>\n",
              "      <th>2</th>\n",
              "      <td>RESULTS</td>\n",
              "      <td>liver function tests ( lfts ) were measured at...</td>\n",
              "      <td>2</td>\n",
              "      <td>8</td>\n",
              "    </tr>\n",
              "    <tr>\n",
              "      <th>3</th>\n",
              "      <td>RESULTS</td>\n",
              "      <td>survival analyses were used to assess the asso...</td>\n",
              "      <td>3</td>\n",
              "      <td>8</td>\n",
              "    </tr>\n",
              "    <tr>\n",
              "      <th>4</th>\n",
              "      <td>RESULTS</td>\n",
              "      <td>the percentage of patients with abnormal lfts ...</td>\n",
              "      <td>4</td>\n",
              "      <td>8</td>\n",
              "    </tr>\n",
              "    <tr>\n",
              "      <th>...</th>\n",
              "      <td>...</td>\n",
              "      <td>...</td>\n",
              "      <td>...</td>\n",
              "      <td>...</td>\n",
              "    </tr>\n",
              "    <tr>\n",
              "      <th>30130</th>\n",
              "      <td>RESULTS</td>\n",
              "      <td>there was a statistically significant between-...</td>\n",
              "      <td>13</td>\n",
              "      <td>17</td>\n",
              "    </tr>\n",
              "    <tr>\n",
              "      <th>30131</th>\n",
              "      <td>RESULTS</td>\n",
              "      <td>there were no statistically significant betwee...</td>\n",
              "      <td>14</td>\n",
              "      <td>17</td>\n",
              "    </tr>\n",
              "    <tr>\n",
              "      <th>30132</th>\n",
              "      <td>RESULTS</td>\n",
              "      <td>there was no significant association between s...</td>\n",
              "      <td>15</td>\n",
              "      <td>17</td>\n",
              "    </tr>\n",
              "    <tr>\n",
              "      <th>30133</th>\n",
              "      <td>RESULTS</td>\n",
              "      <td>no adverse effects were reported .</td>\n",
              "      <td>16</td>\n",
              "      <td>17</td>\n",
              "    </tr>\n",
              "    <tr>\n",
              "      <th>30134</th>\n",
              "      <td>CONCLUSIONS</td>\n",
              "      <td>performing a @-week do-as-tolerated program of...</td>\n",
              "      <td>17</td>\n",
              "      <td>17</td>\n",
              "    </tr>\n",
              "  </tbody>\n",
              "</table>\n",
              "<p>30135 rows × 4 columns</p>\n",
              "</div>\n",
              "      <button class=\"colab-df-convert\" onclick=\"convertToInteractive('df-c1b1dab6-673d-4fce-ae73-4e0acc43cfa6')\"\n",
              "              title=\"Convert this dataframe to an interactive table.\"\n",
              "              style=\"display:none;\">\n",
              "        \n",
              "  <svg xmlns=\"http://www.w3.org/2000/svg\" height=\"24px\"viewBox=\"0 0 24 24\"\n",
              "       width=\"24px\">\n",
              "    <path d=\"M0 0h24v24H0V0z\" fill=\"none\"/>\n",
              "    <path d=\"M18.56 5.44l.94 2.06.94-2.06 2.06-.94-2.06-.94-.94-2.06-.94 2.06-2.06.94zm-11 1L8.5 8.5l.94-2.06 2.06-.94-2.06-.94L8.5 2.5l-.94 2.06-2.06.94zm10 10l.94 2.06.94-2.06 2.06-.94-2.06-.94-.94-2.06-.94 2.06-2.06.94z\"/><path d=\"M17.41 7.96l-1.37-1.37c-.4-.4-.92-.59-1.43-.59-.52 0-1.04.2-1.43.59L10.3 9.45l-7.72 7.72c-.78.78-.78 2.05 0 2.83L4 21.41c.39.39.9.59 1.41.59.51 0 1.02-.2 1.41-.59l7.78-7.78 2.81-2.81c.8-.78.8-2.07 0-2.86zM5.41 20L4 18.59l7.72-7.72 1.47 1.35L5.41 20z\"/>\n",
              "  </svg>\n",
              "      </button>\n",
              "      \n",
              "  <style>\n",
              "    .colab-df-container {\n",
              "      display:flex;\n",
              "      flex-wrap:wrap;\n",
              "      gap: 12px;\n",
              "    }\n",
              "\n",
              "    .colab-df-convert {\n",
              "      background-color: #E8F0FE;\n",
              "      border: none;\n",
              "      border-radius: 50%;\n",
              "      cursor: pointer;\n",
              "      display: none;\n",
              "      fill: #1967D2;\n",
              "      height: 32px;\n",
              "      padding: 0 0 0 0;\n",
              "      width: 32px;\n",
              "    }\n",
              "\n",
              "    .colab-df-convert:hover {\n",
              "      background-color: #E2EBFA;\n",
              "      box-shadow: 0px 1px 2px rgba(60, 64, 67, 0.3), 0px 1px 3px 1px rgba(60, 64, 67, 0.15);\n",
              "      fill: #174EA6;\n",
              "    }\n",
              "\n",
              "    [theme=dark] .colab-df-convert {\n",
              "      background-color: #3B4455;\n",
              "      fill: #D2E3FC;\n",
              "    }\n",
              "\n",
              "    [theme=dark] .colab-df-convert:hover {\n",
              "      background-color: #434B5C;\n",
              "      box-shadow: 0px 1px 3px 1px rgba(0, 0, 0, 0.15);\n",
              "      filter: drop-shadow(0px 1px 2px rgba(0, 0, 0, 0.3));\n",
              "      fill: #FFFFFF;\n",
              "    }\n",
              "  </style>\n",
              "\n",
              "      <script>\n",
              "        const buttonEl =\n",
              "          document.querySelector('#df-c1b1dab6-673d-4fce-ae73-4e0acc43cfa6 button.colab-df-convert');\n",
              "        buttonEl.style.display =\n",
              "          google.colab.kernel.accessAllowed ? 'block' : 'none';\n",
              "\n",
              "        async function convertToInteractive(key) {\n",
              "          const element = document.querySelector('#df-c1b1dab6-673d-4fce-ae73-4e0acc43cfa6');\n",
              "          const dataTable =\n",
              "            await google.colab.kernel.invokeFunction('convertToInteractive',\n",
              "                                                     [key], {});\n",
              "          if (!dataTable) return;\n",
              "\n",
              "          const docLinkHtml = 'Like what you see? Visit the ' +\n",
              "            '<a target=\"_blank\" href=https://colab.research.google.com/notebooks/data_table.ipynb>data table notebook</a>'\n",
              "            + ' to learn more about interactive tables.';\n",
              "          element.innerHTML = '';\n",
              "          dataTable['output_type'] = 'display_data';\n",
              "          await google.colab.output.renderOutput(dataTable, element);\n",
              "          const docLink = document.createElement('div');\n",
              "          docLink.innerHTML = docLinkHtml;\n",
              "          element.appendChild(docLink);\n",
              "        }\n",
              "      </script>\n",
              "    </div>\n",
              "  </div>\n",
              "  "
            ]
          },
          "metadata": {},
          "execution_count": 17
        }
      ]
    },
    {
      "cell_type": "code",
      "source": [
        "train_df.target.value_counts()"
      ],
      "metadata": {
        "colab": {
          "base_uri": "https://localhost:8080/"
        },
        "id": "ecYZp5DKY6q5",
        "outputId": "0c7972e5-dbc1-40a4-d36e-35bf05906d4a"
      },
      "execution_count": 18,
      "outputs": [
        {
          "output_type": "execute_result",
          "data": {
            "text/plain": [
              "METHODS        59353\n",
              "RESULTS        57953\n",
              "CONCLUSIONS    27168\n",
              "BACKGROUND     21727\n",
              "OBJECTIVE      13839\n",
              "Name: target, dtype: int64"
            ]
          },
          "metadata": {},
          "execution_count": 18
        }
      ]
    },
    {
      "cell_type": "code",
      "source": [
        "#length of different lines\n",
        "train_df.total_lines.plot.hist()"
      ],
      "metadata": {
        "colab": {
          "base_uri": "https://localhost:8080/",
          "height": 285
        },
        "id": "wNQr-CFQZEIS",
        "outputId": "509febe5-e75c-4ac0-85fd-c0ecfd4aa321"
      },
      "execution_count": 19,
      "outputs": [
        {
          "output_type": "execute_result",
          "data": {
            "text/plain": [
              "<matplotlib.axes._subplots.AxesSubplot at 0x7f8bd46f7d50>"
            ]
          },
          "metadata": {},
          "execution_count": 19
        },
        {
          "output_type": "display_data",
          "data": {
            "text/plain": [
              "<Figure size 432x288 with 1 Axes>"
            ],
            "image/png": "[encoded data removed]"
          },
          "metadata": {
            "needs_background": "light"
          }
        }
      ]
    },
    {
      "cell_type": "code",
      "source": [
        "#Convert abstract text lines into lists\n",
        "train_sentences = train_df[\"text\"].tolist()\n",
        "val_sentences = val_df[\"text\"].tolist()\n",
        "test_sentences = test_df[\"text\"].tolist()\n",
        "len(train_sentences), len(val_sentences), len(test_sentences)"
      ],
      "metadata": {
        "colab": {
          "base_uri": "https://localhost:8080/"
        },
        "id": "-h8WL5i1ZMr9",
        "outputId": "1e1d0f9f-3ea5-4571-bdd5-692b990167d8"
      },
      "execution_count": 20,
      "outputs": [
        {
          "output_type": "execute_result",
          "data": {
            "text/plain": [
              "(180040, 30212, 30135)"
            ]
          },
          "metadata": {},
          "execution_count": 20
        }
      ]
    },
    {
      "cell_type": "markdown",
      "source": [
        "## Making numeric lables (ML models require numbers)"
      ],
      "metadata": {
        "id": "XJautK-qZgzg"
      }
    },
    {
      "cell_type": "code",
      "source": [
        "# One hot encode labels\n",
        "from sklearn.preprocessing import OneHotEncoder\n",
        "one_hot_encoder = OneHotEncoder(sparse=False)\n",
        "train_labels_one_hot = one_hot_encoder.fit_transform(train_df[\"target\"].to_numpy().reshape(-1, 1))\n",
        "val_labels_one_hot = one_hot_encoder.fit_transform(val_df[\"target\"].to_numpy().reshape(-1, 1))\n",
        "test_labels_one_hot = one_hot_encoder.fit_transform(test_df[\"target\"].to_numpy().reshape(-1, 1))"
      ],
      "metadata": {
        "id": "oP2YJVYBZ6k-"
      },
      "execution_count": 21,
      "outputs": []
    },
    {
      "cell_type": "code",
      "source": [
        "import tensorflow as tf\n",
        "tf.constant(train_labels_one_hot)"
      ],
      "metadata": {
        "colab": {
          "base_uri": "https://localhost:8080/"
        },
        "id": "Hz19p7K9aeUa",
        "outputId": "01106a29-d458-4039-c3cb-669397b1d687"
      },
      "execution_count": 22,
      "outputs": [
        {
          "output_type": "execute_result",
          "data": {
            "text/plain": [
              "<tf.Tensor: shape=(180040, 5), dtype=float64, numpy=\n",
              "array([[0., 0., 0., 1., 0.],\n",
              "       [0., 0., 1., 0., 0.],\n",
              "       [0., 0., 1., 0., 0.],\n",
              "       ...,\n",
              "       [0., 0., 0., 0., 1.],\n",
              "       [0., 1., 0., 0., 0.],\n",
              "       [0., 1., 0., 0., 0.]])>"
            ]
          },
          "metadata": {},
          "execution_count": 22
        }
      ]
    },
    {
      "cell_type": "code",
      "source": [
        "train_labels_one_hot"
      ],
      "metadata": {
        "colab": {
          "base_uri": "https://localhost:8080/"
        },
        "id": "9tfTFYKPap6j",
        "outputId": "7c928949-fb47-43a4-c1f7-2f8afc59b91e"
      },
      "execution_count": 23,
      "outputs": [
        {
          "output_type": "execute_result",
          "data": {
            "text/plain": [
              "array([[0., 0., 0., 1., 0.],\n",
              "       [0., 0., 1., 0., 0.],\n",
              "       [0., 0., 1., 0., 0.],\n",
              "       ...,\n",
              "       [0., 0., 0., 0., 1.],\n",
              "       [0., 1., 0., 0., 0.],\n",
              "       [0., 1., 0., 0., 0.]])"
            ]
          },
          "metadata": {},
          "execution_count": 23
        }
      ]
    },
    {
      "cell_type": "code",
      "source": [
        "# Extract labels (\"target\" columns) and encode them into integers \n",
        "from sklearn.preprocessing import LabelEncoder\n",
        "label_encoder = LabelEncoder()\n",
        "train_labels_encoded = label_encoder.fit_transform(train_df[\"target\"].to_numpy())\n",
        "val_labels_encoded = label_encoder.transform(val_df[\"target\"].to_numpy())\n",
        "test_labels_encoded = label_encoder.transform(test_df[\"target\"].to_numpy())\n",
        "\n",
        "# Check what training labels look like\n",
        "train_labels_encoded"
      ],
      "metadata": {
        "colab": {
          "base_uri": "https://localhost:8080/"
        },
        "id": "HTSBM2r2auZv",
        "outputId": "f34e72d0-ddbc-4ccd-fac2-da38595da002"
      },
      "execution_count": 24,
      "outputs": [
        {
          "output_type": "execute_result",
          "data": {
            "text/plain": [
              "array([3, 2, 2, ..., 4, 1, 1])"
            ]
          },
          "metadata": {},
          "execution_count": 24
        }
      ]
    },
    {
      "cell_type": "code",
      "source": [
        "train_labels_encoded"
      ],
      "metadata": {
        "colab": {
          "base_uri": "https://localhost:8080/"
        },
        "id": "BTmJF41Qba0f",
        "outputId": "0c97ecd1-df52-464b-aafd-0b2515a43f3f"
      },
      "execution_count": 25,
      "outputs": [
        {
          "output_type": "execute_result",
          "data": {
            "text/plain": [
              "array([3, 2, 2, ..., 4, 1, 1])"
            ]
          },
          "metadata": {},
          "execution_count": 25
        }
      ]
    },
    {
      "cell_type": "code",
      "source": [
        "label_encoder.classes_"
      ],
      "metadata": {
        "colab": {
          "base_uri": "https://localhost:8080/"
        },
        "id": "a8OZNU4LbdwW",
        "outputId": "84353360-78e0-4ab4-ec62-db4607925c82"
      },
      "execution_count": 26,
      "outputs": [
        {
          "output_type": "execute_result",
          "data": {
            "text/plain": [
              "array(['BACKGROUND', 'CONCLUSIONS', 'METHODS', 'OBJECTIVE', 'RESULTS'],\n",
              "      dtype=object)"
            ]
          },
          "metadata": {},
          "execution_count": 26
        }
      ]
    },
    {
      "cell_type": "code",
      "source": [
        "#Model 0: Baseline Model - Naive Bayes TF-IDF Encoder\n",
        "from sklearn.feature_extraction.text import TfidfVectorizer\n",
        "from sklearn.naive_bayes import MultinomialNB\n",
        "from sklearn.pipeline import Pipeline\n",
        "\n",
        "model_0 = Pipeline([\n",
        "    (\"tf-idf\", TfidfVectorizer()),\n",
        "    (\"clf\", MultinomialNB())\n",
        "])\n",
        "\n",
        "#fitting the pipelien\n",
        "model_0.fit(X=train_sentences, y=train_labels_encoded)"
      ],
      "metadata": {
        "colab": {
          "base_uri": "https://localhost:8080/"
        },
        "id": "sHXA1iWBbpXB",
        "outputId": "225f22af-bd5b-4009-95bd-8c5ee9b30819"
      },
      "execution_count": 27,
      "outputs": [
        {
          "output_type": "execute_result",
          "data": {
            "text/plain": [
              "Pipeline(steps=[('tf-idf', TfidfVectorizer()), ('clf', MultinomialNB())])"
            ]
          },
          "metadata": {},
          "execution_count": 27
        }
      ]
    },
    {
      "cell_type": "code",
      "source": [
        "#evaluate\n",
        "model_0.score(X=val_sentences,\n",
        "              y=val_labels_encoded)"
      ],
      "metadata": {
        "colab": {
          "base_uri": "https://localhost:8080/"
        },
        "id": "XcF7zPd1cuxI",
        "outputId": "e1dc2363-8700-47b0-95a3-04263eb42da2"
      },
      "execution_count": 28,
      "outputs": [
        {
          "output_type": "execute_result",
          "data": {
            "text/plain": [
              "0.7218323844829869"
            ]
          },
          "metadata": {},
          "execution_count": 28
        }
      ]
    },
    {
      "cell_type": "code",
      "source": [
        "#make predictions\n",
        "baseline_preds = model_0.predict(val_sentences)\n",
        "baseline_preds"
      ],
      "metadata": {
        "colab": {
          "base_uri": "https://localhost:8080/"
        },
        "id": "MOBs8GeSdAjS",
        "outputId": "dc13b91b-6ca1-49bd-f390-07e1b09d757d"
      },
      "execution_count": 29,
      "outputs": [
        {
          "output_type": "execute_result",
          "data": {
            "text/plain": [
              "array([4, 1, 3, ..., 4, 4, 1])"
            ]
          },
          "metadata": {},
          "execution_count": 29
        }
      ]
    },
    {
      "cell_type": "code",
      "source": [
        "val_labels_encoded"
      ],
      "metadata": {
        "colab": {
          "base_uri": "https://localhost:8080/"
        },
        "id": "aotcFRUddNtq",
        "outputId": "2d0a7cb7-8ded-4b9d-b869-fa28aee9fcb5"
      },
      "execution_count": 30,
      "outputs": [
        {
          "output_type": "execute_result",
          "data": {
            "text/plain": [
              "array([0, 0, 3, ..., 4, 1, 1])"
            ]
          },
          "metadata": {},
          "execution_count": 30
        }
      ]
    },
    {
      "cell_type": "code",
      "source": [
        "##download helper functions script\n",
        "!wget https://raw.githubusercontent.com/mrdbourke/tensorflow-deep-learning/main/extras/helper_functions.py"
      ],
      "metadata": {
        "colab": {
          "base_uri": "https://localhost:8080/"
        },
        "id": "tjMkIFMJehVO",
        "outputId": "854876fd-92ba-4f2f-9f1f-bcfdb95f7a32"
      },
      "execution_count": 31,
      "outputs": [
        {
          "output_type": "stream",
          "name": "stdout",
          "text": [
            "--2022-08-12 21:10:03--  https://raw.githubusercontent.com/mrdbourke/tensorflow-deep-learning/main/extras/helper_functions.py\n",
            "Resolving raw.githubusercontent.com (raw.githubusercontent.com)... 185.199.108.133, 185.199.111.133, 185.199.110.133, ...\n",
            "Connecting to raw.githubusercontent.com (raw.githubusercontent.com)|185.199.108.133|:443... connected.\n",
            "HTTP request sent, awaiting response... 200 OK\n",
            "Length: 10246 (10K) [text/plain]\n",
            "Saving to: ‘helper_functions.py’\n",
            "\n",
            "helper_functions.py 100%[===================>]  10.01K  --.-KB/s    in 0s      \n",
            "\n",
            "2022-08-12 21:10:03 (97.2 MB/s) - ‘helper_functions.py’ saved [10246/10246]\n",
            "\n"
          ]
        }
      ]
    },
    {
      "cell_type": "code",
      "source": [
        "from helper_functions import calculate_results"
      ],
      "metadata": {
        "id": "xBHchs7VeuTh"
      },
      "execution_count": 32,
      "outputs": []
    },
    {
      "cell_type": "code",
      "source": [
        "baseline_results = calculate_results(val_labels_encoded,\n",
        "                                   baseline_preds)"
      ],
      "metadata": {
        "id": "V5BHDXbEe0FI"
      },
      "execution_count": 33,
      "outputs": []
    },
    {
      "cell_type": "code",
      "source": [
        "baseline_results"
      ],
      "metadata": {
        "colab": {
          "base_uri": "https://localhost:8080/"
        },
        "id": "m_RHfMTse6Nz",
        "outputId": "f5743b35-2f01-406b-892a-f563a0f944f0"
      },
      "execution_count": 34,
      "outputs": [
        {
          "output_type": "execute_result",
          "data": {
            "text/plain": [
              "{'accuracy': 72.1832384482987,\n",
              " 'f1': 0.6989250353450294,\n",
              " 'precision': 0.7186466952323352,\n",
              " 'recall': 0.7218323844829869}"
            ]
          },
          "metadata": {},
          "execution_count": 34
        }
      ]
    },
    {
      "cell_type": "markdown",
      "source": [
        "## Preparing text for deep sequence models using tokenization and embedding"
      ],
      "metadata": {
        "id": "wgquXh5he-Oq"
      }
    },
    {
      "cell_type": "code",
      "source": [
        "import numpy as np\n",
        "import tensorflow as tf\n",
        "from tensorflow.keras import layers"
      ],
      "metadata": {
        "id": "XgpAMcVhfOsP"
      },
      "execution_count": 35,
      "outputs": []
    },
    {
      "cell_type": "code",
      "source": [
        "#How long is each sentence on average\n",
        "sent_lens = [len(sentence.split()) for sentence in train_sentences]"
      ],
      "metadata": {
        "id": "BxUSgo-tfaL_"
      },
      "execution_count": 36,
      "outputs": []
    },
    {
      "cell_type": "code",
      "source": [
        "sent_lens"
      ],
      "metadata": {
        "colab": {
          "base_uri": "https://localhost:8080/"
        },
        "id": "5mk3r_OLflEr",
        "outputId": "77edf1b9-fa94-4f86-c6bc-81c053e7d01b"
      },
      "execution_count": 37,
      "outputs": [
        {
          "output_type": "execute_result",
          "data": {
            "text/plain": [
              "[49,\n",
              " 27,\n",
              " 15,\n",
              " 14,\n",
              " 35,\n",
              " 29,\n",
              " 30,\n",
              " 55,\n",
              " 36,\n",
              " 8,\n",
              " 32,\n",
              " 39,\n",
              " 12,\n",
              " 26,\n",
              " 33,\n",
              " 40,\n",
              " 22,\n",
              " 23,\n",
              " 27,\n",
              " 26,\n",
              " 27,\n",
              " 34,\n",
              " 41,\n",
              " 18,\n",
              " 9,\n",
              " 23,\n",
              " 59,\n",
              " 16,\n",
              " 18,\n",
              " 22,\n",
              " 17,\n",
              " 51,\n",
              " 8,\n",
              " 17,\n",
              " 16,\n",
              " 5,\n",
              " 21,\n",
              " 4,\n",
              " 42,\n",
              " 50,\n",
              " 11,\n",
              " 19,\n",
              " 20,\n",
              " 29,\n",
              " 36,\n",
              " 44,\n",
              " 39,\n",
              " 25,\n",
              " 19,\n",
              " 24,\n",
              " 19,\n",
              " 14,\n",
              " 11,\n",
              " 18,\n",
              " 16,\n",
              " 26,\n",
              " 16,\n",
              " 18,\n",
              " 38,\n",
              " 28,\n",
              " 21,\n",
              " 18,\n",
              " 22,\n",
              " 9,\n",
              " 37,\n",
              " 6,\n",
              " 32,\n",
              " 21,\n",
              " 26,\n",
              " 25,\n",
              " 18,\n",
              " 21,\n",
              " 20,\n",
              " 12,\n",
              " 26,\n",
              " 16,\n",
              " 23,\n",
              " 19,\n",
              " 16,\n",
              " 39,\n",
              " 19,\n",
              " 14,\n",
              " 37,\n",
              " 34,\n",
              " 15,\n",
              " 47,\n",
              " 26,\n",
              " 87,\n",
              " 17,\n",
              " 29,\n",
              " 31,\n",
              " 13,\n",
              " 37,\n",
              " 28,\n",
              " 35,\n",
              " 60,\n",
              " 64,\n",
              " 66,\n",
              " 8,\n",
              " 12,\n",
              " 17,\n",
              " 40,\n",
              " 43,\n",
              " 37,\n",
              " 47,\n",
              " 6,\n",
              " 40,\n",
              " 64,\n",
              " 20,\n",
              " 32,\n",
              " 53,\n",
              " 16,\n",
              " 30,\n",
              " 54,\n",
              " 51,\n",
              " 19,\n",
              " 28,\n",
              " 32,\n",
              " 36,\n",
              " 40,\n",
              " 13,\n",
              " 25,\n",
              " 30,\n",
              " 23,\n",
              " 17,\n",
              " 15,\n",
              " 20,\n",
              " 50,\n",
              " 12,\n",
              " 16,\n",
              " 27,\n",
              " 24,\n",
              " 10,\n",
              " 24,\n",
              " 5,\n",
              " 14,\n",
              " 19,\n",
              " 32,\n",
              " 13,\n",
              " 21,\n",
              " 23,\n",
              " 10,\n",
              " 11,\n",
              " 17,\n",
              " 12,\n",
              " 21,\n",
              " 21,\n",
              " 15,\n",
              " 17,\n",
              " 21,\n",
              " 18,\n",
              " 40,\n",
              " 33,\n",
              " 21,\n",
              " 41,\n",
              " 21,\n",
              " 13,\n",
              " 29,\n",
              " 28,\n",
              " 13,\n",
              " 44,\n",
              " 20,\n",
              " 31,\n",
              " 8,\n",
              " 29,\n",
              " 13,\n",
              " 116,\n",
              " 27,\n",
              " 26,\n",
              " 32,\n",
              " 34,\n",
              " 17,\n",
              " 23,\n",
              " 20,\n",
              " 29,\n",
              " 11,\n",
              " 7,\n",
              " 17,\n",
              " 31,\n",
              " 43,\n",
              " 36,\n",
              " 17,\n",
              " 31,\n",
              " 17,\n",
              " 42,\n",
              " 18,\n",
              " 39,\n",
              " 29,\n",
              " 30,\n",
              " 24,\n",
              " 81,\n",
              " 19,\n",
              " 19,\n",
              " 33,\n",
              " 22,\n",
              " 11,\n",
              " 55,\n",
              " 11,\n",
              " 14,\n",
              " 28,\n",
              " 42,\n",
              " 34,\n",
              " 44,\n",
              " 15,\n",
              " 22,\n",
              " 44,\n",
              " 34,\n",
              " 29,\n",
              " 14,\n",
              " 54,\n",
              " 33,\n",
              " 80,\n",
              " 38,\n",
              " 15,\n",
              " 19,\n",
              " 30,\n",
              " 51,\n",
              " 20,\n",
              " 57,\n",
              " 13,\n",
              " 34,\n",
              " 34,\n",
              " 29,\n",
              " 22,\n",
              " 15,\n",
              " 23,\n",
              " 32,\n",
              " 11,\n",
              " 12,\n",
              " 17,\n",
              " 15,\n",
              " 4,\n",
              " 7,\n",
              " 38,\n",
              " 14,\n",
              " 10,\n",
              " 6,\n",
              " 26,\n",
              " 15,\n",
              " 60,\n",
              " 22,\n",
              " 12,\n",
              " 27,\n",
              " 16,\n",
              " 11,\n",
              " 23,\n",
              " 8,\n",
              " 17,\n",
              " 7,\n",
              " 27,\n",
              " 27,\n",
              " 35,\n",
              " 34,\n",
              " 8,\n",
              " 22,\n",
              " 27,\n",
              " 38,\n",
              " 23,\n",
              " 21,\n",
              " 16,\n",
              " 4,\n",
              " 2,\n",
              " 37,\n",
              " 20,\n",
              " 25,\n",
              " 36,\n",
              " 19,\n",
              " 26,\n",
              " 31,\n",
              " 28,\n",
              " 20,\n",
              " 21,\n",
              " 15,\n",
              " 10,\n",
              " 2,\n",
              " 43,\n",
              " 18,\n",
              " 49,\n",
              " 24,\n",
              " 19,\n",
              " 36,\n",
              " 24,\n",
              " 28,\n",
              " 37,\n",
              " 26,\n",
              " 17,\n",
              " 25,\n",
              " 57,\n",
              " 20,\n",
              " 9,\n",
              " 16,\n",
              " 10,\n",
              " 11,\n",
              " 87,\n",
              " 41,\n",
              " 45,\n",
              " 44,\n",
              " 15,\n",
              " 11,\n",
              " 17,\n",
              " 11,\n",
              " 5,\n",
              " 6,\n",
              " 31,\n",
              " 31,\n",
              " 20,\n",
              " 16,\n",
              " 13,\n",
              " 24,\n",
              " 37,\n",
              " 14,\n",
              " 28,\n",
              " 17,\n",
              " 19,\n",
              " 27,\n",
              " 17,\n",
              " 25,\n",
              " 15,\n",
              " 16,\n",
              " 21,\n",
              " 25,\n",
              " 23,\n",
              " 23,\n",
              " 7,\n",
              " 16,\n",
              " 21,\n",
              " 13,\n",
              " 33,\n",
              " 34,\n",
              " 11,\n",
              " 46,\n",
              " 52,\n",
              " 24,\n",
              " 8,\n",
              " 16,\n",
              " 22,\n",
              " 20,\n",
              " 13,\n",
              " 25,\n",
              " 30,\n",
              " 13,\n",
              " 9,\n",
              " 16,\n",
              " 22,\n",
              " 39,\n",
              " 15,\n",
              " 15,\n",
              " 24,\n",
              " 25,\n",
              " 20,\n",
              " 35,\n",
              " 26,\n",
              " 24,\n",
              " 27,\n",
              " 29,\n",
              " 30,\n",
              " 10,\n",
              " 23,\n",
              " 22,\n",
              " 35,\n",
              " 60,\n",
              " 34,\n",
              " 15,\n",
              " 11,\n",
              " 30,\n",
              " 50,\n",
              " 18,\n",
              " 73,\n",
              " 8,\n",
              " 13,\n",
              " 25,\n",
              " 14,\n",
              " 14,\n",
              " 7,\n",
              " 46,\n",
              " 13,\n",
              " 20,\n",
              " 22,\n",
              " 30,\n",
              " 21,\n",
              " 22,\n",
              " 17,\n",
              " 30,\n",
              " 10,\n",
              " 17,\n",
              " 45,\n",
              " 20,\n",
              " 14,\n",
              " 9,\n",
              " 23,\n",
              " 14,\n",
              " 12,\n",
              " 26,\n",
              " 14,\n",
              " 27,\n",
              " 15,\n",
              " 33,\n",
              " 16,\n",
              " 12,\n",
              " 15,\n",
              " 22,\n",
              " 15,\n",
              " 30,\n",
              " 36,\n",
              " 30,\n",
              " 19,\n",
              " 30,\n",
              " 21,\n",
              " 37,\n",
              " 23,\n",
              " 29,\n",
              " 17,\n",
              " 60,\n",
              " 15,\n",
              " 23,\n",
              " 45,\n",
              " 29,\n",
              " 20,\n",
              " 22,\n",
              " 7,\n",
              " 17,\n",
              " 18,\n",
              " 19,\n",
              " 19,\n",
              " 12,\n",
              " 18,\n",
              " 15,\n",
              " 29,\n",
              " 22,\n",
              " 21,\n",
              " 18,\n",
              " 11,\n",
              " 14,\n",
              " 75,\n",
              " 38,\n",
              " 43,\n",
              " 25,\n",
              " 10,\n",
              " 12,\n",
              " 25,\n",
              " 12,\n",
              " 23,\n",
              " 36,\n",
              " 59,\n",
              " 7,\n",
              " 120,\n",
              " 17,\n",
              " 43,\n",
              " 9,\n",
              " 37,\n",
              " 42,\n",
              " 15,\n",
              " 17,\n",
              " 26,\n",
              " 35,\n",
              " 17,\n",
              " 30,\n",
              " 19,\n",
              " 23,\n",
              " 44,\n",
              " 12,\n",
              " 25,\n",
              " 11,\n",
              " 25,\n",
              " 38,\n",
              " 26,\n",
              " 56,\n",
              " 42,\n",
              " 25,\n",
              " 38,\n",
              " 22,\n",
              " 19,\n",
              " 11,\n",
              " 11,\n",
              " 27,\n",
              " 34,\n",
              " 20,\n",
              " 24,\n",
              " 10,\n",
              " 30,\n",
              " 27,\n",
              " 30,\n",
              " 4,\n",
              " 2,\n",
              " 4,\n",
              " 21,\n",
              " 33,\n",
              " 33,\n",
              " 12,\n",
              " 35,\n",
              " 22,\n",
              " 8,\n",
              " 18,\n",
              " 10,\n",
              " 10,\n",
              " 6,\n",
              " 15,\n",
              " 78,\n",
              " 15,\n",
              " 32,\n",
              " 27,\n",
              " 6,\n",
              " 27,\n",
              " 45,\n",
              " 16,\n",
              " 33,\n",
              " 46,\n",
              " 18,\n",
              " 17,\n",
              " 14,\n",
              " 27,\n",
              " 23,\n",
              " 13,\n",
              " 22,\n",
              " 21,\n",
              " 11,\n",
              " 20,\n",
              " 27,\n",
              " 26,\n",
              " 43,\n",
              " 17,\n",
              " 11,\n",
              " 15,\n",
              " 30,\n",
              " 17,\n",
              " 32,\n",
              " 87,\n",
              " 18,\n",
              " 20,\n",
              " 23,\n",
              " 25,\n",
              " 12,\n",
              " 22,\n",
              " 22,\n",
              " 28,\n",
              " 52,\n",
              " 29,\n",
              " 23,\n",
              " 30,\n",
              " 67,\n",
              " 47,\n",
              " 25,\n",
              " 19,\n",
              " 32,\n",
              " 35,\n",
              " 35,\n",
              " 26,\n",
              " 27,\n",
              " 27,\n",
              " 19,\n",
              " 13,\n",
              " 27,\n",
              " 27,\n",
              " 26,\n",
              " 33,\n",
              " 22,\n",
              " 40,\n",
              " 25,\n",
              " 17,\n",
              " 9,\n",
              " 8,\n",
              " 38,\n",
              " 49,\n",
              " 30,\n",
              " 59,\n",
              " 54,\n",
              " 24,\n",
              " 26,\n",
              " 13,\n",
              " 22,\n",
              " 23,\n",
              " 53,\n",
              " 14,\n",
              " 78,\n",
              " 34,\n",
              " 40,\n",
              " 52,\n",
              " 26,\n",
              " 43,\n",
              " 16,\n",
              " 19,\n",
              " 27,\n",
              " 14,\n",
              " 21,\n",
              " 30,\n",
              " 8,\n",
              " 40,\n",
              " 19,\n",
              " 13,\n",
              " 19,\n",
              " 34,\n",
              " 8,\n",
              " 23,\n",
              " 32,\n",
              " 9,\n",
              " 37,\n",
              " 15,\n",
              " 85,\n",
              " 36,\n",
              " 45,\n",
              " 62,\n",
              " 111,\n",
              " 111,\n",
              " 65,\n",
              " 25,\n",
              " 22,\n",
              " 32,\n",
              " 14,\n",
              " 51,\n",
              " 47,\n",
              " 17,\n",
              " 42,\n",
              " 16,\n",
              " 10,\n",
              " 19,\n",
              " 33,\n",
              " 20,\n",
              " 24,\n",
              " 24,\n",
              " 28,\n",
              " 42,\n",
              " 23,\n",
              " 23,\n",
              " 20,\n",
              " 20,\n",
              " 21,\n",
              " 16,\n",
              " 35,\n",
              " 10,\n",
              " 30,\n",
              " 11,\n",
              " 14,\n",
              " 17,\n",
              " 36,\n",
              " 26,\n",
              " 30,\n",
              " 32,\n",
              " 6,\n",
              " 13,\n",
              " 26,\n",
              " 48,\n",
              " 42,\n",
              " 23,\n",
              " 32,\n",
              " 25,\n",
              " 14,\n",
              " 34,\n",
              " 42,\n",
              " 14,\n",
              " 20,\n",
              " 35,\n",
              " 25,\n",
              " 6,\n",
              " 22,\n",
              " 26,\n",
              " 55,\n",
              " 28,\n",
              " 16,\n",
              " 30,\n",
              " 45,\n",
              " 12,\n",
              " 70,\n",
              " 21,\n",
              " 23,\n",
              " 5,\n",
              " 24,\n",
              " 53,\n",
              " 16,\n",
              " 14,\n",
              " 59,\n",
              " 37,\n",
              " 25,\n",
              " 29,\n",
              " 16,\n",
              " 7,\n",
              " 23,\n",
              " 18,\n",
              " 19,\n",
              " 20,\n",
              " 23,\n",
              " 42,\n",
              " 33,\n",
              " 34,\n",
              " 21,\n",
              " 24,\n",
              " 18,\n",
              " 14,\n",
              " 27,\n",
              " 57,\n",
              " 12,\n",
              " 54,\n",
              " 39,\n",
              " 38,\n",
              " 51,\n",
              " 36,\n",
              " 23,\n",
              " 31,\n",
              " 63,\n",
              " 13,\n",
              " 23,\n",
              " 22,\n",
              " 19,\n",
              " 11,\n",
              " 18,\n",
              " 21,\n",
              " 30,\n",
              " 14,\n",
              " 13,\n",
              " 12,\n",
              " 18,\n",
              " 9,\n",
              " 17,\n",
              " 27,\n",
              " 16,\n",
              " 38,\n",
              " 10,\n",
              " 13,\n",
              " 17,\n",
              " 14,\n",
              " 13,\n",
              " 25,\n",
              " 10,\n",
              " 20,\n",
              " 24,\n",
              " 32,\n",
              " 28,\n",
              " 62,\n",
              " 35,\n",
              " 42,\n",
              " 20,\n",
              " 16,\n",
              " 12,\n",
              " 28,\n",
              " 23,\n",
              " 19,\n",
              " 21,\n",
              " 34,\n",
              " 26,\n",
              " 14,\n",
              " 12,\n",
              " 9,\n",
              " 18,\n",
              " 19,\n",
              " 21,\n",
              " 45,\n",
              " 16,\n",
              " 24,\n",
              " 70,\n",
              " 32,\n",
              " 33,\n",
              " 29,\n",
              " 28,\n",
              " 32,\n",
              " 24,\n",
              " 26,\n",
              " 37,\n",
              " 30,\n",
              " 16,\n",
              " 20,\n",
              " 15,\n",
              " 29,\n",
              " 10,\n",
              " 35,\n",
              " 15,\n",
              " 16,\n",
              " 25,\n",
              " 38,\n",
              " 20,\n",
              " 30,\n",
              " 22,\n",
              " 44,\n",
              " 64,\n",
              " 40,\n",
              " 87,\n",
              " 7,\n",
              " 27,\n",
              " 11,\n",
              " 16,\n",
              " 30,\n",
              " 20,\n",
              " 18,\n",
              " 43,\n",
              " 13,\n",
              " 59,\n",
              " 38,\n",
              " 29,\n",
              " 34,\n",
              " 33,\n",
              " 4,\n",
              " 28,\n",
              " 21,\n",
              " 3,\n",
              " 18,\n",
              " 29,\n",
              " 23,\n",
              " 28,\n",
              " 18,\n",
              " 18,\n",
              " 14,\n",
              " 20,\n",
              " 30,\n",
              " 7,\n",
              " 14,\n",
              " 3,\n",
              " 39,\n",
              " 20,\n",
              " 21,\n",
              " 35,\n",
              " 10,\n",
              " 22,\n",
              " 21,\n",
              " 19,\n",
              " 36,\n",
              " 39,\n",
              " 2,\n",
              " 22,\n",
              " 24,\n",
              " 26,\n",
              " 11,\n",
              " 8,\n",
              " 53,\n",
              " 41,\n",
              " 34,\n",
              " 27,\n",
              " 38,\n",
              " 32,\n",
              " 44,\n",
              " 32,\n",
              " 34,\n",
              " 48,\n",
              " 36,\n",
              " 36,\n",
              " 37,\n",
              " 12,\n",
              " 22,\n",
              " 22,\n",
              " 13,\n",
              " 16,\n",
              " 12,\n",
              " 14,\n",
              " 12,\n",
              " 26,\n",
              " 22,\n",
              " 30,\n",
              " 24,\n",
              " 24,\n",
              " 30,\n",
              " 46,\n",
              " 27,\n",
              " 27,\n",
              " 27,\n",
              " 28,\n",
              " 37,\n",
              " 34,\n",
              " 14,\n",
              " 21,\n",
              " 39,\n",
              " 16,\n",
              " 26,\n",
              " 21,\n",
              " 8,\n",
              " 24,\n",
              " 26,\n",
              " 8,\n",
              " 81,\n",
              " 36,\n",
              " 12,\n",
              " 19,\n",
              " 21,\n",
              " 19,\n",
              " 43,\n",
              " 19,\n",
              " 14,\n",
              " 35,\n",
              " 21,\n",
              " 21,\n",
              " 42,\n",
              " 38,\n",
              " 34,\n",
              " 27,\n",
              " 21,\n",
              " 32,\n",
              " 25,\n",
              " 28,\n",
              " 23,\n",
              " 31,\n",
              " 48,\n",
              " 84,\n",
              " 19,\n",
              " 22,\n",
              " 22,\n",
              " 33,\n",
              " 24,\n",
              " 30,\n",
              " 15,\n",
              " 24,\n",
              " 27,\n",
              " 11,\n",
              " 19,\n",
              " 18,\n",
              " 21,\n",
              " 55,\n",
              " 50,\n",
              " 32,\n",
              " 40,\n",
              " 40,\n",
              " 17,\n",
              " 17,\n",
              " 20,\n",
              " 50,\n",
              " 6,\n",
              " 12,\n",
              " 26,\n",
              " 20,\n",
              " 17,\n",
              " 8,\n",
              " 11,\n",
              " 14,\n",
              " 39,\n",
              " 47,\n",
              " 34,\n",
              " 32,\n",
              " 22,\n",
              " 41,\n",
              " 77,\n",
              " 27,\n",
              " 26,\n",
              " 8,\n",
              " 10,\n",
              " 34,\n",
              " 28,\n",
              " 27,\n",
              " 30,\n",
              " 32,\n",
              " 32,\n",
              " 65,\n",
              " 25,\n",
              " 18,\n",
              " 14,\n",
              " 37,\n",
              " 9,\n",
              " 76,\n",
              " 12,\n",
              " 22,\n",
              " 35,\n",
              " 23,\n",
              " 8,\n",
              " 19,\n",
              " 19,\n",
              " 17,\n",
              " 11,\n",
              " 33,\n",
              " 8,\n",
              " 11,\n",
              " 15,\n",
              " 24,\n",
              " 27,\n",
              " 6,\n",
              " 16,\n",
              " 59,\n",
              " 34,\n",
              " 24,\n",
              " 10,\n",
              " 37,\n",
              " 51,\n",
              " 11,\n",
              " 12,\n",
              " 22,\n",
              " 19,\n",
              " 15,\n",
              " 19,\n",
              " 23,\n",
              " 13,\n",
              " 25,\n",
              " 9,\n",
              " 29,\n",
              " 16,\n",
              " 7,\n",
              " 29,\n",
              " 24,\n",
              " 25,\n",
              " 22,\n",
              " 20,\n",
              " 14,\n",
              " 33,\n",
              " 11,\n",
              " 11,\n",
              " 21,\n",
              " 18,\n",
              " 50,\n",
              " 35,\n",
              " 22,\n",
              " 34,\n",
              " 63,\n",
              " 23,\n",
              " 53,\n",
              " 19,\n",
              " 12,\n",
              " 15,\n",
              " 17,\n",
              " ...]"
            ]
          },
          "metadata": {},
          "execution_count": 37
        }
      ]
    },
    {
      "cell_type": "code",
      "source": [
        "avg_sent_len = np.mean(sent_lens)\n",
        "avg_sent_len"
      ],
      "metadata": {
        "colab": {
          "base_uri": "https://localhost:8080/"
        },
        "id": "_LjB1r4pfmKP",
        "outputId": "3a02f8d8-d84e-4a27-fe7a-19d69d7e1d01"
      },
      "execution_count": 38,
      "outputs": [
        {
          "output_type": "execute_result",
          "data": {
            "text/plain": [
              "26.338269273494777"
            ]
          },
          "metadata": {},
          "execution_count": 38
        }
      ]
    },
    {
      "cell_type": "code",
      "source": [
        "import matplotlib.pyplot as plt\n",
        "plt.hist(sent_lens, bins=40)"
      ],
      "metadata": {
        "colab": {
          "base_uri": "https://localhost:8080/",
          "height": 533
        },
        "id": "Rk69E_befqoz",
        "outputId": "6abc1772-6bae-4f91-e456-365b202fca35"
      },
      "execution_count": 39,
      "outputs": [
        {
          "output_type": "execute_result",
          "data": {
            "text/plain": [
              "(array([9.1130e+03, 3.2962e+04, 4.9105e+04, 3.4666e+04, 2.2517e+04,\n",
              "        1.4360e+04, 6.8790e+03, 4.0660e+03, 2.5730e+03, 1.3580e+03,\n",
              "        9.3400e+02, 5.1100e+02, 3.3600e+02, 2.2400e+02, 1.3100e+02,\n",
              "        9.5000e+01, 6.8000e+01, 3.3000e+01, 2.5000e+01, 2.0000e+01,\n",
              "        9.0000e+00, 1.1000e+01, 7.0000e+00, 5.0000e+00, 4.0000e+00,\n",
              "        5.0000e+00, 5.0000e+00, 5.0000e+00, 3.0000e+00, 3.0000e+00,\n",
              "        1.0000e+00, 1.0000e+00, 2.0000e+00, 1.0000e+00, 0.0000e+00,\n",
              "        0.0000e+00, 0.0000e+00, 1.0000e+00, 0.0000e+00, 1.0000e+00]),\n",
              " array([  1.   ,   8.375,  15.75 ,  23.125,  30.5  ,  37.875,  45.25 ,\n",
              "         52.625,  60.   ,  67.375,  74.75 ,  82.125,  89.5  ,  96.875,\n",
              "        104.25 , 111.625, 119.   , 126.375, 133.75 , 141.125, 148.5  ,\n",
              "        155.875, 163.25 , 170.625, 178.   , 185.375, 192.75 , 200.125,\n",
              "        207.5  , 214.875, 222.25 , 229.625, 237.   , 244.375, 251.75 ,\n",
              "        259.125, 266.5  , 273.875, 281.25 , 288.625, 296.   ]),\n",
              " <a list of 40 Patch objects>)"
            ]
          },
          "metadata": {},
          "execution_count": 39
        },
        {
          "output_type": "display_data",
          "data": {
            "text/plain": [
              "<Figure size 432x288 with 1 Axes>"
            ],
            "image/png": "[encoded data removed]"
          },
          "metadata": {
            "needs_background": "light"
          }
        }
      ]
    },
    {
      "cell_type": "code",
      "source": [
        "np.percentile(sent_lens, .95)"
      ],
      "metadata": {
        "colab": {
          "base_uri": "https://localhost:8080/"
        },
        "id": "jGh4AvaXf67g",
        "outputId": "90ca02d8-c4cf-41a5-8c99-eeb1f638e625"
      },
      "execution_count": 40,
      "outputs": [
        {
          "output_type": "execute_result",
          "data": {
            "text/plain": [
              "4.0"
            ]
          },
          "metadata": {},
          "execution_count": 40
        }
      ]
    },
    {
      "cell_type": "code",
      "source": [
        "output_seq_len = int(np.percentile(sent_lens, 95))"
      ],
      "metadata": {
        "id": "VwaTdUM_gDTs"
      },
      "execution_count": 41,
      "outputs": []
    },
    {
      "cell_type": "code",
      "source": [
        "output_seq_len"
      ],
      "metadata": {
        "colab": {
          "base_uri": "https://localhost:8080/"
        },
        "id": "zQfdvD4_gUfG",
        "outputId": "989dd4ea-9aa3-4eb5-c538-21eadc0dda15"
      },
      "execution_count": 42,
      "outputs": [
        {
          "output_type": "execute_result",
          "data": {
            "text/plain": [
              "55"
            ]
          },
          "metadata": {},
          "execution_count": 42
        }
      ]
    },
    {
      "cell_type": "code",
      "source": [
        "max(sent_lens)"
      ],
      "metadata": {
        "colab": {
          "base_uri": "https://localhost:8080/"
        },
        "id": "DNKM-W-JgVnT",
        "outputId": "818498a6-221e-441f-b568-4716f0a39cd4"
      },
      "execution_count": 43,
      "outputs": [
        {
          "output_type": "execute_result",
          "data": {
            "text/plain": [
              "296"
            ]
          },
          "metadata": {},
          "execution_count": 43
        }
      ]
    },
    {
      "cell_type": "code",
      "source": [
        "#Text Vectorization\n",
        "#homw many words are in our vocabulary\n",
        "max_tokens = 68000"
      ],
      "metadata": {
        "id": "jRdCp0N7gaqe"
      },
      "execution_count": 44,
      "outputs": []
    },
    {
      "cell_type": "code",
      "source": [
        "from tensorflow.keras.layers.experimental.preprocessing import TextVectorization\n",
        "\n",
        "text_vectorizer = TextVectorization(max_tokens=max_tokens,\n",
        "                                    output_sequence_length=output_seq_len)"
      ],
      "metadata": {
        "id": "4tciNTE_6772"
      },
      "execution_count": 45,
      "outputs": []
    },
    {
      "cell_type": "code",
      "source": [
        "#fitting text vectorizer to our data set\n",
        "text_vectorizer.adapt(train_sentences)"
      ],
      "metadata": {
        "id": "Z_WU07wm7HQl"
      },
      "execution_count": 46,
      "outputs": []
    },
    {
      "cell_type": "code",
      "source": [
        "#test out text_vectorizor on random sentences\n",
        "import random\n",
        "target_sentence = random.choice(train_sentences)\n",
        "print(f\"Text: {target_sentence}\")\n",
        "print(f\"Vectorized Text: {text_vectorizer([target_sentence])}\")"
      ],
      "metadata": {
        "colab": {
          "base_uri": "https://localhost:8080/"
        },
        "id": "zXBhEqDY7pGq",
        "outputId": "b751148a-5f14-4db5-ae02-81e96a857e0b"
      },
      "execution_count": 47,
      "outputs": [
        {
          "output_type": "stream",
          "name": "stdout",
          "text": [
            "Text: analysis of laboratory measurements , vital signs and ecg data revealed no adverse findings of clinical relevance .\n",
            "Vectorized Text: [[  85    4  880  591 1778  995    3 2850  100  782   33  118  310    4\n",
            "    47 3466    0    0    0    0    0    0    0    0    0    0    0    0\n",
            "     0    0    0    0    0    0    0    0    0    0    0    0    0    0\n",
            "     0    0    0    0    0    0    0    0    0    0    0    0    0]]\n"
          ]
        }
      ]
    },
    {
      "cell_type": "code",
      "source": [
        "#HOw many words in our training vocabulary\n",
        "rct_20k_text_vocab = text_vectorizer.get_vocabulary()\n",
        "print(f\"Num of words: {len(rct_20k_text_vocab)}\")\n",
        "print(f\"most common words: {rct_20k_text_vocab[:5]}\")\n",
        "print(f\"least common words: {rct_20k_text_vocab[-5:]}\")"
      ],
      "metadata": {
        "colab": {
          "base_uri": "https://localhost:8080/"
        },
        "id": "al9n3M-z79za",
        "outputId": "a20942aa-2184-472a-d39c-c703ff22fc87"
      },
      "execution_count": 48,
      "outputs": [
        {
          "output_type": "stream",
          "name": "stdout",
          "text": [
            "Num of words: 64841\n",
            "most common words: ['', '[UNK]', 'the', 'and', 'of']\n",
            "least common words: ['aainduced', 'aaigroup', 'aachener', 'aachen', 'aaacp']\n"
          ]
        }
      ]
    },
    {
      "cell_type": "code",
      "source": [
        "text_vectorizer.get_config()"
      ],
      "metadata": {
        "colab": {
          "base_uri": "https://localhost:8080/"
        },
        "id": "pG0vRoxc8YSP",
        "outputId": "496b1398-aae8-4c7c-a70f-d25718e5c81d"
      },
      "execution_count": 49,
      "outputs": [
        {
          "output_type": "execute_result",
          "data": {
            "text/plain": [
              "{'batch_input_shape': (None,),\n",
              " 'dtype': 'string',\n",
              " 'idf_weights': None,\n",
              " 'max_tokens': 68000,\n",
              " 'name': 'text_vectorization',\n",
              " 'ngrams': None,\n",
              " 'output_mode': 'int',\n",
              " 'output_sequence_length': 55,\n",
              " 'pad_to_max_tokens': False,\n",
              " 'ragged': False,\n",
              " 'sparse': False,\n",
              " 'split': 'whitespace',\n",
              " 'standardize': 'lower_and_strip_punctuation',\n",
              " 'trainable': True,\n",
              " 'vocabulary': None}"
            ]
          },
          "metadata": {},
          "execution_count": 49
        }
      ]
    },
    {
      "cell_type": "code",
      "source": [
        "#Create token embedding layer\n",
        "token_embed = layers.Embedding(input_dim=len(rct_20k_text_vocab),\n",
        "                               output_dim=128,\n",
        "                               mask_zero=True, #using masking to handle vairable sequence lengths\n",
        "                               name=\"token_embedding\")"
      ],
      "metadata": {
        "id": "D1dvYpDE8iA3"
      },
      "execution_count": 50,
      "outputs": []
    },
    {
      "cell_type": "code",
      "source": [
        "#show an example\n",
        "print(f\"sentence before embedding: {target_sentence}\")\n",
        "vectorized_sentence = text_vectorizer([target_sentence])\n",
        "print(f\"setnece after vectorization: {vectorized_sentence}\")\n",
        "embedded_sentence = token_embed(vectorized_sentence)\n",
        "print(f\"embedded sentence: {embedded_sentence}\")\n",
        "print(f\"embedded sentence shape: {embedded_sentence.shape}\")"
      ],
      "metadata": {
        "colab": {
          "base_uri": "https://localhost:8080/"
        },
        "id": "dn2YzQVl9MFY",
        "outputId": "53afedb4-75a7-4f6a-d526-76d109019df6"
      },
      "execution_count": 51,
      "outputs": [
        {
          "output_type": "stream",
          "name": "stdout",
          "text": [
            "sentence before embedding: analysis of laboratory measurements , vital signs and ecg data revealed no adverse findings of clinical relevance .\n",
            "setnece after vectorization: [[  85    4  880  591 1778  995    3 2850  100  782   33  118  310    4\n",
            "    47 3466    0    0    0    0    0    0    0    0    0    0    0    0\n",
            "     0    0    0    0    0    0    0    0    0    0    0    0    0    0\n",
            "     0    0    0    0    0    0    0    0    0    0    0    0    0]]\n",
            "embedded sentence: [[[-0.04823141 -0.01641687 -0.04336414 ...  0.02173598  0.02268516\n",
            "    0.00191437]\n",
            "  [ 0.03356021  0.01845963 -0.03343955 ... -0.02762836 -0.02840069\n",
            "   -0.01163363]\n",
            "  [-0.02994205  0.03453082 -0.0347746  ... -0.02320044  0.04772888\n",
            "   -0.02655381]\n",
            "  ...\n",
            "  [-0.0481668   0.0407724  -0.0474438  ...  0.04109741  0.00773847\n",
            "   -0.02924366]\n",
            "  [-0.0481668   0.0407724  -0.0474438  ...  0.04109741  0.00773847\n",
            "   -0.02924366]\n",
            "  [-0.0481668   0.0407724  -0.0474438  ...  0.04109741  0.00773847\n",
            "   -0.02924366]]]\n",
            "embedded sentence shape: (1, 55, 128)\n"
          ]
        }
      ]
    },
    {
      "cell_type": "code",
      "source": [
        "## Creating datasets \n",
        "#Turn our data into tf datasets\n",
        "train_labels_one_hot = tf.constant(train_labels_one_hot)\n",
        "val_labels_one_hot = tf.constant(val_labels_one_hot)\n",
        "test_labels_one_hot = tf.constant(test_labels_one_hot)\n",
        "\n",
        "train_dataset = tf.data.Dataset.from_tensor_slices((train_sentences, train_labels_one_hot))\n",
        "val_dataset = tf.data.Dataset.from_tensor_slices((val_sentences, val_labels_one_hot))\n",
        "test_dataset = tf.data.Dataset.from_tensor_slices((test_sentences, test_labels_one_hot))\n"
      ],
      "metadata": {
        "id": "bCfxHyzE9kpv"
      },
      "execution_count": 52,
      "outputs": []
    },
    {
      "cell_type": "code",
      "source": [
        "#Take the TensorSliceDataset into prefetched datasets\n",
        "train_dataset = train_dataset.batch(32).prefetch(tf.data.AUTOTUNE)\n",
        "val_dataset = val_dataset.batch(32).prefetch(tf.data.AUTOTUNE)\n",
        "test_dataset = test_dataset.batch(32).prefetch(tf.data.AUTOTUNE)"
      ],
      "metadata": {
        "id": "PtIIciD--Z2Z"
      },
      "execution_count": 53,
      "outputs": []
    },
    {
      "cell_type": "code",
      "source": [
        "train_dataset"
      ],
      "metadata": {
        "colab": {
          "base_uri": "https://localhost:8080/"
        },
        "id": "ryjeIRDhCmUu",
        "outputId": "3ccc111f-9fbe-4249-8ed0-6ff9d0462dbc"
      },
      "execution_count": 54,
      "outputs": [
        {
          "output_type": "execute_result",
          "data": {
            "text/plain": [
              "<PrefetchDataset element_spec=(TensorSpec(shape=(None,), dtype=tf.string, name=None), TensorSpec(shape=(None, 5), dtype=tf.float64, name=None))>"
            ]
          },
          "metadata": {},
          "execution_count": 54
        }
      ]
    },
    {
      "cell_type": "code",
      "source": [
        "## Model 1: Conv1D with token embeddings\n",
        "inputs = layers.Input(shape=(1,), dtype=tf.string)\n",
        "text_vectors = text_vectorizer(inputs)\n",
        "token_embeddings = token_embed(text_vectors)\n",
        "x = layers.Conv1D(64, kernel_size=5, padding=\"same\", activation=\"relu\")(token_embeddings)\n",
        "x = layers.GlobalAveragePooling1D()(x)\n",
        "outputs = layers.Dense(5, activation=\"softmax\")(x)\n",
        "model_1 = tf.keras.Model(inputs, outputs)\n",
        "#compile\n",
        "model_1.compile(loss=\"categorical_crossentropy\",\n",
        "                optimizer=tf.keras.optimizers.Adam(),\n",
        "                metrics=[\"accuracy\"])\n",
        "\n"
      ],
      "metadata": {
        "id": "Xp7k7PGSC-CR"
      },
      "execution_count": 55,
      "outputs": []
    },
    {
      "cell_type": "code",
      "source": [
        "model_1.summary()"
      ],
      "metadata": {
        "colab": {
          "base_uri": "https://localhost:8080/"
        },
        "id": "gcXUn49aEFX4",
        "outputId": "9f749f13-ff48-49be-ad3a-d4993c833d89"
      },
      "execution_count": 56,
      "outputs": [
        {
          "output_type": "stream",
          "name": "stdout",
          "text": [
            "Model: \"model\"\n",
            "_________________________________________________________________\n",
            " Layer (type)                Output Shape              Param #   \n",
            "=================================================================\n",
            " input_1 (InputLayer)        [(None, 1)]               0         \n",
            "                                                                 \n",
            " text_vectorization (TextVec  (None, 55)               0         \n",
            " torization)                                                     \n",
            "                                                                 \n",
            " token_embedding (Embedding)  (None, 55, 128)          8299648   \n",
            "                                                                 \n",
            " conv1d (Conv1D)             (None, 55, 64)            41024     \n",
            "                                                                 \n",
            " global_average_pooling1d (G  (None, 64)               0         \n",
            " lobalAveragePooling1D)                                          \n",
            "                                                                 \n",
            " dense (Dense)               (None, 5)                 325       \n",
            "                                                                 \n",
            "=================================================================\n",
            "Total params: 8,340,997\n",
            "Trainable params: 8,340,997\n",
            "Non-trainable params: 0\n",
            "_________________________________________________________________\n"
          ]
        }
      ]
    },
    {
      "cell_type": "code",
      "source": [
        "history_model_1 = model_1.fit(train_dataset,\n",
        "                              steps_per_epoch=(0.1*len(train_dataset)),\n",
        "                              epochs=3,\n",
        "                              validation_data=val_dataset,\n",
        "                              validation_steps=(0.1*len(val_dataset)))"
      ],
      "metadata": {
        "colab": {
          "base_uri": "https://localhost:8080/"
        },
        "id": "dd-rXpCyEQIv",
        "outputId": "80c04c8d-8f41-4430-9bc9-d0b01eeb174c"
      },
      "execution_count": 57,
      "outputs": [
        {
          "output_type": "stream",
          "name": "stdout",
          "text": [
            "Epoch 1/3\n",
            "562/562 [==============================] - 16s 9ms/step - loss: 0.9252 - accuracy: 0.6315 - val_loss: 0.6862 - val_accuracy: 0.7349\n",
            "Epoch 2/3\n",
            "562/562 [==============================] - 5s 9ms/step - loss: 0.6532 - accuracy: 0.7574 - val_loss: 0.6320 - val_accuracy: 0.7720\n",
            "Epoch 3/3\n",
            "562/562 [==============================] - 5s 8ms/step - loss: 0.6144 - accuracy: 0.7766 - val_loss: 0.5943 - val_accuracy: 0.7842\n"
          ]
        }
      ]
    },
    {
      "cell_type": "code",
      "source": [
        "#Evaluate on whole validation dtaset\n",
        "model_1.evaluate(val_dataset)"
      ],
      "metadata": {
        "colab": {
          "base_uri": "https://localhost:8080/"
        },
        "id": "DonrvzRGEsrC",
        "outputId": "bbed40d0-e922-4147-f325-0169384944e2"
      },
      "execution_count": 58,
      "outputs": [
        {
          "output_type": "stream",
          "name": "stdout",
          "text": [
            "945/945 [==============================] - 3s 3ms/step - loss: 0.5944 - accuracy: 0.7874\n"
          ]
        },
        {
          "output_type": "execute_result",
          "data": {
            "text/plain": [
              "[0.594351589679718, 0.7874354720115662]"
            ]
          },
          "metadata": {},
          "execution_count": 58
        }
      ]
    },
    {
      "cell_type": "code",
      "source": [
        "#making predictions\n",
        "model_1_pred_probs = model_1.predict(val_dataset)\n",
        "model_1_preds = tf.argmax(model_1_pred_probs, axis=1)\n",
        "model_1_preds"
      ],
      "metadata": {
        "colab": {
          "base_uri": "https://localhost:8080/"
        },
        "id": "u8PGLQXzFHC-",
        "outputId": "2313588e-a7ec-4a14-bd7c-7ecc2f396e22"
      },
      "execution_count": 59,
      "outputs": [
        {
          "output_type": "execute_result",
          "data": {
            "text/plain": [
              "<tf.Tensor: shape=(30212,), dtype=int64, numpy=array([0, 0, 3, ..., 4, 1, 1])>"
            ]
          },
          "metadata": {},
          "execution_count": 59
        }
      ]
    },
    {
      "cell_type": "code",
      "source": [
        "model_1_results = calculate_results(val_labels_encoded,\n",
        "                                    model_1_preds)"
      ],
      "metadata": {
        "id": "Fk9m7csUFTzw"
      },
      "execution_count": 60,
      "outputs": []
    },
    {
      "cell_type": "code",
      "source": [
        "model_1_results"
      ],
      "metadata": {
        "colab": {
          "base_uri": "https://localhost:8080/"
        },
        "id": "8OWsihDjFgty",
        "outputId": "010cad76-de40-4580-f2d3-dfb15e2136eb"
      },
      "execution_count": 61,
      "outputs": [
        {
          "output_type": "execute_result",
          "data": {
            "text/plain": [
              "{'accuracy': 78.74354561101549,\n",
              " 'f1': 0.7846394945481339,\n",
              " 'precision': 0.7845818102019888,\n",
              " 'recall': 0.7874354561101549}"
            ]
          },
          "metadata": {},
          "execution_count": 61
        }
      ]
    },
    {
      "cell_type": "markdown",
      "source": [
        "##Feature Extraction with pretrained token embeddings"
      ],
      "metadata": {
        "id": "gGCLp_CTFiUX"
      }
    },
    {
      "cell_type": "code",
      "source": [
        "#Using pretrained word embeddings from tensorflow hub\n",
        "import tensorflow_hub as hub\n",
        "tf_hub_embedding_layer = hub.KerasLayer(\"https://tfhub.dev/google/universal-sentence-encoder/4\",\n",
        "                                        trainable=False,\n",
        "                                        name=\"universal_sentence_encoder\")\n"
      ],
      "metadata": {
        "id": "e1G-m9DPFzeA"
      },
      "execution_count": 62,
      "outputs": []
    },
    {
      "cell_type": "code",
      "source": [
        "random_train_sentence = random.choice(train_sentences)\n",
        "print(f\"random sentence: {random_train_sentence}\")\n",
        "use_embedded_sentence = tf_hub_embedding_layer([random_train_sentence])\n",
        "print(f\"embedded version: {use_embedded_sentence}\")"
      ],
      "metadata": {
        "colab": {
          "base_uri": "https://localhost:8080/"
        },
        "id": "uG2sSsfHG0Wb",
        "outputId": "56f3a1aa-b519-423b-9e9b-ecca12a6730d"
      },
      "execution_count": 63,
      "outputs": [
        {
          "output_type": "stream",
          "name": "stdout",
          "text": [
            "random sentence: in placebo-treated eyes , there was myopic progression of -@ diopters ( d ) , between baseline and @ months , associated with reductions in corneal curvature ( k ; -@ d ) and anterior chamber depth ( acd ; -@ mm ) and increases in lens thickness ( lt ; @ mm ) , vitreous chamber depth ( vcd ; @ mm ) , and axial length ( al ; @ mm ) .\n",
            "embedded version: [[ 0.06399155  0.05273305  0.02367046 -0.0357793  -0.02526197 -0.06089993\n",
            "   0.04547783 -0.06399076 -0.00336874 -0.00967874  0.05043798  0.05512235\n",
            "  -0.06646749  0.05337657  0.04809015 -0.00436651 -0.0673923   0.01264306\n",
            "  -0.00510368 -0.01668748 -0.05139204 -0.05506781  0.03050672 -0.00081257\n",
            "   0.06914809 -0.05243507  0.06604862 -0.05186268 -0.00523506  0.03857132\n",
            "  -0.01366983  0.06204884  0.06792746  0.02829293  0.01243614 -0.06161452\n",
            "  -0.04849309  0.06999957 -0.03851526 -0.06635894  0.04300016  0.01606254\n",
            "   0.0516123   0.0117697   0.06158409  0.05323417 -0.05969834 -0.04657014\n",
            "   0.01491497  0.06300593 -0.04218762 -0.0336438  -0.06670909 -0.0485275\n",
            "  -0.06832924  0.04286677 -0.06287682  0.05743616  0.05153521 -0.06696919\n",
            "   0.03795623 -0.02986173  0.05139871 -0.05708004  0.0454316  -0.0275836\n",
            "  -0.05834052 -0.00497176  0.01172285  0.00592569  0.06701248  0.04354068\n",
            "   0.06028766 -0.06680109 -0.05406459  0.0284987   0.01636157  0.05780353\n",
            "  -0.04301602 -0.02315154 -0.05196591  0.02324461  0.01224222  0.01662227\n",
            "  -0.00844833  0.06701434  0.02870446 -0.04811     0.05924431 -0.06617733\n",
            "  -0.04990009  0.02530414  0.0488438   0.04127299  0.06563134  0.02076437\n",
            "  -0.04946962  0.01591949 -0.03061307  0.0427561  -0.06298239  0.0136794\n",
            "   0.02310951  0.04777061  0.0282008  -0.05471102  0.02225963  0.00708097\n",
            "   0.04036397 -0.05110202  0.03434021  0.02951919  0.02879248 -0.02713279\n",
            "   0.01639151 -0.05548375 -0.04432885 -0.00481815  0.03074507 -0.01039685\n",
            "   0.03999654 -0.06335851  0.00865499  0.03162059  0.05018231  0.05274394\n",
            "  -0.02183009 -0.07016502 -0.04001793  0.01677653 -0.00077926 -0.03933752\n",
            "   0.05990041  0.02521968 -0.00038816 -0.03328954  0.04741346  0.05599635\n",
            "   0.01931477 -0.03578724 -0.02493735  0.06797971 -0.06472927 -0.0300517\n",
            "  -0.04848731 -0.0418948   0.03391436 -0.06359268  0.04915552 -0.06842307\n",
            "  -0.06758604 -0.00514886 -0.05949321 -0.01833983  0.04399663  0.06788702\n",
            "  -0.03224801  0.00883958 -0.01831019  0.01598215  0.02974063  0.06114645\n",
            "  -0.05401153  0.0015391   0.04995747 -0.04933661 -0.03210278 -0.0296471\n",
            "   0.00290499  0.01522004 -0.06876285  0.0210331   0.01490497  0.06922998\n",
            "  -0.0330698  -0.02008768 -0.01202962  0.02306366  0.0670858   0.06730645\n",
            "  -0.05626061  0.02047394  0.05453331  0.06060909 -0.05332689 -0.05176689\n",
            "   0.03559728 -0.03936274  0.00710413  0.00598231  0.01729965  0.00836364\n",
            "  -0.0082848   0.05890566 -0.03579793 -0.06616712 -0.06080101 -0.03776135\n",
            "  -0.0531534  -0.0571052  -0.06141577  0.06626649  0.0700682   0.06324569\n",
            "  -0.06395508  0.06575281  0.00776536  0.01819245 -0.00730875 -0.06162146\n",
            "   0.02324121 -0.03383141 -0.06157973  0.04229833 -0.06176269  0.05923917\n",
            "   0.03611533  0.02850143  0.05283529  0.04858911  0.01753607  0.01315713\n",
            "   0.03902721  0.05074594  0.03803704 -0.04445735 -0.03485688 -0.06066779\n",
            "  -0.00671254  0.03559014  0.00207476  0.05471806 -0.05086423  0.02836372\n",
            "   0.06617872 -0.04889426 -0.04104796  0.05354403 -0.05266469  0.05077394\n",
            "   0.02454676  0.04396503 -0.01544384  0.02323329 -0.00339821  0.05097762\n",
            "   0.01546823  0.05637607 -0.00701421 -0.06929447 -0.03054108 -0.01229476\n",
            "  -0.00032815 -0.00415469 -0.01717307 -0.02197069  0.03360018  0.06144847\n",
            "   0.06193218  0.05659106  0.0250803  -0.04397729 -0.04717822  0.03224321\n",
            "  -0.02429392  0.06359312 -0.02320972  0.05123003  0.00327421  0.05865211\n",
            "  -0.00764064  0.03242129  0.01646475  0.0655437   0.02145516 -0.05085972\n",
            "  -0.03219373 -0.07038067 -0.02599598 -0.05216672 -0.04944738 -0.01778787\n",
            "  -0.0509277   0.0041727   0.03385915  0.00177269 -0.04104766 -0.00027186\n",
            "   0.02127195 -0.05129167 -0.00964594 -0.04668195  0.01497057 -0.07001153\n",
            "  -0.06372253 -0.01284011 -0.07016935  0.06305289  0.05002514  0.05620212\n",
            "  -0.01064263 -0.03101732  0.01990126 -0.04756862 -0.05824456  0.02251709\n",
            "  -0.01213656 -0.06829492 -0.02584653 -0.0139195  -0.02188417 -0.04484446\n",
            "   0.02264743 -0.04845611 -0.05103212 -0.05333156 -0.04813458 -0.05328752\n",
            "  -0.03504189  0.02561074 -0.03788747  0.00452608 -0.0665995  -0.06807964\n",
            "   0.02154945 -0.04277881  0.00445143 -0.06941738 -0.0683018   0.03103723\n",
            "   0.04234456 -0.01942611  0.04482152  0.05978769 -0.02083038  0.06773748\n",
            "   0.06572796 -0.06975473  0.04853621 -0.05482087 -0.04665131  0.03355113\n",
            "   0.0549044  -0.05991627  0.0286075  -0.01311797 -0.00611648 -0.06958227\n",
            "  -0.03163659  0.05761164 -0.0570773   0.05149896  0.00828586 -0.06441136\n",
            "   0.0547162   0.0510528  -0.01711868  0.06710225 -0.03964534 -0.06296559\n",
            "   0.02060191  0.03528542  0.04622544 -0.05615505  0.05414512  0.05719634\n",
            "   0.05615852 -0.03033526 -0.00082621 -0.04267213 -0.02928358  0.03912561\n",
            "   0.03981597 -0.04715946  0.05638957 -0.01772705  0.01911665 -0.02641039\n",
            "  -0.06590842 -0.06713283 -0.04487776 -0.04108709 -0.0021881  -0.0457508\n",
            "   0.04138588 -0.03306146 -0.0643806  -0.02346152  0.05813764  0.00647289\n",
            "  -0.04505333  0.04029949 -0.06798608  0.01577458  0.02517672  0.02329673\n",
            "  -0.05394373 -0.00426097  0.05461157 -0.06244151  0.0048817  -0.01503774\n",
            "  -0.05067154 -0.03584527 -0.06397668 -0.05868438  0.06279142  0.02823716\n",
            "   0.06378217  0.06403445 -0.06268167  0.04827322  0.06089305 -0.01693074\n",
            "   0.05936713 -0.02747978  0.06779589 -0.05325103 -0.05135563  0.05195202\n",
            "   0.00495453  0.01058859  0.06440743  0.0255405  -0.05989122 -0.05570804\n",
            "   0.03705343  0.06636827  0.0367526   0.01734905 -0.0268309   0.01936793\n",
            "   0.01764883  0.03890206  0.02128209  0.03295568 -0.015235   -0.04782716\n",
            "   0.06006373  0.03508161 -0.0408871   0.01495365 -0.04126076  0.05529536\n",
            "  -0.03778876 -0.00171733  0.03813479  0.01310138  0.00422803  0.02617224\n",
            "   0.06775187 -0.07014064  0.04131025 -0.00410689 -0.0048481  -0.0607234\n",
            "   0.01780395  0.01079406  0.01365519  0.04841288  0.03399591  0.01887634\n",
            "  -0.01537153  0.00627539 -0.05405176 -0.04722381 -0.06743432  0.05115648\n",
            "  -0.03578172  0.04287302  0.06324711  0.02435111 -0.0216405  -0.01701287\n",
            "   0.0295707   0.06560526  0.01601988  0.00928886 -0.01977278 -0.00451872\n",
            "  -0.0593705   0.04439314 -0.01157107 -0.0378933  -0.0234161   0.04158086\n",
            "  -0.05914209  0.01559978  0.02920004 -0.04790154  0.04963358  0.03326416\n",
            "  -0.06210412 -0.03412474  0.05676385  0.05259472  0.00217668 -0.05718097\n",
            "   0.03208261  0.06440835  0.05737842  0.06849411  0.05688459 -0.0662575\n",
            "  -0.01730051 -0.06211405  0.01260156  0.05624955  0.05144412 -0.05162324\n",
            "  -0.04770703 -0.06420577]]\n"
          ]
        }
      ]
    },
    {
      "cell_type": "markdown",
      "source": [
        "#Building and Fitting a featuer extraction model\n"
      ],
      "metadata": {
        "id": "yYJ-_KW7HBrH"
      }
    },
    {
      "cell_type": "code",
      "source": [
        "#model 2\n",
        "inputs = layers.Input(shape=[], dtype=tf.string)\n",
        "pretrained_embedding = tf_hub_embedding_layer(inputs)\n",
        "x = layers.Dense(128, activation=\"relu\")(pretrained_embedding)\n",
        "outputs = layers.Dense(5, activation=\"softmax\")(x)\n",
        "model_2 = tf.keras.Model(inputs, outputs, name=\"model2USEfeatureExtractor\")\n",
        "\n",
        "model_2.compile(loss=\"categorical_crossentropy\",\n",
        "                optimizer=tf.keras.optimizers.Adam(),\n",
        "                metrics=[\"accuracy\"])\n",
        "\n",
        "model_2_history = model_2.fit(train_dataset,\n",
        "                              epochs=3,\n",
        "                              steps_per_epoch=int(0.1 * len(train_dataset)),\n",
        "                              validation_data=val_dataset,\n",
        "                              validation_steps=(0.1 * len(val_dataset)))"
      ],
      "metadata": {
        "colab": {
          "base_uri": "https://localhost:8080/"
        },
        "id": "SM9u2tCCB85u",
        "outputId": "e9db4a64-2d6e-4432-eda9-c3f492414516"
      },
      "execution_count": 64,
      "outputs": [
        {
          "output_type": "stream",
          "name": "stdout",
          "text": [
            "Epoch 1/3\n",
            "562/562 [==============================] - 11s 15ms/step - loss: 0.9153 - accuracy: 0.6469 - val_loss: 0.8047 - val_accuracy: 0.6872\n",
            "Epoch 2/3\n",
            "562/562 [==============================] - 7s 13ms/step - loss: 0.7714 - accuracy: 0.7007 - val_loss: 0.7619 - val_accuracy: 0.6980\n",
            "Epoch 3/3\n",
            "562/562 [==============================] - 7s 12ms/step - loss: 0.7556 - accuracy: 0.7107 - val_loss: 0.7463 - val_accuracy: 0.7082\n"
          ]
        }
      ]
    },
    {
      "cell_type": "code",
      "source": [
        "model_2.summary()"
      ],
      "metadata": {
        "colab": {
          "base_uri": "https://localhost:8080/"
        },
        "id": "oUZ9HX-uC0m7",
        "outputId": "d9d60a06-6749-42f5-9d9d-1b1a0ee656eb"
      },
      "execution_count": 65,
      "outputs": [
        {
          "output_type": "stream",
          "name": "stdout",
          "text": [
            "Model: \"model2USEfeatureExtractor\"\n",
            "_________________________________________________________________\n",
            " Layer (type)                Output Shape              Param #   \n",
            "=================================================================\n",
            " input_2 (InputLayer)        [(None,)]                 0         \n",
            "                                                                 \n",
            " universal_sentence_encoder   (None, 512)              256797824 \n",
            " (KerasLayer)                                                    \n",
            "                                                                 \n",
            " dense_1 (Dense)             (None, 128)               65664     \n",
            "                                                                 \n",
            " dense_2 (Dense)             (None, 5)                 645       \n",
            "                                                                 \n",
            "=================================================================\n",
            "Total params: 256,864,133\n",
            "Trainable params: 66,309\n",
            "Non-trainable params: 256,797,824\n",
            "_________________________________________________________________\n"
          ]
        }
      ]
    },
    {
      "cell_type": "code",
      "source": [
        "model_2.evaluate(val_dataset)"
      ],
      "metadata": {
        "colab": {
          "base_uri": "https://localhost:8080/"
        },
        "id": "989nCY4oDA2J",
        "outputId": "955be194-6ac9-46fa-ba0a-62065e051e75"
      },
      "execution_count": 66,
      "outputs": [
        {
          "output_type": "stream",
          "name": "stdout",
          "text": [
            "945/945 [==============================] - 10s 11ms/step - loss: 0.7437 - accuracy: 0.7121\n"
          ]
        },
        {
          "output_type": "execute_result",
          "data": {
            "text/plain": [
              "[0.7437276840209961, 0.7120680809020996]"
            ]
          },
          "metadata": {},
          "execution_count": 66
        }
      ]
    },
    {
      "cell_type": "code",
      "source": [
        "model_2_pred_probs = model_2.predict(val_dataset)\n",
        "model_2_preds = tf.argmax(model_2_pred_probs, axis=1)\n",
        "model_2_preds"
      ],
      "metadata": {
        "colab": {
          "base_uri": "https://localhost:8080/"
        },
        "id": "5J0zEXnhDFj7",
        "outputId": "d6849037-970a-47f8-e537-31965e101f8e"
      },
      "execution_count": 67,
      "outputs": [
        {
          "output_type": "execute_result",
          "data": {
            "text/plain": [
              "<tf.Tensor: shape=(30212,), dtype=int64, numpy=array([0, 1, 3, ..., 4, 4, 2])>"
            ]
          },
          "metadata": {},
          "execution_count": 67
        }
      ]
    },
    {
      "cell_type": "code",
      "source": [
        "#calcualte reults\n",
        "model_2_results = calculate_results(y_true=val_labels_encoded,\n",
        "                                    y_pred=model_2_preds)"
      ],
      "metadata": {
        "id": "UsOnr6hQDQmr"
      },
      "execution_count": 68,
      "outputs": []
    },
    {
      "cell_type": "code",
      "source": [
        "model_2_results"
      ],
      "metadata": {
        "colab": {
          "base_uri": "https://localhost:8080/"
        },
        "id": "8Byp_QgKDXcA",
        "outputId": "3031b433-895d-4a7d-87fa-4bd8dce8c0fb"
      },
      "execution_count": 69,
      "outputs": [
        {
          "output_type": "execute_result",
          "data": {
            "text/plain": [
              "{'accuracy': 71.20680524294983,\n",
              " 'f1': 0.7090076512085657,\n",
              " 'precision': 0.7121771221358535,\n",
              " 'recall': 0.7120680524294982}"
            ]
          },
          "metadata": {},
          "execution_count": 69
        }
      ]
    },
    {
      "cell_type": "code",
      "source": [
        "baseline_results"
      ],
      "metadata": {
        "colab": {
          "base_uri": "https://localhost:8080/"
        },
        "id": "NguPibqrDfam",
        "outputId": "2040d583-45d1-4a26-b2b5-7e9424fc37b8"
      },
      "execution_count": 70,
      "outputs": [
        {
          "output_type": "execute_result",
          "data": {
            "text/plain": [
              "{'accuracy': 72.1832384482987,\n",
              " 'f1': 0.6989250353450294,\n",
              " 'precision': 0.7186466952323352,\n",
              " 'recall': 0.7218323844829869}"
            ]
          },
          "metadata": {},
          "execution_count": 70
        }
      ]
    },
    {
      "cell_type": "markdown",
      "source": [
        "#Model_3 = Conv1D with Character Embeddings"
      ],
      "metadata": {
        "id": "Fl-WH7xVDlVd"
      }
    },
    {
      "cell_type": "markdown",
      "source": [
        "###creating character level tokenization"
      ],
      "metadata": {
        "id": "0e3YpP5yEQb-"
      }
    },
    {
      "cell_type": "code",
      "source": [
        "train_sentences[:5]"
      ],
      "metadata": {
        "colab": {
          "base_uri": "https://localhost:8080/"
        },
        "id": "X6s3s3s4ETA9",
        "outputId": "b7db80f0-5b28-48fc-87b1-7834c18debaf"
      },
      "execution_count": 71,
      "outputs": [
        {
          "output_type": "execute_result",
          "data": {
            "text/plain": [
              "['to investigate the efficacy of @ weeks of daily low-dose oral prednisolone in improving pain , mobility , and systemic low-grade inflammation in the short term and whether the effect would be sustained at @ weeks in older adults with moderate to severe knee osteoarthritis ( oa ) .',\n",
              " 'a total of @ patients with primary knee oa were randomized @:@ ; @ received @ mg/day of prednisolone and @ received placebo for @ weeks .',\n",
              " 'outcome measures included pain reduction and improvement in function scores and systemic inflammation markers .',\n",
              " 'pain was assessed using the visual analog pain scale ( @-@ mm ) .',\n",
              " 'secondary outcome measures included the western ontario and mcmaster universities osteoarthritis index scores , patient global assessment ( pga ) of the severity of knee oa , and @-min walk distance ( @mwd ) .']"
            ]
          },
          "metadata": {},
          "execution_count": 71
        }
      ]
    },
    {
      "cell_type": "code",
      "source": [
        "def split_chars(text):\n",
        "  return \" \".join(list(text))"
      ],
      "metadata": {
        "id": "fYp6VgZiEUge"
      },
      "execution_count": 72,
      "outputs": []
    },
    {
      "cell_type": "code",
      "source": [
        "split_chars(random_train_sentence)"
      ],
      "metadata": {
        "colab": {
          "base_uri": "https://localhost:8080/",
          "height": 107
        },
        "id": "_eGgE8QgEZSb",
        "outputId": "49fca360-e106-4bc5-b5c2-dd5f8ae3a5f9"
      },
      "execution_count": 73,
      "outputs": [
        {
          "output_type": "execute_result",
          "data": {
            "text/plain": [
              "'i n   p l a c e b o - t r e a t e d   e y e s   ,   t h e r e   w a s   m y o p i c   p r o g r e s s i o n   o f   - @   d i o p t e r s   (   d   )   ,   b e t w e e n   b a s e l i n e   a n d   @   m o n t h s   ,   a s s o c i a t e d   w i t h   r e d u c t i o n s   i n   c o r n e a l   c u r v a t u r e   (   k   ;   - @   d   )   a n d   a n t e r i o r   c h a m b e r   d e p t h   (   a c d   ;   - @   m m   )   a n d   i n c r e a s e s   i n   l e n s   t h i c k n e s s   (   l t   ;   @   m m   )   ,   v i t r e o u s   c h a m b e r   d e p t h   (   v c d   ;   @   m m   )   ,   a n d   a x i a l   l e n g t h   (   a l   ;   @   m m   )   .'"
            ],
            "application/vnd.google.colaboratory.intrinsic+json": {
              "type": "string"
            }
          },
          "metadata": {},
          "execution_count": 73
        }
      ]
    },
    {
      "cell_type": "code",
      "source": [
        "#split sequence levle data into char level datset\n",
        "train_chars = [split_chars(sentence) for sentence in train_sentences]\n",
        "val_chars = [split_chars(sentence) for sentence in val_sentences]\n",
        "test_chars = [split_chars(sentence) for sentence in test_sentences]\n",
        "\n",
        "chars_lens = [len(sentence) for sentence in train_sentences]\n",
        "mean_char_len = np.mean(chars_lens)\n",
        "mean_char_len"
      ],
      "metadata": {
        "colab": {
          "base_uri": "https://localhost:8080/"
        },
        "id": "xbi2wn_8Ecbl",
        "outputId": "0193989c-69d2-4844-81ac-fc642d4b23f0"
      },
      "execution_count": 74,
      "outputs": [
        {
          "output_type": "execute_result",
          "data": {
            "text/plain": [
              "149.3662574983337"
            ]
          },
          "metadata": {},
          "execution_count": 74
        }
      ]
    },
    {
      "cell_type": "code",
      "source": [
        "import matplotlib.pyplot as plt\n",
        "plt.hist(chars_lens, bins=10)"
      ],
      "metadata": {
        "colab": {
          "base_uri": "https://localhost:8080/",
          "height": 372
        },
        "id": "nBmPPZXbE89y",
        "outputId": "9d929264-dbd8-4a87-b1fe-d4bfb27dde10"
      },
      "execution_count": 75,
      "outputs": [
        {
          "output_type": "execute_result",
          "data": {
            "text/plain": [
              "(array([9.2691e+04, 7.6343e+04, 9.6890e+03, 1.0890e+03, 1.6700e+02,\n",
              "        4.2000e+01, 1.3000e+01, 3.0000e+00, 2.0000e+00, 1.0000e+00]),\n",
              " array([1.0000e+00, 1.3950e+02, 2.7800e+02, 4.1650e+02, 5.5500e+02,\n",
              "        6.9350e+02, 8.3200e+02, 9.7050e+02, 1.1090e+03, 1.2475e+03,\n",
              "        1.3860e+03]),\n",
              " <a list of 10 Patch objects>)"
            ]
          },
          "metadata": {},
          "execution_count": 75
        },
        {
          "output_type": "display_data",
          "data": {
            "text/plain": [
              "<Figure size 432x288 with 1 Axes>"
            ],
            "image/png": "[encoded data removed]"
          },
          "metadata": {
            "needs_background": "light"
          }
        }
      ]
    },
    {
      "cell_type": "code",
      "source": [
        "#Find what character length covers 95% of sequences\n",
        "output_seq_char_len = int(np.percentile(chars_lens, 95))\n",
        "output_seq_char_len"
      ],
      "metadata": {
        "colab": {
          "base_uri": "https://localhost:8080/"
        },
        "id": "c7uG2Pn7FBDt",
        "outputId": "e6c7036c-3de7-4286-f138-1bec3fe32a50"
      },
      "execution_count": 76,
      "outputs": [
        {
          "output_type": "execute_result",
          "data": {
            "text/plain": [
              "290"
            ]
          },
          "metadata": {},
          "execution_count": 76
        }
      ]
    },
    {
      "cell_type": "code",
      "source": [
        "#get all keyboard characters\n",
        "import string\n",
        "alphabet = string.ascii_lowercase + string.digits + string.punctuation\n",
        "\n",
        "NUM_CHAR_TOKENS = len(alphabet) + 2 #add 2 for space and UNK\n",
        "char_vectorizer = TextVectorization(max_tokens=NUM_CHAR_TOKENS,\n",
        "                                    output_sequence_length=output_seq_char_len,\n",
        "                                    #standardize=None,\n",
        "                                    name=\"char_vectorizer\")"
      ],
      "metadata": {
        "id": "iZ5yhZnoFKmk"
      },
      "execution_count": 77,
      "outputs": []
    },
    {
      "cell_type": "code",
      "source": [
        "#adapt character vectorizer to tarining characters\n",
        "char_vectorizer.adapt(train_chars)"
      ],
      "metadata": {
        "id": "Ia2a3ghvF2OR"
      },
      "execution_count": 78,
      "outputs": []
    },
    {
      "cell_type": "code",
      "source": [
        "char_vocab = char_vectorizer.get_vocabulary()\n",
        "print(f\"Nmber of different character in charactervocab: {len(char_vocab)}\")\n",
        "print(f\"most common chars : {char_vocab[:5]}\")\n",
        "print(f\"Least common; {char_vocab[-5:]}\")"
      ],
      "metadata": {
        "colab": {
          "base_uri": "https://localhost:8080/"
        },
        "id": "AIFAU_ioF8js",
        "outputId": "3b3c5f91-029b-41cb-f55d-fd7fd12c7c7c"
      },
      "execution_count": 79,
      "outputs": [
        {
          "output_type": "stream",
          "name": "stdout",
          "text": [
            "Nmber of different character in charactervocab: 28\n",
            "most common chars : ['', '[UNK]', 'e', 't', 'i']\n",
            "Least common; ['k', 'x', 'z', 'q', 'j']\n"
          ]
        }
      ]
    },
    {
      "cell_type": "code",
      "source": [
        "random_train_chars = random.choice(train_chars)\n",
        "print(f\"Charified text: \\n {random_train_chars}\")\n",
        "print(f\"Length of ranodm_train_chares: {len(random_train_chars.split())}\")\n",
        "vectorized_chars = char_vectorizer([random_train_chars])\n",
        "print(f\"Vectorized Chars : {vectorized_chars}\")\n",
        "print(f\"Length of vectorized chars: {len(vectorized_chars[0])}\")\n"
      ],
      "metadata": {
        "colab": {
          "base_uri": "https://localhost:8080/"
        },
        "id": "z2xth9axGMuu",
        "outputId": "3c13cae8-c196-40d9-b25e-218db43bf9ea"
      },
      "execution_count": 80,
      "outputs": [
        {
          "output_type": "stream",
          "name": "stdout",
          "text": [
            "Charified text: \n",
            " v i s c e r a l   p l e u r a l   c o v e r a g e   m a y   p o t e n t i a l l y   r e p l a c e   m e c h a n i c a l   p l e u r o d e s i s   ,   w h i c h   h a s   p o t e n t i a l   d i s a d v a n t a g e s   s u c h   a s   d i s t u r b e d   n o r m a l   p l e u r a l   p h y s i o l o g y   .\n",
            "Length of ranodm_train_chares: 135\n",
            "Vectorized Chars : [[21  4  9 11  2  8  5 12 14 12  2 16  8  5 12 11  7 21  2  8  5 18  2 15\n",
            "   5 19 14  7  3  2  6  3  4  5 12 12 19  8  2 14 12  5 11  2 15  2 11 13\n",
            "   5  6  4 11  5 12 14 12  2 16  8  7 10  2  9  4  9 20 13  4 11 13 13  5\n",
            "   9 14  7  3  2  6  3  4  5 12 10  4  9  5 10 21  5  6  3  5 18  2  9  9\n",
            "  16 11 13  5  9 10  4  9  3 16  8 22  2 10  6  7  8 15  5 12 14 12  2 16\n",
            "   8  5 12 14 13 19  9  4  7 12  7 18 19  0  0  0  0  0  0  0  0  0  0  0\n",
            "   0  0  0  0  0  0  0  0  0  0  0  0  0  0  0  0  0  0  0  0  0  0  0  0\n",
            "   0  0  0  0  0  0  0  0  0  0  0  0  0  0  0  0  0  0  0  0  0  0  0  0\n",
            "   0  0  0  0  0  0  0  0  0  0  0  0  0  0  0  0  0  0  0  0  0  0  0  0\n",
            "   0  0  0  0  0  0  0  0  0  0  0  0  0  0  0  0  0  0  0  0  0  0  0  0\n",
            "   0  0  0  0  0  0  0  0  0  0  0  0  0  0  0  0  0  0  0  0  0  0  0  0\n",
            "   0  0  0  0  0  0  0  0  0  0  0  0  0  0  0  0  0  0  0  0  0  0  0  0\n",
            "   0  0]]\n",
            "Length of vectorized chars: 290\n"
          ]
        }
      ]
    },
    {
      "cell_type": "code",
      "source": [
        "## creating a character level embedding\n",
        "char_embed = layers.Embedding(input_dim=len(char_vocab),\n",
        "                              output_dim=25,\n",
        "                              mask_zero=True,\n",
        "                              name=\"char_embed\")"
      ],
      "metadata": {
        "id": "Lj7gGZibGyUi"
      },
      "execution_count": 81,
      "outputs": []
    },
    {
      "cell_type": "code",
      "source": [
        "print(f\"Charified text: \\n {random_train_chars}\")\n",
        "char_embed_example = char_embed(char_vectorizer([random_train_chars]))\n",
        "print(f\"Embedded chars. : {char_embed_example}\")\n",
        "print(f\"Embeddes shape: {char_embed_example.shape}\")"
      ],
      "metadata": {
        "colab": {
          "base_uri": "https://localhost:8080/"
        },
        "id": "SgcQtw7fHh8s",
        "outputId": "2668c7ae-edb6-4452-9290-f9c3a53a67a2"
      },
      "execution_count": 82,
      "outputs": [
        {
          "output_type": "stream",
          "name": "stdout",
          "text": [
            "Charified text: \n",
            " v i s c e r a l   p l e u r a l   c o v e r a g e   m a y   p o t e n t i a l l y   r e p l a c e   m e c h a n i c a l   p l e u r o d e s i s   ,   w h i c h   h a s   p o t e n t i a l   d i s a d v a n t a g e s   s u c h   a s   d i s t u r b e d   n o r m a l   p l e u r a l   p h y s i o l o g y   .\n",
            "Embedded chars. : [[[-0.00406899 -0.04370325 -0.02115023 ... -0.00140188 -0.04201155\n",
            "   -0.0140548 ]\n",
            "  [ 0.00173227  0.01648256 -0.04245231 ... -0.01353275 -0.03954243\n",
            "   -0.02448555]\n",
            "  [-0.01730124  0.04742961 -0.00891385 ...  0.02497855 -0.04194057\n",
            "    0.01876047]\n",
            "  ...\n",
            "  [-0.02080196 -0.01440728 -0.04923754 ...  0.02928973 -0.0481666\n",
            "    0.00265161]\n",
            "  [-0.02080196 -0.01440728 -0.04923754 ...  0.02928973 -0.0481666\n",
            "    0.00265161]\n",
            "  [-0.02080196 -0.01440728 -0.04923754 ...  0.02928973 -0.0481666\n",
            "    0.00265161]]]\n",
            "Embeddes shape: (1, 290, 25)\n"
          ]
        }
      ]
    },
    {
      "cell_type": "code",
      "source": [
        "#model_3\n",
        "inputs = layers.Input(shape=(1,), dtype=tf.string)\n",
        "char_vectors = char_vectorizer(inputs)\n",
        "char_embeddings = char_embed(char_vectors)\n",
        "x = layers.Conv1D(64, kernel_size=5, padding=\"same\", activation=\"relu\")(char_embeddings)\n",
        "x = layers.GlobalMaxPool1D()(x)\n",
        "outputs = layers.Dense(5, activation=\"softmax\")(x)\n",
        "model_3 = tf.keras.Model(inputs=inputs,\n",
        "                         outputs=outputs,\n",
        "                         name=\"model_3_conv1d_char_embedding\")"
      ],
      "metadata": {
        "id": "fgRSNVcAHzV4"
      },
      "execution_count": 83,
      "outputs": []
    },
    {
      "cell_type": "code",
      "source": [
        "model_3.summary()"
      ],
      "metadata": {
        "colab": {
          "base_uri": "https://localhost:8080/"
        },
        "id": "I5SZqUihIu4M",
        "outputId": "00a7bccd-8f63-4f04-c9cb-19e15a6302be"
      },
      "execution_count": 84,
      "outputs": [
        {
          "output_type": "stream",
          "name": "stdout",
          "text": [
            "Model: \"model_3_conv1d_char_embedding\"\n",
            "_________________________________________________________________\n",
            " Layer (type)                Output Shape              Param #   \n",
            "=================================================================\n",
            " input_3 (InputLayer)        [(None, 1)]               0         \n",
            "                                                                 \n",
            " char_vectorizer (TextVector  (None, 290)              0         \n",
            " ization)                                                        \n",
            "                                                                 \n",
            " char_embed (Embedding)      (None, 290, 25)           700       \n",
            "                                                                 \n",
            " conv1d_1 (Conv1D)           (None, 290, 64)           8064      \n",
            "                                                                 \n",
            " global_max_pooling1d (Globa  (None, 64)               0         \n",
            " lMaxPooling1D)                                                  \n",
            "                                                                 \n",
            " dense_3 (Dense)             (None, 5)                 325       \n",
            "                                                                 \n",
            "=================================================================\n",
            "Total params: 9,089\n",
            "Trainable params: 9,089\n",
            "Non-trainable params: 0\n",
            "_________________________________________________________________\n"
          ]
        }
      ]
    },
    {
      "cell_type": "code",
      "source": [
        "#Create char level datsets\n",
        "train_char_dataset = tf.data.Dataset.from_tensor_slices((train_chars, train_labels_one_hot)).batch(32).prefetch(tf.data.AUTOTUNE)\n",
        "val_char_dataset = tf.data.Dataset.from_tensor_slices((val_chars, val_labels_one_hot)).batch(32).prefetch(tf.data.AUTOTUNE)\n",
        "test_char_dataset = tf.data.Dataset.from_tensor_slices((test_chars, test_labels_one_hot)).batch(32).prefetch(tf.data.AUTOTUNE)"
      ],
      "metadata": {
        "id": "3_WKW-iZIv3D"
      },
      "execution_count": 85,
      "outputs": []
    },
    {
      "cell_type": "code",
      "source": [
        "train_char_dataset"
      ],
      "metadata": {
        "colab": {
          "base_uri": "https://localhost:8080/"
        },
        "id": "HpMRilpHJJ2v",
        "outputId": "6375630e-55a3-40ab-ea65-f549ef1a5cae"
      },
      "execution_count": 86,
      "outputs": [
        {
          "output_type": "execute_result",
          "data": {
            "text/plain": [
              "<PrefetchDataset element_spec=(TensorSpec(shape=(None,), dtype=tf.string, name=None), TensorSpec(shape=(None, 5), dtype=tf.float64, name=None))>"
            ]
          },
          "metadata": {},
          "execution_count": 86
        }
      ]
    },
    {
      "cell_type": "code",
      "source": [
        "#Fit the model on chars only\n",
        "model_3.compile(loss=\"categorical_crossentropy\",\n",
        "                optimizer=tf.keras.optimizers.Adam(),\n",
        "                metrics=[\"accuracy\"])\n",
        "\n",
        "model_3_history = model_3.fit(train_char_dataset,\n",
        "                              steps_per_epoch=int(0.1*len(train_char_dataset)),\n",
        "                              epochs=3,\n",
        "                              validation_data=val_char_dataset,\n",
        "                              validation_steps=int(0.1*len(val_char_dataset)))"
      ],
      "metadata": {
        "colab": {
          "base_uri": "https://localhost:8080/"
        },
        "id": "zw-Mv8bUJP5q",
        "outputId": "4f05bcea-f080-4499-f5a2-31bf4d9cf9b4"
      },
      "execution_count": 87,
      "outputs": [
        {
          "output_type": "stream",
          "name": "stdout",
          "text": [
            "Epoch 1/3\n",
            "562/562 [==============================] - 4s 6ms/step - loss: 1.2531 - accuracy: 0.4948 - val_loss: 1.0263 - val_accuracy: 0.5921\n",
            "Epoch 2/3\n",
            "562/562 [==============================] - 3s 6ms/step - loss: 0.9892 - accuracy: 0.6023 - val_loss: 0.9222 - val_accuracy: 0.6413\n",
            "Epoch 3/3\n",
            "562/562 [==============================] - 3s 5ms/step - loss: 0.9079 - accuracy: 0.6452 - val_loss: 0.8498 - val_accuracy: 0.6848\n"
          ]
        }
      ]
    },
    {
      "cell_type": "code",
      "source": [
        "model_3_pred_probs = model_3.predict(val_char_dataset)\n",
        "model_3_preds = tf.argmax(model_3_pred_probs, axis=1)\n",
        "model_3_preds"
      ],
      "metadata": {
        "colab": {
          "base_uri": "https://localhost:8080/"
        },
        "id": "CAKgR2ASJs3W",
        "outputId": "f26ab9bd-4f0a-45a2-f7da-5395ebc7b937"
      },
      "execution_count": 88,
      "outputs": [
        {
          "output_type": "execute_result",
          "data": {
            "text/plain": [
              "<tf.Tensor: shape=(30212,), dtype=int64, numpy=array([3, 1, 3, ..., 4, 4, 1])>"
            ]
          },
          "metadata": {},
          "execution_count": 88
        }
      ]
    },
    {
      "cell_type": "code",
      "source": [
        "model_3_results = calculate_results(val_labels_encoded,\n",
        "                                    model_3_preds)\n",
        "model_3_results"
      ],
      "metadata": {
        "colab": {
          "base_uri": "https://localhost:8080/"
        },
        "id": "HkUqmfiJKKaf",
        "outputId": "5a0e9896-0fb4-4c99-dfed-0422ae530a97"
      },
      "execution_count": 89,
      "outputs": [
        {
          "output_type": "execute_result",
          "data": {
            "text/plain": [
              "{'accuracy': 66.49013636965444,\n",
              " 'f1': 0.6558771428927999,\n",
              " 'precision': 0.6618654847497041,\n",
              " 'recall': 0.6649013636965444}"
            ]
          },
          "metadata": {},
          "execution_count": 89
        }
      ]
    },
    {
      "cell_type": "code",
      "source": [
        "## Model 4: combining pretrianed token embeddings + characters embeddings\n",
        "token_inputs = layers.Input(shape=[], dtype=tf.string, name=\"token_input\")\n",
        "token_embeddings = tf_hub_embedding_layer(token_inputs)\n",
        "token_outputs = layers.Dense(128, activation=\"relu\")(token_embeddings)\n",
        "token_model = tf.keras.Model(inputs=token_inputs,\n",
        "                             outputs=token_outputs)\n",
        "\n",
        "char_inputs = layers.Input(shape=(1,), dtype=tf.string, name=\"char_input\")\n",
        "char_vectors = char_vectorizer(char_inputs)\n",
        "char_embeddings = char_embed(char_vectors)\n",
        "char_bi_lstm = layers.Bidirectional(layers.LSTM(24))(char_embeddings)\n",
        "char_model = tf.keras.Model(inputs=char_inputs,\n",
        "                            outputs=char_bi_lstm)"
      ],
      "metadata": {
        "id": "sE6XftF6Kotg"
      },
      "execution_count": 90,
      "outputs": []
    },
    {
      "cell_type": "code",
      "source": [
        "#using tf.keras.layers.Concatenate\n",
        "token_char_concat = layers.Concatenate(name=\"tokenc_char_hybrid\")([token_model.output,\n",
        "                                                                   char_model.output])\n",
        "\n",
        "#create output layers\n",
        "combined_dropout = layers.Dropout(0.5)(token_char_concat)\n",
        "combined_dense = layers.Dense(128, activation=\"relu\")(combined_dropout)\n",
        "final_dropout = layers.Dropout(0.5)(combined_dense)\n",
        "output_layer = layers.Dense(5, activation=\"softmax\")(final_dropout)\n",
        "\n",
        "model_4 = tf.keras.Model(inputs=[token_model.input, char_model.input],\n",
        "                         outputs=output_layer,\n",
        "                         name=\"model_4_token_and_char_embeddings\")"
      ],
      "metadata": {
        "id": "SrH7UT0beoNl"
      },
      "execution_count": 91,
      "outputs": []
    },
    {
      "cell_type": "code",
      "source": [
        "model_4.summary()\n",
        "model_4.compile(loss=\"categorical_crossentropy\",\n",
        "                optimizer=tf.keras.optimizers.Adam(),\n",
        "                metrics=[\"accuracy\"])\n",
        "\n"
      ],
      "metadata": {
        "colab": {
          "base_uri": "https://localhost:8080/"
        },
        "id": "JVZIZkdGf-SH",
        "outputId": "c3b837aa-7ed8-45e5-e7f9-80ee793341cb"
      },
      "execution_count": 92,
      "outputs": [
        {
          "output_type": "stream",
          "name": "stdout",
          "text": [
            "Model: \"model_4_token_and_char_embeddings\"\n",
            "__________________________________________________________________________________________________\n",
            " Layer (type)                   Output Shape         Param #     Connected to                     \n",
            "==================================================================================================\n",
            " char_input (InputLayer)        [(None, 1)]          0           []                               \n",
            "                                                                                                  \n",
            " token_input (InputLayer)       [(None,)]            0           []                               \n",
            "                                                                                                  \n",
            " char_vectorizer (TextVectoriza  (None, 290)         0           ['char_input[0][0]']             \n",
            " tion)                                                                                            \n",
            "                                                                                                  \n",
            " universal_sentence_encoder (Ke  (None, 512)         256797824   ['token_input[0][0]']            \n",
            " rasLayer)                                                                                        \n",
            "                                                                                                  \n",
            " char_embed (Embedding)         (None, 290, 25)      700         ['char_vectorizer[1][0]']        \n",
            "                                                                                                  \n",
            " dense_4 (Dense)                (None, 128)          65664       ['universal_sentence_encoder[1][0\n",
            "                                                                 ]']                              \n",
            "                                                                                                  \n",
            " bidirectional (Bidirectional)  (None, 48)           9600        ['char_embed[1][0]']             \n",
            "                                                                                                  \n",
            " tokenc_char_hybrid (Concatenat  (None, 176)         0           ['dense_4[0][0]',                \n",
            " e)                                                               'bidirectional[0][0]']          \n",
            "                                                                                                  \n",
            " dropout (Dropout)              (None, 176)          0           ['tokenc_char_hybrid[0][0]']     \n",
            "                                                                                                  \n",
            " dense_5 (Dense)                (None, 128)          22656       ['dropout[0][0]']                \n",
            "                                                                                                  \n",
            " dropout_1 (Dropout)            (None, 128)          0           ['dense_5[0][0]']                \n",
            "                                                                                                  \n",
            " dense_6 (Dense)                (None, 5)            645         ['dropout_1[0][0]']              \n",
            "                                                                                                  \n",
            "==================================================================================================\n",
            "Total params: 256,897,089\n",
            "Trainable params: 99,265\n",
            "Non-trainable params: 256,797,824\n",
            "__________________________________________________________________________________________________\n"
          ]
        }
      ]
    },
    {
      "cell_type": "code",
      "source": [
        "from keras.utils.vis_utils import plot_model"
      ],
      "metadata": {
        "id": "0Wak6NUrgK-1"
      },
      "execution_count": 93,
      "outputs": []
    },
    {
      "cell_type": "code",
      "source": [
        "plot_model(model_4)"
      ],
      "metadata": {
        "colab": {
          "base_uri": "https://localhost:8080/",
          "height": 856
        },
        "id": "1rjqn9hygqjp",
        "outputId": "80841d4c-4512-4f0a-ff3d-342806044fb1"
      },
      "execution_count": 94,
      "outputs": [
        {
          "output_type": "execute_result",
          "data": {
            "text/plain": [
              "<IPython.core.display.Image object>"
            ],
            "image/png": "[encoded data removed]"
          },
          "metadata": {},
          "execution_count": 94
        }
      ]
    },
    {
      "cell_type": "code",
      "source": [
        "### combining char and token datasets\n",
        "train_char_token_data = tf.data.Dataset.from_tensor_slices((train_sentences, train_chars))\n",
        "train_char_token_labels = tf.data.Dataset.from_tensor_slices(train_labels_one_hot)\n",
        "train_char_token_dataset = tf.data.Dataset.zip((train_char_token_data, train_char_token_labels))\n",
        "\n",
        "#prefetching\n",
        "train_char_token_dataset = train_char_token_dataset.batch(32).prefetch(tf.data.AUTOTUNE)"
      ],
      "metadata": {
        "id": "YCrZ0Qg5g85o"
      },
      "execution_count": 95,
      "outputs": []
    },
    {
      "cell_type": "code",
      "source": [
        "### combining char and token datasets\n",
        "val_char_token_data = tf.data.Dataset.from_tensor_slices((val_sentences, val_chars))\n",
        "val_char_token_labels = tf.data.Dataset.from_tensor_slices(val_labels_one_hot)\n",
        "val_char_token_dataset = tf.data.Dataset.zip((val_char_token_data, val_char_token_labels))\n",
        "\n",
        "#prefetching\n",
        "val_char_token_dataset = val_char_token_dataset.batch(32).prefetch(tf.data.AUTOTUNE)"
      ],
      "metadata": {
        "id": "1rGqvh-6ihjz"
      },
      "execution_count": 96,
      "outputs": []
    },
    {
      "cell_type": "code",
      "source": [
        "train_char_token_dataset, val_char_token_dataset"
      ],
      "metadata": {
        "colab": {
          "base_uri": "https://localhost:8080/"
        },
        "id": "DQ7GnQPZjF6b",
        "outputId": "ea0d7fb7-4b31-44c2-cbd4-f6d004e21164"
      },
      "execution_count": 97,
      "outputs": [
        {
          "output_type": "execute_result",
          "data": {
            "text/plain": [
              "(<PrefetchDataset element_spec=((TensorSpec(shape=(None,), dtype=tf.string, name=None), TensorSpec(shape=(None,), dtype=tf.string, name=None)), TensorSpec(shape=(None, 5), dtype=tf.float64, name=None))>,\n",
              " <PrefetchDataset element_spec=((TensorSpec(shape=(None,), dtype=tf.string, name=None), TensorSpec(shape=(None,), dtype=tf.string, name=None)), TensorSpec(shape=(None, 5), dtype=tf.float64, name=None))>)"
            ]
          },
          "metadata": {},
          "execution_count": 97
        }
      ]
    },
    {
      "cell_type": "markdown",
      "source": [
        "###Fitting a model"
      ],
      "metadata": {
        "id": "MHWdadJUjKUR"
      }
    },
    {
      "cell_type": "code",
      "source": [
        "history_model_4 = model_4.fit(train_char_token_dataset,\n",
        "                              steps_per_epoch=int(0.1*len(train_char_token_dataset)),\n",
        "                              epochs=3,\n",
        "                              validation_data=val_char_token_dataset,\n",
        "                              validation_steps=int(0.1*len(val_char_token_dataset)))"
      ],
      "metadata": {
        "colab": {
          "base_uri": "https://localhost:8080/"
        },
        "id": "t880EX74jaji",
        "outputId": "b790b6dd-3b20-4768-c3b5-4ea169a7c559"
      },
      "execution_count": 98,
      "outputs": [
        {
          "output_type": "stream",
          "name": "stdout",
          "text": [
            "Epoch 1/3\n",
            "562/562 [==============================] - 40s 57ms/step - loss: 0.9870 - accuracy: 0.6073 - val_loss: 0.7759 - val_accuracy: 0.7058\n",
            "Epoch 2/3\n",
            "562/562 [==============================] - 28s 51ms/step - loss: 0.8017 - accuracy: 0.6906 - val_loss: 0.7097 - val_accuracy: 0.7294\n",
            "Epoch 3/3\n",
            "562/562 [==============================] - 26s 46ms/step - loss: 0.7702 - accuracy: 0.7066 - val_loss: 0.6908 - val_accuracy: 0.7427\n"
          ]
        }
      ]
    },
    {
      "cell_type": "code",
      "source": [
        "model_4_pred_probs = model_4.predict(val_char_token_dataset)\n",
        "model_4_preds = tf.argmax(model_4_pred_probs, axis=1)\n",
        "model_4_results = calculate_results(val_labels_encoded,\n",
        "                                    model_4_preds)"
      ],
      "metadata": {
        "id": "mOUouM6Cjouq"
      },
      "execution_count": 99,
      "outputs": []
    },
    {
      "cell_type": "code",
      "source": [
        "model_4_results"
      ],
      "metadata": {
        "colab": {
          "base_uri": "https://localhost:8080/"
        },
        "id": "Q7NJP9FmkdJZ",
        "outputId": "6a69aacb-2301-4754-820a-42b5c34aa9c2"
      },
      "execution_count": 100,
      "outputs": [
        {
          "output_type": "execute_result",
          "data": {
            "text/plain": [
              "{'accuracy': 73.60320402489077,\n",
              " 'f1': 0.7335557643375884,\n",
              " 'precision': 0.7360401686856171,\n",
              " 'recall': 0.7360320402489077}"
            ]
          },
          "metadata": {},
          "execution_count": 100
        }
      ]
    },
    {
      "cell_type": "code",
      "source": [
        "#Creating positional embeddings\n",
        "train_df[\"line_number\"].value_counts()"
      ],
      "metadata": {
        "id": "jCsnsO36kd8b",
        "colab": {
          "base_uri": "https://localhost:8080/"
        },
        "outputId": "315f698e-5e18-4d88-f6f6-5385d5eac3f1"
      },
      "execution_count": 101,
      "outputs": [
        {
          "output_type": "execute_result",
          "data": {
            "text/plain": [
              "0     15000\n",
              "1     15000\n",
              "2     15000\n",
              "3     15000\n",
              "4     14992\n",
              "5     14949\n",
              "6     14758\n",
              "7     14279\n",
              "8     13346\n",
              "9     11981\n",
              "10    10041\n",
              "11     7892\n",
              "12     5853\n",
              "13     4152\n",
              "14     2835\n",
              "15     1861\n",
              "16     1188\n",
              "17      751\n",
              "18      462\n",
              "19      286\n",
              "20      162\n",
              "21      101\n",
              "22       66\n",
              "23       33\n",
              "24       22\n",
              "25       14\n",
              "26        7\n",
              "27        4\n",
              "28        3\n",
              "29        1\n",
              "30        1\n",
              "Name: line_number, dtype: int64"
            ]
          },
          "metadata": {},
          "execution_count": 101
        }
      ]
    },
    {
      "cell_type": "code",
      "source": [
        "#Distribution of line numebr column\n",
        "train_df.line_number.plot.hist()"
      ],
      "metadata": {
        "colab": {
          "base_uri": "https://localhost:8080/",
          "height": 283
        },
        "id": "7Vt9jJ18IBsg",
        "outputId": "e91271a5-43de-4103-9d29-437bb657cec3"
      },
      "execution_count": 102,
      "outputs": [
        {
          "output_type": "execute_result",
          "data": {
            "text/plain": [
              "<matplotlib.axes._subplots.AxesSubplot at 0x7f8aaa472550>"
            ]
          },
          "metadata": {},
          "execution_count": 102
        },
        {
          "output_type": "display_data",
          "data": {
            "text/plain": [
              "<Figure size 432x288 with 1 Axes>"
            ],
            "image/png": "[encoded data removed]"
          },
          "metadata": {
            "needs_background": "light"
          }
        }
      ]
    },
    {
      "cell_type": "code",
      "source": [
        "#using tensorflow to create one hot encoded tensors\n",
        "train_line_numbers_one_hot = tf.one_hot(train_df[\"line_number\"].to_numpy(), depth=15)\n",
        "val_line_numbers_one_hot = tf.one_hot(val_df[\"line_number\"].to_numpy(), depth=15)\n",
        "test_line_numbers_one_hot = tf.one_hot(test_df[\"line_number\"].to_numpy(), depth=15)\n",
        "\n",
        "train_line_numbers_one_hot[:10], train_line_numbers_one_hot.shape"
      ],
      "metadata": {
        "colab": {
          "base_uri": "https://localhost:8080/"
        },
        "id": "MPAgzrB5IRVt",
        "outputId": "24ef2f0b-e41d-4bbc-f244-318491129584"
      },
      "execution_count": 103,
      "outputs": [
        {
          "output_type": "execute_result",
          "data": {
            "text/plain": [
              "(<tf.Tensor: shape=(10, 15), dtype=float32, numpy=\n",
              " array([[1., 0., 0., 0., 0., 0., 0., 0., 0., 0., 0., 0., 0., 0., 0.],\n",
              "        [0., 1., 0., 0., 0., 0., 0., 0., 0., 0., 0., 0., 0., 0., 0.],\n",
              "        [0., 0., 1., 0., 0., 0., 0., 0., 0., 0., 0., 0., 0., 0., 0.],\n",
              "        [0., 0., 0., 1., 0., 0., 0., 0., 0., 0., 0., 0., 0., 0., 0.],\n",
              "        [0., 0., 0., 0., 1., 0., 0., 0., 0., 0., 0., 0., 0., 0., 0.],\n",
              "        [0., 0., 0., 0., 0., 1., 0., 0., 0., 0., 0., 0., 0., 0., 0.],\n",
              "        [0., 0., 0., 0., 0., 0., 1., 0., 0., 0., 0., 0., 0., 0., 0.],\n",
              "        [0., 0., 0., 0., 0., 0., 0., 1., 0., 0., 0., 0., 0., 0., 0.],\n",
              "        [0., 0., 0., 0., 0., 0., 0., 0., 1., 0., 0., 0., 0., 0., 0.],\n",
              "        [0., 0., 0., 0., 0., 0., 0., 0., 0., 1., 0., 0., 0., 0., 0.]],\n",
              "       dtype=float32)>, TensorShape([180040, 15]))"
            ]
          },
          "metadata": {},
          "execution_count": 103
        }
      ]
    },
    {
      "cell_type": "code",
      "source": [
        "train_df.total_lines.plot.hist()"
      ],
      "metadata": {
        "colab": {
          "base_uri": "https://localhost:8080/",
          "height": 285
        },
        "id": "bd57bECzIml6",
        "outputId": "c3eb95e6-4834-4e2e-d32b-a3f051b560a3"
      },
      "execution_count": 104,
      "outputs": [
        {
          "output_type": "execute_result",
          "data": {
            "text/plain": [
              "<matplotlib.axes._subplots.AxesSubplot at 0x7f8ae73fa210>"
            ]
          },
          "metadata": {},
          "execution_count": 104
        },
        {
          "output_type": "display_data",
          "data": {
            "text/plain": [
              "<Figure size 432x288 with 1 Axes>"
            ],
            "image/png": "[encoded data removed]"
          },
          "metadata": {
            "needs_background": "light"
          }
        }
      ]
    },
    {
      "cell_type": "code",
      "source": [
        "train_total_lines_one_hot = tf.one_hot(train_df[\"total_lines\"].to_numpy(), depth=20)\n",
        "val_total_lines_one_hot = tf.one_hot(val_df[\"total_lines\"].to_numpy(), depth=20)\n",
        "test_total_lines_one_hot = tf.one_hot(test_df[\"total_lines\"].to_numpy(), depth=20)"
      ],
      "metadata": {
        "id": "uM_cWTumJA_j"
      },
      "execution_count": 105,
      "outputs": []
    },
    {
      "cell_type": "code",
      "source": [
        "train_total_lines_one_hot, train_total_lines_one_hot.shape"
      ],
      "metadata": {
        "colab": {
          "base_uri": "https://localhost:8080/"
        },
        "id": "lHZyMSotJ6m7",
        "outputId": "9b347de3-e9c5-4c67-8e80-aedfe8ec650b"
      },
      "execution_count": 106,
      "outputs": [
        {
          "output_type": "execute_result",
          "data": {
            "text/plain": [
              "(<tf.Tensor: shape=(180040, 20), dtype=float32, numpy=\n",
              " array([[0., 0., 0., ..., 0., 0., 0.],\n",
              "        [0., 0., 0., ..., 0., 0., 0.],\n",
              "        [0., 0., 0., ..., 0., 0., 0.],\n",
              "        ...,\n",
              "        [0., 0., 0., ..., 0., 0., 0.],\n",
              "        [0., 0., 0., ..., 0., 0., 0.],\n",
              "        [0., 0., 0., ..., 0., 0., 0.]], dtype=float32)>,\n",
              " TensorShape([180040, 20]))"
            ]
          },
          "metadata": {},
          "execution_count": 106
        }
      ]
    },
    {
      "cell_type": "code",
      "source": [
        "token_inputs = layers.Input(shape=[], dtype=tf.string, name=\"token_input\")\n",
        "token_embeddings = tf_hub_embedding_layer(token_inputs)\n",
        "token_outputs = layers.Dense(128, activation=\"relu\")(token_embeddings)\n",
        "token_model = tf.keras.Model(inputs=token_inputs,\n",
        "                             outputs=token_outputs)\n",
        "\n",
        "char_inputs = layers.Input(shape=(1,), dtype=tf.string, name=\"char_input\")\n",
        "char_vectors = char_vectorizer(char_inputs)\n",
        "char_embeddings = char_embed(char_vectors)\n",
        "char_bi_lstm = layers.Bidirectional(layers.LSTM(24))(char_embeddings)\n",
        "char_model = tf.keras.Model(inputs=char_inputs,\n",
        "                            outputs=char_bi_lstm)\n",
        "\n",
        "line_number_inputs = layers.Input(shape=(15,), dtype=tf.float32, name=\"line_number_input\")\n",
        "x = layers.Dense(32, activation=\"relu\")(line_number_inputs)\n",
        "line_number_model = tf.keras.Model(inputs=line_number_inputs,\n",
        "                                   outputs=x)\n",
        "\n",
        "total_lines_inputs = layers.Input(shape=(20,), dtype=tf.float32, name=\"total_lines_inputs\")\n",
        "y = layers.Dense(32, activation=\"relu\")(total_lines_inputs)\n",
        "total_lines_model = tf.keras.Model(inputs=total_lines_inputs,\n",
        "                                   outputs=y)\n",
        "\n",
        "combined_embeddings = layers.Concatenate(name=\"char_token_hybnrid\")([token_model.output,\n",
        "                                                                     char_model.output])\n",
        "\n",
        "z = layers.Dense(256, activation=\"relu\")(combined_embeddings)\n",
        "z = layers.Dropout(0.5)(z)\n",
        "\n",
        "tribrid_embeddings = layers.Concatenate(name=\"char_token_positional\")([line_number_model.output,\n",
        "                                                                       total_lines_model.output,\n",
        "                                                                       z])\n",
        "\n",
        "output_layer = layers.Dense(5, activation=\"softmax\", name=\"output_layer\")(tribrid_embeddings)\n",
        "\n",
        "model_5 = tf.keras.Model(inputs=[line_number_model.input,\n",
        "                                 total_lines_model.input,\n",
        "                                 token_model.input,\n",
        "                                 char_model.input],\n",
        "                         outputs=output_layer)"
      ],
      "metadata": {
        "id": "ZAhnS86gJ9fC"
      },
      "execution_count": 107,
      "outputs": []
    },
    {
      "cell_type": "code",
      "source": [
        "model_5.summary()"
      ],
      "metadata": {
        "colab": {
          "base_uri": "https://localhost:8080/"
        },
        "id": "4i4NO2x5MJk3",
        "outputId": "7b3f491b-c039-40e2-fb99-690058f2203d"
      },
      "execution_count": 108,
      "outputs": [
        {
          "output_type": "stream",
          "name": "stdout",
          "text": [
            "Model: \"model_7\"\n",
            "__________________________________________________________________________________________________\n",
            " Layer (type)                   Output Shape         Param #     Connected to                     \n",
            "==================================================================================================\n",
            " char_input (InputLayer)        [(None, 1)]          0           []                               \n",
            "                                                                                                  \n",
            " token_input (InputLayer)       [(None,)]            0           []                               \n",
            "                                                                                                  \n",
            " char_vectorizer (TextVectoriza  (None, 290)         0           ['char_input[0][0]']             \n",
            " tion)                                                                                            \n",
            "                                                                                                  \n",
            " universal_sentence_encoder (Ke  (None, 512)         256797824   ['token_input[0][0]']            \n",
            " rasLayer)                                                                                        \n",
            "                                                                                                  \n",
            " char_embed (Embedding)         (None, 290, 25)      700         ['char_vectorizer[2][0]']        \n",
            "                                                                                                  \n",
            " dense_7 (Dense)                (None, 128)          65664       ['universal_sentence_encoder[2][0\n",
            "                                                                 ]']                              \n",
            "                                                                                                  \n",
            " bidirectional_1 (Bidirectional  (None, 48)          9600        ['char_embed[2][0]']             \n",
            " )                                                                                                \n",
            "                                                                                                  \n",
            " char_token_hybnrid (Concatenat  (None, 176)         0           ['dense_7[0][0]',                \n",
            " e)                                                               'bidirectional_1[0][0]']        \n",
            "                                                                                                  \n",
            " line_number_input (InputLayer)  [(None, 15)]        0           []                               \n",
            "                                                                                                  \n",
            " total_lines_inputs (InputLayer  [(None, 20)]        0           []                               \n",
            " )                                                                                                \n",
            "                                                                                                  \n",
            " dense_10 (Dense)               (None, 256)          45312       ['char_token_hybnrid[0][0]']     \n",
            "                                                                                                  \n",
            " dense_8 (Dense)                (None, 32)           512         ['line_number_input[0][0]']      \n",
            "                                                                                                  \n",
            " dense_9 (Dense)                (None, 32)           672         ['total_lines_inputs[0][0]']     \n",
            "                                                                                                  \n",
            " dropout_2 (Dropout)            (None, 256)          0           ['dense_10[0][0]']               \n",
            "                                                                                                  \n",
            " char_token_positional (Concate  (None, 320)         0           ['dense_8[0][0]',                \n",
            " nate)                                                            'dense_9[0][0]',                \n",
            "                                                                  'dropout_2[0][0]']              \n",
            "                                                                                                  \n",
            " output_layer (Dense)           (None, 5)            1605        ['char_token_positional[0][0]']  \n",
            "                                                                                                  \n",
            "==================================================================================================\n",
            "Total params: 256,921,889\n",
            "Trainable params: 124,065\n",
            "Non-trainable params: 256,797,824\n",
            "__________________________________________________________________________________________________\n"
          ]
        }
      ]
    },
    {
      "cell_type": "code",
      "source": [
        "plot_model(model_5)"
      ],
      "metadata": {
        "colab": {
          "base_uri": "https://localhost:8080/",
          "height": 856
        },
        "id": "7yVUcjhnNAAX",
        "outputId": "f60c58d1-920c-4736-df39-e7a7ed4c3a38"
      },
      "execution_count": 109,
      "outputs": [
        {
          "output_type": "execute_result",
          "data": {
            "text/plain": [
              "<IPython.core.display.Image object>"
            ],
            "image/png": "[encoded data removed]"
          },
          "metadata": {},
          "execution_count": 109
        }
      ]
    },
    {
      "cell_type": "code",
      "source": [
        "model_5.compile(loss=tf.keras.losses.CategoricalCrossentropy(label_smoothing=0.2),\n",
        "                optimizer=tf.keras.optimizers.Adam(),\n",
        "                metrics=[\"accuracy\"])\n"
      ],
      "metadata": {
        "id": "ZkrEivegNQw5"
      },
      "execution_count": 110,
      "outputs": []
    },
    {
      "cell_type": "code",
      "source": [
        "train_char_token_pos_data = tf.data.Dataset.from_tensor_slices((train_line_numbers_one_hot,\n",
        "                                                                train_total_lines_one_hot,\n",
        "                                                                train_sentences,\n",
        "                                                                train_chars))\n",
        "train_char_token_pos_labels = tf.data.Dataset.from_tensor_slices(train_labels_one_hot)\n",
        "train_char_token_pos_dataset = tf.data.Dataset.zip((train_char_token_pos_data, train_char_token_pos_labels))\n",
        "train_char_token_pos_dataset = train_char_token_pos_dataset.batch(32).prefetch(tf.data.AUTOTUNE)\n",
        "\n",
        "\n",
        "val_char_token_pos_data = tf.data.Dataset.from_tensor_slices((val_line_numbers_one_hot,\n",
        "                                                                val_total_lines_one_hot,\n",
        "                                                                val_sentences,\n",
        "                                                                val_chars))\n",
        "val_char_token_pos_labels = tf.data.Dataset.from_tensor_slices(val_labels_one_hot)\n",
        "val_char_token_pos_dataset = tf.data.Dataset.zip((val_char_token_pos_data, val_char_token_pos_labels))\n",
        "val_char_token_pos_dataset = val_char_token_pos_dataset.batch(32).prefetch(tf.data.AUTOTUNE)"
      ],
      "metadata": {
        "id": "JtTifpOUOAlt"
      },
      "execution_count": 111,
      "outputs": []
    },
    {
      "cell_type": "code",
      "source": [
        "history_model_5 = model_5.fit(train_char_token_pos_dataset,\n",
        "                              steps_per_epoch=int(0.1*len(train_char_token_pos_dataset)),\n",
        "                              epochs=3,\n",
        "                              validation_data=val_char_token_pos_dataset,\n",
        "                              validation_steps=int(0.1*len(val_char_token_pos_dataset)))"
      ],
      "metadata": {
        "id": "jWkGjS-TPpsS",
        "colab": {
          "base_uri": "https://localhost:8080/"
        },
        "outputId": "30b00eda-3407-4eb4-cbbd-04482bbe15da"
      },
      "execution_count": 112,
      "outputs": [
        {
          "output_type": "stream",
          "name": "stdout",
          "text": [
            "Epoch 1/3\n",
            "562/562 [==============================] - 64s 89ms/step - loss: 1.0922 - accuracy: 0.7274 - val_loss: 0.9829 - val_accuracy: 0.7999\n",
            "Epoch 2/3\n",
            "562/562 [==============================] - 48s 86ms/step - loss: 0.9639 - accuracy: 0.8182 - val_loss: 0.9478 - val_accuracy: 0.8321\n",
            "Epoch 3/3\n",
            "562/562 [==============================] - 43s 76ms/step - loss: 0.9484 - accuracy: 0.8241 - val_loss: 0.9374 - val_accuracy: 0.8298\n"
          ]
        }
      ]
    },
    {
      "cell_type": "code",
      "source": [
        ""
      ],
      "metadata": {
        "id": "S1XTfLuX6vwP"
      },
      "execution_count": null,
      "outputs": []
    }
  ]
}